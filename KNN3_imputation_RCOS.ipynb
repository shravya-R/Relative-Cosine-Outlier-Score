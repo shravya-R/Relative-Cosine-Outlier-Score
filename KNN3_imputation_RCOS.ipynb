{
  "nbformat": 4,
  "nbformat_minor": 0,
  "metadata": {
    "colab": {
      "provenance": [],
      "collapsed_sections": [
        "Rw_DVIP5pK6P",
        "3Ta8ERTdjz5X",
        "hNqmxMvUhZUr",
        "RabJzxULfFJn",
        "hNqpbxTbgsGj",
        "_z9vrUj2qiz2",
        "2xnfri0FirTe",
        "LOiZMZNef8Um",
        "9fHi2Va_CN4Q",
        "Se36R2uSq-db",
        "LJLO0C9Rp1dx",
        "qQ5G-VhTjDzd",
        "EiGIM-zvgTgu",
        "E4iSKnfV48P0"
      ]
    },
    "kernelspec": {
      "name": "python3",
      "display_name": "Python 3"
    },
    "language_info": {
      "name": "python"
    }
  },
  "cells": [
    {
      "cell_type": "markdown",
      "source": [
        "1) Find Outliers (use gaussian formula with cos)\n",
        "\n",
        "2) Classification problem with target value: Outlier/ not Outlier\n",
        "\n",
        "3) Classification problem before and after removal of outliers\n",
        "\n"
      ],
      "metadata": {
        "id": "WYJWO7xR7suF"
      }
    },
    {
      "cell_type": "code",
      "source": [
        "from google.colab import drive\n",
        "drive.mount('/content/drive')"
      ],
      "metadata": {
        "id": "jU0zBQDQium_",
        "colab": {
          "base_uri": "https://localhost:8080/"
        },
        "outputId": "c7f9d066-ea4d-4e3b-98e7-757c096671f5"
      },
      "execution_count": null,
      "outputs": [
        {
          "output_type": "stream",
          "name": "stdout",
          "text": [
            "Mounted at /content/drive\n"
          ]
        }
      ]
    },
    {
      "cell_type": "code",
      "source": [
        "import numpy as np\n",
        "import pandas as pd\n",
        "import math\n",
        "from scipy.stats import multivariate_normal\n",
        "from scipy.stats import mode\n",
        "from sklearn.metrics import confusion_matrix\n",
        "import matplotlib.pyplot as plt\n",
        "import sklearn\n",
        "import seaborn as sns\n",
        "from sklearn import metrics\n",
        "from sklearn.model_selection import cross_val_score\n",
        "from sklearn.model_selection import RepeatedStratifiedKFold\n",
        "from sklearn.ensemble import RandomForestClassifier\n",
        "from sklearn.model_selection import train_test_split\n",
        "from sklearn.linear_model import LogisticRegression\n",
        "from sklearn.preprocessing import StandardScaler\n",
        "from sklearn.metrics import confusion_matrix, classification_report\n",
        "from imblearn.under_sampling import RandomUnderSampler\n",
        "from imblearn.over_sampling import SMOTE\n",
        "from sklearn.metrics import accuracy_score, confusion_matrix\n",
        "from sklearn.svm import SVC\n",
        "from sklearn import tree\n",
        "from imblearn.combine import SMOTETomek\n",
        "import pydotplus\n",
        "from sklearn.tree import DecisionTreeClassifier\n",
        "from sklearn.impute import KNNImputer\n",
        "from sklearn.preprocessing import MinMaxScaler"
      ],
      "metadata": {
        "id": "FBMig9t_4Hyd"
      },
      "execution_count": null,
      "outputs": []
    },
    {
      "cell_type": "code",
      "source": [
        "def oneHotFunc(df, categ):\n",
        "  for i in range(len(categ)):\n",
        "    one_hot = pd.get_dummies(df[categ[i]])\n",
        "    names = df[categ[i]].unique()\n",
        "    temp = []\n",
        "    for j in range(len(names)):\n",
        "      temp.append(categ[i] +'_'+ str(names[j]))\n",
        "    one_hot.columns = temp\n",
        "    df = df.drop(categ[i],axis = 1)\n",
        "    df= df.join(one_hot)\n",
        "  print(df.head())\n",
        "  return df"
      ],
      "metadata": {
        "id": "9UjjuP9_pBQD"
      },
      "execution_count": null,
      "outputs": []
    },
    {
      "cell_type": "code",
      "source": [
        "def MissingValuesHandler(df, categ, cont):\n",
        "  for s in categ:\n",
        "    mode = df[s].mode()[0]\n",
        "    df[s] = df[s].replace(\"?\", mode)\n",
        "  for s in cont:\n",
        "    temp = df[s].copy()\n",
        "    temp = temp.replace(\"?\", 0)\n",
        "    temp = temp.replace('nan', 0)\n",
        "    median = temp.median()\n",
        "    df[s] = df[s].replace('?',median)\n",
        "    df[s] = df[s].replace('nan',median)\n",
        "  return df"
      ],
      "metadata": {
        "id": "k_-bOzeOpGDu"
      },
      "execution_count": null,
      "outputs": []
    },
    {
      "cell_type": "code",
      "source": [
        "def MapFunc(df, str_ar):\n",
        "  for i in range(len(str_ar)):\n",
        "    uni = df[str_ar[i]].unique()\n",
        "    mylist = range(0,len(uni))\n",
        "    d = dict(zip(uni,mylist))\n",
        "    df[str_ar[i]] = [d[item] for item in df[str_ar[i]]]\n",
        "  return df"
      ],
      "metadata": {
        "id": "IwIT7MmCsfSb"
      },
      "execution_count": null,
      "outputs": []
    },
    {
      "cell_type": "markdown",
      "source": [
        "Removing Outliers\n",
        "-------------------------"
      ],
      "metadata": {
        "id": "OBc8LIGDMoMi"
      }
    },
    {
      "cell_type": "markdown",
      "source": [
        "Cylinder Bands\n",
        "---------------"
      ],
      "metadata": {
        "id": "Rw_DVIP5pK6P"
      }
    },
    {
      "cell_type": "code",
      "source": [
        "colnames = ['timestamp', 'cylinder_number', 'customer', 'job_number', 'grain_screened', 'ink_color',\n",
        "'proof_on_ctd_ink', 'blade_mfg', 'cylinder_division', 'paper_type', 'ink_type', 'direct_steam', 'solvent_type',\n",
        "'type_on_cylinder', 'press_type', 'press', 'unit_number', 'cylinder_size', 'paper_mill_location', 'plating_tank',\n",
        "'proof_cut', 'viscosity', 'caliper', 'ink_temperature', 'humifity', 'roughness', 'blade_pressure', 'varnish_pct',\n",
        "'press_speed', 'ink_pct', 'solvent_pct', 'ESA_Voltage', 'ESA_Amperage', 'wax', 'hardener', 'roller_durometer',\n",
        "'current_density', 'anode_space_ratio', 'chrome_content', 'target']\n",
        "df = pd.read_csv(\"drive/MyDrive/Datasets/bands.data\",names=colnames, header=None)\n",
        "df = df.drop('timestamp',1)\n",
        "df = df.drop('target',1)\n",
        "df.head()"
      ],
      "metadata": {
        "colab": {
          "base_uri": "https://localhost:8080/",
          "height": 369
        },
        "outputId": "c488969b-b021-485a-b995-9a77b0a4d0f2",
        "id": "0sYsXAzipK6Q"
      },
      "execution_count": null,
      "outputs": [
        {
          "output_type": "stream",
          "name": "stderr",
          "text": [
            "/usr/local/lib/python3.7/dist-packages/ipykernel_launcher.py:8: FutureWarning: In a future version of pandas all arguments of DataFrame.drop except for the argument 'labels' will be keyword-only\n",
            "  \n",
            "/usr/local/lib/python3.7/dist-packages/ipykernel_launcher.py:9: FutureWarning: In a future version of pandas all arguments of DataFrame.drop except for the argument 'labels' will be keyword-only\n",
            "  if __name__ == '__main__':\n"
          ]
        },
        {
          "output_type": "execute_result",
          "data": {
            "text/html": [
              "\n",
              "  <div id=\"df-7fa85539-80f6-486f-83a9-2d44360249cd\">\n",
              "    <div class=\"colab-df-container\">\n",
              "      <div>\n",
              "<style scoped>\n",
              "    .dataframe tbody tr th:only-of-type {\n",
              "        vertical-align: middle;\n",
              "    }\n",
              "\n",
              "    .dataframe tbody tr th {\n",
              "        vertical-align: top;\n",
              "    }\n",
              "\n",
              "    .dataframe thead th {\n",
              "        text-align: right;\n",
              "    }\n",
              "</style>\n",
              "<table border=\"1\" class=\"dataframe\">\n",
              "  <thead>\n",
              "    <tr style=\"text-align: right;\">\n",
              "      <th></th>\n",
              "      <th>cylinder_number</th>\n",
              "      <th>customer</th>\n",
              "      <th>job_number</th>\n",
              "      <th>grain_screened</th>\n",
              "      <th>ink_color</th>\n",
              "      <th>proof_on_ctd_ink</th>\n",
              "      <th>blade_mfg</th>\n",
              "      <th>cylinder_division</th>\n",
              "      <th>paper_type</th>\n",
              "      <th>ink_type</th>\n",
              "      <th>...</th>\n",
              "      <th>ink_pct</th>\n",
              "      <th>solvent_pct</th>\n",
              "      <th>ESA_Voltage</th>\n",
              "      <th>ESA_Amperage</th>\n",
              "      <th>wax</th>\n",
              "      <th>hardener</th>\n",
              "      <th>roller_durometer</th>\n",
              "      <th>current_density</th>\n",
              "      <th>anode_space_ratio</th>\n",
              "      <th>chrome_content</th>\n",
              "    </tr>\n",
              "  </thead>\n",
              "  <tbody>\n",
              "    <tr>\n",
              "      <th>0</th>\n",
              "      <td>X126</td>\n",
              "      <td>TVGUIDE</td>\n",
              "      <td>25503</td>\n",
              "      <td>YES</td>\n",
              "      <td>KEY</td>\n",
              "      <td>YES</td>\n",
              "      <td>BENTON</td>\n",
              "      <td>GALLATIN</td>\n",
              "      <td>UNCOATED</td>\n",
              "      <td>UNCOATED</td>\n",
              "      <td>...</td>\n",
              "      <td>50.5</td>\n",
              "      <td>36.4</td>\n",
              "      <td>0</td>\n",
              "      <td>0</td>\n",
              "      <td>2.5</td>\n",
              "      <td>1</td>\n",
              "      <td>34</td>\n",
              "      <td>40</td>\n",
              "      <td>105</td>\n",
              "      <td>100</td>\n",
              "    </tr>\n",
              "    <tr>\n",
              "      <th>1</th>\n",
              "      <td>X266</td>\n",
              "      <td>TVGUIDE</td>\n",
              "      <td>25503</td>\n",
              "      <td>YES</td>\n",
              "      <td>KEY</td>\n",
              "      <td>YES</td>\n",
              "      <td>BENTON</td>\n",
              "      <td>GALLATIN</td>\n",
              "      <td>UNCOATED</td>\n",
              "      <td>UNCOATED</td>\n",
              "      <td>...</td>\n",
              "      <td>54.9</td>\n",
              "      <td>38.5</td>\n",
              "      <td>0</td>\n",
              "      <td>0</td>\n",
              "      <td>2.5</td>\n",
              "      <td>0.7</td>\n",
              "      <td>34</td>\n",
              "      <td>40</td>\n",
              "      <td>105</td>\n",
              "      <td>100</td>\n",
              "    </tr>\n",
              "    <tr>\n",
              "      <th>2</th>\n",
              "      <td>B7</td>\n",
              "      <td>MODMAT</td>\n",
              "      <td>47201</td>\n",
              "      <td>YES</td>\n",
              "      <td>KEY</td>\n",
              "      <td>YES</td>\n",
              "      <td>BENTON</td>\n",
              "      <td>GALLATIN</td>\n",
              "      <td>UNCOATED</td>\n",
              "      <td>COATED</td>\n",
              "      <td>...</td>\n",
              "      <td>53.8</td>\n",
              "      <td>39.8</td>\n",
              "      <td>0</td>\n",
              "      <td>0</td>\n",
              "      <td>2.8</td>\n",
              "      <td>0.9</td>\n",
              "      <td>40</td>\n",
              "      <td>40</td>\n",
              "      <td>103.87</td>\n",
              "      <td>100</td>\n",
              "    </tr>\n",
              "    <tr>\n",
              "      <th>3</th>\n",
              "      <td>T133</td>\n",
              "      <td>MASSEY</td>\n",
              "      <td>39039</td>\n",
              "      <td>YES</td>\n",
              "      <td>KEY</td>\n",
              "      <td>YES</td>\n",
              "      <td>BENTON</td>\n",
              "      <td>GALLATIN</td>\n",
              "      <td>UNCOATED</td>\n",
              "      <td>UNCOATED</td>\n",
              "      <td>...</td>\n",
              "      <td>55.6</td>\n",
              "      <td>38.8</td>\n",
              "      <td>0</td>\n",
              "      <td>0</td>\n",
              "      <td>2.5</td>\n",
              "      <td>1.3</td>\n",
              "      <td>40</td>\n",
              "      <td>40</td>\n",
              "      <td>108.06</td>\n",
              "      <td>100</td>\n",
              "    </tr>\n",
              "    <tr>\n",
              "      <th>4</th>\n",
              "      <td>J34</td>\n",
              "      <td>KMART</td>\n",
              "      <td>37351</td>\n",
              "      <td>NO</td>\n",
              "      <td>KEY</td>\n",
              "      <td>YES</td>\n",
              "      <td>BENTON</td>\n",
              "      <td>GALLATIN</td>\n",
              "      <td>UNCOATED</td>\n",
              "      <td>COATED</td>\n",
              "      <td>...</td>\n",
              "      <td>57.5</td>\n",
              "      <td>42.5</td>\n",
              "      <td>5</td>\n",
              "      <td>0</td>\n",
              "      <td>2.3</td>\n",
              "      <td>0.6</td>\n",
              "      <td>35</td>\n",
              "      <td>40</td>\n",
              "      <td>106.67</td>\n",
              "      <td>100</td>\n",
              "    </tr>\n",
              "  </tbody>\n",
              "</table>\n",
              "<p>5 rows × 38 columns</p>\n",
              "</div>\n",
              "      <button class=\"colab-df-convert\" onclick=\"convertToInteractive('df-7fa85539-80f6-486f-83a9-2d44360249cd')\"\n",
              "              title=\"Convert this dataframe to an interactive table.\"\n",
              "              style=\"display:none;\">\n",
              "        \n",
              "  <svg xmlns=\"http://www.w3.org/2000/svg\" height=\"24px\"viewBox=\"0 0 24 24\"\n",
              "       width=\"24px\">\n",
              "    <path d=\"M0 0h24v24H0V0z\" fill=\"none\"/>\n",
              "    <path d=\"M18.56 5.44l.94 2.06.94-2.06 2.06-.94-2.06-.94-.94-2.06-.94 2.06-2.06.94zm-11 1L8.5 8.5l.94-2.06 2.06-.94-2.06-.94L8.5 2.5l-.94 2.06-2.06.94zm10 10l.94 2.06.94-2.06 2.06-.94-2.06-.94-.94-2.06-.94 2.06-2.06.94z\"/><path d=\"M17.41 7.96l-1.37-1.37c-.4-.4-.92-.59-1.43-.59-.52 0-1.04.2-1.43.59L10.3 9.45l-7.72 7.72c-.78.78-.78 2.05 0 2.83L4 21.41c.39.39.9.59 1.41.59.51 0 1.02-.2 1.41-.59l7.78-7.78 2.81-2.81c.8-.78.8-2.07 0-2.86zM5.41 20L4 18.59l7.72-7.72 1.47 1.35L5.41 20z\"/>\n",
              "  </svg>\n",
              "      </button>\n",
              "      \n",
              "  <style>\n",
              "    .colab-df-container {\n",
              "      display:flex;\n",
              "      flex-wrap:wrap;\n",
              "      gap: 12px;\n",
              "    }\n",
              "\n",
              "    .colab-df-convert {\n",
              "      background-color: #E8F0FE;\n",
              "      border: none;\n",
              "      border-radius: 50%;\n",
              "      cursor: pointer;\n",
              "      display: none;\n",
              "      fill: #1967D2;\n",
              "      height: 32px;\n",
              "      padding: 0 0 0 0;\n",
              "      width: 32px;\n",
              "    }\n",
              "\n",
              "    .colab-df-convert:hover {\n",
              "      background-color: #E2EBFA;\n",
              "      box-shadow: 0px 1px 2px rgba(60, 64, 67, 0.3), 0px 1px 3px 1px rgba(60, 64, 67, 0.15);\n",
              "      fill: #174EA6;\n",
              "    }\n",
              "\n",
              "    [theme=dark] .colab-df-convert {\n",
              "      background-color: #3B4455;\n",
              "      fill: #D2E3FC;\n",
              "    }\n",
              "\n",
              "    [theme=dark] .colab-df-convert:hover {\n",
              "      background-color: #434B5C;\n",
              "      box-shadow: 0px 1px 3px 1px rgba(0, 0, 0, 0.15);\n",
              "      filter: drop-shadow(0px 1px 2px rgba(0, 0, 0, 0.3));\n",
              "      fill: #FFFFFF;\n",
              "    }\n",
              "  </style>\n",
              "\n",
              "      <script>\n",
              "        const buttonEl =\n",
              "          document.querySelector('#df-7fa85539-80f6-486f-83a9-2d44360249cd button.colab-df-convert');\n",
              "        buttonEl.style.display =\n",
              "          google.colab.kernel.accessAllowed ? 'block' : 'none';\n",
              "\n",
              "        async function convertToInteractive(key) {\n",
              "          const element = document.querySelector('#df-7fa85539-80f6-486f-83a9-2d44360249cd');\n",
              "          const dataTable =\n",
              "            await google.colab.kernel.invokeFunction('convertToInteractive',\n",
              "                                                     [key], {});\n",
              "          if (!dataTable) return;\n",
              "\n",
              "          const docLinkHtml = 'Like what you see? Visit the ' +\n",
              "            '<a target=\"_blank\" href=https://colab.research.google.com/notebooks/data_table.ipynb>data table notebook</a>'\n",
              "            + ' to learn more about interactive tables.';\n",
              "          element.innerHTML = '';\n",
              "          dataTable['output_type'] = 'display_data';\n",
              "          await google.colab.output.renderOutput(dataTable, element);\n",
              "          const docLink = document.createElement('div');\n",
              "          docLink.innerHTML = docLinkHtml;\n",
              "          element.appendChild(docLink);\n",
              "        }\n",
              "      </script>\n",
              "    </div>\n",
              "  </div>\n",
              "  "
            ],
            "text/plain": [
              "  cylinder_number customer  job_number grain_screened ink_color  \\\n",
              "0            X126  TVGUIDE       25503            YES       KEY   \n",
              "1            X266  TVGUIDE       25503            YES       KEY   \n",
              "2              B7   MODMAT       47201            YES       KEY   \n",
              "3            T133   MASSEY       39039            YES       KEY   \n",
              "4             J34    KMART       37351             NO       KEY   \n",
              "\n",
              "  proof_on_ctd_ink blade_mfg cylinder_division paper_type  ink_type  ...  \\\n",
              "0              YES    BENTON          GALLATIN   UNCOATED  UNCOATED  ...   \n",
              "1              YES    BENTON          GALLATIN   UNCOATED  UNCOATED  ...   \n",
              "2              YES    BENTON          GALLATIN   UNCOATED    COATED  ...   \n",
              "3              YES    BENTON          GALLATIN   UNCOATED  UNCOATED  ...   \n",
              "4              YES    BENTON          GALLATIN   UNCOATED    COATED  ...   \n",
              "\n",
              "  ink_pct solvent_pct ESA_Voltage ESA_Amperage  wax  hardener  \\\n",
              "0    50.5        36.4           0            0  2.5         1   \n",
              "1    54.9        38.5           0            0  2.5       0.7   \n",
              "2    53.8        39.8           0            0  2.8       0.9   \n",
              "3    55.6        38.8           0            0  2.5       1.3   \n",
              "4    57.5        42.5           5            0  2.3       0.6   \n",
              "\n",
              "  roller_durometer current_density anode_space_ratio chrome_content  \n",
              "0               34              40               105            100  \n",
              "1               34              40               105            100  \n",
              "2               40              40            103.87            100  \n",
              "3               40              40            108.06            100  \n",
              "4               35              40            106.67            100  \n",
              "\n",
              "[5 rows x 38 columns]"
            ]
          },
          "metadata": {},
          "execution_count": 8
        }
      ]
    },
    {
      "cell_type": "markdown",
      "source": [
        "cylinder number: nominal\n",
        "\n",
        "customer: nominal;\n",
        "\n",
        "job number: nominal;\n",
        "\n",
        "grain screened: nominal; yes, no\n",
        "\n",
        "ink color: nominal;  key, type\n",
        "\n",
        "proof on ctd ink:  nominal;  yes, no  \n",
        "\n",
        "blade mfg: nominal;  benton, daetwyler, uddeholm\n",
        "\n",
        "cylinder division: nominal;  gallatin, warsaw, mattoon\n",
        "\n",
        "paper type: nominal;  uncoated, coated, super\n",
        "\n",
        "ink type: nominal;  uncoated, coated, cover\n",
        "\n",
        "direct steam: nominal; use; yes, no *\n",
        "\n",
        "solvent type: nominal;  xylol, lactol, naptha, line, other\n",
        "\n",
        "type on cylinder:  nominal;  yes, no  \n",
        "\n",
        "press type: nominal; use; 70 wood hoe, 70 motter, 70 albert, 94 motter\n",
        "\n",
        "press: nominal;  821, 802, 813, 824, 815, 816, 827, 828\n",
        "\n",
        "unit number: nominal;  1, 2, 3, 4, 5, 6, 7, 8, 9, 10\n",
        "\n",
        "cylinder size: nominal;  catalog, spiegel, tabloid\n",
        "\n",
        "paper mill location: nominal; north us, south us, canadian, scandanavian, mid european\n",
        "\n",
        "plating tank: nominal; 1910, 1911, other\n",
        "\n",
        "band type: nominal; class; band, no band *"
      ],
      "metadata": {
        "id": "x43VmOu0pK6Q"
      }
    },
    {
      "cell_type": "code",
      "source": [
        "str_ar = ['cylinder_number', 'customer', 'job_number', 'ink_color', 'cylinder_division', 'paper_type', 'ink_type',\n",
        "          'press_type', 'press', 'unit_number']\n",
        "df = MapFunc(df, str_ar)\n",
        "df.head()"
      ],
      "metadata": {
        "id": "RFbnipbYpK6Q",
        "colab": {
          "base_uri": "https://localhost:8080/",
          "height": 299
        },
        "outputId": "9ad51fb0-18af-4d01-e2c3-a8399958872a"
      },
      "execution_count": null,
      "outputs": [
        {
          "output_type": "execute_result",
          "data": {
            "text/html": [
              "\n",
              "  <div id=\"df-995ac482-9c56-4a90-a700-61a071687146\">\n",
              "    <div class=\"colab-df-container\">\n",
              "      <div>\n",
              "<style scoped>\n",
              "    .dataframe tbody tr th:only-of-type {\n",
              "        vertical-align: middle;\n",
              "    }\n",
              "\n",
              "    .dataframe tbody tr th {\n",
              "        vertical-align: top;\n",
              "    }\n",
              "\n",
              "    .dataframe thead th {\n",
              "        text-align: right;\n",
              "    }\n",
              "</style>\n",
              "<table border=\"1\" class=\"dataframe\">\n",
              "  <thead>\n",
              "    <tr style=\"text-align: right;\">\n",
              "      <th></th>\n",
              "      <th>cylinder_number</th>\n",
              "      <th>customer</th>\n",
              "      <th>job_number</th>\n",
              "      <th>grain_screened</th>\n",
              "      <th>ink_color</th>\n",
              "      <th>proof_on_ctd_ink</th>\n",
              "      <th>blade_mfg</th>\n",
              "      <th>cylinder_division</th>\n",
              "      <th>paper_type</th>\n",
              "      <th>ink_type</th>\n",
              "      <th>...</th>\n",
              "      <th>ink_pct</th>\n",
              "      <th>solvent_pct</th>\n",
              "      <th>ESA_Voltage</th>\n",
              "      <th>ESA_Amperage</th>\n",
              "      <th>wax</th>\n",
              "      <th>hardener</th>\n",
              "      <th>roller_durometer</th>\n",
              "      <th>current_density</th>\n",
              "      <th>anode_space_ratio</th>\n",
              "      <th>chrome_content</th>\n",
              "    </tr>\n",
              "  </thead>\n",
              "  <tbody>\n",
              "    <tr>\n",
              "      <th>0</th>\n",
              "      <td>0</td>\n",
              "      <td>0</td>\n",
              "      <td>0</td>\n",
              "      <td>YES</td>\n",
              "      <td>0</td>\n",
              "      <td>YES</td>\n",
              "      <td>BENTON</td>\n",
              "      <td>0</td>\n",
              "      <td>0</td>\n",
              "      <td>0</td>\n",
              "      <td>...</td>\n",
              "      <td>50.5</td>\n",
              "      <td>36.4</td>\n",
              "      <td>0</td>\n",
              "      <td>0</td>\n",
              "      <td>2.5</td>\n",
              "      <td>1</td>\n",
              "      <td>34</td>\n",
              "      <td>40</td>\n",
              "      <td>105</td>\n",
              "      <td>100</td>\n",
              "    </tr>\n",
              "    <tr>\n",
              "      <th>1</th>\n",
              "      <td>1</td>\n",
              "      <td>0</td>\n",
              "      <td>0</td>\n",
              "      <td>YES</td>\n",
              "      <td>0</td>\n",
              "      <td>YES</td>\n",
              "      <td>BENTON</td>\n",
              "      <td>0</td>\n",
              "      <td>0</td>\n",
              "      <td>0</td>\n",
              "      <td>...</td>\n",
              "      <td>54.9</td>\n",
              "      <td>38.5</td>\n",
              "      <td>0</td>\n",
              "      <td>0</td>\n",
              "      <td>2.5</td>\n",
              "      <td>0.7</td>\n",
              "      <td>34</td>\n",
              "      <td>40</td>\n",
              "      <td>105</td>\n",
              "      <td>100</td>\n",
              "    </tr>\n",
              "    <tr>\n",
              "      <th>2</th>\n",
              "      <td>2</td>\n",
              "      <td>1</td>\n",
              "      <td>1</td>\n",
              "      <td>YES</td>\n",
              "      <td>0</td>\n",
              "      <td>YES</td>\n",
              "      <td>BENTON</td>\n",
              "      <td>0</td>\n",
              "      <td>0</td>\n",
              "      <td>1</td>\n",
              "      <td>...</td>\n",
              "      <td>53.8</td>\n",
              "      <td>39.8</td>\n",
              "      <td>0</td>\n",
              "      <td>0</td>\n",
              "      <td>2.8</td>\n",
              "      <td>0.9</td>\n",
              "      <td>40</td>\n",
              "      <td>40</td>\n",
              "      <td>103.87</td>\n",
              "      <td>100</td>\n",
              "    </tr>\n",
              "    <tr>\n",
              "      <th>3</th>\n",
              "      <td>3</td>\n",
              "      <td>2</td>\n",
              "      <td>2</td>\n",
              "      <td>YES</td>\n",
              "      <td>0</td>\n",
              "      <td>YES</td>\n",
              "      <td>BENTON</td>\n",
              "      <td>0</td>\n",
              "      <td>0</td>\n",
              "      <td>0</td>\n",
              "      <td>...</td>\n",
              "      <td>55.6</td>\n",
              "      <td>38.8</td>\n",
              "      <td>0</td>\n",
              "      <td>0</td>\n",
              "      <td>2.5</td>\n",
              "      <td>1.3</td>\n",
              "      <td>40</td>\n",
              "      <td>40</td>\n",
              "      <td>108.06</td>\n",
              "      <td>100</td>\n",
              "    </tr>\n",
              "    <tr>\n",
              "      <th>4</th>\n",
              "      <td>4</td>\n",
              "      <td>3</td>\n",
              "      <td>3</td>\n",
              "      <td>NO</td>\n",
              "      <td>0</td>\n",
              "      <td>YES</td>\n",
              "      <td>BENTON</td>\n",
              "      <td>0</td>\n",
              "      <td>0</td>\n",
              "      <td>1</td>\n",
              "      <td>...</td>\n",
              "      <td>57.5</td>\n",
              "      <td>42.5</td>\n",
              "      <td>5</td>\n",
              "      <td>0</td>\n",
              "      <td>2.3</td>\n",
              "      <td>0.6</td>\n",
              "      <td>35</td>\n",
              "      <td>40</td>\n",
              "      <td>106.67</td>\n",
              "      <td>100</td>\n",
              "    </tr>\n",
              "  </tbody>\n",
              "</table>\n",
              "<p>5 rows × 38 columns</p>\n",
              "</div>\n",
              "      <button class=\"colab-df-convert\" onclick=\"convertToInteractive('df-995ac482-9c56-4a90-a700-61a071687146')\"\n",
              "              title=\"Convert this dataframe to an interactive table.\"\n",
              "              style=\"display:none;\">\n",
              "        \n",
              "  <svg xmlns=\"http://www.w3.org/2000/svg\" height=\"24px\"viewBox=\"0 0 24 24\"\n",
              "       width=\"24px\">\n",
              "    <path d=\"M0 0h24v24H0V0z\" fill=\"none\"/>\n",
              "    <path d=\"M18.56 5.44l.94 2.06.94-2.06 2.06-.94-2.06-.94-.94-2.06-.94 2.06-2.06.94zm-11 1L8.5 8.5l.94-2.06 2.06-.94-2.06-.94L8.5 2.5l-.94 2.06-2.06.94zm10 10l.94 2.06.94-2.06 2.06-.94-2.06-.94-.94-2.06-.94 2.06-2.06.94z\"/><path d=\"M17.41 7.96l-1.37-1.37c-.4-.4-.92-.59-1.43-.59-.52 0-1.04.2-1.43.59L10.3 9.45l-7.72 7.72c-.78.78-.78 2.05 0 2.83L4 21.41c.39.39.9.59 1.41.59.51 0 1.02-.2 1.41-.59l7.78-7.78 2.81-2.81c.8-.78.8-2.07 0-2.86zM5.41 20L4 18.59l7.72-7.72 1.47 1.35L5.41 20z\"/>\n",
              "  </svg>\n",
              "      </button>\n",
              "      \n",
              "  <style>\n",
              "    .colab-df-container {\n",
              "      display:flex;\n",
              "      flex-wrap:wrap;\n",
              "      gap: 12px;\n",
              "    }\n",
              "\n",
              "    .colab-df-convert {\n",
              "      background-color: #E8F0FE;\n",
              "      border: none;\n",
              "      border-radius: 50%;\n",
              "      cursor: pointer;\n",
              "      display: none;\n",
              "      fill: #1967D2;\n",
              "      height: 32px;\n",
              "      padding: 0 0 0 0;\n",
              "      width: 32px;\n",
              "    }\n",
              "\n",
              "    .colab-df-convert:hover {\n",
              "      background-color: #E2EBFA;\n",
              "      box-shadow: 0px 1px 2px rgba(60, 64, 67, 0.3), 0px 1px 3px 1px rgba(60, 64, 67, 0.15);\n",
              "      fill: #174EA6;\n",
              "    }\n",
              "\n",
              "    [theme=dark] .colab-df-convert {\n",
              "      background-color: #3B4455;\n",
              "      fill: #D2E3FC;\n",
              "    }\n",
              "\n",
              "    [theme=dark] .colab-df-convert:hover {\n",
              "      background-color: #434B5C;\n",
              "      box-shadow: 0px 1px 3px 1px rgba(0, 0, 0, 0.15);\n",
              "      filter: drop-shadow(0px 1px 2px rgba(0, 0, 0, 0.3));\n",
              "      fill: #FFFFFF;\n",
              "    }\n",
              "  </style>\n",
              "\n",
              "      <script>\n",
              "        const buttonEl =\n",
              "          document.querySelector('#df-995ac482-9c56-4a90-a700-61a071687146 button.colab-df-convert');\n",
              "        buttonEl.style.display =\n",
              "          google.colab.kernel.accessAllowed ? 'block' : 'none';\n",
              "\n",
              "        async function convertToInteractive(key) {\n",
              "          const element = document.querySelector('#df-995ac482-9c56-4a90-a700-61a071687146');\n",
              "          const dataTable =\n",
              "            await google.colab.kernel.invokeFunction('convertToInteractive',\n",
              "                                                     [key], {});\n",
              "          if (!dataTable) return;\n",
              "\n",
              "          const docLinkHtml = 'Like what you see? Visit the ' +\n",
              "            '<a target=\"_blank\" href=https://colab.research.google.com/notebooks/data_table.ipynb>data table notebook</a>'\n",
              "            + ' to learn more about interactive tables.';\n",
              "          element.innerHTML = '';\n",
              "          dataTable['output_type'] = 'display_data';\n",
              "          await google.colab.output.renderOutput(dataTable, element);\n",
              "          const docLink = document.createElement('div');\n",
              "          docLink.innerHTML = docLinkHtml;\n",
              "          element.appendChild(docLink);\n",
              "        }\n",
              "      </script>\n",
              "    </div>\n",
              "  </div>\n",
              "  "
            ],
            "text/plain": [
              "   cylinder_number  customer  job_number grain_screened  ink_color  \\\n",
              "0                0         0           0            YES          0   \n",
              "1                1         0           0            YES          0   \n",
              "2                2         1           1            YES          0   \n",
              "3                3         2           2            YES          0   \n",
              "4                4         3           3             NO          0   \n",
              "\n",
              "  proof_on_ctd_ink blade_mfg  cylinder_division  paper_type  ink_type  ...  \\\n",
              "0              YES    BENTON                  0           0         0  ...   \n",
              "1              YES    BENTON                  0           0         0  ...   \n",
              "2              YES    BENTON                  0           0         1  ...   \n",
              "3              YES    BENTON                  0           0         0  ...   \n",
              "4              YES    BENTON                  0           0         1  ...   \n",
              "\n",
              "  ink_pct solvent_pct ESA_Voltage  ESA_Amperage  wax  hardener  \\\n",
              "0    50.5        36.4           0             0  2.5         1   \n",
              "1    54.9        38.5           0             0  2.5       0.7   \n",
              "2    53.8        39.8           0             0  2.8       0.9   \n",
              "3    55.6        38.8           0             0  2.5       1.3   \n",
              "4    57.5        42.5           5             0  2.3       0.6   \n",
              "\n",
              "  roller_durometer current_density anode_space_ratio chrome_content  \n",
              "0               34              40               105            100  \n",
              "1               34              40               105            100  \n",
              "2               40              40            103.87            100  \n",
              "3               40              40            108.06            100  \n",
              "4               35              40            106.67            100  \n",
              "\n",
              "[5 rows x 38 columns]"
            ]
          },
          "metadata": {},
          "execution_count": 9
        }
      ]
    },
    {
      "cell_type": "code",
      "source": [
        "str_ar = ['grain_screened', 'proof_on_ctd_ink', 'blade_mfg', 'direct_steam', 'solvent_type',\n",
        "'type_on_cylinder', 'cylinder_size', 'paper_mill_location', 'plating_tank']\n",
        "for i in range(len(str_ar)):\n",
        "    uni = list(df[str_ar[i]].unique())\n",
        "    uni.remove('?')\n",
        "    mylist = range(0,len(uni))\n",
        "    d = dict(zip(uni,mylist))\n",
        "    d['?'] = np.nan\n",
        "    print(d)\n",
        "    print('-------------------------')\n",
        "    df[str_ar[i]] = [d[item] for item in df[str_ar[i]]]\n",
        "    df[str_ar[i]] = df[str_ar[i]].replace('?',np.nan)\n",
        "for i in range(len(df.columns)):\n",
        "  df[df.columns[i]] = df[df.columns[i]].replace('?',np.nan)\n",
        "\n",
        "df.head()"
      ],
      "metadata": {
        "colab": {
          "base_uri": "https://localhost:8080/",
          "height": 612
        },
        "id": "Dd3rdSYSsz--",
        "outputId": "9eb85ca8-2183-4aa1-eaf8-8748f9a52ecf"
      },
      "execution_count": null,
      "outputs": [
        {
          "output_type": "stream",
          "name": "stdout",
          "text": [
            "{'YES': 0, 'NO': 1, '?': nan}\n",
            "-------------------------\n",
            "{'YES': 0, 'NO': 1, '?': nan}\n",
            "-------------------------\n",
            "{'BENTON': 0, 'UDDEHOLM': 1, '?': nan}\n",
            "-------------------------\n",
            "{'NO': 0, 'YES': 1, 'no': 2, '?': nan}\n",
            "-------------------------\n",
            "{'LINE': 0, 'XYLOL': 1, 'NAPTHA': 2, '?': nan}\n",
            "-------------------------\n",
            "{'YES': 0, 'NO': 1, 'no': 2, 'yes': 3, '?': nan}\n",
            "-------------------------\n",
            "{'TABLOID': 0, 'CATALOG': 1, 'SPIEGEL': 2, 'catalog': 3, 'tabloid': 4, 'spiegel': 5, '?': nan}\n",
            "-------------------------\n",
            "{'NorthUS': 0, 'CANADIAN': 1, 'CANAdiAN': 2, 'SCANDANAVIAN': 3, 'SouthUS': 4, 'mideuropean': 5, '?': nan}\n",
            "-------------------------\n",
            "{'1911': 0, '1910': 1, '?': nan}\n",
            "-------------------------\n"
          ]
        },
        {
          "output_type": "execute_result",
          "data": {
            "text/html": [
              "\n",
              "  <div id=\"df-a59a5a99-2148-4370-9a5d-ee76260c8786\">\n",
              "    <div class=\"colab-df-container\">\n",
              "      <div>\n",
              "<style scoped>\n",
              "    .dataframe tbody tr th:only-of-type {\n",
              "        vertical-align: middle;\n",
              "    }\n",
              "\n",
              "    .dataframe tbody tr th {\n",
              "        vertical-align: top;\n",
              "    }\n",
              "\n",
              "    .dataframe thead th {\n",
              "        text-align: right;\n",
              "    }\n",
              "</style>\n",
              "<table border=\"1\" class=\"dataframe\">\n",
              "  <thead>\n",
              "    <tr style=\"text-align: right;\">\n",
              "      <th></th>\n",
              "      <th>cylinder_number</th>\n",
              "      <th>customer</th>\n",
              "      <th>job_number</th>\n",
              "      <th>grain_screened</th>\n",
              "      <th>ink_color</th>\n",
              "      <th>proof_on_ctd_ink</th>\n",
              "      <th>blade_mfg</th>\n",
              "      <th>cylinder_division</th>\n",
              "      <th>paper_type</th>\n",
              "      <th>ink_type</th>\n",
              "      <th>...</th>\n",
              "      <th>ink_pct</th>\n",
              "      <th>solvent_pct</th>\n",
              "      <th>ESA_Voltage</th>\n",
              "      <th>ESA_Amperage</th>\n",
              "      <th>wax</th>\n",
              "      <th>hardener</th>\n",
              "      <th>roller_durometer</th>\n",
              "      <th>current_density</th>\n",
              "      <th>anode_space_ratio</th>\n",
              "      <th>chrome_content</th>\n",
              "    </tr>\n",
              "  </thead>\n",
              "  <tbody>\n",
              "    <tr>\n",
              "      <th>0</th>\n",
              "      <td>0</td>\n",
              "      <td>0</td>\n",
              "      <td>0</td>\n",
              "      <td>0.0</td>\n",
              "      <td>0</td>\n",
              "      <td>0.0</td>\n",
              "      <td>0.0</td>\n",
              "      <td>0</td>\n",
              "      <td>0</td>\n",
              "      <td>0</td>\n",
              "      <td>...</td>\n",
              "      <td>50.5</td>\n",
              "      <td>36.4</td>\n",
              "      <td>0</td>\n",
              "      <td>0</td>\n",
              "      <td>2.5</td>\n",
              "      <td>1</td>\n",
              "      <td>34</td>\n",
              "      <td>40</td>\n",
              "      <td>105</td>\n",
              "      <td>100</td>\n",
              "    </tr>\n",
              "    <tr>\n",
              "      <th>1</th>\n",
              "      <td>1</td>\n",
              "      <td>0</td>\n",
              "      <td>0</td>\n",
              "      <td>0.0</td>\n",
              "      <td>0</td>\n",
              "      <td>0.0</td>\n",
              "      <td>0.0</td>\n",
              "      <td>0</td>\n",
              "      <td>0</td>\n",
              "      <td>0</td>\n",
              "      <td>...</td>\n",
              "      <td>54.9</td>\n",
              "      <td>38.5</td>\n",
              "      <td>0</td>\n",
              "      <td>0</td>\n",
              "      <td>2.5</td>\n",
              "      <td>0.7</td>\n",
              "      <td>34</td>\n",
              "      <td>40</td>\n",
              "      <td>105</td>\n",
              "      <td>100</td>\n",
              "    </tr>\n",
              "    <tr>\n",
              "      <th>2</th>\n",
              "      <td>2</td>\n",
              "      <td>1</td>\n",
              "      <td>1</td>\n",
              "      <td>0.0</td>\n",
              "      <td>0</td>\n",
              "      <td>0.0</td>\n",
              "      <td>0.0</td>\n",
              "      <td>0</td>\n",
              "      <td>0</td>\n",
              "      <td>1</td>\n",
              "      <td>...</td>\n",
              "      <td>53.8</td>\n",
              "      <td>39.8</td>\n",
              "      <td>0</td>\n",
              "      <td>0</td>\n",
              "      <td>2.8</td>\n",
              "      <td>0.9</td>\n",
              "      <td>40</td>\n",
              "      <td>40</td>\n",
              "      <td>103.87</td>\n",
              "      <td>100</td>\n",
              "    </tr>\n",
              "    <tr>\n",
              "      <th>3</th>\n",
              "      <td>3</td>\n",
              "      <td>2</td>\n",
              "      <td>2</td>\n",
              "      <td>0.0</td>\n",
              "      <td>0</td>\n",
              "      <td>0.0</td>\n",
              "      <td>0.0</td>\n",
              "      <td>0</td>\n",
              "      <td>0</td>\n",
              "      <td>0</td>\n",
              "      <td>...</td>\n",
              "      <td>55.6</td>\n",
              "      <td>38.8</td>\n",
              "      <td>0</td>\n",
              "      <td>0</td>\n",
              "      <td>2.5</td>\n",
              "      <td>1.3</td>\n",
              "      <td>40</td>\n",
              "      <td>40</td>\n",
              "      <td>108.06</td>\n",
              "      <td>100</td>\n",
              "    </tr>\n",
              "    <tr>\n",
              "      <th>4</th>\n",
              "      <td>4</td>\n",
              "      <td>3</td>\n",
              "      <td>3</td>\n",
              "      <td>1.0</td>\n",
              "      <td>0</td>\n",
              "      <td>0.0</td>\n",
              "      <td>0.0</td>\n",
              "      <td>0</td>\n",
              "      <td>0</td>\n",
              "      <td>1</td>\n",
              "      <td>...</td>\n",
              "      <td>57.5</td>\n",
              "      <td>42.5</td>\n",
              "      <td>5</td>\n",
              "      <td>0</td>\n",
              "      <td>2.3</td>\n",
              "      <td>0.6</td>\n",
              "      <td>35</td>\n",
              "      <td>40</td>\n",
              "      <td>106.67</td>\n",
              "      <td>100</td>\n",
              "    </tr>\n",
              "  </tbody>\n",
              "</table>\n",
              "<p>5 rows × 38 columns</p>\n",
              "</div>\n",
              "      <button class=\"colab-df-convert\" onclick=\"convertToInteractive('df-a59a5a99-2148-4370-9a5d-ee76260c8786')\"\n",
              "              title=\"Convert this dataframe to an interactive table.\"\n",
              "              style=\"display:none;\">\n",
              "        \n",
              "  <svg xmlns=\"http://www.w3.org/2000/svg\" height=\"24px\"viewBox=\"0 0 24 24\"\n",
              "       width=\"24px\">\n",
              "    <path d=\"M0 0h24v24H0V0z\" fill=\"none\"/>\n",
              "    <path d=\"M18.56 5.44l.94 2.06.94-2.06 2.06-.94-2.06-.94-.94-2.06-.94 2.06-2.06.94zm-11 1L8.5 8.5l.94-2.06 2.06-.94-2.06-.94L8.5 2.5l-.94 2.06-2.06.94zm10 10l.94 2.06.94-2.06 2.06-.94-2.06-.94-.94-2.06-.94 2.06-2.06.94z\"/><path d=\"M17.41 7.96l-1.37-1.37c-.4-.4-.92-.59-1.43-.59-.52 0-1.04.2-1.43.59L10.3 9.45l-7.72 7.72c-.78.78-.78 2.05 0 2.83L4 21.41c.39.39.9.59 1.41.59.51 0 1.02-.2 1.41-.59l7.78-7.78 2.81-2.81c.8-.78.8-2.07 0-2.86zM5.41 20L4 18.59l7.72-7.72 1.47 1.35L5.41 20z\"/>\n",
              "  </svg>\n",
              "      </button>\n",
              "      \n",
              "  <style>\n",
              "    .colab-df-container {\n",
              "      display:flex;\n",
              "      flex-wrap:wrap;\n",
              "      gap: 12px;\n",
              "    }\n",
              "\n",
              "    .colab-df-convert {\n",
              "      background-color: #E8F0FE;\n",
              "      border: none;\n",
              "      border-radius: 50%;\n",
              "      cursor: pointer;\n",
              "      display: none;\n",
              "      fill: #1967D2;\n",
              "      height: 32px;\n",
              "      padding: 0 0 0 0;\n",
              "      width: 32px;\n",
              "    }\n",
              "\n",
              "    .colab-df-convert:hover {\n",
              "      background-color: #E2EBFA;\n",
              "      box-shadow: 0px 1px 2px rgba(60, 64, 67, 0.3), 0px 1px 3px 1px rgba(60, 64, 67, 0.15);\n",
              "      fill: #174EA6;\n",
              "    }\n",
              "\n",
              "    [theme=dark] .colab-df-convert {\n",
              "      background-color: #3B4455;\n",
              "      fill: #D2E3FC;\n",
              "    }\n",
              "\n",
              "    [theme=dark] .colab-df-convert:hover {\n",
              "      background-color: #434B5C;\n",
              "      box-shadow: 0px 1px 3px 1px rgba(0, 0, 0, 0.15);\n",
              "      filter: drop-shadow(0px 1px 2px rgba(0, 0, 0, 0.3));\n",
              "      fill: #FFFFFF;\n",
              "    }\n",
              "  </style>\n",
              "\n",
              "      <script>\n",
              "        const buttonEl =\n",
              "          document.querySelector('#df-a59a5a99-2148-4370-9a5d-ee76260c8786 button.colab-df-convert');\n",
              "        buttonEl.style.display =\n",
              "          google.colab.kernel.accessAllowed ? 'block' : 'none';\n",
              "\n",
              "        async function convertToInteractive(key) {\n",
              "          const element = document.querySelector('#df-a59a5a99-2148-4370-9a5d-ee76260c8786');\n",
              "          const dataTable =\n",
              "            await google.colab.kernel.invokeFunction('convertToInteractive',\n",
              "                                                     [key], {});\n",
              "          if (!dataTable) return;\n",
              "\n",
              "          const docLinkHtml = 'Like what you see? Visit the ' +\n",
              "            '<a target=\"_blank\" href=https://colab.research.google.com/notebooks/data_table.ipynb>data table notebook</a>'\n",
              "            + ' to learn more about interactive tables.';\n",
              "          element.innerHTML = '';\n",
              "          dataTable['output_type'] = 'display_data';\n",
              "          await google.colab.output.renderOutput(dataTable, element);\n",
              "          const docLink = document.createElement('div');\n",
              "          docLink.innerHTML = docLinkHtml;\n",
              "          element.appendChild(docLink);\n",
              "        }\n",
              "      </script>\n",
              "    </div>\n",
              "  </div>\n",
              "  "
            ],
            "text/plain": [
              "   cylinder_number  customer  job_number  grain_screened  ink_color  \\\n",
              "0                0         0           0             0.0          0   \n",
              "1                1         0           0             0.0          0   \n",
              "2                2         1           1             0.0          0   \n",
              "3                3         2           2             0.0          0   \n",
              "4                4         3           3             1.0          0   \n",
              "\n",
              "   proof_on_ctd_ink  blade_mfg  cylinder_division  paper_type  ink_type  ...  \\\n",
              "0               0.0        0.0                  0           0         0  ...   \n",
              "1               0.0        0.0                  0           0         0  ...   \n",
              "2               0.0        0.0                  0           0         1  ...   \n",
              "3               0.0        0.0                  0           0         0  ...   \n",
              "4               0.0        0.0                  0           0         1  ...   \n",
              "\n",
              "   ink_pct  solvent_pct  ESA_Voltage  ESA_Amperage  wax  hardener  \\\n",
              "0     50.5         36.4            0             0  2.5         1   \n",
              "1     54.9         38.5            0             0  2.5       0.7   \n",
              "2     53.8         39.8            0             0  2.8       0.9   \n",
              "3     55.6         38.8            0             0  2.5       1.3   \n",
              "4     57.5         42.5            5             0  2.3       0.6   \n",
              "\n",
              "   roller_durometer  current_density  anode_space_ratio chrome_content  \n",
              "0                34               40                105            100  \n",
              "1                34               40                105            100  \n",
              "2                40               40             103.87            100  \n",
              "3                40               40             108.06            100  \n",
              "4                35               40             106.67            100  \n",
              "\n",
              "[5 rows x 38 columns]"
            ]
          },
          "metadata": {},
          "execution_count": 10
        }
      ]
    },
    {
      "cell_type": "code",
      "source": [
        "imputer = KNNImputer(n_neighbors=3)\n",
        "df = pd.DataFrame(imputer.fit_transform(df),columns = df.columns)"
      ],
      "metadata": {
        "id": "wWcBUp8Ls9xQ"
      },
      "execution_count": null,
      "outputs": []
    },
    {
      "cell_type": "code",
      "source": [
        "categ = ['cylinder_number', 'customer', 'job_number', 'grain_screened', 'ink_color',\n",
        "'proof_on_ctd_ink', 'blade_mfg', 'cylinder_division', 'paper_type', 'ink_type', 'direct_steam', 'solvent_type',\n",
        "'type_on_cylinder', 'press_type', 'press', 'unit_number', 'cylinder_size', 'paper_mill_location', 'plating_tank']\n",
        "df = oneHotFunc(df, categ)"
      ],
      "metadata": {
        "colab": {
          "base_uri": "https://localhost:8080/"
        },
        "outputId": "f7aa3c52-24f9-425e-b43d-3f0e61ccf9a6",
        "id": "zMTm1rQdpK6Q"
      },
      "execution_count": null,
      "outputs": [
        {
          "output_type": "stream",
          "name": "stdout",
          "text": [
            "   proof_cut  viscosity  caliper  ink_temperature  humifity  roughness  \\\n",
            "0       55.0       46.0    0.200             17.0      78.0   0.750000   \n",
            "1       55.0       46.0    0.300             15.0      80.0   0.750000   \n",
            "2       62.0       40.0    0.433             16.0      80.0   0.833333   \n",
            "3       52.0       40.0    0.300             16.0      75.0   0.312500   \n",
            "4       50.0       46.0    0.300             17.0      80.0   0.750000   \n",
            "\n",
            "   blade_pressure  varnish_pct  press_speed  ink_pct  ...  \\\n",
            "0            20.0         13.1       1700.0     50.5  ...   \n",
            "1            20.0          6.6       1900.0     54.9  ...   \n",
            "2            30.0          6.5       1850.0     53.8  ...   \n",
            "3            30.0          5.6       1467.0     55.6  ...   \n",
            "4            30.0          0.0       2100.0     57.5  ...   \n",
            "\n",
            "   paper_mill_location_1.6666666666666667  \\\n",
            "0                                       0   \n",
            "1                                       0   \n",
            "2                                       0   \n",
            "3                                       0   \n",
            "4                                       1   \n",
            "\n",
            "   paper_mill_location_0.6666666666666666  \\\n",
            "0                                       0   \n",
            "1                                       0   \n",
            "2                                       0   \n",
            "3                                       0   \n",
            "4                                       0   \n",
            "\n",
            "   paper_mill_location_1.3333333333333333  paper_mill_location_5.0  \\\n",
            "0                                       0                        0   \n",
            "1                                       0                        0   \n",
            "2                                       0                        0   \n",
            "3                                       0                        0   \n",
            "4                                       0                        0   \n",
            "\n",
            "   paper_mill_location_3.6666666666666665  \\\n",
            "0                                       0   \n",
            "1                                       0   \n",
            "2                                       0   \n",
            "3                                       0   \n",
            "4                                       0   \n",
            "\n",
            "   paper_mill_location_3.3333333333333335  plating_tank_0.0  \\\n",
            "0                                       0                 1   \n",
            "1                                       0                 0   \n",
            "2                                       0                 0   \n",
            "3                                       0                 0   \n",
            "4                                       0                 0   \n",
            "\n",
            "   plating_tank_0.3333333333333333  plating_tank_0.6666666666666666  \\\n",
            "0                                0                                0   \n",
            "1                                1                                0   \n",
            "2                                0                                1   \n",
            "3                                0                                0   \n",
            "4                                0                                0   \n",
            "\n",
            "   plating_tank_1.0  \n",
            "0                 0  \n",
            "1                 0  \n",
            "2                 0  \n",
            "3                 1  \n",
            "4                 1  \n",
            "\n",
            "[5 rows x 880 columns]\n"
          ]
        }
      ]
    },
    {
      "cell_type": "code",
      "source": [
        "df = df.astype(float)\n",
        "df=(df- df.mean())/df.std()\n",
        "std=df.std()\n",
        "df=df.transform(lambda x:-0.5*x**2)\n",
        "# df = df.to_numpy()\n",
        "df_new = np.cos(df)\n",
        "df_new = df_new / (math.sqrt(2*math.pi))\n",
        "df_new = df_new / std\n",
        "a=df_new.to_numpy()\n",
        "df_new['score'] = np.sum(a,axis = 1 )"
      ],
      "metadata": {
        "id": "tGrGY83VpK6Q"
      },
      "execution_count": null,
      "outputs": []
    },
    {
      "cell_type": "code",
      "source": [
        "colnames = ['timestamp', 'cylinder_number', 'customer', 'job_number', 'grain_screened', 'ink_color',\n",
        "'proof_on_ctd_ink', 'blade_mfg', 'cylinder_division', 'paper_type', 'ink_type', 'direct_steam', 'solvent_type',\n",
        "'type_on_cylinder', 'press_type', 'press', 'unit_number', 'cylinder_size', 'paper_mill_location', 'plating_tank',\n",
        "'proof_cut', 'viscosity', 'caliper', 'ink_temperature', 'humifity', 'roughness', 'blade_pressure', 'varnish_pct',\n",
        "'press_speed', 'ink_pct', 'solvent_pct', 'ESA_Voltage', 'ESA_Amperage', 'wax', 'hardener', 'roller_durometer',\n",
        "'current_density', 'anode_space_ratio', 'chrome_content', 'target']\n",
        "classify_df = pd.read_csv(\"drive/MyDrive/Datasets/bands.data\",names=colnames, header=None)\n",
        "classify_df = classify_df.drop('target', 1)\n",
        "classify_df['outlier']=0"
      ],
      "metadata": {
        "colab": {
          "base_uri": "https://localhost:8080/"
        },
        "outputId": "86b91113-47e5-4428-89ef-b1c00cf8cc41",
        "id": "dDVna_arpK6R"
      },
      "execution_count": null,
      "outputs": [
        {
          "output_type": "stream",
          "name": "stderr",
          "text": [
            "/usr/local/lib/python3.7/dist-packages/ipykernel_launcher.py:8: FutureWarning: In a future version of pandas all arguments of DataFrame.drop except for the argument 'labels' will be keyword-only\n",
            "  \n"
          ]
        }
      ]
    },
    {
      "cell_type": "code",
      "source": [
        "colnames = ['timestamp', 'cylinder_number', 'customer', 'job_number', 'grain_screened', 'ink_color',\n",
        "'proof_on_ctd_ink', 'blade_mfg', 'cylinder_division', 'paper_type', 'ink_type', 'direct_steam', 'solvent_type',\n",
        "'type_on_cylinder', 'press_type', 'press', 'unit_number', 'cylinder_size', 'paper_mill_location', 'plating_tank',\n",
        "'proof_cut', 'viscosity', 'caliper', 'ink_temperature', 'humifity', 'roughness', 'blade_pressure', 'varnish_pct',\n",
        "'press_speed', 'ink_pct', 'solvent_pct', 'ESA_Voltage', 'ESA_Amperage', 'wax', 'hardener', 'roller_durometer',\n",
        "'current_density', 'anode_space_ratio', 'chrome_content', 'target']\n",
        "original = pd.read_csv(\"drive/MyDrive/Datasets/bands.data\",names=colnames, header=None)"
      ],
      "metadata": {
        "id": "ar4LPGHlpK6R"
      },
      "execution_count": null,
      "outputs": []
    },
    {
      "cell_type": "code",
      "source": [
        "avg=np.mean(df_new['score'])\n",
        "std=np.std(df_new['score'])\n",
        "final = pd.DataFrame()\n",
        "outliers = pd.DataFrame()\n",
        "for i in range(df_new.shape[0]):\n",
        "  if df_new['score'][i] > avg + (3*std) or df_new['score'][i] < avg - (3*std):\n",
        "    outliers=outliers.append(original.iloc[i])\n",
        "    classify_df['outlier'][i]=1\n",
        "  else:\n",
        "    final=final.append(original.iloc[i])\n",
        "print(outliers.shape)"
      ],
      "metadata": {
        "colab": {
          "base_uri": "https://localhost:8080/"
        },
        "outputId": "fbf4bfba-5f92-4fd8-ab02-af7e0c358544",
        "id": "B9je0UWIpK6R"
      },
      "execution_count": null,
      "outputs": [
        {
          "output_type": "stream",
          "name": "stderr",
          "text": [
            "/usr/local/lib/python3.7/dist-packages/ipykernel_launcher.py:8: SettingWithCopyWarning: \n",
            "A value is trying to be set on a copy of a slice from a DataFrame\n",
            "\n",
            "See the caveats in the documentation: https://pandas.pydata.org/pandas-docs/stable/user_guide/indexing.html#returning-a-view-versus-a-copy\n",
            "  \n"
          ]
        },
        {
          "output_type": "stream",
          "name": "stdout",
          "text": [
            "(3, 40)\n"
          ]
        }
      ]
    },
    {
      "cell_type": "code",
      "source": [
        "print(original.shape)\n",
        "print(final.shape)"
      ],
      "metadata": {
        "colab": {
          "base_uri": "https://localhost:8080/"
        },
        "outputId": "07e6207b-0adb-4265-85db-d19f737163b7",
        "id": "WlPYlTXgpK6R"
      },
      "execution_count": null,
      "outputs": [
        {
          "output_type": "stream",
          "name": "stdout",
          "text": [
            "(540, 40)\n",
            "(537, 40)\n"
          ]
        }
      ]
    },
    {
      "cell_type": "code",
      "source": [
        "final.to_csv('drive/MyDrive/Modified_Datasets/AfterRemovingOutliers/band.csv', index=False)"
      ],
      "metadata": {
        "id": "hxhvZu2-pK6R"
      },
      "execution_count": null,
      "outputs": []
    },
    {
      "cell_type": "code",
      "source": [
        "classify_df.to_csv('drive/MyDrive/Modified_Datasets/Outlier_Classification/band.csv',index=False)"
      ],
      "metadata": {
        "id": "jHLf8v5ZpK6S"
      },
      "execution_count": null,
      "outputs": []
    },
    {
      "cell_type": "markdown",
      "source": [
        "Credit\n",
        "---------------"
      ],
      "metadata": {
        "id": "3Ta8ERTdjz5X"
      }
    },
    {
      "cell_type": "code",
      "source": [
        "colnames = ['A1','A2','A3','A4','A5','A6','A7','A8','A9','A10','A11','A12','A13','A14','A15','target']\n",
        "df = pd.read_csv(\"drive/MyDrive/Datasets/creditapproval.data\",names=colnames, header=None)\n",
        "df = df.drop('target', 1)\n",
        "df.head()"
      ],
      "metadata": {
        "colab": {
          "base_uri": "https://localhost:8080/",
          "height": 261
        },
        "outputId": "d7192847-ce26-425d-e5aa-e8cd75c5ebf8",
        "id": "W2VurPdWjz5Y"
      },
      "execution_count": null,
      "outputs": [
        {
          "output_type": "stream",
          "name": "stderr",
          "text": [
            "/usr/local/lib/python3.7/dist-packages/ipykernel_launcher.py:3: FutureWarning: In a future version of pandas all arguments of DataFrame.drop except for the argument 'labels' will be keyword-only\n",
            "  This is separate from the ipykernel package so we can avoid doing imports until\n"
          ]
        },
        {
          "output_type": "execute_result",
          "data": {
            "text/html": [
              "\n",
              "  <div id=\"df-ef96a6e5-8445-4bbe-8ea7-551d2011ec75\">\n",
              "    <div class=\"colab-df-container\">\n",
              "      <div>\n",
              "<style scoped>\n",
              "    .dataframe tbody tr th:only-of-type {\n",
              "        vertical-align: middle;\n",
              "    }\n",
              "\n",
              "    .dataframe tbody tr th {\n",
              "        vertical-align: top;\n",
              "    }\n",
              "\n",
              "    .dataframe thead th {\n",
              "        text-align: right;\n",
              "    }\n",
              "</style>\n",
              "<table border=\"1\" class=\"dataframe\">\n",
              "  <thead>\n",
              "    <tr style=\"text-align: right;\">\n",
              "      <th></th>\n",
              "      <th>A1</th>\n",
              "      <th>A2</th>\n",
              "      <th>A3</th>\n",
              "      <th>A4</th>\n",
              "      <th>A5</th>\n",
              "      <th>A6</th>\n",
              "      <th>A7</th>\n",
              "      <th>A8</th>\n",
              "      <th>A9</th>\n",
              "      <th>A10</th>\n",
              "      <th>A11</th>\n",
              "      <th>A12</th>\n",
              "      <th>A13</th>\n",
              "      <th>A14</th>\n",
              "      <th>A15</th>\n",
              "    </tr>\n",
              "  </thead>\n",
              "  <tbody>\n",
              "    <tr>\n",
              "      <th>0</th>\n",
              "      <td>b</td>\n",
              "      <td>30.83</td>\n",
              "      <td>0.000</td>\n",
              "      <td>u</td>\n",
              "      <td>g</td>\n",
              "      <td>w</td>\n",
              "      <td>v</td>\n",
              "      <td>1.25</td>\n",
              "      <td>t</td>\n",
              "      <td>t</td>\n",
              "      <td>1</td>\n",
              "      <td>f</td>\n",
              "      <td>g</td>\n",
              "      <td>00202</td>\n",
              "      <td>0</td>\n",
              "    </tr>\n",
              "    <tr>\n",
              "      <th>1</th>\n",
              "      <td>a</td>\n",
              "      <td>58.67</td>\n",
              "      <td>4.460</td>\n",
              "      <td>u</td>\n",
              "      <td>g</td>\n",
              "      <td>q</td>\n",
              "      <td>h</td>\n",
              "      <td>3.04</td>\n",
              "      <td>t</td>\n",
              "      <td>t</td>\n",
              "      <td>6</td>\n",
              "      <td>f</td>\n",
              "      <td>g</td>\n",
              "      <td>00043</td>\n",
              "      <td>560</td>\n",
              "    </tr>\n",
              "    <tr>\n",
              "      <th>2</th>\n",
              "      <td>a</td>\n",
              "      <td>24.50</td>\n",
              "      <td>0.500</td>\n",
              "      <td>u</td>\n",
              "      <td>g</td>\n",
              "      <td>q</td>\n",
              "      <td>h</td>\n",
              "      <td>1.50</td>\n",
              "      <td>t</td>\n",
              "      <td>f</td>\n",
              "      <td>0</td>\n",
              "      <td>f</td>\n",
              "      <td>g</td>\n",
              "      <td>00280</td>\n",
              "      <td>824</td>\n",
              "    </tr>\n",
              "    <tr>\n",
              "      <th>3</th>\n",
              "      <td>b</td>\n",
              "      <td>27.83</td>\n",
              "      <td>1.540</td>\n",
              "      <td>u</td>\n",
              "      <td>g</td>\n",
              "      <td>w</td>\n",
              "      <td>v</td>\n",
              "      <td>3.75</td>\n",
              "      <td>t</td>\n",
              "      <td>t</td>\n",
              "      <td>5</td>\n",
              "      <td>t</td>\n",
              "      <td>g</td>\n",
              "      <td>00100</td>\n",
              "      <td>3</td>\n",
              "    </tr>\n",
              "    <tr>\n",
              "      <th>4</th>\n",
              "      <td>b</td>\n",
              "      <td>20.17</td>\n",
              "      <td>5.625</td>\n",
              "      <td>u</td>\n",
              "      <td>g</td>\n",
              "      <td>w</td>\n",
              "      <td>v</td>\n",
              "      <td>1.71</td>\n",
              "      <td>t</td>\n",
              "      <td>f</td>\n",
              "      <td>0</td>\n",
              "      <td>f</td>\n",
              "      <td>s</td>\n",
              "      <td>00120</td>\n",
              "      <td>0</td>\n",
              "    </tr>\n",
              "  </tbody>\n",
              "</table>\n",
              "</div>\n",
              "      <button class=\"colab-df-convert\" onclick=\"convertToInteractive('df-ef96a6e5-8445-4bbe-8ea7-551d2011ec75')\"\n",
              "              title=\"Convert this dataframe to an interactive table.\"\n",
              "              style=\"display:none;\">\n",
              "        \n",
              "  <svg xmlns=\"http://www.w3.org/2000/svg\" height=\"24px\"viewBox=\"0 0 24 24\"\n",
              "       width=\"24px\">\n",
              "    <path d=\"M0 0h24v24H0V0z\" fill=\"none\"/>\n",
              "    <path d=\"M18.56 5.44l.94 2.06.94-2.06 2.06-.94-2.06-.94-.94-2.06-.94 2.06-2.06.94zm-11 1L8.5 8.5l.94-2.06 2.06-.94-2.06-.94L8.5 2.5l-.94 2.06-2.06.94zm10 10l.94 2.06.94-2.06 2.06-.94-2.06-.94-.94-2.06-.94 2.06-2.06.94z\"/><path d=\"M17.41 7.96l-1.37-1.37c-.4-.4-.92-.59-1.43-.59-.52 0-1.04.2-1.43.59L10.3 9.45l-7.72 7.72c-.78.78-.78 2.05 0 2.83L4 21.41c.39.39.9.59 1.41.59.51 0 1.02-.2 1.41-.59l7.78-7.78 2.81-2.81c.8-.78.8-2.07 0-2.86zM5.41 20L4 18.59l7.72-7.72 1.47 1.35L5.41 20z\"/>\n",
              "  </svg>\n",
              "      </button>\n",
              "      \n",
              "  <style>\n",
              "    .colab-df-container {\n",
              "      display:flex;\n",
              "      flex-wrap:wrap;\n",
              "      gap: 12px;\n",
              "    }\n",
              "\n",
              "    .colab-df-convert {\n",
              "      background-color: #E8F0FE;\n",
              "      border: none;\n",
              "      border-radius: 50%;\n",
              "      cursor: pointer;\n",
              "      display: none;\n",
              "      fill: #1967D2;\n",
              "      height: 32px;\n",
              "      padding: 0 0 0 0;\n",
              "      width: 32px;\n",
              "    }\n",
              "\n",
              "    .colab-df-convert:hover {\n",
              "      background-color: #E2EBFA;\n",
              "      box-shadow: 0px 1px 2px rgba(60, 64, 67, 0.3), 0px 1px 3px 1px rgba(60, 64, 67, 0.15);\n",
              "      fill: #174EA6;\n",
              "    }\n",
              "\n",
              "    [theme=dark] .colab-df-convert {\n",
              "      background-color: #3B4455;\n",
              "      fill: #D2E3FC;\n",
              "    }\n",
              "\n",
              "    [theme=dark] .colab-df-convert:hover {\n",
              "      background-color: #434B5C;\n",
              "      box-shadow: 0px 1px 3px 1px rgba(0, 0, 0, 0.15);\n",
              "      filter: drop-shadow(0px 1px 2px rgba(0, 0, 0, 0.3));\n",
              "      fill: #FFFFFF;\n",
              "    }\n",
              "  </style>\n",
              "\n",
              "      <script>\n",
              "        const buttonEl =\n",
              "          document.querySelector('#df-ef96a6e5-8445-4bbe-8ea7-551d2011ec75 button.colab-df-convert');\n",
              "        buttonEl.style.display =\n",
              "          google.colab.kernel.accessAllowed ? 'block' : 'none';\n",
              "\n",
              "        async function convertToInteractive(key) {\n",
              "          const element = document.querySelector('#df-ef96a6e5-8445-4bbe-8ea7-551d2011ec75');\n",
              "          const dataTable =\n",
              "            await google.colab.kernel.invokeFunction('convertToInteractive',\n",
              "                                                     [key], {});\n",
              "          if (!dataTable) return;\n",
              "\n",
              "          const docLinkHtml = 'Like what you see? Visit the ' +\n",
              "            '<a target=\"_blank\" href=https://colab.research.google.com/notebooks/data_table.ipynb>data table notebook</a>'\n",
              "            + ' to learn more about interactive tables.';\n",
              "          element.innerHTML = '';\n",
              "          dataTable['output_type'] = 'display_data';\n",
              "          await google.colab.output.renderOutput(dataTable, element);\n",
              "          const docLink = document.createElement('div');\n",
              "          docLink.innerHTML = docLinkHtml;\n",
              "          element.appendChild(docLink);\n",
              "        }\n",
              "      </script>\n",
              "    </div>\n",
              "  </div>\n",
              "  "
            ],
            "text/plain": [
              "  A1     A2     A3 A4 A5 A6 A7    A8 A9 A10  A11 A12 A13    A14  A15\n",
              "0  b  30.83  0.000  u  g  w  v  1.25  t   t    1   f   g  00202    0\n",
              "1  a  58.67  4.460  u  g  q  h  3.04  t   t    6   f   g  00043  560\n",
              "2  a  24.50  0.500  u  g  q  h  1.50  t   f    0   f   g  00280  824\n",
              "3  b  27.83  1.540  u  g  w  v  3.75  t   t    5   t   g  00100    3\n",
              "4  b  20.17  5.625  u  g  w  v  1.71  t   f    0   f   s  00120    0"
            ]
          },
          "metadata": {},
          "execution_count": 24
        }
      ]
    },
    {
      "cell_type": "markdown",
      "source": [
        "A1:\t0, 1  ('b', 'a')\n",
        "\n",
        "A4: 0, 1, 2, 3\t('u', 'y', 'l', 't')\n",
        "    \n",
        "A5:\t0, 1, 2  ('g', 'p', 'gg')\n",
        "    \n",
        "A6:\t0, 1, 2, 3, 4, 5, 6, 7, 8, 9, 10, 11, 12, 13  ('c', 'd', 'cc', 'i', 'j', 'k', 'm', 'r', 'q', 'w', 'x', 'e', 'aa', 'ff')\n",
        "\n",
        "A7:\t0, 1, 2, 3, 4, 5, 6, 7, 8 ('v', 'h', 'bb', 'j', 'n', 'z', 'dd', 'ff', 'o')\n",
        "\n",
        "A9:\t0, 1  ('t', 'f')\n",
        "\n",
        "A10: 0, 1  ('t', 'f')\n",
        "\n",
        "A12:\t0, 1  ('t', 'f')\n",
        "\n",
        "A13: 0, 1, 2 ('g', 'p', 's')\n",
        "\n",
        "target: 0, 1 ('+', '-')         (class attribute)"
      ],
      "metadata": {
        "id": "GdeGDPY5jz5Z"
      }
    },
    {
      "cell_type": "code",
      "source": [
        "# categ=['A1','A4','A5','A6','A7','A9','A10','A12','A13']\n",
        "# cont=['A2','A3','A8','A11','A14','A15']\n",
        "# df = MissingValuesHandler(df, categ, cont)"
      ],
      "metadata": {
        "id": "NUlZm2dOkg8P"
      },
      "execution_count": null,
      "outputs": []
    },
    {
      "cell_type": "code",
      "source": [
        "str_ar = ['A9','A10','A12','A13']\n",
        "df = MapFunc(df, str_ar)\n",
        "str_ar = ['A1','A4','A5','A6','A7']\n",
        "for i in range(len(str_ar)):\n",
        "    uni = list(df[str_ar[i]].unique())\n",
        "    uni.remove('?')\n",
        "    mylist = range(0,len(uni))\n",
        "    d = dict(zip(uni,mylist))\n",
        "    d['?'] = np.nan\n",
        "    print(d)\n",
        "    print('-------------------------')\n",
        "    df[str_ar[i]] = [d[item] for item in df[str_ar[i]]]\n",
        "    df[str_ar[i]] = df[str_ar[i]].replace('?',np.nan)\n",
        "\n",
        "for i in range(len(df.columns)):\n",
        "  df[df.columns[i]] = df[df.columns[i]].replace('?',np.nan)\n",
        "\n",
        "df.head()"
      ],
      "metadata": {
        "colab": {
          "base_uri": "https://localhost:8080/",
          "height": 380
        },
        "id": "gdbtJylB1sbP",
        "outputId": "4053aa52-91c8-44bc-90f5-5c276eae1418"
      },
      "execution_count": null,
      "outputs": [
        {
          "output_type": "stream",
          "name": "stdout",
          "text": [
            "{'b': 0, 'a': 1, '?': nan}\n",
            "-------------------------\n",
            "{'u': 0, 'y': 1, 'l': 2, '?': nan}\n",
            "-------------------------\n",
            "{'g': 0, 'p': 1, 'gg': 2, '?': nan}\n",
            "-------------------------\n",
            "{'w': 0, 'q': 1, 'm': 2, 'r': 3, 'cc': 4, 'k': 5, 'c': 6, 'd': 7, 'x': 8, 'i': 9, 'e': 10, 'aa': 11, 'ff': 12, 'j': 13, '?': nan}\n",
            "-------------------------\n",
            "{'v': 0, 'h': 1, 'bb': 2, 'ff': 3, 'j': 4, 'z': 5, 'o': 6, 'dd': 7, 'n': 8, '?': nan}\n",
            "-------------------------\n"
          ]
        },
        {
          "output_type": "execute_result",
          "data": {
            "text/html": [
              "\n",
              "  <div id=\"df-a8721d96-7e48-4442-8c87-3753a355c127\">\n",
              "    <div class=\"colab-df-container\">\n",
              "      <div>\n",
              "<style scoped>\n",
              "    .dataframe tbody tr th:only-of-type {\n",
              "        vertical-align: middle;\n",
              "    }\n",
              "\n",
              "    .dataframe tbody tr th {\n",
              "        vertical-align: top;\n",
              "    }\n",
              "\n",
              "    .dataframe thead th {\n",
              "        text-align: right;\n",
              "    }\n",
              "</style>\n",
              "<table border=\"1\" class=\"dataframe\">\n",
              "  <thead>\n",
              "    <tr style=\"text-align: right;\">\n",
              "      <th></th>\n",
              "      <th>A1</th>\n",
              "      <th>A2</th>\n",
              "      <th>A3</th>\n",
              "      <th>A4</th>\n",
              "      <th>A5</th>\n",
              "      <th>A6</th>\n",
              "      <th>A7</th>\n",
              "      <th>A8</th>\n",
              "      <th>A9</th>\n",
              "      <th>A10</th>\n",
              "      <th>A11</th>\n",
              "      <th>A12</th>\n",
              "      <th>A13</th>\n",
              "      <th>A14</th>\n",
              "      <th>A15</th>\n",
              "    </tr>\n",
              "  </thead>\n",
              "  <tbody>\n",
              "    <tr>\n",
              "      <th>0</th>\n",
              "      <td>0.0</td>\n",
              "      <td>30.83</td>\n",
              "      <td>0.000</td>\n",
              "      <td>0.0</td>\n",
              "      <td>0.0</td>\n",
              "      <td>0.0</td>\n",
              "      <td>0.0</td>\n",
              "      <td>1.25</td>\n",
              "      <td>0</td>\n",
              "      <td>0</td>\n",
              "      <td>1</td>\n",
              "      <td>0</td>\n",
              "      <td>0</td>\n",
              "      <td>00202</td>\n",
              "      <td>0</td>\n",
              "    </tr>\n",
              "    <tr>\n",
              "      <th>1</th>\n",
              "      <td>1.0</td>\n",
              "      <td>58.67</td>\n",
              "      <td>4.460</td>\n",
              "      <td>0.0</td>\n",
              "      <td>0.0</td>\n",
              "      <td>1.0</td>\n",
              "      <td>1.0</td>\n",
              "      <td>3.04</td>\n",
              "      <td>0</td>\n",
              "      <td>0</td>\n",
              "      <td>6</td>\n",
              "      <td>0</td>\n",
              "      <td>0</td>\n",
              "      <td>00043</td>\n",
              "      <td>560</td>\n",
              "    </tr>\n",
              "    <tr>\n",
              "      <th>2</th>\n",
              "      <td>1.0</td>\n",
              "      <td>24.50</td>\n",
              "      <td>0.500</td>\n",
              "      <td>0.0</td>\n",
              "      <td>0.0</td>\n",
              "      <td>1.0</td>\n",
              "      <td>1.0</td>\n",
              "      <td>1.50</td>\n",
              "      <td>0</td>\n",
              "      <td>1</td>\n",
              "      <td>0</td>\n",
              "      <td>0</td>\n",
              "      <td>0</td>\n",
              "      <td>00280</td>\n",
              "      <td>824</td>\n",
              "    </tr>\n",
              "    <tr>\n",
              "      <th>3</th>\n",
              "      <td>0.0</td>\n",
              "      <td>27.83</td>\n",
              "      <td>1.540</td>\n",
              "      <td>0.0</td>\n",
              "      <td>0.0</td>\n",
              "      <td>0.0</td>\n",
              "      <td>0.0</td>\n",
              "      <td>3.75</td>\n",
              "      <td>0</td>\n",
              "      <td>0</td>\n",
              "      <td>5</td>\n",
              "      <td>1</td>\n",
              "      <td>0</td>\n",
              "      <td>00100</td>\n",
              "      <td>3</td>\n",
              "    </tr>\n",
              "    <tr>\n",
              "      <th>4</th>\n",
              "      <td>0.0</td>\n",
              "      <td>20.17</td>\n",
              "      <td>5.625</td>\n",
              "      <td>0.0</td>\n",
              "      <td>0.0</td>\n",
              "      <td>0.0</td>\n",
              "      <td>0.0</td>\n",
              "      <td>1.71</td>\n",
              "      <td>0</td>\n",
              "      <td>1</td>\n",
              "      <td>0</td>\n",
              "      <td>0</td>\n",
              "      <td>1</td>\n",
              "      <td>00120</td>\n",
              "      <td>0</td>\n",
              "    </tr>\n",
              "  </tbody>\n",
              "</table>\n",
              "</div>\n",
              "      <button class=\"colab-df-convert\" onclick=\"convertToInteractive('df-a8721d96-7e48-4442-8c87-3753a355c127')\"\n",
              "              title=\"Convert this dataframe to an interactive table.\"\n",
              "              style=\"display:none;\">\n",
              "        \n",
              "  <svg xmlns=\"http://www.w3.org/2000/svg\" height=\"24px\"viewBox=\"0 0 24 24\"\n",
              "       width=\"24px\">\n",
              "    <path d=\"M0 0h24v24H0V0z\" fill=\"none\"/>\n",
              "    <path d=\"M18.56 5.44l.94 2.06.94-2.06 2.06-.94-2.06-.94-.94-2.06-.94 2.06-2.06.94zm-11 1L8.5 8.5l.94-2.06 2.06-.94-2.06-.94L8.5 2.5l-.94 2.06-2.06.94zm10 10l.94 2.06.94-2.06 2.06-.94-2.06-.94-.94-2.06-.94 2.06-2.06.94z\"/><path d=\"M17.41 7.96l-1.37-1.37c-.4-.4-.92-.59-1.43-.59-.52 0-1.04.2-1.43.59L10.3 9.45l-7.72 7.72c-.78.78-.78 2.05 0 2.83L4 21.41c.39.39.9.59 1.41.59.51 0 1.02-.2 1.41-.59l7.78-7.78 2.81-2.81c.8-.78.8-2.07 0-2.86zM5.41 20L4 18.59l7.72-7.72 1.47 1.35L5.41 20z\"/>\n",
              "  </svg>\n",
              "      </button>\n",
              "      \n",
              "  <style>\n",
              "    .colab-df-container {\n",
              "      display:flex;\n",
              "      flex-wrap:wrap;\n",
              "      gap: 12px;\n",
              "    }\n",
              "\n",
              "    .colab-df-convert {\n",
              "      background-color: #E8F0FE;\n",
              "      border: none;\n",
              "      border-radius: 50%;\n",
              "      cursor: pointer;\n",
              "      display: none;\n",
              "      fill: #1967D2;\n",
              "      height: 32px;\n",
              "      padding: 0 0 0 0;\n",
              "      width: 32px;\n",
              "    }\n",
              "\n",
              "    .colab-df-convert:hover {\n",
              "      background-color: #E2EBFA;\n",
              "      box-shadow: 0px 1px 2px rgba(60, 64, 67, 0.3), 0px 1px 3px 1px rgba(60, 64, 67, 0.15);\n",
              "      fill: #174EA6;\n",
              "    }\n",
              "\n",
              "    [theme=dark] .colab-df-convert {\n",
              "      background-color: #3B4455;\n",
              "      fill: #D2E3FC;\n",
              "    }\n",
              "\n",
              "    [theme=dark] .colab-df-convert:hover {\n",
              "      background-color: #434B5C;\n",
              "      box-shadow: 0px 1px 3px 1px rgba(0, 0, 0, 0.15);\n",
              "      filter: drop-shadow(0px 1px 2px rgba(0, 0, 0, 0.3));\n",
              "      fill: #FFFFFF;\n",
              "    }\n",
              "  </style>\n",
              "\n",
              "      <script>\n",
              "        const buttonEl =\n",
              "          document.querySelector('#df-a8721d96-7e48-4442-8c87-3753a355c127 button.colab-df-convert');\n",
              "        buttonEl.style.display =\n",
              "          google.colab.kernel.accessAllowed ? 'block' : 'none';\n",
              "\n",
              "        async function convertToInteractive(key) {\n",
              "          const element = document.querySelector('#df-a8721d96-7e48-4442-8c87-3753a355c127');\n",
              "          const dataTable =\n",
              "            await google.colab.kernel.invokeFunction('convertToInteractive',\n",
              "                                                     [key], {});\n",
              "          if (!dataTable) return;\n",
              "\n",
              "          const docLinkHtml = 'Like what you see? Visit the ' +\n",
              "            '<a target=\"_blank\" href=https://colab.research.google.com/notebooks/data_table.ipynb>data table notebook</a>'\n",
              "            + ' to learn more about interactive tables.';\n",
              "          element.innerHTML = '';\n",
              "          dataTable['output_type'] = 'display_data';\n",
              "          await google.colab.output.renderOutput(dataTable, element);\n",
              "          const docLink = document.createElement('div');\n",
              "          docLink.innerHTML = docLinkHtml;\n",
              "          element.appendChild(docLink);\n",
              "        }\n",
              "      </script>\n",
              "    </div>\n",
              "  </div>\n",
              "  "
            ],
            "text/plain": [
              "    A1     A2     A3   A4   A5   A6   A7    A8  A9  A10  A11  A12  A13    A14  \\\n",
              "0  0.0  30.83  0.000  0.0  0.0  0.0  0.0  1.25   0    0    1    0    0  00202   \n",
              "1  1.0  58.67  4.460  0.0  0.0  1.0  1.0  3.04   0    0    6    0    0  00043   \n",
              "2  1.0  24.50  0.500  0.0  0.0  1.0  1.0  1.50   0    1    0    0    0  00280   \n",
              "3  0.0  27.83  1.540  0.0  0.0  0.0  0.0  3.75   0    0    5    1    0  00100   \n",
              "4  0.0  20.17  5.625  0.0  0.0  0.0  0.0  1.71   0    1    0    0    1  00120   \n",
              "\n",
              "   A15  \n",
              "0    0  \n",
              "1  560  \n",
              "2  824  \n",
              "3    3  \n",
              "4    0  "
            ]
          },
          "metadata": {},
          "execution_count": 25
        }
      ]
    },
    {
      "cell_type": "code",
      "source": [
        "imputer = KNNImputer(n_neighbors=3)\n",
        "df = pd.DataFrame(imputer.fit_transform(df),columns = df.columns)"
      ],
      "metadata": {
        "id": "GRpJ7LiG1wkk"
      },
      "execution_count": null,
      "outputs": []
    },
    {
      "cell_type": "code",
      "source": [
        "categ=['A1','A4','A5','A6','A7','A9','A10','A12','A13']\n",
        "df = oneHotFunc(df, categ)"
      ],
      "metadata": {
        "colab": {
          "base_uri": "https://localhost:8080/"
        },
        "outputId": "a97d2dd3-968f-47e5-da39-9b42f0395cb7",
        "id": "CPHmCXcSjz5a"
      },
      "execution_count": null,
      "outputs": [
        {
          "output_type": "stream",
          "name": "stdout",
          "text": [
            "      A2     A3    A8  A11    A14    A15  A1_0.0  A1_1.0  \\\n",
            "0  30.83  0.000  1.25  1.0  202.0    0.0       1       0   \n",
            "1  58.67  4.460  3.04  6.0   43.0  560.0       0       0   \n",
            "2  24.50  0.500  1.50  0.0  280.0  824.0       0       0   \n",
            "3  27.83  1.540  3.75  5.0  100.0    3.0       1       0   \n",
            "4  20.17  5.625  1.71  0.0  120.0    0.0       1       0   \n",
            "\n",
            "   A1_0.6666666666666666  A1_0.3333333333333333  ...  A7_1.6666666666666667  \\\n",
            "0                      0                      0  ...                      0   \n",
            "1                      0                      1  ...                      0   \n",
            "2                      0                      1  ...                      0   \n",
            "3                      0                      0  ...                      0   \n",
            "4                      0                      0  ...                      0   \n",
            "\n",
            "   A9_0.0  A9_1.0  A10_0.0  A10_1.0  A12_0.0  A12_1.0  A13_0.0  A13_1.0  \\\n",
            "0       1       0        1        0        1        0        1        0   \n",
            "1       1       0        1        0        1        0        1        0   \n",
            "2       1       0        0        1        1        0        1        0   \n",
            "3       1       0        1        0        0        1        1        0   \n",
            "4       1       0        0        1        1        0        0        1   \n",
            "\n",
            "   A13_2.0  \n",
            "0        0  \n",
            "1        0  \n",
            "2        0  \n",
            "3        0  \n",
            "4        0  \n",
            "\n",
            "[5 rows x 56 columns]\n"
          ]
        }
      ]
    },
    {
      "cell_type": "code",
      "source": [
        "df = df.astype(float)\n",
        "df=(df- df.mean())/df.std()\n",
        "std=df.std()\n",
        "df=df.transform(lambda x:-0.5*x**2)\n",
        "# df = df.to_numpy()\n",
        "df_new = np.cos(df)\n",
        "df_new = df_new / (math.sqrt(2*math.pi))\n",
        "df_new = df_new / std\n",
        "a=df_new.to_numpy()\n",
        "df_new['score'] = np.sum(a,axis = 1 )"
      ],
      "metadata": {
        "id": "YPr5U10pjz5c"
      },
      "execution_count": null,
      "outputs": []
    },
    {
      "cell_type": "code",
      "source": [
        "colnames = ['A1','A2','A3','A4','A5','A6','A7','A8','A9','A10','A11','A12','A13','A14','A15','target']\n",
        "classify_df = pd.read_csv(\"drive/MyDrive/Datasets/creditapproval.data\",names=colnames, header=None)\n",
        "classify_df = classify_df.drop('target', 1)\n",
        "classify_df['outlier']=0"
      ],
      "metadata": {
        "colab": {
          "base_uri": "https://localhost:8080/"
        },
        "outputId": "9a665922-7cf9-4086-e2d3-17d0281454dc",
        "id": "FbX51cRAjz5d"
      },
      "execution_count": null,
      "outputs": [
        {
          "output_type": "stream",
          "name": "stderr",
          "text": [
            "/usr/local/lib/python3.7/dist-packages/ipykernel_launcher.py:3: FutureWarning: In a future version of pandas all arguments of DataFrame.drop except for the argument 'labels' will be keyword-only\n",
            "  This is separate from the ipykernel package so we can avoid doing imports until\n"
          ]
        }
      ]
    },
    {
      "cell_type": "code",
      "source": [
        "colnames = ['A1','A2','A3','A4','A5','A6','A7','A8','A9','A10','A11','A12','A13','A14','A15','target']\n",
        "original = pd.read_csv(\"drive/MyDrive/Datasets/creditapproval.data\",names=colnames, header=None)"
      ],
      "metadata": {
        "id": "PwMhha22jz5f"
      },
      "execution_count": null,
      "outputs": []
    },
    {
      "cell_type": "code",
      "source": [
        "avg=np.mean(df_new['score'])\n",
        "std=np.std(df_new['score'])\n",
        "final = pd.DataFrame()\n",
        "outliers = pd.DataFrame()\n",
        "for i in range(df_new.shape[0]):\n",
        "  if df_new['score'][i] > avg + (3*std) or df_new['score'][i] < avg - (3*std):\n",
        "    outliers=outliers.append(original.iloc[i])\n",
        "    classify_df['outlier'][i]=1\n",
        "  else:\n",
        "    final=final.append(original.iloc[i])\n",
        "print(outliers.shape)"
      ],
      "metadata": {
        "colab": {
          "base_uri": "https://localhost:8080/"
        },
        "outputId": "a4c1ec63-0075-4173-b228-f0da33b90fe9",
        "id": "9ZWmABMqjz5f"
      },
      "execution_count": null,
      "outputs": [
        {
          "output_type": "stream",
          "name": "stderr",
          "text": [
            "/usr/local/lib/python3.7/dist-packages/ipykernel_launcher.py:8: SettingWithCopyWarning: \n",
            "A value is trying to be set on a copy of a slice from a DataFrame\n",
            "\n",
            "See the caveats in the documentation: https://pandas.pydata.org/pandas-docs/stable/user_guide/indexing.html#returning-a-view-versus-a-copy\n",
            "  \n"
          ]
        },
        {
          "output_type": "stream",
          "name": "stdout",
          "text": [
            "(5, 16)\n"
          ]
        }
      ]
    },
    {
      "cell_type": "code",
      "source": [
        "print(original.shape)\n",
        "print(final.shape)"
      ],
      "metadata": {
        "colab": {
          "base_uri": "https://localhost:8080/"
        },
        "outputId": "ea518a8a-c860-4bac-d7d2-fe7bc35daf30",
        "id": "hjFEfxmGjz5g"
      },
      "execution_count": null,
      "outputs": [
        {
          "output_type": "stream",
          "name": "stdout",
          "text": [
            "(690, 16)\n",
            "(685, 16)\n"
          ]
        }
      ]
    },
    {
      "cell_type": "code",
      "source": [
        "final.to_csv('drive/MyDrive/Modified_Datasets/AfterRemovingOutliers/credit.csv', index=False)"
      ],
      "metadata": {
        "id": "4BrZ4MSZjz5h"
      },
      "execution_count": null,
      "outputs": []
    },
    {
      "cell_type": "code",
      "source": [
        "classify_df.to_csv('drive/MyDrive/Modified_Datasets/Outlier_Classification/credit.csv',index=False)"
      ],
      "metadata": {
        "id": "K6b_6EJNjz5i"
      },
      "execution_count": null,
      "outputs": []
    },
    {
      "cell_type": "markdown",
      "source": [
        "Australian\n",
        "---------------"
      ],
      "metadata": {
        "id": "hNqmxMvUhZUr"
      }
    },
    {
      "cell_type": "code",
      "source": [
        "colnames = ['A1','A2','A3','A4','A5','A6','A7','A8','A9','A10','A11','A12','A13','A14','target']\n",
        "df = pd.read_csv(\"drive/MyDrive/Datasets/australian.dat\",delimiter=' ',names=colnames, header=None)\n",
        "df = df.drop('target', 1)\n",
        "df.head()"
      ],
      "metadata": {
        "colab": {
          "base_uri": "https://localhost:8080/",
          "height": 261
        },
        "outputId": "6cd947fa-d269-436e-e5a3-e6bbbecb62f0",
        "id": "y5sr3NHnhZUs"
      },
      "execution_count": null,
      "outputs": [
        {
          "output_type": "stream",
          "name": "stderr",
          "text": [
            "/usr/local/lib/python3.7/dist-packages/ipykernel_launcher.py:3: FutureWarning: In a future version of pandas all arguments of DataFrame.drop except for the argument 'labels' will be keyword-only\n",
            "  This is separate from the ipykernel package so we can avoid doing imports until\n"
          ]
        },
        {
          "output_type": "execute_result",
          "data": {
            "text/html": [
              "\n",
              "  <div id=\"df-b633aae4-f112-465f-bcd1-c37f5b1a9750\">\n",
              "    <div class=\"colab-df-container\">\n",
              "      <div>\n",
              "<style scoped>\n",
              "    .dataframe tbody tr th:only-of-type {\n",
              "        vertical-align: middle;\n",
              "    }\n",
              "\n",
              "    .dataframe tbody tr th {\n",
              "        vertical-align: top;\n",
              "    }\n",
              "\n",
              "    .dataframe thead th {\n",
              "        text-align: right;\n",
              "    }\n",
              "</style>\n",
              "<table border=\"1\" class=\"dataframe\">\n",
              "  <thead>\n",
              "    <tr style=\"text-align: right;\">\n",
              "      <th></th>\n",
              "      <th>A1</th>\n",
              "      <th>A2</th>\n",
              "      <th>A3</th>\n",
              "      <th>A4</th>\n",
              "      <th>A5</th>\n",
              "      <th>A6</th>\n",
              "      <th>A7</th>\n",
              "      <th>A8</th>\n",
              "      <th>A9</th>\n",
              "      <th>A10</th>\n",
              "      <th>A11</th>\n",
              "      <th>A12</th>\n",
              "      <th>A13</th>\n",
              "      <th>A14</th>\n",
              "    </tr>\n",
              "  </thead>\n",
              "  <tbody>\n",
              "    <tr>\n",
              "      <th>0</th>\n",
              "      <td>1</td>\n",
              "      <td>22.08</td>\n",
              "      <td>11.46</td>\n",
              "      <td>2</td>\n",
              "      <td>4</td>\n",
              "      <td>4</td>\n",
              "      <td>1.585</td>\n",
              "      <td>0</td>\n",
              "      <td>0</td>\n",
              "      <td>0</td>\n",
              "      <td>1</td>\n",
              "      <td>2</td>\n",
              "      <td>100</td>\n",
              "      <td>1213</td>\n",
              "    </tr>\n",
              "    <tr>\n",
              "      <th>1</th>\n",
              "      <td>0</td>\n",
              "      <td>22.67</td>\n",
              "      <td>7.00</td>\n",
              "      <td>2</td>\n",
              "      <td>8</td>\n",
              "      <td>4</td>\n",
              "      <td>0.165</td>\n",
              "      <td>0</td>\n",
              "      <td>0</td>\n",
              "      <td>0</td>\n",
              "      <td>0</td>\n",
              "      <td>2</td>\n",
              "      <td>160</td>\n",
              "      <td>1</td>\n",
              "    </tr>\n",
              "    <tr>\n",
              "      <th>2</th>\n",
              "      <td>0</td>\n",
              "      <td>29.58</td>\n",
              "      <td>1.75</td>\n",
              "      <td>1</td>\n",
              "      <td>4</td>\n",
              "      <td>4</td>\n",
              "      <td>1.250</td>\n",
              "      <td>0</td>\n",
              "      <td>0</td>\n",
              "      <td>0</td>\n",
              "      <td>1</td>\n",
              "      <td>2</td>\n",
              "      <td>280</td>\n",
              "      <td>1</td>\n",
              "    </tr>\n",
              "    <tr>\n",
              "      <th>3</th>\n",
              "      <td>0</td>\n",
              "      <td>21.67</td>\n",
              "      <td>11.50</td>\n",
              "      <td>1</td>\n",
              "      <td>5</td>\n",
              "      <td>3</td>\n",
              "      <td>0.000</td>\n",
              "      <td>1</td>\n",
              "      <td>1</td>\n",
              "      <td>11</td>\n",
              "      <td>1</td>\n",
              "      <td>2</td>\n",
              "      <td>0</td>\n",
              "      <td>1</td>\n",
              "    </tr>\n",
              "    <tr>\n",
              "      <th>4</th>\n",
              "      <td>1</td>\n",
              "      <td>20.17</td>\n",
              "      <td>8.17</td>\n",
              "      <td>2</td>\n",
              "      <td>6</td>\n",
              "      <td>4</td>\n",
              "      <td>1.960</td>\n",
              "      <td>1</td>\n",
              "      <td>1</td>\n",
              "      <td>14</td>\n",
              "      <td>0</td>\n",
              "      <td>2</td>\n",
              "      <td>60</td>\n",
              "      <td>159</td>\n",
              "    </tr>\n",
              "  </tbody>\n",
              "</table>\n",
              "</div>\n",
              "      <button class=\"colab-df-convert\" onclick=\"convertToInteractive('df-b633aae4-f112-465f-bcd1-c37f5b1a9750')\"\n",
              "              title=\"Convert this dataframe to an interactive table.\"\n",
              "              style=\"display:none;\">\n",
              "        \n",
              "  <svg xmlns=\"http://www.w3.org/2000/svg\" height=\"24px\"viewBox=\"0 0 24 24\"\n",
              "       width=\"24px\">\n",
              "    <path d=\"M0 0h24v24H0V0z\" fill=\"none\"/>\n",
              "    <path d=\"M18.56 5.44l.94 2.06.94-2.06 2.06-.94-2.06-.94-.94-2.06-.94 2.06-2.06.94zm-11 1L8.5 8.5l.94-2.06 2.06-.94-2.06-.94L8.5 2.5l-.94 2.06-2.06.94zm10 10l.94 2.06.94-2.06 2.06-.94-2.06-.94-.94-2.06-.94 2.06-2.06.94z\"/><path d=\"M17.41 7.96l-1.37-1.37c-.4-.4-.92-.59-1.43-.59-.52 0-1.04.2-1.43.59L10.3 9.45l-7.72 7.72c-.78.78-.78 2.05 0 2.83L4 21.41c.39.39.9.59 1.41.59.51 0 1.02-.2 1.41-.59l7.78-7.78 2.81-2.81c.8-.78.8-2.07 0-2.86zM5.41 20L4 18.59l7.72-7.72 1.47 1.35L5.41 20z\"/>\n",
              "  </svg>\n",
              "      </button>\n",
              "      \n",
              "  <style>\n",
              "    .colab-df-container {\n",
              "      display:flex;\n",
              "      flex-wrap:wrap;\n",
              "      gap: 12px;\n",
              "    }\n",
              "\n",
              "    .colab-df-convert {\n",
              "      background-color: #E8F0FE;\n",
              "      border: none;\n",
              "      border-radius: 50%;\n",
              "      cursor: pointer;\n",
              "      display: none;\n",
              "      fill: #1967D2;\n",
              "      height: 32px;\n",
              "      padding: 0 0 0 0;\n",
              "      width: 32px;\n",
              "    }\n",
              "\n",
              "    .colab-df-convert:hover {\n",
              "      background-color: #E2EBFA;\n",
              "      box-shadow: 0px 1px 2px rgba(60, 64, 67, 0.3), 0px 1px 3px 1px rgba(60, 64, 67, 0.15);\n",
              "      fill: #174EA6;\n",
              "    }\n",
              "\n",
              "    [theme=dark] .colab-df-convert {\n",
              "      background-color: #3B4455;\n",
              "      fill: #D2E3FC;\n",
              "    }\n",
              "\n",
              "    [theme=dark] .colab-df-convert:hover {\n",
              "      background-color: #434B5C;\n",
              "      box-shadow: 0px 1px 3px 1px rgba(0, 0, 0, 0.15);\n",
              "      filter: drop-shadow(0px 1px 2px rgba(0, 0, 0, 0.3));\n",
              "      fill: #FFFFFF;\n",
              "    }\n",
              "  </style>\n",
              "\n",
              "      <script>\n",
              "        const buttonEl =\n",
              "          document.querySelector('#df-b633aae4-f112-465f-bcd1-c37f5b1a9750 button.colab-df-convert');\n",
              "        buttonEl.style.display =\n",
              "          google.colab.kernel.accessAllowed ? 'block' : 'none';\n",
              "\n",
              "        async function convertToInteractive(key) {\n",
              "          const element = document.querySelector('#df-b633aae4-f112-465f-bcd1-c37f5b1a9750');\n",
              "          const dataTable =\n",
              "            await google.colab.kernel.invokeFunction('convertToInteractive',\n",
              "                                                     [key], {});\n",
              "          if (!dataTable) return;\n",
              "\n",
              "          const docLinkHtml = 'Like what you see? Visit the ' +\n",
              "            '<a target=\"_blank\" href=https://colab.research.google.com/notebooks/data_table.ipynb>data table notebook</a>'\n",
              "            + ' to learn more about interactive tables.';\n",
              "          element.innerHTML = '';\n",
              "          dataTable['output_type'] = 'display_data';\n",
              "          await google.colab.output.renderOutput(dataTable, element);\n",
              "          const docLink = document.createElement('div');\n",
              "          docLink.innerHTML = docLinkHtml;\n",
              "          element.appendChild(docLink);\n",
              "        }\n",
              "      </script>\n",
              "    </div>\n",
              "  </div>\n",
              "  "
            ],
            "text/plain": [
              "   A1     A2     A3  A4  A5  A6     A7  A8  A9  A10  A11  A12  A13   A14\n",
              "0   1  22.08  11.46   2   4   4  1.585   0   0    0    1    2  100  1213\n",
              "1   0  22.67   7.00   2   8   4  0.165   0   0    0    0    2  160     1\n",
              "2   0  29.58   1.75   1   4   4  1.250   0   0    0    1    2  280     1\n",
              "3   0  21.67  11.50   1   5   3  0.000   1   1   11    1    2    0     1\n",
              "4   1  20.17   8.17   2   6   4  1.960   1   1   14    0    2   60   159"
            ]
          },
          "metadata": {},
          "execution_count": 44
        }
      ]
    },
    {
      "cell_type": "markdown",
      "source": [
        "Categorical attributes:\n",
        "\n",
        "A1:\t0, 1   (a, b)\n",
        "\n",
        "A4:\t1, 2, 3  (p, g, gg)\n",
        "\n",
        "A5:  1, 2, 3, 4, 5, 6, 7, 8, 9, 10, 11, 12, 13, 14 (ff, d, i, k, j, aa, m, c, w, e, q, r, cc, x )\n",
        "\n",
        "A6:\t 1, 2, 3, 4, 5, 6, 7, 8, 9  (ff, dd, j, bb, v, n, o, h, z)\n",
        "\n",
        "A8:\t1, 0  (t, f)\n",
        "\n",
        "A9: 1, 0\t(t, f)\n",
        "\n",
        "A11: 1, 0 (t, f)\n",
        "\n",
        "A12: 1, 2, 3  (s, g, p)\n",
        "\n",
        "target: 0, 1 (+, -)  (class attribute)"
      ],
      "metadata": {
        "id": "UbybO065hZUu"
      }
    },
    {
      "cell_type": "code",
      "source": [
        "categ = ['A1','A4','A5','A6','A8','A9','A11','A12']\n",
        "df = oneHotFunc(df, categ)"
      ],
      "metadata": {
        "colab": {
          "base_uri": "https://localhost:8080/"
        },
        "outputId": "be72c1dc-d12e-4a00-cc04-e4ae012d3986",
        "id": "Sv-mHG8QhZUv"
      },
      "execution_count": null,
      "outputs": [
        {
          "output_type": "stream",
          "name": "stdout",
          "text": [
            "      A2     A3     A7  A10  A13   A14  A1_1  A1_0  A4_2  A4_1  ...  A6_7  \\\n",
            "0  22.08  11.46  1.585    0  100  1213     0     1     0     1  ...     0   \n",
            "1  22.67   7.00  0.165    0  160     1     1     0     0     1  ...     0   \n",
            "2  29.58   1.75  1.250    0  280     1     1     0     1     0  ...     0   \n",
            "3  21.67  11.50  0.000   11    0     1     1     0     1     0  ...     0   \n",
            "4  20.17   8.17  1.960   14   60   159     0     1     0     1  ...     0   \n",
            "\n",
            "   A8_0  A8_1  A9_0  A9_1  A11_1  A11_0  A12_2  A12_1  A12_3  \n",
            "0     1     0     1     0      0      1      0      1      0  \n",
            "1     1     0     1     0      1      0      0      1      0  \n",
            "2     1     0     1     0      0      1      0      1      0  \n",
            "3     0     1     0     1      0      1      0      1      0  \n",
            "4     0     1     0     1      1      0      0      1      0  \n",
            "\n",
            "[5 rows x 42 columns]\n"
          ]
        }
      ]
    },
    {
      "cell_type": "code",
      "source": [
        "df=(df- df.mean())/df.std()\n",
        "std=df.std()\n",
        "df=df.transform(lambda x:-0.5*x**2)\n",
        "df.to_numpy()\n",
        "df_new = np.cos(df)\n",
        "df_new = df_new / (math.sqrt(2*math.pi))\n",
        "df_new = df_new / std\n",
        "a=df_new.to_numpy()\n",
        "df_new['score'] = np.sum(a,axis = 1 )"
      ],
      "metadata": {
        "id": "nIHqKzGOhZUw"
      },
      "execution_count": null,
      "outputs": []
    },
    {
      "cell_type": "code",
      "source": [
        "colnames = ['A1','A2','A3','A4','A5','A6','A7','A8','A9','A10','A11','A12','A13','A14','target']\n",
        "classify_df = pd.read_csv(\"drive/MyDrive/Datasets/australian.dat\",delimiter=' ',names=colnames, header=None)\n",
        "classify_df = classify_df.drop('target', 1)\n",
        "classify_df['outlier']=0"
      ],
      "metadata": {
        "colab": {
          "base_uri": "https://localhost:8080/"
        },
        "outputId": "05197fcc-351d-419f-ac5e-9c41fc6446cb",
        "id": "tVJkgYj9hZUy"
      },
      "execution_count": null,
      "outputs": [
        {
          "output_type": "stream",
          "name": "stderr",
          "text": [
            "/usr/local/lib/python3.7/dist-packages/ipykernel_launcher.py:3: FutureWarning: In a future version of pandas all arguments of DataFrame.drop except for the argument 'labels' will be keyword-only\n",
            "  This is separate from the ipykernel package so we can avoid doing imports until\n"
          ]
        }
      ]
    },
    {
      "cell_type": "code",
      "source": [
        "colnames = ['A1','A2','A3','A4','A5','A6','A7','A8','A9','A10','A11','A12','A13','A14','target']\n",
        "original = pd.read_csv(\"drive/MyDrive/Datasets/australian.dat\",delimiter=' ',names=colnames, header=None)"
      ],
      "metadata": {
        "id": "NAih_9h1hZUz"
      },
      "execution_count": null,
      "outputs": []
    },
    {
      "cell_type": "code",
      "source": [
        "avg=np.mean(df_new['score'])\n",
        "std=np.std(df_new['score'])\n",
        "final = pd.DataFrame()\n",
        "outliers = pd.DataFrame()\n",
        "for i in range(df_new.shape[0]):\n",
        "  if df_new['score'][i] > avg + (3*std) or df_new['score'][i] < avg - (3*std):\n",
        "    outliers=outliers.append(original.iloc[i])\n",
        "    classify_df['outlier'][i]=1\n",
        "  else:\n",
        "    final=final.append(original.iloc[i])\n",
        "print(outliers.shape)"
      ],
      "metadata": {
        "colab": {
          "base_uri": "https://localhost:8080/"
        },
        "outputId": "29b73325-2392-42a6-d36f-2fd3e864aa50",
        "id": "232gEBtOhZU0"
      },
      "execution_count": null,
      "outputs": [
        {
          "output_type": "stream",
          "name": "stderr",
          "text": [
            "/usr/local/lib/python3.7/dist-packages/ipykernel_launcher.py:8: SettingWithCopyWarning: \n",
            "A value is trying to be set on a copy of a slice from a DataFrame\n",
            "\n",
            "See the caveats in the documentation: https://pandas.pydata.org/pandas-docs/stable/user_guide/indexing.html#returning-a-view-versus-a-copy\n",
            "  \n"
          ]
        },
        {
          "output_type": "stream",
          "name": "stdout",
          "text": [
            "(7, 15)\n"
          ]
        }
      ]
    },
    {
      "cell_type": "code",
      "source": [
        "print(original.shape)\n",
        "print(final.shape)"
      ],
      "metadata": {
        "colab": {
          "base_uri": "https://localhost:8080/"
        },
        "outputId": "e5f4677f-307b-4a76-d23c-08f99e7bbd34",
        "id": "KTxgwa5JhZU1"
      },
      "execution_count": null,
      "outputs": [
        {
          "output_type": "stream",
          "name": "stdout",
          "text": [
            "(690, 15)\n",
            "(683, 15)\n"
          ]
        }
      ]
    },
    {
      "cell_type": "code",
      "source": [
        "final.to_csv('drive/MyDrive/Datasets/AfterRemovingOutliers/australian.csv', index=False)"
      ],
      "metadata": {
        "id": "E9Zne6lzhZU2"
      },
      "execution_count": null,
      "outputs": []
    },
    {
      "cell_type": "code",
      "source": [
        "classify_df.to_csv('drive/MyDrive/Datasets/Outlier_Classification/australian.csv',index=False)"
      ],
      "metadata": {
        "id": "eEX1kTGShZU2"
      },
      "execution_count": null,
      "outputs": []
    },
    {
      "cell_type": "markdown",
      "source": [
        "German\n",
        "---------------"
      ],
      "metadata": {
        "id": "RabJzxULfFJn"
      }
    },
    {
      "cell_type": "code",
      "source": [
        "colnames = ['A1','A2','A3','A4','A5','A6','A7','A8','A9','A10','A11','A12','A13','A14','A15','A16','A17','A18','A19','A20','target']\n",
        "df = pd.read_csv(\"drive/MyDrive/Datasets/german.data\",delimiter=' ',names=colnames, header=None)\n",
        "df = df.drop('target', 1)\n",
        "df.head"
      ],
      "metadata": {
        "colab": {
          "base_uri": "https://localhost:8080/"
        },
        "outputId": "51afe850-a086-441d-9747-aed30c350476",
        "id": "Jf7nV88afFJp"
      },
      "execution_count": null,
      "outputs": [
        {
          "output_type": "stream",
          "name": "stderr",
          "text": [
            "/usr/local/lib/python3.7/dist-packages/ipykernel_launcher.py:3: FutureWarning: In a future version of pandas all arguments of DataFrame.drop except for the argument 'labels' will be keyword-only\n",
            "  This is separate from the ipykernel package so we can avoid doing imports until\n"
          ]
        },
        {
          "output_type": "execute_result",
          "data": {
            "text/plain": [
              "<bound method NDFrame.head of       A1  A2   A3   A4    A5   A6   A7  A8   A9   A10  A11   A12  A13   A14  \\\n",
              "0    A11   6  A34  A43  1169  A65  A75   4  A93  A101    4  A121   67  A143   \n",
              "1    A12  48  A32  A43  5951  A61  A73   2  A92  A101    2  A121   22  A143   \n",
              "2    A14  12  A34  A46  2096  A61  A74   2  A93  A101    3  A121   49  A143   \n",
              "3    A11  42  A32  A42  7882  A61  A74   2  A93  A103    4  A122   45  A143   \n",
              "4    A11  24  A33  A40  4870  A61  A73   3  A93  A101    4  A124   53  A143   \n",
              "..   ...  ..  ...  ...   ...  ...  ...  ..  ...   ...  ...   ...  ...   ...   \n",
              "995  A14  12  A32  A42  1736  A61  A74   3  A92  A101    4  A121   31  A143   \n",
              "996  A11  30  A32  A41  3857  A61  A73   4  A91  A101    4  A122   40  A143   \n",
              "997  A14  12  A32  A43   804  A61  A75   4  A93  A101    4  A123   38  A143   \n",
              "998  A11  45  A32  A43  1845  A61  A73   4  A93  A101    4  A124   23  A143   \n",
              "999  A12  45  A34  A41  4576  A62  A71   3  A93  A101    4  A123   27  A143   \n",
              "\n",
              "      A15  A16   A17  A18   A19   A20  \n",
              "0    A152    2  A173    1  A192  A201  \n",
              "1    A152    1  A173    1  A191  A201  \n",
              "2    A152    1  A172    2  A191  A201  \n",
              "3    A153    1  A173    2  A191  A201  \n",
              "4    A153    2  A173    2  A191  A201  \n",
              "..    ...  ...   ...  ...   ...   ...  \n",
              "995  A152    1  A172    1  A191  A201  \n",
              "996  A152    1  A174    1  A192  A201  \n",
              "997  A152    1  A173    1  A191  A201  \n",
              "998  A153    1  A173    1  A192  A201  \n",
              "999  A152    1  A173    1  A191  A201  \n",
              "\n",
              "[1000 rows x 20 columns]>"
            ]
          },
          "metadata": {},
          "execution_count": 110
        }
      ]
    },
    {
      "cell_type": "markdown",
      "source": [
        "Categorical attributes:\n",
        "\n",
        "A1: 0, 1, 2, 3 ('A11', 'A12', 'A14', 'A13')\n",
        "\n",
        "A3:\t0, 1, 2, 3, 4  ('A34', 'A32', 'A33', 'A30', 'A31')\n",
        "\n",
        "A4: 0, 1, 2, 3, 4, 5, 6, 7, 8, 9 ('A43', 'A46', 'A42', 'A40', 'A41', 'A49', 'A44', 'A45', 'A410',\n",
        "       'A48')\n",
        "\n",
        "A6:\t 0, 1, 2, 3, 4  ('A65', 'A61', 'A63', 'A64', 'A62')\n",
        "\n",
        "A7:\t0, 1, 2, 3, 4  ('A75', 'A73', 'A74', 'A71', 'A72')\n",
        "\n",
        "A9: 0, 1, 2, 3,\t('A93', 'A92', 'A91', 'A94')\n",
        "\n",
        "A10: 0, 1, 2 ('A101', 'A103', 'A102')\n",
        "\n",
        "A12: 0, 1, 2, 3  ('A121', 'A122', 'A124', 'A123')\n",
        "\n",
        "A14: 0, 1, 2 ('A143', 'A141', 'A142')\n",
        "\n",
        "A15: 0, 1, 2 ('A152', 'A153', 'A151')\n",
        "\n",
        "A17: 0, 1, 2, 3 ('A173', 'A172', 'A174', 'A171')\n",
        "\n",
        "A19: 0, 1 ('A192', 'A191')\n",
        "\n",
        "A20: 0, 1 ('A201', 'A202)\n",
        "\n",
        "target: 1, 2"
      ],
      "metadata": {
        "id": "wCJf4NCvfFJq"
      }
    },
    {
      "cell_type": "code",
      "source": [
        "categ=['A1','A3','A4','A6','A7','A9','A10','A12','A14','A15','A17','A19','A20']\n",
        "df = oneHotFunc(df, categ)"
      ],
      "metadata": {
        "colab": {
          "base_uri": "https://localhost:8080/"
        },
        "outputId": "7e0968c7-c1a7-4b7b-c533-f6d5d131eb69",
        "id": "TGFCTxTgfFJr"
      },
      "execution_count": null,
      "outputs": [
        {
          "output_type": "stream",
          "name": "stdout",
          "text": [
            "   A2    A5  A8  A11  A13  A16  A18  A1_A11  A1_A12  A1_A14  ...  A15_A153  \\\n",
            "0   6  1169   4    4   67    2    1       1       0       0  ...         1   \n",
            "1  48  5951   2    2   22    1    1       0       1       0  ...         1   \n",
            "2  12  2096   2    3   49    1    2       0       0       0  ...         1   \n",
            "3  42  7882   2    4   45    1    2       1       0       0  ...         0   \n",
            "4  24  4870   3    4   53    2    2       1       0       0  ...         0   \n",
            "\n",
            "   A15_A151  A17_A173  A17_A172  A17_A174  A17_A171  A19_A192  A19_A191  \\\n",
            "0         0         0         0         1         0         0         1   \n",
            "1         0         0         0         1         0         1         0   \n",
            "2         0         0         1         0         0         1         0   \n",
            "3         1         0         0         1         0         1         0   \n",
            "4         1         0         0         1         0         1         0   \n",
            "\n",
            "   A20_A201  A20_A202  \n",
            "0         1         0  \n",
            "1         1         0  \n",
            "2         1         0  \n",
            "3         1         0  \n",
            "4         1         0  \n",
            "\n",
            "[5 rows x 61 columns]\n"
          ]
        }
      ]
    },
    {
      "cell_type": "code",
      "source": [
        "df=(df- df.mean())/df.std()\n",
        "std=df.std()\n",
        "df=df.transform(lambda x:-0.5*x**2)\n",
        "df.to_numpy()\n",
        "df_new = np.cos(df)\n",
        "df_new = df_new / (math.sqrt(2*math.pi))\n",
        "df_new = df_new / std\n",
        "a=df_new.to_numpy()\n",
        "df_new['score'] = np.sum(a,axis = 1 )"
      ],
      "metadata": {
        "id": "3d6u4T6QfFJr"
      },
      "execution_count": null,
      "outputs": []
    },
    {
      "cell_type": "code",
      "source": [
        "colnames = ['A1','A2','A3','A4','A5','A6','A7','A8','A9','A10','A11','A12','A13','A14','A15','A16','A17','A18','A19','A20','target']\n",
        "classify_df = pd.read_csv(\"drive/MyDrive/Datasets/german.data\",delimiter=' ',names=colnames, header=None)\n",
        "classify_df = classify_df.drop('target', 1)\n",
        "classify_df['outlier']=0"
      ],
      "metadata": {
        "colab": {
          "base_uri": "https://localhost:8080/"
        },
        "outputId": "8734ba5e-7f47-491f-eddc-6fcce98e3caf",
        "id": "AXY8ovitfFJs"
      },
      "execution_count": null,
      "outputs": [
        {
          "output_type": "stream",
          "name": "stderr",
          "text": [
            "/usr/local/lib/python3.7/dist-packages/ipykernel_launcher.py:3: FutureWarning: In a future version of pandas all arguments of DataFrame.drop except for the argument 'labels' will be keyword-only\n",
            "  This is separate from the ipykernel package so we can avoid doing imports until\n"
          ]
        }
      ]
    },
    {
      "cell_type": "code",
      "source": [
        "colnames = ['A1','A2','A3','A4','A5','A6','A7','A8','A9','A10','A11','A12','A13','A14','A15','A16','A17','A18','A19','A20','target']\n",
        "original = pd.read_csv(\"drive/MyDrive/Datasets/german.data\",delimiter=' ',names=colnames, header=None)"
      ],
      "metadata": {
        "id": "dHi2msEcfFJt"
      },
      "execution_count": null,
      "outputs": []
    },
    {
      "cell_type": "code",
      "source": [
        "avg=np.mean(df_new['score'])\n",
        "std=np.std(df_new['score'])\n",
        "final = pd.DataFrame()\n",
        "outliers = pd.DataFrame()\n",
        "for i in range(df_new.shape[0]):\n",
        "  if df_new['score'][i] > avg + (3*std) or df_new['score'][i] < avg - (3*std):\n",
        "    outliers=outliers.append(original.iloc[i])\n",
        "    classify_df['outlier'][i]=1\n",
        "  else:\n",
        "    final=final.append(original.iloc[i])\n",
        "print(outliers.shape)"
      ],
      "metadata": {
        "colab": {
          "base_uri": "https://localhost:8080/"
        },
        "outputId": "58dbd476-2250-485d-a0d5-5e2621619915",
        "id": "GTmdEklqfFJt"
      },
      "execution_count": null,
      "outputs": [
        {
          "output_type": "stream",
          "name": "stderr",
          "text": [
            "/usr/local/lib/python3.7/dist-packages/ipykernel_launcher.py:8: SettingWithCopyWarning: \n",
            "A value is trying to be set on a copy of a slice from a DataFrame\n",
            "\n",
            "See the caveats in the documentation: https://pandas.pydata.org/pandas-docs/stable/user_guide/indexing.html#returning-a-view-versus-a-copy\n",
            "  \n"
          ]
        },
        {
          "output_type": "stream",
          "name": "stdout",
          "text": [
            "(7, 21)\n"
          ]
        }
      ]
    },
    {
      "cell_type": "code",
      "source": [
        "print(original.shape)\n",
        "print(final.shape)"
      ],
      "metadata": {
        "colab": {
          "base_uri": "https://localhost:8080/"
        },
        "outputId": "a26dcc5d-bdef-4cfe-973f-299b9b08e63e",
        "id": "IXfw0GLufFJu"
      },
      "execution_count": null,
      "outputs": [
        {
          "output_type": "stream",
          "name": "stdout",
          "text": [
            "(1000, 21)\n",
            "(993, 21)\n"
          ]
        }
      ]
    },
    {
      "cell_type": "code",
      "source": [
        "final.to_csv('drive/MyDrive/Datasets/AfterRemovingOutliers/german.csv', index=False)"
      ],
      "metadata": {
        "id": "dDcjAvvhfFJv"
      },
      "execution_count": null,
      "outputs": []
    },
    {
      "cell_type": "code",
      "source": [
        "classify_df.to_csv('drive/MyDrive/Datasets/Outlier_Classification/german.csv',index=False)"
      ],
      "metadata": {
        "id": "XLBKSrpQfFJv"
      },
      "execution_count": null,
      "outputs": []
    },
    {
      "cell_type": "markdown",
      "source": [
        "Heart\n",
        "---------------"
      ],
      "metadata": {
        "id": "hNqpbxTbgsGj"
      }
    },
    {
      "cell_type": "code",
      "source": [
        "df=pd.read_csv(\"drive/MyDrive/Datasets/heart.csv\")\n",
        "df = df.drop('target', 1)\n",
        "df.shape"
      ],
      "metadata": {
        "colab": {
          "base_uri": "https://localhost:8080/"
        },
        "id": "5GIWdYdggrL7",
        "outputId": "9c93b1f1-0900-40d9-9873-04c4907303ba"
      },
      "execution_count": null,
      "outputs": [
        {
          "output_type": "stream",
          "name": "stderr",
          "text": [
            "/usr/local/lib/python3.7/dist-packages/ipykernel_launcher.py:2: FutureWarning: In a future version of pandas all arguments of DataFrame.drop except for the argument 'labels' will be keyword-only\n",
            "  \n"
          ]
        },
        {
          "output_type": "execute_result",
          "data": {
            "text/plain": [
              "(303, 13)"
            ]
          },
          "metadata": {},
          "execution_count": 62
        }
      ]
    },
    {
      "cell_type": "markdown",
      "source": [
        "Unique values for categorical variables\n",
        "\n",
        "sex: [1, 0]\n",
        "\n",
        "cp: [3, 2, 1, 0]\n",
        "\n",
        "fbs: [1, 0]\n",
        "\n",
        "restecg: [0, 1, 2]\n",
        "\n",
        "exang: [0, 1]\n",
        "\n",
        "slope: [0, 2, 1]\n",
        "\n",
        "ca: [0, 2, 1, 3, 4]\n",
        "\n",
        "thal: [1, 2, 3, 0]\n",
        "\n"
      ],
      "metadata": {
        "id": "ZMYn26XlkN3x"
      }
    },
    {
      "cell_type": "code",
      "source": [
        "categ = ['sex','cp','fbs','restecg','exang','slope','ca','thal']\n",
        "df = oneHotFunc(df,categ)"
      ],
      "metadata": {
        "colab": {
          "base_uri": "https://localhost:8080/"
        },
        "id": "f_S8dkhbnRyx",
        "outputId": "ff3ac9d2-b631-4638-dea0-3e67eb0c1083"
      },
      "execution_count": null,
      "outputs": [
        {
          "output_type": "stream",
          "name": "stdout",
          "text": [
            "   age  trestbps  chol  thalach  oldpeak  sex_1  sex_0  cp_3  cp_2  cp_1  ...  \\\n",
            "0   63       145   233      150      2.3      0      1     0     0     0  ...   \n",
            "1   37       130   250      187      3.5      0      1     0     0     1  ...   \n",
            "2   41       130   204      172      1.4      1      0     0     1     0  ...   \n",
            "3   56       120   236      178      0.8      0      1     0     1     0  ...   \n",
            "4   57       120   354      163      0.6      1      0     1     0     0  ...   \n",
            "\n",
            "   slope_1  ca_0  ca_2  ca_1  ca_3  ca_4  thal_1  thal_2  thal_3  thal_0  \n",
            "0        0     1     0     0     0     0       0       1       0       0  \n",
            "1        0     1     0     0     0     0       0       0       1       0  \n",
            "2        1     1     0     0     0     0       0       0       1       0  \n",
            "3        1     1     0     0     0     0       0       0       1       0  \n",
            "4        1     1     0     0     0     0       0       0       1       0  \n",
            "\n",
            "[5 rows x 30 columns]\n"
          ]
        }
      ]
    },
    {
      "cell_type": "code",
      "source": [
        "df=(df- df.mean())/df.std()\n",
        "std=df.std()\n",
        "df=df.transform(lambda x:-0.5*x**2)\n",
        "df.to_numpy()\n",
        "df_new = np.cos(df)\n",
        "df_new = df_new / (math.sqrt(2*math.pi))\n",
        "df_new = df_new / std\n",
        "a=df_new.to_numpy()\n",
        "df_new['score'] = np.sum(a,axis = 1 )"
      ],
      "metadata": {
        "id": "LkWlqBVSz2Os"
      },
      "execution_count": null,
      "outputs": []
    },
    {
      "cell_type": "code",
      "source": [
        "classify_df= pd.read_csv('drive/MyDrive/Datasets/heart.csv')\n",
        "classify_df = classify_df.drop('target', 1)\n",
        "classify_df['outlier']=0"
      ],
      "metadata": {
        "colab": {
          "base_uri": "https://localhost:8080/"
        },
        "id": "xDhjxr0z0G6E",
        "outputId": "c5d3a2fd-7a72-424f-b9f0-2d24df7557ff"
      },
      "execution_count": null,
      "outputs": [
        {
          "output_type": "stream",
          "name": "stderr",
          "text": [
            "/usr/local/lib/python3.7/dist-packages/ipykernel_launcher.py:2: FutureWarning: In a future version of pandas all arguments of DataFrame.drop except for the argument 'labels' will be keyword-only\n",
            "  \n"
          ]
        }
      ]
    },
    {
      "cell_type": "code",
      "source": [
        "original = pd.read_csv('drive/MyDrive/Datasets/heart.csv')"
      ],
      "metadata": {
        "id": "N-1oPIfBxjsE"
      },
      "execution_count": null,
      "outputs": []
    },
    {
      "cell_type": "code",
      "source": [
        "avg=np.mean(df_new['score'])\n",
        "std=np.std(df_new['score'])\n",
        "final = pd.DataFrame()\n",
        "outliers = pd.DataFrame()\n",
        "for i in range(df_new.shape[0]):\n",
        "  if df_new['score'][i] > avg + (3*std) or df_new['score'][i] < avg - (3*std):\n",
        "    outliers=outliers.append(original.iloc[i])\n",
        "    classify_df['outlier'][i]=1\n",
        "  else:\n",
        "    final=final.append(original.iloc[i])\n",
        "print(outliers.shape)"
      ],
      "metadata": {
        "colab": {
          "base_uri": "https://localhost:8080/"
        },
        "id": "IBymGlwO0a62",
        "outputId": "3c4d8fad-5ca8-427a-eba3-139eaceb1a59"
      },
      "execution_count": null,
      "outputs": [
        {
          "output_type": "stream",
          "name": "stdout",
          "text": [
            "(4, 14)\n"
          ]
        },
        {
          "output_type": "stream",
          "name": "stderr",
          "text": [
            "/usr/local/lib/python3.7/dist-packages/ipykernel_launcher.py:8: SettingWithCopyWarning: \n",
            "A value is trying to be set on a copy of a slice from a DataFrame\n",
            "\n",
            "See the caveats in the documentation: https://pandas.pydata.org/pandas-docs/stable/user_guide/indexing.html#returning-a-view-versus-a-copy\n",
            "  \n"
          ]
        }
      ]
    },
    {
      "cell_type": "code",
      "source": [
        "print(original.shape)\n",
        "print(final.shape)"
      ],
      "metadata": {
        "colab": {
          "base_uri": "https://localhost:8080/"
        },
        "id": "PC3c2cXKxudF",
        "outputId": "436cd0c1-3287-4da4-80f0-c356af7d5768"
      },
      "execution_count": null,
      "outputs": [
        {
          "output_type": "stream",
          "name": "stdout",
          "text": [
            "(303, 14)\n",
            "(299, 14)\n"
          ]
        }
      ]
    },
    {
      "cell_type": "code",
      "source": [
        "final.to_csv('drive/MyDrive/Datasets/AfterRemovingOutliers/heart.csv', index=False)"
      ],
      "metadata": {
        "id": "TqP9pPSTxzsx"
      },
      "execution_count": null,
      "outputs": []
    },
    {
      "cell_type": "code",
      "source": [
        "classify_df.to_csv('drive/MyDrive/Datasets/Outlier_Classification/heart.csv',index=False)"
      ],
      "metadata": {
        "id": "QMwp8MvF0fpo"
      },
      "execution_count": null,
      "outputs": []
    },
    {
      "cell_type": "markdown",
      "source": [
        "Classification Problem\n",
        "--------------------------------\n",
        "Given sample Outlier or not"
      ],
      "metadata": {
        "id": "UkdxBL6x5BGe"
      }
    },
    {
      "cell_type": "markdown",
      "source": [
        "Cylinder Bands\n",
        "--------------"
      ],
      "metadata": {
        "id": "_z9vrUj2qiz2"
      }
    },
    {
      "cell_type": "code",
      "source": [
        "df=pd.read_csv(\"drive/MyDrive/Modified_Datasets/Outlier_Classification/band.csv\")\n",
        "df.head()"
      ],
      "metadata": {
        "colab": {
          "base_uri": "https://localhost:8080/",
          "height": 300
        },
        "outputId": "e4aace66-ef82-4c2f-cea1-879612f889bd",
        "id": "LSgbkFxTqiz5"
      },
      "execution_count": null,
      "outputs": [
        {
          "output_type": "execute_result",
          "data": {
            "text/html": [
              "\n",
              "  <div id=\"df-c3bb7174-d664-4e13-9577-40923d6a7421\">\n",
              "    <div class=\"colab-df-container\">\n",
              "      <div>\n",
              "<style scoped>\n",
              "    .dataframe tbody tr th:only-of-type {\n",
              "        vertical-align: middle;\n",
              "    }\n",
              "\n",
              "    .dataframe tbody tr th {\n",
              "        vertical-align: top;\n",
              "    }\n",
              "\n",
              "    .dataframe thead th {\n",
              "        text-align: right;\n",
              "    }\n",
              "</style>\n",
              "<table border=\"1\" class=\"dataframe\">\n",
              "  <thead>\n",
              "    <tr style=\"text-align: right;\">\n",
              "      <th></th>\n",
              "      <th>timestamp</th>\n",
              "      <th>cylinder_number</th>\n",
              "      <th>customer</th>\n",
              "      <th>job_number</th>\n",
              "      <th>grain_screened</th>\n",
              "      <th>ink_color</th>\n",
              "      <th>proof_on_ctd_ink</th>\n",
              "      <th>blade_mfg</th>\n",
              "      <th>cylinder_division</th>\n",
              "      <th>paper_type</th>\n",
              "      <th>...</th>\n",
              "      <th>solvent_pct</th>\n",
              "      <th>ESA_Voltage</th>\n",
              "      <th>ESA_Amperage</th>\n",
              "      <th>wax</th>\n",
              "      <th>hardener</th>\n",
              "      <th>roller_durometer</th>\n",
              "      <th>current_density</th>\n",
              "      <th>anode_space_ratio</th>\n",
              "      <th>chrome_content</th>\n",
              "      <th>outlier</th>\n",
              "    </tr>\n",
              "  </thead>\n",
              "  <tbody>\n",
              "    <tr>\n",
              "      <th>0</th>\n",
              "      <td>19910108</td>\n",
              "      <td>X126</td>\n",
              "      <td>TVGUIDE</td>\n",
              "      <td>25503</td>\n",
              "      <td>YES</td>\n",
              "      <td>KEY</td>\n",
              "      <td>YES</td>\n",
              "      <td>BENTON</td>\n",
              "      <td>GALLATIN</td>\n",
              "      <td>UNCOATED</td>\n",
              "      <td>...</td>\n",
              "      <td>36.4</td>\n",
              "      <td>0</td>\n",
              "      <td>0</td>\n",
              "      <td>2.5</td>\n",
              "      <td>1</td>\n",
              "      <td>34</td>\n",
              "      <td>40</td>\n",
              "      <td>105</td>\n",
              "      <td>100</td>\n",
              "      <td>0</td>\n",
              "    </tr>\n",
              "    <tr>\n",
              "      <th>1</th>\n",
              "      <td>19910109</td>\n",
              "      <td>X266</td>\n",
              "      <td>TVGUIDE</td>\n",
              "      <td>25503</td>\n",
              "      <td>YES</td>\n",
              "      <td>KEY</td>\n",
              "      <td>YES</td>\n",
              "      <td>BENTON</td>\n",
              "      <td>GALLATIN</td>\n",
              "      <td>UNCOATED</td>\n",
              "      <td>...</td>\n",
              "      <td>38.5</td>\n",
              "      <td>0</td>\n",
              "      <td>0</td>\n",
              "      <td>2.5</td>\n",
              "      <td>0.7</td>\n",
              "      <td>34</td>\n",
              "      <td>40</td>\n",
              "      <td>105</td>\n",
              "      <td>100</td>\n",
              "      <td>0</td>\n",
              "    </tr>\n",
              "    <tr>\n",
              "      <th>2</th>\n",
              "      <td>19910104</td>\n",
              "      <td>B7</td>\n",
              "      <td>MODMAT</td>\n",
              "      <td>47201</td>\n",
              "      <td>YES</td>\n",
              "      <td>KEY</td>\n",
              "      <td>YES</td>\n",
              "      <td>BENTON</td>\n",
              "      <td>GALLATIN</td>\n",
              "      <td>UNCOATED</td>\n",
              "      <td>...</td>\n",
              "      <td>39.8</td>\n",
              "      <td>0</td>\n",
              "      <td>0</td>\n",
              "      <td>2.8</td>\n",
              "      <td>0.9</td>\n",
              "      <td>40</td>\n",
              "      <td>40</td>\n",
              "      <td>103.87</td>\n",
              "      <td>100</td>\n",
              "      <td>0</td>\n",
              "    </tr>\n",
              "    <tr>\n",
              "      <th>3</th>\n",
              "      <td>19910104</td>\n",
              "      <td>T133</td>\n",
              "      <td>MASSEY</td>\n",
              "      <td>39039</td>\n",
              "      <td>YES</td>\n",
              "      <td>KEY</td>\n",
              "      <td>YES</td>\n",
              "      <td>BENTON</td>\n",
              "      <td>GALLATIN</td>\n",
              "      <td>UNCOATED</td>\n",
              "      <td>...</td>\n",
              "      <td>38.8</td>\n",
              "      <td>0</td>\n",
              "      <td>0</td>\n",
              "      <td>2.5</td>\n",
              "      <td>1.3</td>\n",
              "      <td>40</td>\n",
              "      <td>40</td>\n",
              "      <td>108.06</td>\n",
              "      <td>100</td>\n",
              "      <td>0</td>\n",
              "    </tr>\n",
              "    <tr>\n",
              "      <th>4</th>\n",
              "      <td>19910111</td>\n",
              "      <td>J34</td>\n",
              "      <td>KMART</td>\n",
              "      <td>37351</td>\n",
              "      <td>NO</td>\n",
              "      <td>KEY</td>\n",
              "      <td>YES</td>\n",
              "      <td>BENTON</td>\n",
              "      <td>GALLATIN</td>\n",
              "      <td>UNCOATED</td>\n",
              "      <td>...</td>\n",
              "      <td>42.5</td>\n",
              "      <td>5</td>\n",
              "      <td>0</td>\n",
              "      <td>2.3</td>\n",
              "      <td>0.6</td>\n",
              "      <td>35</td>\n",
              "      <td>40</td>\n",
              "      <td>106.67</td>\n",
              "      <td>100</td>\n",
              "      <td>0</td>\n",
              "    </tr>\n",
              "  </tbody>\n",
              "</table>\n",
              "<p>5 rows × 40 columns</p>\n",
              "</div>\n",
              "      <button class=\"colab-df-convert\" onclick=\"convertToInteractive('df-c3bb7174-d664-4e13-9577-40923d6a7421')\"\n",
              "              title=\"Convert this dataframe to an interactive table.\"\n",
              "              style=\"display:none;\">\n",
              "        \n",
              "  <svg xmlns=\"http://www.w3.org/2000/svg\" height=\"24px\"viewBox=\"0 0 24 24\"\n",
              "       width=\"24px\">\n",
              "    <path d=\"M0 0h24v24H0V0z\" fill=\"none\"/>\n",
              "    <path d=\"M18.56 5.44l.94 2.06.94-2.06 2.06-.94-2.06-.94-.94-2.06-.94 2.06-2.06.94zm-11 1L8.5 8.5l.94-2.06 2.06-.94-2.06-.94L8.5 2.5l-.94 2.06-2.06.94zm10 10l.94 2.06.94-2.06 2.06-.94-2.06-.94-.94-2.06-.94 2.06-2.06.94z\"/><path d=\"M17.41 7.96l-1.37-1.37c-.4-.4-.92-.59-1.43-.59-.52 0-1.04.2-1.43.59L10.3 9.45l-7.72 7.72c-.78.78-.78 2.05 0 2.83L4 21.41c.39.39.9.59 1.41.59.51 0 1.02-.2 1.41-.59l7.78-7.78 2.81-2.81c.8-.78.8-2.07 0-2.86zM5.41 20L4 18.59l7.72-7.72 1.47 1.35L5.41 20z\"/>\n",
              "  </svg>\n",
              "      </button>\n",
              "      \n",
              "  <style>\n",
              "    .colab-df-container {\n",
              "      display:flex;\n",
              "      flex-wrap:wrap;\n",
              "      gap: 12px;\n",
              "    }\n",
              "\n",
              "    .colab-df-convert {\n",
              "      background-color: #E8F0FE;\n",
              "      border: none;\n",
              "      border-radius: 50%;\n",
              "      cursor: pointer;\n",
              "      display: none;\n",
              "      fill: #1967D2;\n",
              "      height: 32px;\n",
              "      padding: 0 0 0 0;\n",
              "      width: 32px;\n",
              "    }\n",
              "\n",
              "    .colab-df-convert:hover {\n",
              "      background-color: #E2EBFA;\n",
              "      box-shadow: 0px 1px 2px rgba(60, 64, 67, 0.3), 0px 1px 3px 1px rgba(60, 64, 67, 0.15);\n",
              "      fill: #174EA6;\n",
              "    }\n",
              "\n",
              "    [theme=dark] .colab-df-convert {\n",
              "      background-color: #3B4455;\n",
              "      fill: #D2E3FC;\n",
              "    }\n",
              "\n",
              "    [theme=dark] .colab-df-convert:hover {\n",
              "      background-color: #434B5C;\n",
              "      box-shadow: 0px 1px 3px 1px rgba(0, 0, 0, 0.15);\n",
              "      filter: drop-shadow(0px 1px 2px rgba(0, 0, 0, 0.3));\n",
              "      fill: #FFFFFF;\n",
              "    }\n",
              "  </style>\n",
              "\n",
              "      <script>\n",
              "        const buttonEl =\n",
              "          document.querySelector('#df-c3bb7174-d664-4e13-9577-40923d6a7421 button.colab-df-convert');\n",
              "        buttonEl.style.display =\n",
              "          google.colab.kernel.accessAllowed ? 'block' : 'none';\n",
              "\n",
              "        async function convertToInteractive(key) {\n",
              "          const element = document.querySelector('#df-c3bb7174-d664-4e13-9577-40923d6a7421');\n",
              "          const dataTable =\n",
              "            await google.colab.kernel.invokeFunction('convertToInteractive',\n",
              "                                                     [key], {});\n",
              "          if (!dataTable) return;\n",
              "\n",
              "          const docLinkHtml = 'Like what you see? Visit the ' +\n",
              "            '<a target=\"_blank\" href=https://colab.research.google.com/notebooks/data_table.ipynb>data table notebook</a>'\n",
              "            + ' to learn more about interactive tables.';\n",
              "          element.innerHTML = '';\n",
              "          dataTable['output_type'] = 'display_data';\n",
              "          await google.colab.output.renderOutput(dataTable, element);\n",
              "          const docLink = document.createElement('div');\n",
              "          docLink.innerHTML = docLinkHtml;\n",
              "          element.appendChild(docLink);\n",
              "        }\n",
              "      </script>\n",
              "    </div>\n",
              "  </div>\n",
              "  "
            ],
            "text/plain": [
              "   timestamp cylinder_number customer  job_number grain_screened ink_color  \\\n",
              "0   19910108            X126  TVGUIDE       25503            YES       KEY   \n",
              "1   19910109            X266  TVGUIDE       25503            YES       KEY   \n",
              "2   19910104              B7   MODMAT       47201            YES       KEY   \n",
              "3   19910104            T133   MASSEY       39039            YES       KEY   \n",
              "4   19910111             J34    KMART       37351             NO       KEY   \n",
              "\n",
              "  proof_on_ctd_ink blade_mfg cylinder_division paper_type  ... solvent_pct  \\\n",
              "0              YES    BENTON          GALLATIN   UNCOATED  ...        36.4   \n",
              "1              YES    BENTON          GALLATIN   UNCOATED  ...        38.5   \n",
              "2              YES    BENTON          GALLATIN   UNCOATED  ...        39.8   \n",
              "3              YES    BENTON          GALLATIN   UNCOATED  ...        38.8   \n",
              "4              YES    BENTON          GALLATIN   UNCOATED  ...        42.5   \n",
              "\n",
              "  ESA_Voltage ESA_Amperage  wax hardener  roller_durometer  current_density  \\\n",
              "0           0            0  2.5        1                34               40   \n",
              "1           0            0  2.5      0.7                34               40   \n",
              "2           0            0  2.8      0.9                40               40   \n",
              "3           0            0  2.5      1.3                40               40   \n",
              "4           5            0  2.3      0.6                35               40   \n",
              "\n",
              "  anode_space_ratio chrome_content outlier  \n",
              "0               105            100       0  \n",
              "1               105            100       0  \n",
              "2            103.87            100       0  \n",
              "3            108.06            100       0  \n",
              "4            106.67            100       0  \n",
              "\n",
              "[5 rows x 40 columns]"
            ]
          },
          "metadata": {},
          "execution_count": 7
        }
      ]
    },
    {
      "cell_type": "code",
      "source": [
        "str_ar = ['cylinder_number', 'customer', 'job_number', 'ink_color', 'cylinder_division', 'paper_type', 'ink_type',\n",
        "          'press_type', 'press', 'unit_number']\n",
        "df = MapFunc(df, str_ar)\n",
        "df = df.drop('timestamp',1)\n",
        "df.head()"
      ],
      "metadata": {
        "id": "wg9C5GBnqiz7",
        "colab": {
          "base_uri": "https://localhost:8080/",
          "height": 334
        },
        "outputId": "6d15188a-adc6-49b8-80b8-850202427ba6"
      },
      "execution_count": null,
      "outputs": [
        {
          "output_type": "stream",
          "name": "stderr",
          "text": [
            "/usr/local/lib/python3.7/dist-packages/ipykernel_launcher.py:4: FutureWarning: In a future version of pandas all arguments of DataFrame.drop except for the argument 'labels' will be keyword-only\n",
            "  after removing the cwd from sys.path.\n"
          ]
        },
        {
          "output_type": "execute_result",
          "data": {
            "text/html": [
              "\n",
              "  <div id=\"df-4252d63f-04cc-4c22-9ffe-baaa3d37e8dc\">\n",
              "    <div class=\"colab-df-container\">\n",
              "      <div>\n",
              "<style scoped>\n",
              "    .dataframe tbody tr th:only-of-type {\n",
              "        vertical-align: middle;\n",
              "    }\n",
              "\n",
              "    .dataframe tbody tr th {\n",
              "        vertical-align: top;\n",
              "    }\n",
              "\n",
              "    .dataframe thead th {\n",
              "        text-align: right;\n",
              "    }\n",
              "</style>\n",
              "<table border=\"1\" class=\"dataframe\">\n",
              "  <thead>\n",
              "    <tr style=\"text-align: right;\">\n",
              "      <th></th>\n",
              "      <th>cylinder_number</th>\n",
              "      <th>customer</th>\n",
              "      <th>job_number</th>\n",
              "      <th>grain_screened</th>\n",
              "      <th>ink_color</th>\n",
              "      <th>proof_on_ctd_ink</th>\n",
              "      <th>blade_mfg</th>\n",
              "      <th>cylinder_division</th>\n",
              "      <th>paper_type</th>\n",
              "      <th>ink_type</th>\n",
              "      <th>...</th>\n",
              "      <th>solvent_pct</th>\n",
              "      <th>ESA_Voltage</th>\n",
              "      <th>ESA_Amperage</th>\n",
              "      <th>wax</th>\n",
              "      <th>hardener</th>\n",
              "      <th>roller_durometer</th>\n",
              "      <th>current_density</th>\n",
              "      <th>anode_space_ratio</th>\n",
              "      <th>chrome_content</th>\n",
              "      <th>outlier</th>\n",
              "    </tr>\n",
              "  </thead>\n",
              "  <tbody>\n",
              "    <tr>\n",
              "      <th>0</th>\n",
              "      <td>0</td>\n",
              "      <td>0</td>\n",
              "      <td>0</td>\n",
              "      <td>YES</td>\n",
              "      <td>0</td>\n",
              "      <td>YES</td>\n",
              "      <td>BENTON</td>\n",
              "      <td>0</td>\n",
              "      <td>0</td>\n",
              "      <td>0</td>\n",
              "      <td>...</td>\n",
              "      <td>36.4</td>\n",
              "      <td>0</td>\n",
              "      <td>0</td>\n",
              "      <td>2.5</td>\n",
              "      <td>1</td>\n",
              "      <td>34</td>\n",
              "      <td>40</td>\n",
              "      <td>105</td>\n",
              "      <td>100</td>\n",
              "      <td>0</td>\n",
              "    </tr>\n",
              "    <tr>\n",
              "      <th>1</th>\n",
              "      <td>1</td>\n",
              "      <td>0</td>\n",
              "      <td>0</td>\n",
              "      <td>YES</td>\n",
              "      <td>0</td>\n",
              "      <td>YES</td>\n",
              "      <td>BENTON</td>\n",
              "      <td>0</td>\n",
              "      <td>0</td>\n",
              "      <td>0</td>\n",
              "      <td>...</td>\n",
              "      <td>38.5</td>\n",
              "      <td>0</td>\n",
              "      <td>0</td>\n",
              "      <td>2.5</td>\n",
              "      <td>0.7</td>\n",
              "      <td>34</td>\n",
              "      <td>40</td>\n",
              "      <td>105</td>\n",
              "      <td>100</td>\n",
              "      <td>0</td>\n",
              "    </tr>\n",
              "    <tr>\n",
              "      <th>2</th>\n",
              "      <td>2</td>\n",
              "      <td>1</td>\n",
              "      <td>1</td>\n",
              "      <td>YES</td>\n",
              "      <td>0</td>\n",
              "      <td>YES</td>\n",
              "      <td>BENTON</td>\n",
              "      <td>0</td>\n",
              "      <td>0</td>\n",
              "      <td>1</td>\n",
              "      <td>...</td>\n",
              "      <td>39.8</td>\n",
              "      <td>0</td>\n",
              "      <td>0</td>\n",
              "      <td>2.8</td>\n",
              "      <td>0.9</td>\n",
              "      <td>40</td>\n",
              "      <td>40</td>\n",
              "      <td>103.87</td>\n",
              "      <td>100</td>\n",
              "      <td>0</td>\n",
              "    </tr>\n",
              "    <tr>\n",
              "      <th>3</th>\n",
              "      <td>3</td>\n",
              "      <td>2</td>\n",
              "      <td>2</td>\n",
              "      <td>YES</td>\n",
              "      <td>0</td>\n",
              "      <td>YES</td>\n",
              "      <td>BENTON</td>\n",
              "      <td>0</td>\n",
              "      <td>0</td>\n",
              "      <td>0</td>\n",
              "      <td>...</td>\n",
              "      <td>38.8</td>\n",
              "      <td>0</td>\n",
              "      <td>0</td>\n",
              "      <td>2.5</td>\n",
              "      <td>1.3</td>\n",
              "      <td>40</td>\n",
              "      <td>40</td>\n",
              "      <td>108.06</td>\n",
              "      <td>100</td>\n",
              "      <td>0</td>\n",
              "    </tr>\n",
              "    <tr>\n",
              "      <th>4</th>\n",
              "      <td>4</td>\n",
              "      <td>3</td>\n",
              "      <td>3</td>\n",
              "      <td>NO</td>\n",
              "      <td>0</td>\n",
              "      <td>YES</td>\n",
              "      <td>BENTON</td>\n",
              "      <td>0</td>\n",
              "      <td>0</td>\n",
              "      <td>1</td>\n",
              "      <td>...</td>\n",
              "      <td>42.5</td>\n",
              "      <td>5</td>\n",
              "      <td>0</td>\n",
              "      <td>2.3</td>\n",
              "      <td>0.6</td>\n",
              "      <td>35</td>\n",
              "      <td>40</td>\n",
              "      <td>106.67</td>\n",
              "      <td>100</td>\n",
              "      <td>0</td>\n",
              "    </tr>\n",
              "  </tbody>\n",
              "</table>\n",
              "<p>5 rows × 39 columns</p>\n",
              "</div>\n",
              "      <button class=\"colab-df-convert\" onclick=\"convertToInteractive('df-4252d63f-04cc-4c22-9ffe-baaa3d37e8dc')\"\n",
              "              title=\"Convert this dataframe to an interactive table.\"\n",
              "              style=\"display:none;\">\n",
              "        \n",
              "  <svg xmlns=\"http://www.w3.org/2000/svg\" height=\"24px\"viewBox=\"0 0 24 24\"\n",
              "       width=\"24px\">\n",
              "    <path d=\"M0 0h24v24H0V0z\" fill=\"none\"/>\n",
              "    <path d=\"M18.56 5.44l.94 2.06.94-2.06 2.06-.94-2.06-.94-.94-2.06-.94 2.06-2.06.94zm-11 1L8.5 8.5l.94-2.06 2.06-.94-2.06-.94L8.5 2.5l-.94 2.06-2.06.94zm10 10l.94 2.06.94-2.06 2.06-.94-2.06-.94-.94-2.06-.94 2.06-2.06.94z\"/><path d=\"M17.41 7.96l-1.37-1.37c-.4-.4-.92-.59-1.43-.59-.52 0-1.04.2-1.43.59L10.3 9.45l-7.72 7.72c-.78.78-.78 2.05 0 2.83L4 21.41c.39.39.9.59 1.41.59.51 0 1.02-.2 1.41-.59l7.78-7.78 2.81-2.81c.8-.78.8-2.07 0-2.86zM5.41 20L4 18.59l7.72-7.72 1.47 1.35L5.41 20z\"/>\n",
              "  </svg>\n",
              "      </button>\n",
              "      \n",
              "  <style>\n",
              "    .colab-df-container {\n",
              "      display:flex;\n",
              "      flex-wrap:wrap;\n",
              "      gap: 12px;\n",
              "    }\n",
              "\n",
              "    .colab-df-convert {\n",
              "      background-color: #E8F0FE;\n",
              "      border: none;\n",
              "      border-radius: 50%;\n",
              "      cursor: pointer;\n",
              "      display: none;\n",
              "      fill: #1967D2;\n",
              "      height: 32px;\n",
              "      padding: 0 0 0 0;\n",
              "      width: 32px;\n",
              "    }\n",
              "\n",
              "    .colab-df-convert:hover {\n",
              "      background-color: #E2EBFA;\n",
              "      box-shadow: 0px 1px 2px rgba(60, 64, 67, 0.3), 0px 1px 3px 1px rgba(60, 64, 67, 0.15);\n",
              "      fill: #174EA6;\n",
              "    }\n",
              "\n",
              "    [theme=dark] .colab-df-convert {\n",
              "      background-color: #3B4455;\n",
              "      fill: #D2E3FC;\n",
              "    }\n",
              "\n",
              "    [theme=dark] .colab-df-convert:hover {\n",
              "      background-color: #434B5C;\n",
              "      box-shadow: 0px 1px 3px 1px rgba(0, 0, 0, 0.15);\n",
              "      filter: drop-shadow(0px 1px 2px rgba(0, 0, 0, 0.3));\n",
              "      fill: #FFFFFF;\n",
              "    }\n",
              "  </style>\n",
              "\n",
              "      <script>\n",
              "        const buttonEl =\n",
              "          document.querySelector('#df-4252d63f-04cc-4c22-9ffe-baaa3d37e8dc button.colab-df-convert');\n",
              "        buttonEl.style.display =\n",
              "          google.colab.kernel.accessAllowed ? 'block' : 'none';\n",
              "\n",
              "        async function convertToInteractive(key) {\n",
              "          const element = document.querySelector('#df-4252d63f-04cc-4c22-9ffe-baaa3d37e8dc');\n",
              "          const dataTable =\n",
              "            await google.colab.kernel.invokeFunction('convertToInteractive',\n",
              "                                                     [key], {});\n",
              "          if (!dataTable) return;\n",
              "\n",
              "          const docLinkHtml = 'Like what you see? Visit the ' +\n",
              "            '<a target=\"_blank\" href=https://colab.research.google.com/notebooks/data_table.ipynb>data table notebook</a>'\n",
              "            + ' to learn more about interactive tables.';\n",
              "          element.innerHTML = '';\n",
              "          dataTable['output_type'] = 'display_data';\n",
              "          await google.colab.output.renderOutput(dataTable, element);\n",
              "          const docLink = document.createElement('div');\n",
              "          docLink.innerHTML = docLinkHtml;\n",
              "          element.appendChild(docLink);\n",
              "        }\n",
              "      </script>\n",
              "    </div>\n",
              "  </div>\n",
              "  "
            ],
            "text/plain": [
              "   cylinder_number  customer  job_number grain_screened  ink_color  \\\n",
              "0                0         0           0            YES          0   \n",
              "1                1         0           0            YES          0   \n",
              "2                2         1           1            YES          0   \n",
              "3                3         2           2            YES          0   \n",
              "4                4         3           3             NO          0   \n",
              "\n",
              "  proof_on_ctd_ink blade_mfg  cylinder_division  paper_type  ink_type  ...  \\\n",
              "0              YES    BENTON                  0           0         0  ...   \n",
              "1              YES    BENTON                  0           0         0  ...   \n",
              "2              YES    BENTON                  0           0         1  ...   \n",
              "3              YES    BENTON                  0           0         0  ...   \n",
              "4              YES    BENTON                  0           0         1  ...   \n",
              "\n",
              "  solvent_pct ESA_Voltage ESA_Amperage  wax  hardener  roller_durometer  \\\n",
              "0        36.4           0            0  2.5         1                34   \n",
              "1        38.5           0            0  2.5       0.7                34   \n",
              "2        39.8           0            0  2.8       0.9                40   \n",
              "3        38.8           0            0  2.5       1.3                40   \n",
              "4        42.5           5            0  2.3       0.6                35   \n",
              "\n",
              "  current_density anode_space_ratio chrome_content outlier  \n",
              "0              40               105            100       0  \n",
              "1              40               105            100       0  \n",
              "2              40            103.87            100       0  \n",
              "3              40            108.06            100       0  \n",
              "4              40            106.67            100       0  \n",
              "\n",
              "[5 rows x 39 columns]"
            ]
          },
          "metadata": {},
          "execution_count": 8
        }
      ]
    },
    {
      "cell_type": "code",
      "source": [
        "str_ar = ['grain_screened', 'proof_on_ctd_ink', 'blade_mfg', 'direct_steam', 'solvent_type',\n",
        "'type_on_cylinder', 'cylinder_size', 'paper_mill_location', 'plating_tank']\n",
        "for i in range(len(str_ar)):\n",
        "    uni = list(df[str_ar[i]].unique())\n",
        "    uni.remove('?')\n",
        "    mylist = range(0,len(uni))\n",
        "    d = dict(zip(uni,mylist))\n",
        "    d['?'] = np.nan\n",
        "    print(d)\n",
        "    print('-------------------------')\n",
        "    df[str_ar[i]] = [d[item] for item in df[str_ar[i]]]\n",
        "    df[str_ar[i]] = df[str_ar[i]].replace('?',np.nan)\n",
        "for i in range(len(df.columns)):\n",
        "  df[df.columns[i]] = df[df.columns[i]].replace('?',np.nan)\n",
        "\n",
        "df.head()"
      ],
      "metadata": {
        "colab": {
          "base_uri": "https://localhost:8080/",
          "height": 612
        },
        "id": "j8UcsFTMRWEN",
        "outputId": "dced86da-d8f4-4625-9114-4c62085c4087"
      },
      "execution_count": null,
      "outputs": [
        {
          "output_type": "stream",
          "name": "stdout",
          "text": [
            "{'YES': 0, 'NO': 1, '?': nan}\n",
            "-------------------------\n",
            "{'YES': 0, 'NO': 1, '?': nan}\n",
            "-------------------------\n",
            "{'BENTON': 0, 'UDDEHOLM': 1, '?': nan}\n",
            "-------------------------\n",
            "{'NO': 0, 'YES': 1, 'no': 2, '?': nan}\n",
            "-------------------------\n",
            "{'LINE': 0, 'XYLOL': 1, 'NAPTHA': 2, '?': nan}\n",
            "-------------------------\n",
            "{'YES': 0, 'NO': 1, 'no': 2, 'yes': 3, '?': nan}\n",
            "-------------------------\n",
            "{'TABLOID': 0, 'CATALOG': 1, 'SPIEGEL': 2, 'catalog': 3, 'tabloid': 4, 'spiegel': 5, '?': nan}\n",
            "-------------------------\n",
            "{'NorthUS': 0, 'CANADIAN': 1, 'CANAdiAN': 2, 'SCANDANAVIAN': 3, 'SouthUS': 4, 'mideuropean': 5, '?': nan}\n",
            "-------------------------\n",
            "{'1911': 0, '1910': 1, '?': nan}\n",
            "-------------------------\n"
          ]
        },
        {
          "output_type": "execute_result",
          "data": {
            "text/html": [
              "\n",
              "  <div id=\"df-8dc35cc7-104c-4e5e-afba-c0916c1b152b\">\n",
              "    <div class=\"colab-df-container\">\n",
              "      <div>\n",
              "<style scoped>\n",
              "    .dataframe tbody tr th:only-of-type {\n",
              "        vertical-align: middle;\n",
              "    }\n",
              "\n",
              "    .dataframe tbody tr th {\n",
              "        vertical-align: top;\n",
              "    }\n",
              "\n",
              "    .dataframe thead th {\n",
              "        text-align: right;\n",
              "    }\n",
              "</style>\n",
              "<table border=\"1\" class=\"dataframe\">\n",
              "  <thead>\n",
              "    <tr style=\"text-align: right;\">\n",
              "      <th></th>\n",
              "      <th>cylinder_number</th>\n",
              "      <th>customer</th>\n",
              "      <th>job_number</th>\n",
              "      <th>grain_screened</th>\n",
              "      <th>ink_color</th>\n",
              "      <th>proof_on_ctd_ink</th>\n",
              "      <th>blade_mfg</th>\n",
              "      <th>cylinder_division</th>\n",
              "      <th>paper_type</th>\n",
              "      <th>ink_type</th>\n",
              "      <th>...</th>\n",
              "      <th>solvent_pct</th>\n",
              "      <th>ESA_Voltage</th>\n",
              "      <th>ESA_Amperage</th>\n",
              "      <th>wax</th>\n",
              "      <th>hardener</th>\n",
              "      <th>roller_durometer</th>\n",
              "      <th>current_density</th>\n",
              "      <th>anode_space_ratio</th>\n",
              "      <th>chrome_content</th>\n",
              "      <th>outlier</th>\n",
              "    </tr>\n",
              "  </thead>\n",
              "  <tbody>\n",
              "    <tr>\n",
              "      <th>0</th>\n",
              "      <td>0</td>\n",
              "      <td>0</td>\n",
              "      <td>0</td>\n",
              "      <td>0.0</td>\n",
              "      <td>0</td>\n",
              "      <td>0.0</td>\n",
              "      <td>0.0</td>\n",
              "      <td>0</td>\n",
              "      <td>0</td>\n",
              "      <td>0</td>\n",
              "      <td>...</td>\n",
              "      <td>36.4</td>\n",
              "      <td>0</td>\n",
              "      <td>0</td>\n",
              "      <td>2.5</td>\n",
              "      <td>1</td>\n",
              "      <td>34</td>\n",
              "      <td>40</td>\n",
              "      <td>105</td>\n",
              "      <td>100</td>\n",
              "      <td>0</td>\n",
              "    </tr>\n",
              "    <tr>\n",
              "      <th>1</th>\n",
              "      <td>1</td>\n",
              "      <td>0</td>\n",
              "      <td>0</td>\n",
              "      <td>0.0</td>\n",
              "      <td>0</td>\n",
              "      <td>0.0</td>\n",
              "      <td>0.0</td>\n",
              "      <td>0</td>\n",
              "      <td>0</td>\n",
              "      <td>0</td>\n",
              "      <td>...</td>\n",
              "      <td>38.5</td>\n",
              "      <td>0</td>\n",
              "      <td>0</td>\n",
              "      <td>2.5</td>\n",
              "      <td>0.7</td>\n",
              "      <td>34</td>\n",
              "      <td>40</td>\n",
              "      <td>105</td>\n",
              "      <td>100</td>\n",
              "      <td>0</td>\n",
              "    </tr>\n",
              "    <tr>\n",
              "      <th>2</th>\n",
              "      <td>2</td>\n",
              "      <td>1</td>\n",
              "      <td>1</td>\n",
              "      <td>0.0</td>\n",
              "      <td>0</td>\n",
              "      <td>0.0</td>\n",
              "      <td>0.0</td>\n",
              "      <td>0</td>\n",
              "      <td>0</td>\n",
              "      <td>1</td>\n",
              "      <td>...</td>\n",
              "      <td>39.8</td>\n",
              "      <td>0</td>\n",
              "      <td>0</td>\n",
              "      <td>2.8</td>\n",
              "      <td>0.9</td>\n",
              "      <td>40</td>\n",
              "      <td>40</td>\n",
              "      <td>103.87</td>\n",
              "      <td>100</td>\n",
              "      <td>0</td>\n",
              "    </tr>\n",
              "    <tr>\n",
              "      <th>3</th>\n",
              "      <td>3</td>\n",
              "      <td>2</td>\n",
              "      <td>2</td>\n",
              "      <td>0.0</td>\n",
              "      <td>0</td>\n",
              "      <td>0.0</td>\n",
              "      <td>0.0</td>\n",
              "      <td>0</td>\n",
              "      <td>0</td>\n",
              "      <td>0</td>\n",
              "      <td>...</td>\n",
              "      <td>38.8</td>\n",
              "      <td>0</td>\n",
              "      <td>0</td>\n",
              "      <td>2.5</td>\n",
              "      <td>1.3</td>\n",
              "      <td>40</td>\n",
              "      <td>40</td>\n",
              "      <td>108.06</td>\n",
              "      <td>100</td>\n",
              "      <td>0</td>\n",
              "    </tr>\n",
              "    <tr>\n",
              "      <th>4</th>\n",
              "      <td>4</td>\n",
              "      <td>3</td>\n",
              "      <td>3</td>\n",
              "      <td>1.0</td>\n",
              "      <td>0</td>\n",
              "      <td>0.0</td>\n",
              "      <td>0.0</td>\n",
              "      <td>0</td>\n",
              "      <td>0</td>\n",
              "      <td>1</td>\n",
              "      <td>...</td>\n",
              "      <td>42.5</td>\n",
              "      <td>5</td>\n",
              "      <td>0</td>\n",
              "      <td>2.3</td>\n",
              "      <td>0.6</td>\n",
              "      <td>35</td>\n",
              "      <td>40</td>\n",
              "      <td>106.67</td>\n",
              "      <td>100</td>\n",
              "      <td>0</td>\n",
              "    </tr>\n",
              "  </tbody>\n",
              "</table>\n",
              "<p>5 rows × 39 columns</p>\n",
              "</div>\n",
              "      <button class=\"colab-df-convert\" onclick=\"convertToInteractive('df-8dc35cc7-104c-4e5e-afba-c0916c1b152b')\"\n",
              "              title=\"Convert this dataframe to an interactive table.\"\n",
              "              style=\"display:none;\">\n",
              "        \n",
              "  <svg xmlns=\"http://www.w3.org/2000/svg\" height=\"24px\"viewBox=\"0 0 24 24\"\n",
              "       width=\"24px\">\n",
              "    <path d=\"M0 0h24v24H0V0z\" fill=\"none\"/>\n",
              "    <path d=\"M18.56 5.44l.94 2.06.94-2.06 2.06-.94-2.06-.94-.94-2.06-.94 2.06-2.06.94zm-11 1L8.5 8.5l.94-2.06 2.06-.94-2.06-.94L8.5 2.5l-.94 2.06-2.06.94zm10 10l.94 2.06.94-2.06 2.06-.94-2.06-.94-.94-2.06-.94 2.06-2.06.94z\"/><path d=\"M17.41 7.96l-1.37-1.37c-.4-.4-.92-.59-1.43-.59-.52 0-1.04.2-1.43.59L10.3 9.45l-7.72 7.72c-.78.78-.78 2.05 0 2.83L4 21.41c.39.39.9.59 1.41.59.51 0 1.02-.2 1.41-.59l7.78-7.78 2.81-2.81c.8-.78.8-2.07 0-2.86zM5.41 20L4 18.59l7.72-7.72 1.47 1.35L5.41 20z\"/>\n",
              "  </svg>\n",
              "      </button>\n",
              "      \n",
              "  <style>\n",
              "    .colab-df-container {\n",
              "      display:flex;\n",
              "      flex-wrap:wrap;\n",
              "      gap: 12px;\n",
              "    }\n",
              "\n",
              "    .colab-df-convert {\n",
              "      background-color: #E8F0FE;\n",
              "      border: none;\n",
              "      border-radius: 50%;\n",
              "      cursor: pointer;\n",
              "      display: none;\n",
              "      fill: #1967D2;\n",
              "      height: 32px;\n",
              "      padding: 0 0 0 0;\n",
              "      width: 32px;\n",
              "    }\n",
              "\n",
              "    .colab-df-convert:hover {\n",
              "      background-color: #E2EBFA;\n",
              "      box-shadow: 0px 1px 2px rgba(60, 64, 67, 0.3), 0px 1px 3px 1px rgba(60, 64, 67, 0.15);\n",
              "      fill: #174EA6;\n",
              "    }\n",
              "\n",
              "    [theme=dark] .colab-df-convert {\n",
              "      background-color: #3B4455;\n",
              "      fill: #D2E3FC;\n",
              "    }\n",
              "\n",
              "    [theme=dark] .colab-df-convert:hover {\n",
              "      background-color: #434B5C;\n",
              "      box-shadow: 0px 1px 3px 1px rgba(0, 0, 0, 0.15);\n",
              "      filter: drop-shadow(0px 1px 2px rgba(0, 0, 0, 0.3));\n",
              "      fill: #FFFFFF;\n",
              "    }\n",
              "  </style>\n",
              "\n",
              "      <script>\n",
              "        const buttonEl =\n",
              "          document.querySelector('#df-8dc35cc7-104c-4e5e-afba-c0916c1b152b button.colab-df-convert');\n",
              "        buttonEl.style.display =\n",
              "          google.colab.kernel.accessAllowed ? 'block' : 'none';\n",
              "\n",
              "        async function convertToInteractive(key) {\n",
              "          const element = document.querySelector('#df-8dc35cc7-104c-4e5e-afba-c0916c1b152b');\n",
              "          const dataTable =\n",
              "            await google.colab.kernel.invokeFunction('convertToInteractive',\n",
              "                                                     [key], {});\n",
              "          if (!dataTable) return;\n",
              "\n",
              "          const docLinkHtml = 'Like what you see? Visit the ' +\n",
              "            '<a target=\"_blank\" href=https://colab.research.google.com/notebooks/data_table.ipynb>data table notebook</a>'\n",
              "            + ' to learn more about interactive tables.';\n",
              "          element.innerHTML = '';\n",
              "          dataTable['output_type'] = 'display_data';\n",
              "          await google.colab.output.renderOutput(dataTable, element);\n",
              "          const docLink = document.createElement('div');\n",
              "          docLink.innerHTML = docLinkHtml;\n",
              "          element.appendChild(docLink);\n",
              "        }\n",
              "      </script>\n",
              "    </div>\n",
              "  </div>\n",
              "  "
            ],
            "text/plain": [
              "   cylinder_number  customer  job_number  grain_screened  ink_color  \\\n",
              "0                0         0           0             0.0          0   \n",
              "1                1         0           0             0.0          0   \n",
              "2                2         1           1             0.0          0   \n",
              "3                3         2           2             0.0          0   \n",
              "4                4         3           3             1.0          0   \n",
              "\n",
              "   proof_on_ctd_ink  blade_mfg  cylinder_division  paper_type  ink_type  ...  \\\n",
              "0               0.0        0.0                  0           0         0  ...   \n",
              "1               0.0        0.0                  0           0         0  ...   \n",
              "2               0.0        0.0                  0           0         1  ...   \n",
              "3               0.0        0.0                  0           0         0  ...   \n",
              "4               0.0        0.0                  0           0         1  ...   \n",
              "\n",
              "   solvent_pct  ESA_Voltage  ESA_Amperage  wax  hardener  roller_durometer  \\\n",
              "0         36.4            0             0  2.5         1                34   \n",
              "1         38.5            0             0  2.5       0.7                34   \n",
              "2         39.8            0             0  2.8       0.9                40   \n",
              "3         38.8            0             0  2.5       1.3                40   \n",
              "4         42.5            5             0  2.3       0.6                35   \n",
              "\n",
              "   current_density  anode_space_ratio  chrome_content outlier  \n",
              "0               40                105             100       0  \n",
              "1               40                105             100       0  \n",
              "2               40             103.87             100       0  \n",
              "3               40             108.06             100       0  \n",
              "4               40             106.67             100       0  \n",
              "\n",
              "[5 rows x 39 columns]"
            ]
          },
          "metadata": {},
          "execution_count": 9
        }
      ]
    },
    {
      "cell_type": "code",
      "source": [
        "imputer = KNNImputer(n_neighbors=3)\n",
        "df = pd.DataFrame(imputer.fit_transform(df),columns = df.columns)"
      ],
      "metadata": {
        "id": "5cWLxV7WuSze"
      },
      "execution_count": null,
      "outputs": []
    },
    {
      "cell_type": "code",
      "source": [
        "categ = ['cylinder_number', 'customer', 'job_number', 'grain_screened', 'ink_color',\n",
        "'proof_on_ctd_ink', 'blade_mfg', 'cylinder_division', 'paper_type', 'ink_type', 'direct_steam', 'solvent_type',\n",
        "'type_on_cylinder', 'press_type', 'press', 'unit_number', 'cylinder_size', 'paper_mill_location', 'plating_tank']\n",
        "df = oneHotFunc(df, categ)\n",
        "df = df.astype(float)"
      ],
      "metadata": {
        "colab": {
          "base_uri": "https://localhost:8080/"
        },
        "id": "FDrRrmdduaL8",
        "outputId": "b21026af-2a5a-439a-c190-3c30c8881821"
      },
      "execution_count": null,
      "outputs": [
        {
          "output_type": "stream",
          "name": "stdout",
          "text": [
            "   proof_cut  viscosity  caliper  ink_temperature  humifity  roughness  \\\n",
            "0       55.0       46.0    0.200             17.0      78.0   0.750000   \n",
            "1       55.0       46.0    0.300             15.0      80.0   0.750000   \n",
            "2       62.0       40.0    0.433             16.0      80.0   0.833333   \n",
            "3       52.0       40.0    0.300             16.0      75.0   0.312500   \n",
            "4       50.0       46.0    0.300             17.0      80.0   0.750000   \n",
            "\n",
            "   blade_pressure  varnish_pct  press_speed  ink_pct  ...  \\\n",
            "0            20.0         13.1       1700.0     50.5  ...   \n",
            "1            20.0          6.6       1900.0     54.9  ...   \n",
            "2            30.0          6.5       1850.0     53.8  ...   \n",
            "3            30.0          5.6       1467.0     55.6  ...   \n",
            "4            30.0          0.0       2100.0     57.5  ...   \n",
            "\n",
            "   paper_mill_location_1.6666666666666667  \\\n",
            "0                                       0   \n",
            "1                                       0   \n",
            "2                                       0   \n",
            "3                                       0   \n",
            "4                                       1   \n",
            "\n",
            "   paper_mill_location_0.6666666666666666  \\\n",
            "0                                       0   \n",
            "1                                       0   \n",
            "2                                       0   \n",
            "3                                       0   \n",
            "4                                       0   \n",
            "\n",
            "   paper_mill_location_1.3333333333333333  paper_mill_location_5.0  \\\n",
            "0                                       0                        0   \n",
            "1                                       0                        0   \n",
            "2                                       0                        0   \n",
            "3                                       0                        0   \n",
            "4                                       0                        0   \n",
            "\n",
            "   paper_mill_location_3.6666666666666665  \\\n",
            "0                                       0   \n",
            "1                                       0   \n",
            "2                                       0   \n",
            "3                                       0   \n",
            "4                                       0   \n",
            "\n",
            "   paper_mill_location_3.3333333333333335  plating_tank_0.0  \\\n",
            "0                                       0                 1   \n",
            "1                                       0                 0   \n",
            "2                                       0                 0   \n",
            "3                                       0                 0   \n",
            "4                                       0                 0   \n",
            "\n",
            "   plating_tank_0.3333333333333333  plating_tank_0.6666666666666666  \\\n",
            "0                                0                                0   \n",
            "1                                1                                0   \n",
            "2                                0                                1   \n",
            "3                                0                                0   \n",
            "4                                0                                0   \n",
            "\n",
            "   plating_tank_1.0  \n",
            "0                 0  \n",
            "1                 0  \n",
            "2                 0  \n",
            "3                 1  \n",
            "4                 1  \n",
            "\n",
            "[5 rows x 881 columns]\n"
          ]
        }
      ]
    },
    {
      "cell_type": "code",
      "source": [
        "msk = df['outlier'] == 1\n",
        "num_to_oversample = len(df) - 2*msk.sum()\n",
        "df_positive_oversample = df[msk].sample(n=num_to_oversample, replace=True, random_state=888)\n",
        "df_train_oversample = pd.concat([df, df_positive_oversample])\n",
        "df_train_oversample['outlier'].value_counts()"
      ],
      "metadata": {
        "colab": {
          "base_uri": "https://localhost:8080/"
        },
        "outputId": "3088a33f-784f-47c2-8e5f-f5e6ff9e6e97",
        "id": "r1TwSMVAqiz_"
      },
      "execution_count": null,
      "outputs": [
        {
          "output_type": "execute_result",
          "data": {
            "text/plain": [
              "0.0    537\n",
              "1.0    537\n",
              "Name: outlier, dtype: int64"
            ]
          },
          "metadata": {},
          "execution_count": 12
        }
      ]
    },
    {
      "cell_type": "code",
      "source": [
        "X_train, X_test = train_test_split(df_train_oversample, test_size = 0.3, random_state = 0)\n",
        "y_train = X_train['outlier']\n",
        "X_train = X_train.drop('outlier',1)\n",
        "y_test = X_test['outlier']\n",
        "X_test = X_test.drop('outlier',1)"
      ],
      "metadata": {
        "colab": {
          "base_uri": "https://localhost:8080/"
        },
        "outputId": "3c6715e8-b225-48c2-eca0-44dc8e395634",
        "id": "EWQmbAeuqi0A"
      },
      "execution_count": null,
      "outputs": [
        {
          "output_type": "stream",
          "name": "stderr",
          "text": [
            "/usr/local/lib/python3.7/dist-packages/ipykernel_launcher.py:3: FutureWarning: In a future version of pandas all arguments of DataFrame.drop except for the argument 'labels' will be keyword-only\n",
            "  This is separate from the ipykernel package so we can avoid doing imports until\n",
            "/usr/local/lib/python3.7/dist-packages/ipykernel_launcher.py:5: FutureWarning: In a future version of pandas all arguments of DataFrame.drop except for the argument 'labels' will be keyword-only\n",
            "  \"\"\"\n"
          ]
        }
      ]
    },
    {
      "cell_type": "code",
      "source": [
        "clf = DecisionTreeClassifier()\n",
        "clf = clf.fit(X_train,y_train)\n",
        "y_pred = clf.predict(X_test)\n",
        "\n",
        "tn, fp, fn, tp = confusion_matrix(y_test, y_pred).ravel()\n",
        "print(\"Confusion Matrix:\")\n",
        "print(confusion_matrix(y_test,y_pred))\n",
        "sns.heatmap(confusion_matrix(y_test,y_pred), annot=True,fmt=\"d\",annot_kws={'size': 30})\n",
        "print(\"Accuracy:\",metrics.accuracy_score(y_test, y_pred))\n",
        "print(\"Precision:\",metrics.precision_score(y_test, y_pred))\n",
        "print(\"Recall:\",metrics.recall_score(y_test, y_pred))\n",
        "print(\"TPR: \",tp/(tp+fn))\n",
        "print(\"FPR: \",fp/(tn+fp))\n",
        "print(\"F1 Score:\",metrics.f1_score(y_test, y_pred))"
      ],
      "metadata": {
        "colab": {
          "base_uri": "https://localhost:8080/",
          "height": 421
        },
        "outputId": "9b5a5668-360a-44f1-9b12-bc5f9aed7348",
        "id": "tkK0QYPAqi0C"
      },
      "execution_count": null,
      "outputs": [
        {
          "output_type": "stream",
          "name": "stdout",
          "text": [
            "Confusion Matrix:\n",
            "[[156   1]\n",
            " [  0 166]]\n",
            "Accuracy: 0.9969040247678018\n",
            "Precision: 0.9940119760479041\n",
            "Recall: 1.0\n",
            "TPR:  1.0\n",
            "FPR:  0.006369426751592357\n",
            "F1 Score: 0.996996996996997\n"
          ]
        },
        {
          "output_type": "display_data",
          "data": {
            "image/png": "[encoded data removed]",
            "text/plain": [
              "<Figure size 432x288 with 2 Axes>"
            ]
          },
          "metadata": {
            "needs_background": "light"
          }
        }
      ]
    },
    {
      "cell_type": "code",
      "source": [
        "sc = StandardScaler()\n",
        "X_train = sc.fit_transform(X_train)\n",
        "X_test = sc.transform(X_test)\n",
        "\n",
        "svc_model = SVC(C= .1, kernel='linear', gamma= 1)\n",
        "svc_model.fit(X_train, y_train)\n",
        "y_pred = svc_model .predict(X_test)\n",
        "\n",
        "tn, fp, fn, tp = confusion_matrix(y_test, y_pred).ravel()\n",
        "print(\"Confusion Matrix:\")\n",
        "print(confusion_matrix(y_test,y_pred))\n",
        "print(\"Accuracy:\",metrics.accuracy_score(y_test, y_pred))\n",
        "print(\"Precision:\",metrics.precision_score(y_test, y_pred))\n",
        "print(\"Recall:\",metrics.recall_score(y_test, y_pred))\n",
        "print(\"TPR: \",tp/(tp+fn))\n",
        "print(\"FPR: \",fp/(tn+fp))\n",
        "print(\"F1 Score:\",metrics.f1_score(y_test, y_pred))"
      ],
      "metadata": {
        "colab": {
          "base_uri": "https://localhost:8080/"
        },
        "outputId": "b3b80080-b160-4e7e-e02a-f0a3c0992615",
        "id": "xjK1v5rSqi0E"
      },
      "execution_count": null,
      "outputs": [
        {
          "output_type": "stream",
          "name": "stdout",
          "text": [
            "Confusion Matrix:\n",
            "[[156   1]\n",
            " [  0 166]]\n",
            "Accuracy: 0.9969040247678018\n",
            "Precision: 0.9940119760479041\n",
            "Recall: 1.0\n",
            "TPR:  1.0\n",
            "FPR:  0.006369426751592357\n",
            "F1 Score: 0.996996996996997\n"
          ]
        }
      ]
    },
    {
      "cell_type": "code",
      "source": [
        "lr = LogisticRegression()\n",
        "lr.fit(X_train, y_train)\n",
        "y_pred = lr.predict(X_test)\n",
        "\n",
        "tn, fp, fn, tp = confusion_matrix(y_test, y_pred).ravel()\n",
        "print(\"Confusion Matrix:\")\n",
        "print(confusion_matrix(y_test,y_pred))\n",
        "print(\"Accuracy:\",metrics.accuracy_score(y_test, y_pred))\n",
        "print(\"Precision:\",metrics.precision_score(y_test, y_pred))\n",
        "print(\"Recall:\",metrics.recall_score(y_test, y_pred))\n",
        "print(\"TPR: \",tp/(tp+fn))\n",
        "print(\"FPR: \",fp/(tn+fp))\n",
        "print(\"F1 Score:\",metrics.f1_score(y_test, y_pred))"
      ],
      "metadata": {
        "colab": {
          "base_uri": "https://localhost:8080/"
        },
        "outputId": "6836fa5f-0ea6-44fd-e8b9-5ffe8d4a5abf",
        "id": "SNPwJ_Kxqi0G"
      },
      "execution_count": null,
      "outputs": [
        {
          "output_type": "stream",
          "name": "stdout",
          "text": [
            "Confusion Matrix:\n",
            "[[155   2]\n",
            " [  0 166]]\n",
            "Accuracy: 0.9938080495356038\n",
            "Precision: 0.9880952380952381\n",
            "Recall: 1.0\n",
            "TPR:  1.0\n",
            "FPR:  0.012738853503184714\n",
            "F1 Score: 0.9940119760479043\n"
          ]
        }
      ]
    },
    {
      "cell_type": "markdown",
      "source": [
        "Credit\n",
        "--------------"
      ],
      "metadata": {
        "id": "DnqaZrEbonYC"
      }
    },
    {
      "cell_type": "code",
      "source": [
        "df=pd.read_csv(\"drive/MyDrive/Modified_Datasets/Outlier_Classification/credit.csv\")\n",
        "df.head()"
      ],
      "metadata": {
        "colab": {
          "base_uri": "https://localhost:8080/",
          "height": 206
        },
        "outputId": "c951e310-f71e-4a5d-fef0-e2407b5646fd",
        "id": "JD1HSJF6onYD"
      },
      "execution_count": null,
      "outputs": [
        {
          "output_type": "execute_result",
          "data": {
            "text/html": [
              "\n",
              "  <div id=\"df-d19698e2-e66b-402e-a0a1-b4fe25eaa3af\">\n",
              "    <div class=\"colab-df-container\">\n",
              "      <div>\n",
              "<style scoped>\n",
              "    .dataframe tbody tr th:only-of-type {\n",
              "        vertical-align: middle;\n",
              "    }\n",
              "\n",
              "    .dataframe tbody tr th {\n",
              "        vertical-align: top;\n",
              "    }\n",
              "\n",
              "    .dataframe thead th {\n",
              "        text-align: right;\n",
              "    }\n",
              "</style>\n",
              "<table border=\"1\" class=\"dataframe\">\n",
              "  <thead>\n",
              "    <tr style=\"text-align: right;\">\n",
              "      <th></th>\n",
              "      <th>A1</th>\n",
              "      <th>A2</th>\n",
              "      <th>A3</th>\n",
              "      <th>A4</th>\n",
              "      <th>A5</th>\n",
              "      <th>A6</th>\n",
              "      <th>A7</th>\n",
              "      <th>A8</th>\n",
              "      <th>A9</th>\n",
              "      <th>A10</th>\n",
              "      <th>A11</th>\n",
              "      <th>A12</th>\n",
              "      <th>A13</th>\n",
              "      <th>A14</th>\n",
              "      <th>A15</th>\n",
              "      <th>outlier</th>\n",
              "    </tr>\n",
              "  </thead>\n",
              "  <tbody>\n",
              "    <tr>\n",
              "      <th>0</th>\n",
              "      <td>b</td>\n",
              "      <td>30.83</td>\n",
              "      <td>0.000</td>\n",
              "      <td>u</td>\n",
              "      <td>g</td>\n",
              "      <td>w</td>\n",
              "      <td>v</td>\n",
              "      <td>1.25</td>\n",
              "      <td>t</td>\n",
              "      <td>t</td>\n",
              "      <td>1</td>\n",
              "      <td>f</td>\n",
              "      <td>g</td>\n",
              "      <td>00202</td>\n",
              "      <td>0</td>\n",
              "      <td>0</td>\n",
              "    </tr>\n",
              "    <tr>\n",
              "      <th>1</th>\n",
              "      <td>a</td>\n",
              "      <td>58.67</td>\n",
              "      <td>4.460</td>\n",
              "      <td>u</td>\n",
              "      <td>g</td>\n",
              "      <td>q</td>\n",
              "      <td>h</td>\n",
              "      <td>3.04</td>\n",
              "      <td>t</td>\n",
              "      <td>t</td>\n",
              "      <td>6</td>\n",
              "      <td>f</td>\n",
              "      <td>g</td>\n",
              "      <td>00043</td>\n",
              "      <td>560</td>\n",
              "      <td>0</td>\n",
              "    </tr>\n",
              "    <tr>\n",
              "      <th>2</th>\n",
              "      <td>a</td>\n",
              "      <td>24.50</td>\n",
              "      <td>0.500</td>\n",
              "      <td>u</td>\n",
              "      <td>g</td>\n",
              "      <td>q</td>\n",
              "      <td>h</td>\n",
              "      <td>1.50</td>\n",
              "      <td>t</td>\n",
              "      <td>f</td>\n",
              "      <td>0</td>\n",
              "      <td>f</td>\n",
              "      <td>g</td>\n",
              "      <td>00280</td>\n",
              "      <td>824</td>\n",
              "      <td>0</td>\n",
              "    </tr>\n",
              "    <tr>\n",
              "      <th>3</th>\n",
              "      <td>b</td>\n",
              "      <td>27.83</td>\n",
              "      <td>1.540</td>\n",
              "      <td>u</td>\n",
              "      <td>g</td>\n",
              "      <td>w</td>\n",
              "      <td>v</td>\n",
              "      <td>3.75</td>\n",
              "      <td>t</td>\n",
              "      <td>t</td>\n",
              "      <td>5</td>\n",
              "      <td>t</td>\n",
              "      <td>g</td>\n",
              "      <td>00100</td>\n",
              "      <td>3</td>\n",
              "      <td>0</td>\n",
              "    </tr>\n",
              "    <tr>\n",
              "      <th>4</th>\n",
              "      <td>b</td>\n",
              "      <td>20.17</td>\n",
              "      <td>5.625</td>\n",
              "      <td>u</td>\n",
              "      <td>g</td>\n",
              "      <td>w</td>\n",
              "      <td>v</td>\n",
              "      <td>1.71</td>\n",
              "      <td>t</td>\n",
              "      <td>f</td>\n",
              "      <td>0</td>\n",
              "      <td>f</td>\n",
              "      <td>s</td>\n",
              "      <td>00120</td>\n",
              "      <td>0</td>\n",
              "      <td>0</td>\n",
              "    </tr>\n",
              "  </tbody>\n",
              "</table>\n",
              "</div>\n",
              "      <button class=\"colab-df-convert\" onclick=\"convertToInteractive('df-d19698e2-e66b-402e-a0a1-b4fe25eaa3af')\"\n",
              "              title=\"Convert this dataframe to an interactive table.\"\n",
              "              style=\"display:none;\">\n",
              "        \n",
              "  <svg xmlns=\"http://www.w3.org/2000/svg\" height=\"24px\"viewBox=\"0 0 24 24\"\n",
              "       width=\"24px\">\n",
              "    <path d=\"M0 0h24v24H0V0z\" fill=\"none\"/>\n",
              "    <path d=\"M18.56 5.44l.94 2.06.94-2.06 2.06-.94-2.06-.94-.94-2.06-.94 2.06-2.06.94zm-11 1L8.5 8.5l.94-2.06 2.06-.94-2.06-.94L8.5 2.5l-.94 2.06-2.06.94zm10 10l.94 2.06.94-2.06 2.06-.94-2.06-.94-.94-2.06-.94 2.06-2.06.94z\"/><path d=\"M17.41 7.96l-1.37-1.37c-.4-.4-.92-.59-1.43-.59-.52 0-1.04.2-1.43.59L10.3 9.45l-7.72 7.72c-.78.78-.78 2.05 0 2.83L4 21.41c.39.39.9.59 1.41.59.51 0 1.02-.2 1.41-.59l7.78-7.78 2.81-2.81c.8-.78.8-2.07 0-2.86zM5.41 20L4 18.59l7.72-7.72 1.47 1.35L5.41 20z\"/>\n",
              "  </svg>\n",
              "      </button>\n",
              "      \n",
              "  <style>\n",
              "    .colab-df-container {\n",
              "      display:flex;\n",
              "      flex-wrap:wrap;\n",
              "      gap: 12px;\n",
              "    }\n",
              "\n",
              "    .colab-df-convert {\n",
              "      background-color: #E8F0FE;\n",
              "      border: none;\n",
              "      border-radius: 50%;\n",
              "      cursor: pointer;\n",
              "      display: none;\n",
              "      fill: #1967D2;\n",
              "      height: 32px;\n",
              "      padding: 0 0 0 0;\n",
              "      width: 32px;\n",
              "    }\n",
              "\n",
              "    .colab-df-convert:hover {\n",
              "      background-color: #E2EBFA;\n",
              "      box-shadow: 0px 1px 2px rgba(60, 64, 67, 0.3), 0px 1px 3px 1px rgba(60, 64, 67, 0.15);\n",
              "      fill: #174EA6;\n",
              "    }\n",
              "\n",
              "    [theme=dark] .colab-df-convert {\n",
              "      background-color: #3B4455;\n",
              "      fill: #D2E3FC;\n",
              "    }\n",
              "\n",
              "    [theme=dark] .colab-df-convert:hover {\n",
              "      background-color: #434B5C;\n",
              "      box-shadow: 0px 1px 3px 1px rgba(0, 0, 0, 0.15);\n",
              "      filter: drop-shadow(0px 1px 2px rgba(0, 0, 0, 0.3));\n",
              "      fill: #FFFFFF;\n",
              "    }\n",
              "  </style>\n",
              "\n",
              "      <script>\n",
              "        const buttonEl =\n",
              "          document.querySelector('#df-d19698e2-e66b-402e-a0a1-b4fe25eaa3af button.colab-df-convert');\n",
              "        buttonEl.style.display =\n",
              "          google.colab.kernel.accessAllowed ? 'block' : 'none';\n",
              "\n",
              "        async function convertToInteractive(key) {\n",
              "          const element = document.querySelector('#df-d19698e2-e66b-402e-a0a1-b4fe25eaa3af');\n",
              "          const dataTable =\n",
              "            await google.colab.kernel.invokeFunction('convertToInteractive',\n",
              "                                                     [key], {});\n",
              "          if (!dataTable) return;\n",
              "\n",
              "          const docLinkHtml = 'Like what you see? Visit the ' +\n",
              "            '<a target=\"_blank\" href=https://colab.research.google.com/notebooks/data_table.ipynb>data table notebook</a>'\n",
              "            + ' to learn more about interactive tables.';\n",
              "          element.innerHTML = '';\n",
              "          dataTable['output_type'] = 'display_data';\n",
              "          await google.colab.output.renderOutput(dataTable, element);\n",
              "          const docLink = document.createElement('div');\n",
              "          docLink.innerHTML = docLinkHtml;\n",
              "          element.appendChild(docLink);\n",
              "        }\n",
              "      </script>\n",
              "    </div>\n",
              "  </div>\n",
              "  "
            ],
            "text/plain": [
              "  A1     A2     A3 A4 A5 A6 A7    A8 A9 A10  A11 A12 A13    A14  A15  outlier\n",
              "0  b  30.83  0.000  u  g  w  v  1.25  t   t    1   f   g  00202    0        0\n",
              "1  a  58.67  4.460  u  g  q  h  3.04  t   t    6   f   g  00043  560        0\n",
              "2  a  24.50  0.500  u  g  q  h  1.50  t   f    0   f   g  00280  824        0\n",
              "3  b  27.83  1.540  u  g  w  v  3.75  t   t    5   t   g  00100    3        0\n",
              "4  b  20.17  5.625  u  g  w  v  1.71  t   f    0   f   s  00120    0        0"
            ]
          },
          "metadata": {},
          "execution_count": 18
        }
      ]
    },
    {
      "cell_type": "code",
      "source": [
        "str_ar = ['A9','A10','A12','A13']\n",
        "df = MapFunc(df, str_ar)\n",
        "str_ar = ['A1','A4','A5','A6','A7']\n",
        "for i in range(len(str_ar)):\n",
        "    uni = list(df[str_ar[i]].unique())\n",
        "    uni.remove('?')\n",
        "    mylist = range(0,len(uni))\n",
        "    d = dict(zip(uni,mylist))\n",
        "    d['?'] = np.nan\n",
        "    print(d)\n",
        "    print('-------------------------')\n",
        "    df[str_ar[i]] = [d[item] for item in df[str_ar[i]]]\n",
        "    df[str_ar[i]] = df[str_ar[i]].replace('?',np.nan)\n",
        "\n",
        "for i in range(len(df.columns)):\n",
        "  df[df.columns[i]] = df[df.columns[i]].replace('?',np.nan)\n",
        "\n",
        "df.head()"
      ],
      "metadata": {
        "id": "JDiA-imkotlh",
        "colab": {
          "base_uri": "https://localhost:8080/",
          "height": 380
        },
        "outputId": "ce025af4-b072-4c21-86a1-22fc295202de"
      },
      "execution_count": null,
      "outputs": [
        {
          "output_type": "stream",
          "name": "stdout",
          "text": [
            "{'b': 0, 'a': 1, '?': nan}\n",
            "-------------------------\n",
            "{'u': 0, 'y': 1, 'l': 2, '?': nan}\n",
            "-------------------------\n",
            "{'g': 0, 'p': 1, 'gg': 2, '?': nan}\n",
            "-------------------------\n",
            "{'w': 0, 'q': 1, 'm': 2, 'r': 3, 'cc': 4, 'k': 5, 'c': 6, 'd': 7, 'x': 8, 'i': 9, 'e': 10, 'aa': 11, 'ff': 12, 'j': 13, '?': nan}\n",
            "-------------------------\n",
            "{'v': 0, 'h': 1, 'bb': 2, 'ff': 3, 'j': 4, 'z': 5, 'o': 6, 'dd': 7, 'n': 8, '?': nan}\n",
            "-------------------------\n"
          ]
        },
        {
          "output_type": "execute_result",
          "data": {
            "text/html": [
              "\n",
              "  <div id=\"df-88f5d680-532f-4863-a493-83895f35b046\">\n",
              "    <div class=\"colab-df-container\">\n",
              "      <div>\n",
              "<style scoped>\n",
              "    .dataframe tbody tr th:only-of-type {\n",
              "        vertical-align: middle;\n",
              "    }\n",
              "\n",
              "    .dataframe tbody tr th {\n",
              "        vertical-align: top;\n",
              "    }\n",
              "\n",
              "    .dataframe thead th {\n",
              "        text-align: right;\n",
              "    }\n",
              "</style>\n",
              "<table border=\"1\" class=\"dataframe\">\n",
              "  <thead>\n",
              "    <tr style=\"text-align: right;\">\n",
              "      <th></th>\n",
              "      <th>A1</th>\n",
              "      <th>A2</th>\n",
              "      <th>A3</th>\n",
              "      <th>A4</th>\n",
              "      <th>A5</th>\n",
              "      <th>A6</th>\n",
              "      <th>A7</th>\n",
              "      <th>A8</th>\n",
              "      <th>A9</th>\n",
              "      <th>A10</th>\n",
              "      <th>A11</th>\n",
              "      <th>A12</th>\n",
              "      <th>A13</th>\n",
              "      <th>A14</th>\n",
              "      <th>A15</th>\n",
              "      <th>outlier</th>\n",
              "    </tr>\n",
              "  </thead>\n",
              "  <tbody>\n",
              "    <tr>\n",
              "      <th>0</th>\n",
              "      <td>0.0</td>\n",
              "      <td>30.83</td>\n",
              "      <td>0.000</td>\n",
              "      <td>0.0</td>\n",
              "      <td>0.0</td>\n",
              "      <td>0.0</td>\n",
              "      <td>0.0</td>\n",
              "      <td>1.25</td>\n",
              "      <td>0</td>\n",
              "      <td>0</td>\n",
              "      <td>1</td>\n",
              "      <td>0</td>\n",
              "      <td>0</td>\n",
              "      <td>00202</td>\n",
              "      <td>0</td>\n",
              "      <td>0</td>\n",
              "    </tr>\n",
              "    <tr>\n",
              "      <th>1</th>\n",
              "      <td>1.0</td>\n",
              "      <td>58.67</td>\n",
              "      <td>4.460</td>\n",
              "      <td>0.0</td>\n",
              "      <td>0.0</td>\n",
              "      <td>1.0</td>\n",
              "      <td>1.0</td>\n",
              "      <td>3.04</td>\n",
              "      <td>0</td>\n",
              "      <td>0</td>\n",
              "      <td>6</td>\n",
              "      <td>0</td>\n",
              "      <td>0</td>\n",
              "      <td>00043</td>\n",
              "      <td>560</td>\n",
              "      <td>0</td>\n",
              "    </tr>\n",
              "    <tr>\n",
              "      <th>2</th>\n",
              "      <td>1.0</td>\n",
              "      <td>24.50</td>\n",
              "      <td>0.500</td>\n",
              "      <td>0.0</td>\n",
              "      <td>0.0</td>\n",
              "      <td>1.0</td>\n",
              "      <td>1.0</td>\n",
              "      <td>1.50</td>\n",
              "      <td>0</td>\n",
              "      <td>1</td>\n",
              "      <td>0</td>\n",
              "      <td>0</td>\n",
              "      <td>0</td>\n",
              "      <td>00280</td>\n",
              "      <td>824</td>\n",
              "      <td>0</td>\n",
              "    </tr>\n",
              "    <tr>\n",
              "      <th>3</th>\n",
              "      <td>0.0</td>\n",
              "      <td>27.83</td>\n",
              "      <td>1.540</td>\n",
              "      <td>0.0</td>\n",
              "      <td>0.0</td>\n",
              "      <td>0.0</td>\n",
              "      <td>0.0</td>\n",
              "      <td>3.75</td>\n",
              "      <td>0</td>\n",
              "      <td>0</td>\n",
              "      <td>5</td>\n",
              "      <td>1</td>\n",
              "      <td>0</td>\n",
              "      <td>00100</td>\n",
              "      <td>3</td>\n",
              "      <td>0</td>\n",
              "    </tr>\n",
              "    <tr>\n",
              "      <th>4</th>\n",
              "      <td>0.0</td>\n",
              "      <td>20.17</td>\n",
              "      <td>5.625</td>\n",
              "      <td>0.0</td>\n",
              "      <td>0.0</td>\n",
              "      <td>0.0</td>\n",
              "      <td>0.0</td>\n",
              "      <td>1.71</td>\n",
              "      <td>0</td>\n",
              "      <td>1</td>\n",
              "      <td>0</td>\n",
              "      <td>0</td>\n",
              "      <td>1</td>\n",
              "      <td>00120</td>\n",
              "      <td>0</td>\n",
              "      <td>0</td>\n",
              "    </tr>\n",
              "  </tbody>\n",
              "</table>\n",
              "</div>\n",
              "      <button class=\"colab-df-convert\" onclick=\"convertToInteractive('df-88f5d680-532f-4863-a493-83895f35b046')\"\n",
              "              title=\"Convert this dataframe to an interactive table.\"\n",
              "              style=\"display:none;\">\n",
              "        \n",
              "  <svg xmlns=\"http://www.w3.org/2000/svg\" height=\"24px\"viewBox=\"0 0 24 24\"\n",
              "       width=\"24px\">\n",
              "    <path d=\"M0 0h24v24H0V0z\" fill=\"none\"/>\n",
              "    <path d=\"M18.56 5.44l.94 2.06.94-2.06 2.06-.94-2.06-.94-.94-2.06-.94 2.06-2.06.94zm-11 1L8.5 8.5l.94-2.06 2.06-.94-2.06-.94L8.5 2.5l-.94 2.06-2.06.94zm10 10l.94 2.06.94-2.06 2.06-.94-2.06-.94-.94-2.06-.94 2.06-2.06.94z\"/><path d=\"M17.41 7.96l-1.37-1.37c-.4-.4-.92-.59-1.43-.59-.52 0-1.04.2-1.43.59L10.3 9.45l-7.72 7.72c-.78.78-.78 2.05 0 2.83L4 21.41c.39.39.9.59 1.41.59.51 0 1.02-.2 1.41-.59l7.78-7.78 2.81-2.81c.8-.78.8-2.07 0-2.86zM5.41 20L4 18.59l7.72-7.72 1.47 1.35L5.41 20z\"/>\n",
              "  </svg>\n",
              "      </button>\n",
              "      \n",
              "  <style>\n",
              "    .colab-df-container {\n",
              "      display:flex;\n",
              "      flex-wrap:wrap;\n",
              "      gap: 12px;\n",
              "    }\n",
              "\n",
              "    .colab-df-convert {\n",
              "      background-color: #E8F0FE;\n",
              "      border: none;\n",
              "      border-radius: 50%;\n",
              "      cursor: pointer;\n",
              "      display: none;\n",
              "      fill: #1967D2;\n",
              "      height: 32px;\n",
              "      padding: 0 0 0 0;\n",
              "      width: 32px;\n",
              "    }\n",
              "\n",
              "    .colab-df-convert:hover {\n",
              "      background-color: #E2EBFA;\n",
              "      box-shadow: 0px 1px 2px rgba(60, 64, 67, 0.3), 0px 1px 3px 1px rgba(60, 64, 67, 0.15);\n",
              "      fill: #174EA6;\n",
              "    }\n",
              "\n",
              "    [theme=dark] .colab-df-convert {\n",
              "      background-color: #3B4455;\n",
              "      fill: #D2E3FC;\n",
              "    }\n",
              "\n",
              "    [theme=dark] .colab-df-convert:hover {\n",
              "      background-color: #434B5C;\n",
              "      box-shadow: 0px 1px 3px 1px rgba(0, 0, 0, 0.15);\n",
              "      filter: drop-shadow(0px 1px 2px rgba(0, 0, 0, 0.3));\n",
              "      fill: #FFFFFF;\n",
              "    }\n",
              "  </style>\n",
              "\n",
              "      <script>\n",
              "        const buttonEl =\n",
              "          document.querySelector('#df-88f5d680-532f-4863-a493-83895f35b046 button.colab-df-convert');\n",
              "        buttonEl.style.display =\n",
              "          google.colab.kernel.accessAllowed ? 'block' : 'none';\n",
              "\n",
              "        async function convertToInteractive(key) {\n",
              "          const element = document.querySelector('#df-88f5d680-532f-4863-a493-83895f35b046');\n",
              "          const dataTable =\n",
              "            await google.colab.kernel.invokeFunction('convertToInteractive',\n",
              "                                                     [key], {});\n",
              "          if (!dataTable) return;\n",
              "\n",
              "          const docLinkHtml = 'Like what you see? Visit the ' +\n",
              "            '<a target=\"_blank\" href=https://colab.research.google.com/notebooks/data_table.ipynb>data table notebook</a>'\n",
              "            + ' to learn more about interactive tables.';\n",
              "          element.innerHTML = '';\n",
              "          dataTable['output_type'] = 'display_data';\n",
              "          await google.colab.output.renderOutput(dataTable, element);\n",
              "          const docLink = document.createElement('div');\n",
              "          docLink.innerHTML = docLinkHtml;\n",
              "          element.appendChild(docLink);\n",
              "        }\n",
              "      </script>\n",
              "    </div>\n",
              "  </div>\n",
              "  "
            ],
            "text/plain": [
              "    A1     A2     A3   A4   A5   A6   A7    A8  A9  A10  A11  A12  A13    A14  \\\n",
              "0  0.0  30.83  0.000  0.0  0.0  0.0  0.0  1.25   0    0    1    0    0  00202   \n",
              "1  1.0  58.67  4.460  0.0  0.0  1.0  1.0  3.04   0    0    6    0    0  00043   \n",
              "2  1.0  24.50  0.500  0.0  0.0  1.0  1.0  1.50   0    1    0    0    0  00280   \n",
              "3  0.0  27.83  1.540  0.0  0.0  0.0  0.0  3.75   0    0    5    1    0  00100   \n",
              "4  0.0  20.17  5.625  0.0  0.0  0.0  0.0  1.71   0    1    0    0    1  00120   \n",
              "\n",
              "   A15  outlier  \n",
              "0    0        0  \n",
              "1  560        0  \n",
              "2  824        0  \n",
              "3    3        0  \n",
              "4    0        0  "
            ]
          },
          "metadata": {},
          "execution_count": 19
        }
      ]
    },
    {
      "cell_type": "code",
      "source": [
        "imputer = KNNImputer(n_neighbors=3)\n",
        "df = pd.DataFrame(imputer.fit_transform(df),columns = df.columns)"
      ],
      "metadata": {
        "id": "44J4q3cr27wt"
      },
      "execution_count": null,
      "outputs": []
    },
    {
      "cell_type": "code",
      "source": [
        "categ=['A1','A4','A5','A6','A7','A9','A10','A12','A13']\n",
        "df = oneHotFunc(df,categ)\n",
        "df = df.astype(float)"
      ],
      "metadata": {
        "colab": {
          "base_uri": "https://localhost:8080/"
        },
        "outputId": "0410f8ca-6d6a-44bd-ca6e-1ddd47b954b8",
        "id": "G2e18DpvonYE"
      },
      "execution_count": null,
      "outputs": [
        {
          "output_type": "stream",
          "name": "stdout",
          "text": [
            "      A2     A3    A8  A11    A14    A15  outlier  A1_0.0  A1_1.0  \\\n",
            "0  30.83  0.000  1.25  1.0  202.0    0.0      0.0       1       0   \n",
            "1  58.67  4.460  3.04  6.0   43.0  560.0      0.0       0       0   \n",
            "2  24.50  0.500  1.50  0.0  280.0  824.0      0.0       0       0   \n",
            "3  27.83  1.540  3.75  5.0  100.0    3.0      0.0       1       0   \n",
            "4  20.17  5.625  1.71  0.0  120.0    0.0      0.0       1       0   \n",
            "\n",
            "   A1_0.6666666666666666  ...  A7_1.6666666666666667  A9_0.0  A9_1.0  A10_0.0  \\\n",
            "0                      0  ...                      0       1       0        1   \n",
            "1                      0  ...                      0       1       0        1   \n",
            "2                      0  ...                      0       1       0        0   \n",
            "3                      0  ...                      0       1       0        1   \n",
            "4                      0  ...                      0       1       0        0   \n",
            "\n",
            "   A10_1.0  A12_0.0  A12_1.0  A13_0.0  A13_1.0  A13_2.0  \n",
            "0        0        1        0        1        0        0  \n",
            "1        0        1        0        1        0        0  \n",
            "2        1        1        0        1        0        0  \n",
            "3        0        0        1        1        0        0  \n",
            "4        1        1        0        0        1        0  \n",
            "\n",
            "[5 rows x 57 columns]\n"
          ]
        }
      ]
    },
    {
      "cell_type": "code",
      "source": [
        "msk = df['outlier'] == 1\n",
        "num_to_oversample = len(df) - 2*msk.sum()\n",
        "df_positive_oversample = df[msk].sample(n=num_to_oversample, replace=True, random_state=888)\n",
        "df_train_oversample = pd.concat([df, df_positive_oversample])\n",
        "df_train_oversample['outlier'].value_counts()"
      ],
      "metadata": {
        "colab": {
          "base_uri": "https://localhost:8080/"
        },
        "outputId": "fa5716f7-1735-48fa-f3fb-6ae8fe4396fc",
        "id": "UdVdH3tAonYF"
      },
      "execution_count": null,
      "outputs": [
        {
          "output_type": "execute_result",
          "data": {
            "text/plain": [
              "0.0    685\n",
              "1.0    685\n",
              "Name: outlier, dtype: int64"
            ]
          },
          "metadata": {},
          "execution_count": 22
        }
      ]
    },
    {
      "cell_type": "code",
      "source": [
        "X_train, X_test = train_test_split(df_train_oversample, test_size = 0.3, random_state = 0)\n",
        "y_train = X_train['outlier']\n",
        "X_train = X_train.drop('outlier',1)\n",
        "y_test = X_test['outlier']\n",
        "X_test = X_test.drop('outlier',1)"
      ],
      "metadata": {
        "colab": {
          "base_uri": "https://localhost:8080/"
        },
        "outputId": "1871ff68-1e34-4c37-eabe-21a47269b196",
        "id": "XHt9z0MVonYG"
      },
      "execution_count": null,
      "outputs": [
        {
          "output_type": "stream",
          "name": "stderr",
          "text": [
            "/usr/local/lib/python3.7/dist-packages/ipykernel_launcher.py:3: FutureWarning: In a future version of pandas all arguments of DataFrame.drop except for the argument 'labels' will be keyword-only\n",
            "  This is separate from the ipykernel package so we can avoid doing imports until\n",
            "/usr/local/lib/python3.7/dist-packages/ipykernel_launcher.py:5: FutureWarning: In a future version of pandas all arguments of DataFrame.drop except for the argument 'labels' will be keyword-only\n",
            "  \"\"\"\n"
          ]
        }
      ]
    },
    {
      "cell_type": "code",
      "source": [
        "clf = DecisionTreeClassifier()\n",
        "clf = clf.fit(X_train,y_train)\n",
        "y_pred = clf.predict(X_test)\n",
        "\n",
        "tn, fp, fn, tp = confusion_matrix(y_test, y_pred).ravel()\n",
        "print(\"Confusion Matrix:\")\n",
        "print(confusion_matrix(y_test,y_pred))\n",
        "sns.heatmap(confusion_matrix(y_test,y_pred), annot=True,fmt=\"d\",annot_kws={'size': 30})\n",
        "print(\"Accuracy:\",metrics.accuracy_score(y_test, y_pred))\n",
        "print(\"Precision:\",metrics.precision_score(y_test, y_pred))\n",
        "print(\"Recall:\",metrics.recall_score(y_test, y_pred))\n",
        "print(\"TPR: \",tp/(tp+fn))\n",
        "print(\"FPR: \",fp/(tn+fp))\n",
        "print(\"F1 Score:\",metrics.f1_score(y_test, y_pred))"
      ],
      "metadata": {
        "colab": {
          "base_uri": "https://localhost:8080/",
          "height": 421
        },
        "outputId": "8855a165-729f-4d8c-96fb-65cf0dd42c66",
        "id": "jgUo4jzJonYH"
      },
      "execution_count": null,
      "outputs": [
        {
          "output_type": "stream",
          "name": "stdout",
          "text": [
            "Confusion Matrix:\n",
            "[[213   1]\n",
            " [  0 197]]\n",
            "Accuracy: 0.9975669099756691\n",
            "Precision: 0.9949494949494949\n",
            "Recall: 1.0\n",
            "TPR:  1.0\n",
            "FPR:  0.004672897196261682\n",
            "F1 Score: 0.9974683544303797\n"
          ]
        },
        {
          "output_type": "display_data",
          "data": {
            "image/png": "[encoded data removed]",
            "text/plain": [
              "<Figure size 432x288 with 2 Axes>"
            ]
          },
          "metadata": {
            "needs_background": "light"
          }
        }
      ]
    },
    {
      "cell_type": "code",
      "source": [
        "sc = StandardScaler()\n",
        "X_train = sc.fit_transform(X_train)\n",
        "X_test = sc.transform(X_test)\n",
        "\n",
        "svc_model = SVC(C= .1, kernel='linear', gamma= 1)\n",
        "svc_model.fit(X_train, y_train)\n",
        "y_pred = svc_model .predict(X_test)\n",
        "\n",
        "tn, fp, fn, tp = confusion_matrix(y_test, y_pred).ravel()\n",
        "print(\"Confusion Matrix:\")\n",
        "print(confusion_matrix(y_test,y_pred))\n",
        "print(\"Accuracy:\",metrics.accuracy_score(y_test, y_pred))\n",
        "print(\"Precision:\",metrics.precision_score(y_test, y_pred))\n",
        "print(\"Recall:\",metrics.recall_score(y_test, y_pred))\n",
        "print(\"TPR: \",tp/(tp+fn))\n",
        "print(\"FPR: \",fp/(tn+fp))\n",
        "print(\"F1 Score:\",metrics.f1_score(y_test, y_pred))"
      ],
      "metadata": {
        "colab": {
          "base_uri": "https://localhost:8080/"
        },
        "outputId": "06034988-f38f-4acb-e41b-01bc10d1f8e7",
        "id": "bZCz8XbHonYI"
      },
      "execution_count": null,
      "outputs": [
        {
          "output_type": "stream",
          "name": "stdout",
          "text": [
            "Confusion Matrix:\n",
            "[[213   1]\n",
            " [  0 197]]\n",
            "Accuracy: 0.9975669099756691\n",
            "Precision: 0.9949494949494949\n",
            "Recall: 1.0\n",
            "TPR:  1.0\n",
            "FPR:  0.004672897196261682\n",
            "F1 Score: 0.9974683544303797\n"
          ]
        }
      ]
    },
    {
      "cell_type": "code",
      "source": [
        "lr = LogisticRegression()\n",
        "lr.fit(X_train, y_train)\n",
        "y_pred = lr.predict(X_test)\n",
        "\n",
        "tn, fp, fn, tp = confusion_matrix(y_test, y_pred).ravel()\n",
        "print(\"Confusion Matrix:\")\n",
        "print(confusion_matrix(y_test,y_pred))\n",
        "print(\"Accuracy:\",metrics.accuracy_score(y_test, y_pred))\n",
        "print(\"Precision:\",metrics.precision_score(y_test, y_pred))\n",
        "print(\"Recall:\",metrics.recall_score(y_test, y_pred))\n",
        "print(\"TPR: \",tp/(tp+fn))\n",
        "print(\"FPR: \",fp/(tn+fp))\n",
        "print(\"F1 Score:\",metrics.f1_score(y_test, y_pred))"
      ],
      "metadata": {
        "colab": {
          "base_uri": "https://localhost:8080/"
        },
        "outputId": "fa6c5ef0-3d4b-4f64-845e-125251d3cfb1",
        "id": "lP_vHkqWonYJ"
      },
      "execution_count": null,
      "outputs": [
        {
          "output_type": "stream",
          "name": "stdout",
          "text": [
            "Confusion Matrix:\n",
            "[[213   1]\n",
            " [  0 197]]\n",
            "Accuracy: 0.9975669099756691\n",
            "Precision: 0.9949494949494949\n",
            "Recall: 1.0\n",
            "TPR:  1.0\n",
            "FPR:  0.004672897196261682\n",
            "F1 Score: 0.9974683544303797\n"
          ]
        }
      ]
    },
    {
      "cell_type": "markdown",
      "source": [
        "Australian\n",
        "--------------"
      ],
      "metadata": {
        "id": "2xnfri0FirTe"
      }
    },
    {
      "cell_type": "code",
      "source": [
        "df=pd.read_csv(\"drive/MyDrive/Datasets/Outlier_Classification/australian.csv\")\n",
        "df.head()"
      ],
      "metadata": {
        "colab": {
          "base_uri": "https://localhost:8080/"
        },
        "outputId": "bdb0bd80-412e-4498-f2e3-98709d246ca9",
        "id": "BHhQBwMTirTf"
      },
      "execution_count": null,
      "outputs": [
        {
          "output_type": "execute_result",
          "data": {
            "text/html": [
              "\n",
              "  <div id=\"df-6feeb4f6-524b-4047-b9fc-e965fc35128a\">\n",
              "    <div class=\"colab-df-container\">\n",
              "      <div>\n",
              "<style scoped>\n",
              "    .dataframe tbody tr th:only-of-type {\n",
              "        vertical-align: middle;\n",
              "    }\n",
              "\n",
              "    .dataframe tbody tr th {\n",
              "        vertical-align: top;\n",
              "    }\n",
              "\n",
              "    .dataframe thead th {\n",
              "        text-align: right;\n",
              "    }\n",
              "</style>\n",
              "<table border=\"1\" class=\"dataframe\">\n",
              "  <thead>\n",
              "    <tr style=\"text-align: right;\">\n",
              "      <th></th>\n",
              "      <th>A1</th>\n",
              "      <th>A2</th>\n",
              "      <th>A3</th>\n",
              "      <th>A4</th>\n",
              "      <th>A5</th>\n",
              "      <th>A6</th>\n",
              "      <th>A7</th>\n",
              "      <th>A8</th>\n",
              "      <th>A9</th>\n",
              "      <th>A10</th>\n",
              "      <th>A11</th>\n",
              "      <th>A12</th>\n",
              "      <th>A13</th>\n",
              "      <th>A14</th>\n",
              "      <th>outlier</th>\n",
              "    </tr>\n",
              "  </thead>\n",
              "  <tbody>\n",
              "    <tr>\n",
              "      <th>0</th>\n",
              "      <td>1</td>\n",
              "      <td>22.08</td>\n",
              "      <td>11.46</td>\n",
              "      <td>2</td>\n",
              "      <td>4</td>\n",
              "      <td>4</td>\n",
              "      <td>1.585</td>\n",
              "      <td>0</td>\n",
              "      <td>0</td>\n",
              "      <td>0</td>\n",
              "      <td>1</td>\n",
              "      <td>2</td>\n",
              "      <td>100</td>\n",
              "      <td>1213</td>\n",
              "      <td>0</td>\n",
              "    </tr>\n",
              "    <tr>\n",
              "      <th>1</th>\n",
              "      <td>0</td>\n",
              "      <td>22.67</td>\n",
              "      <td>7.00</td>\n",
              "      <td>2</td>\n",
              "      <td>8</td>\n",
              "      <td>4</td>\n",
              "      <td>0.165</td>\n",
              "      <td>0</td>\n",
              "      <td>0</td>\n",
              "      <td>0</td>\n",
              "      <td>0</td>\n",
              "      <td>2</td>\n",
              "      <td>160</td>\n",
              "      <td>1</td>\n",
              "      <td>0</td>\n",
              "    </tr>\n",
              "    <tr>\n",
              "      <th>2</th>\n",
              "      <td>0</td>\n",
              "      <td>29.58</td>\n",
              "      <td>1.75</td>\n",
              "      <td>1</td>\n",
              "      <td>4</td>\n",
              "      <td>4</td>\n",
              "      <td>1.250</td>\n",
              "      <td>0</td>\n",
              "      <td>0</td>\n",
              "      <td>0</td>\n",
              "      <td>1</td>\n",
              "      <td>2</td>\n",
              "      <td>280</td>\n",
              "      <td>1</td>\n",
              "      <td>0</td>\n",
              "    </tr>\n",
              "    <tr>\n",
              "      <th>3</th>\n",
              "      <td>0</td>\n",
              "      <td>21.67</td>\n",
              "      <td>11.50</td>\n",
              "      <td>1</td>\n",
              "      <td>5</td>\n",
              "      <td>3</td>\n",
              "      <td>0.000</td>\n",
              "      <td>1</td>\n",
              "      <td>1</td>\n",
              "      <td>11</td>\n",
              "      <td>1</td>\n",
              "      <td>2</td>\n",
              "      <td>0</td>\n",
              "      <td>1</td>\n",
              "      <td>0</td>\n",
              "    </tr>\n",
              "    <tr>\n",
              "      <th>4</th>\n",
              "      <td>1</td>\n",
              "      <td>20.17</td>\n",
              "      <td>8.17</td>\n",
              "      <td>2</td>\n",
              "      <td>6</td>\n",
              "      <td>4</td>\n",
              "      <td>1.960</td>\n",
              "      <td>1</td>\n",
              "      <td>1</td>\n",
              "      <td>14</td>\n",
              "      <td>0</td>\n",
              "      <td>2</td>\n",
              "      <td>60</td>\n",
              "      <td>159</td>\n",
              "      <td>0</td>\n",
              "    </tr>\n",
              "  </tbody>\n",
              "</table>\n",
              "</div>\n",
              "      <button class=\"colab-df-convert\" onclick=\"convertToInteractive('df-6feeb4f6-524b-4047-b9fc-e965fc35128a')\"\n",
              "              title=\"Convert this dataframe to an interactive table.\"\n",
              "              style=\"display:none;\">\n",
              "        \n",
              "  <svg xmlns=\"http://www.w3.org/2000/svg\" height=\"24px\"viewBox=\"0 0 24 24\"\n",
              "       width=\"24px\">\n",
              "    <path d=\"M0 0h24v24H0V0z\" fill=\"none\"/>\n",
              "    <path d=\"M18.56 5.44l.94 2.06.94-2.06 2.06-.94-2.06-.94-.94-2.06-.94 2.06-2.06.94zm-11 1L8.5 8.5l.94-2.06 2.06-.94-2.06-.94L8.5 2.5l-.94 2.06-2.06.94zm10 10l.94 2.06.94-2.06 2.06-.94-2.06-.94-.94-2.06-.94 2.06-2.06.94z\"/><path d=\"M17.41 7.96l-1.37-1.37c-.4-.4-.92-.59-1.43-.59-.52 0-1.04.2-1.43.59L10.3 9.45l-7.72 7.72c-.78.78-.78 2.05 0 2.83L4 21.41c.39.39.9.59 1.41.59.51 0 1.02-.2 1.41-.59l7.78-7.78 2.81-2.81c.8-.78.8-2.07 0-2.86zM5.41 20L4 18.59l7.72-7.72 1.47 1.35L5.41 20z\"/>\n",
              "  </svg>\n",
              "      </button>\n",
              "      \n",
              "  <style>\n",
              "    .colab-df-container {\n",
              "      display:flex;\n",
              "      flex-wrap:wrap;\n",
              "      gap: 12px;\n",
              "    }\n",
              "\n",
              "    .colab-df-convert {\n",
              "      background-color: #E8F0FE;\n",
              "      border: none;\n",
              "      border-radius: 50%;\n",
              "      cursor: pointer;\n",
              "      display: none;\n",
              "      fill: #1967D2;\n",
              "      height: 32px;\n",
              "      padding: 0 0 0 0;\n",
              "      width: 32px;\n",
              "    }\n",
              "\n",
              "    .colab-df-convert:hover {\n",
              "      background-color: #E2EBFA;\n",
              "      box-shadow: 0px 1px 2px rgba(60, 64, 67, 0.3), 0px 1px 3px 1px rgba(60, 64, 67, 0.15);\n",
              "      fill: #174EA6;\n",
              "    }\n",
              "\n",
              "    [theme=dark] .colab-df-convert {\n",
              "      background-color: #3B4455;\n",
              "      fill: #D2E3FC;\n",
              "    }\n",
              "\n",
              "    [theme=dark] .colab-df-convert:hover {\n",
              "      background-color: #434B5C;\n",
              "      box-shadow: 0px 1px 3px 1px rgba(0, 0, 0, 0.15);\n",
              "      filter: drop-shadow(0px 1px 2px rgba(0, 0, 0, 0.3));\n",
              "      fill: #FFFFFF;\n",
              "    }\n",
              "  </style>\n",
              "\n",
              "      <script>\n",
              "        const buttonEl =\n",
              "          document.querySelector('#df-6feeb4f6-524b-4047-b9fc-e965fc35128a button.colab-df-convert');\n",
              "        buttonEl.style.display =\n",
              "          google.colab.kernel.accessAllowed ? 'block' : 'none';\n",
              "\n",
              "        async function convertToInteractive(key) {\n",
              "          const element = document.querySelector('#df-6feeb4f6-524b-4047-b9fc-e965fc35128a');\n",
              "          const dataTable =\n",
              "            await google.colab.kernel.invokeFunction('convertToInteractive',\n",
              "                                                     [key], {});\n",
              "          if (!dataTable) return;\n",
              "\n",
              "          const docLinkHtml = 'Like what you see? Visit the ' +\n",
              "            '<a target=\"_blank\" href=https://colab.research.google.com/notebooks/data_table.ipynb>data table notebook</a>'\n",
              "            + ' to learn more about interactive tables.';\n",
              "          element.innerHTML = '';\n",
              "          dataTable['output_type'] = 'display_data';\n",
              "          await google.colab.output.renderOutput(dataTable, element);\n",
              "          const docLink = document.createElement('div');\n",
              "          docLink.innerHTML = docLinkHtml;\n",
              "          element.appendChild(docLink);\n",
              "        }\n",
              "      </script>\n",
              "    </div>\n",
              "  </div>\n",
              "  "
            ],
            "text/plain": [
              "   A1     A2     A3  A4  A5  A6     A7  A8  A9  A10  A11  A12  A13   A14  \\\n",
              "0   1  22.08  11.46   2   4   4  1.585   0   0    0    1    2  100  1213   \n",
              "1   0  22.67   7.00   2   8   4  0.165   0   0    0    0    2  160     1   \n",
              "2   0  29.58   1.75   1   4   4  1.250   0   0    0    1    2  280     1   \n",
              "3   0  21.67  11.50   1   5   3  0.000   1   1   11    1    2    0     1   \n",
              "4   1  20.17   8.17   2   6   4  1.960   1   1   14    0    2   60   159   \n",
              "\n",
              "   outlier  \n",
              "0        0  \n",
              "1        0  \n",
              "2        0  \n",
              "3        0  \n",
              "4        0  "
            ]
          },
          "metadata": {},
          "execution_count": 138
        }
      ]
    },
    {
      "cell_type": "code",
      "source": [
        "categ = ['A1','A4','A5','A6','A8','A9','A11','A12']\n",
        "df = oneHotFunc(df, categ)"
      ],
      "metadata": {
        "colab": {
          "base_uri": "https://localhost:8080/"
        },
        "outputId": "a77f0123-b91f-4932-c859-389ee35f066e",
        "id": "IXNOGfRRirTg"
      },
      "execution_count": null,
      "outputs": [
        {
          "output_type": "stream",
          "name": "stdout",
          "text": [
            "      A2     A3     A7  A10  A13   A14  outlier  A1_1  A1_0  A4_2  ...  A6_7  \\\n",
            "0  22.08  11.46  1.585    0  100  1213        0     0     1     0  ...     0   \n",
            "1  22.67   7.00  0.165    0  160     1        0     1     0     0  ...     0   \n",
            "2  29.58   1.75  1.250    0  280     1        0     1     0     1  ...     0   \n",
            "3  21.67  11.50  0.000   11    0     1        0     1     0     1  ...     0   \n",
            "4  20.17   8.17  1.960   14   60   159        0     0     1     0  ...     0   \n",
            "\n",
            "   A8_0  A8_1  A9_0  A9_1  A11_1  A11_0  A12_2  A12_1  A12_3  \n",
            "0     1     0     1     0      0      1      0      1      0  \n",
            "1     1     0     1     0      1      0      0      1      0  \n",
            "2     1     0     1     0      0      1      0      1      0  \n",
            "3     0     1     0     1      0      1      0      1      0  \n",
            "4     0     1     0     1      1      0      0      1      0  \n",
            "\n",
            "[5 rows x 43 columns]\n"
          ]
        }
      ]
    },
    {
      "cell_type": "code",
      "source": [
        "msk = df['outlier'] == 1\n",
        "num_to_oversample = len(df) - 2*msk.sum()\n",
        "df_positive_oversample = df[msk].sample(n=num_to_oversample, replace=True, random_state=888)\n",
        "df_train_oversample = pd.concat([df, df_positive_oversample])\n",
        "df_train_oversample['outlier'].value_counts()"
      ],
      "metadata": {
        "colab": {
          "base_uri": "https://localhost:8080/"
        },
        "outputId": "7141d37c-4514-4f9c-e551-486147618e81",
        "id": "MnAlLcJHirTh"
      },
      "execution_count": null,
      "outputs": [
        {
          "output_type": "execute_result",
          "data": {
            "text/plain": [
              "0    683\n",
              "1    683\n",
              "Name: outlier, dtype: int64"
            ]
          },
          "metadata": {},
          "execution_count": 140
        }
      ]
    },
    {
      "cell_type": "code",
      "source": [
        "X_train, X_test = train_test_split(df_train_oversample, test_size = 0.3, random_state = 0)\n",
        "y_train = X_train['outlier']\n",
        "X_train = X_train.drop('outlier',1)\n",
        "y_test = X_test['outlier']\n",
        "X_test = X_test.drop('outlier',1)"
      ],
      "metadata": {
        "colab": {
          "base_uri": "https://localhost:8080/"
        },
        "outputId": "477464e2-4938-4d8a-9931-86f63fba0de9",
        "id": "F6L6XWAKirTj"
      },
      "execution_count": null,
      "outputs": [
        {
          "output_type": "stream",
          "name": "stderr",
          "text": [
            "/usr/local/lib/python3.7/dist-packages/ipykernel_launcher.py:3: FutureWarning: In a future version of pandas all arguments of DataFrame.drop except for the argument 'labels' will be keyword-only\n",
            "  This is separate from the ipykernel package so we can avoid doing imports until\n",
            "/usr/local/lib/python3.7/dist-packages/ipykernel_launcher.py:5: FutureWarning: In a future version of pandas all arguments of DataFrame.drop except for the argument 'labels' will be keyword-only\n",
            "  \"\"\"\n"
          ]
        }
      ]
    },
    {
      "cell_type": "code",
      "source": [
        "clf = DecisionTreeClassifier()\n",
        "clf = clf.fit(X_train,y_train)\n",
        "y_pred = clf.predict(X_test)\n",
        "\n",
        "tn, fp, fn, tp = confusion_matrix(y_test, y_pred).ravel()\n",
        "print(\"Confusion Matrix:\")\n",
        "print(confusion_matrix(y_test,y_pred))\n",
        "print(\"Accuracy:\",metrics.accuracy_score(y_test, y_pred))\n",
        "print(\"Precision:\",metrics.precision_score(y_test, y_pred))\n",
        "print(\"Recall:\",metrics.recall_score(y_test, y_pred))\n",
        "print(\"TPR: \",tp/(tp+fn))\n",
        "print(\"FPR: \",fp/(tn+fp))\n",
        "print(\"F1 Score:\",metrics.f1_score(y_test, y_pred))"
      ],
      "metadata": {
        "colab": {
          "base_uri": "https://localhost:8080/"
        },
        "outputId": "0fd0933c-0971-42f6-e5b4-a5e8be4e6129",
        "id": "-9fhQVsMirTk"
      },
      "execution_count": null,
      "outputs": [
        {
          "output_type": "stream",
          "name": "stdout",
          "text": [
            "Confusion Matrix:\n",
            "[[207   6]\n",
            " [  0 197]]\n",
            "Accuracy: 0.9853658536585366\n",
            "Precision: 0.9704433497536946\n",
            "Recall: 1.0\n",
            "TPR:  1.0\n",
            "FPR:  0.028169014084507043\n",
            "F1 Score: 0.985\n"
          ]
        }
      ]
    },
    {
      "cell_type": "code",
      "source": [
        "sc = StandardScaler()\n",
        "X_train = sc.fit_transform(X_train)\n",
        "X_test = sc.transform(X_test)\n",
        "\n",
        "svc_model = SVC(C= .1, kernel='linear', gamma= 1)\n",
        "svc_model.fit(X_train, y_train)\n",
        "y_pred = svc_model .predict(X_test)\n",
        "\n",
        "tn, fp, fn, tp = confusion_matrix(y_test, y_pred).ravel()\n",
        "print(\"Confusion Matrix:\")\n",
        "print(confusion_matrix(y_test,y_pred))\n",
        "print(\"Accuracy:\",metrics.accuracy_score(y_test, y_pred))\n",
        "print(\"Precision:\",metrics.precision_score(y_test, y_pred))\n",
        "print(\"Recall:\",metrics.recall_score(y_test, y_pred))\n",
        "print(\"TPR: \",tp/(tp+fn))\n",
        "print(\"FPR: \",fp/(tn+fp))\n",
        "print(\"F1 Score:\",metrics.f1_score(y_test, y_pred))"
      ],
      "metadata": {
        "colab": {
          "base_uri": "https://localhost:8080/"
        },
        "outputId": "88f0eb6a-344f-47ca-c5d0-eb72d10cb9d8",
        "id": "pJK4X5xBirTm"
      },
      "execution_count": null,
      "outputs": [
        {
          "output_type": "stream",
          "name": "stdout",
          "text": [
            "Confusion Matrix:\n",
            "[[212   1]\n",
            " [  0 197]]\n",
            "Accuracy: 0.9975609756097561\n",
            "Precision: 0.9949494949494949\n",
            "Recall: 1.0\n",
            "TPR:  1.0\n",
            "FPR:  0.004694835680751174\n",
            "F1 Score: 0.9974683544303797\n"
          ]
        }
      ]
    },
    {
      "cell_type": "code",
      "source": [
        "lr = LogisticRegression()\n",
        "lr.fit(X_train, y_train)\n",
        "y_pred = lr.predict(X_test)\n",
        "\n",
        "tn, fp, fn, tp = confusion_matrix(y_test, y_pred).ravel()\n",
        "print(\"Confusion Matrix:\")\n",
        "print(confusion_matrix(y_test,y_pred))\n",
        "print(\"Accuracy:\",metrics.accuracy_score(y_test, y_pred))\n",
        "print(\"Precision:\",metrics.precision_score(y_test, y_pred))\n",
        "print(\"Recall:\",metrics.recall_score(y_test, y_pred))\n",
        "print(\"TPR: \",tp/(tp+fn))\n",
        "print(\"FPR: \",fp/(tn+fp))\n",
        "print(\"F1 Score:\",metrics.f1_score(y_test, y_pred))"
      ],
      "metadata": {
        "colab": {
          "base_uri": "https://localhost:8080/"
        },
        "outputId": "f3f8b58b-4d49-44c3-ba72-b7d8a1b82102",
        "id": "iSDjIgRLirTn"
      },
      "execution_count": null,
      "outputs": [
        {
          "output_type": "stream",
          "name": "stdout",
          "text": [
            "Confusion Matrix:\n",
            "[[212   1]\n",
            " [  0 197]]\n",
            "Accuracy: 0.9975609756097561\n",
            "Precision: 0.9949494949494949\n",
            "Recall: 1.0\n",
            "TPR:  1.0\n",
            "FPR:  0.004694835680751174\n",
            "F1 Score: 0.9974683544303797\n"
          ]
        }
      ]
    },
    {
      "cell_type": "markdown",
      "source": [
        "German\n",
        "--------------"
      ],
      "metadata": {
        "id": "LOiZMZNef8Um"
      }
    },
    {
      "cell_type": "code",
      "source": [
        "df=pd.read_csv(\"drive/MyDrive/Datasets/Outlier_Classification/german.csv\")\n",
        "df.head()"
      ],
      "metadata": {
        "colab": {
          "base_uri": "https://localhost:8080/"
        },
        "outputId": "ecc913a5-49f1-407d-a94a-6e1a1f964641",
        "id": "Tmt1ekTsf8Un"
      },
      "execution_count": null,
      "outputs": [
        {
          "output_type": "execute_result",
          "data": {
            "text/html": [
              "\n",
              "  <div id=\"df-dfa3a7b0-b3e2-4748-af2f-6832b14a4f84\">\n",
              "    <div class=\"colab-df-container\">\n",
              "      <div>\n",
              "<style scoped>\n",
              "    .dataframe tbody tr th:only-of-type {\n",
              "        vertical-align: middle;\n",
              "    }\n",
              "\n",
              "    .dataframe tbody tr th {\n",
              "        vertical-align: top;\n",
              "    }\n",
              "\n",
              "    .dataframe thead th {\n",
              "        text-align: right;\n",
              "    }\n",
              "</style>\n",
              "<table border=\"1\" class=\"dataframe\">\n",
              "  <thead>\n",
              "    <tr style=\"text-align: right;\">\n",
              "      <th></th>\n",
              "      <th>A1</th>\n",
              "      <th>A2</th>\n",
              "      <th>A3</th>\n",
              "      <th>A4</th>\n",
              "      <th>A5</th>\n",
              "      <th>A6</th>\n",
              "      <th>A7</th>\n",
              "      <th>A8</th>\n",
              "      <th>A9</th>\n",
              "      <th>A10</th>\n",
              "      <th>...</th>\n",
              "      <th>A12</th>\n",
              "      <th>A13</th>\n",
              "      <th>A14</th>\n",
              "      <th>A15</th>\n",
              "      <th>A16</th>\n",
              "      <th>A17</th>\n",
              "      <th>A18</th>\n",
              "      <th>A19</th>\n",
              "      <th>A20</th>\n",
              "      <th>outlier</th>\n",
              "    </tr>\n",
              "  </thead>\n",
              "  <tbody>\n",
              "    <tr>\n",
              "      <th>0</th>\n",
              "      <td>A11</td>\n",
              "      <td>6</td>\n",
              "      <td>A34</td>\n",
              "      <td>A43</td>\n",
              "      <td>1169</td>\n",
              "      <td>A65</td>\n",
              "      <td>A75</td>\n",
              "      <td>4</td>\n",
              "      <td>A93</td>\n",
              "      <td>A101</td>\n",
              "      <td>...</td>\n",
              "      <td>A121</td>\n",
              "      <td>67</td>\n",
              "      <td>A143</td>\n",
              "      <td>A152</td>\n",
              "      <td>2</td>\n",
              "      <td>A173</td>\n",
              "      <td>1</td>\n",
              "      <td>A192</td>\n",
              "      <td>A201</td>\n",
              "      <td>0</td>\n",
              "    </tr>\n",
              "    <tr>\n",
              "      <th>1</th>\n",
              "      <td>A12</td>\n",
              "      <td>48</td>\n",
              "      <td>A32</td>\n",
              "      <td>A43</td>\n",
              "      <td>5951</td>\n",
              "      <td>A61</td>\n",
              "      <td>A73</td>\n",
              "      <td>2</td>\n",
              "      <td>A92</td>\n",
              "      <td>A101</td>\n",
              "      <td>...</td>\n",
              "      <td>A121</td>\n",
              "      <td>22</td>\n",
              "      <td>A143</td>\n",
              "      <td>A152</td>\n",
              "      <td>1</td>\n",
              "      <td>A173</td>\n",
              "      <td>1</td>\n",
              "      <td>A191</td>\n",
              "      <td>A201</td>\n",
              "      <td>0</td>\n",
              "    </tr>\n",
              "    <tr>\n",
              "      <th>2</th>\n",
              "      <td>A14</td>\n",
              "      <td>12</td>\n",
              "      <td>A34</td>\n",
              "      <td>A46</td>\n",
              "      <td>2096</td>\n",
              "      <td>A61</td>\n",
              "      <td>A74</td>\n",
              "      <td>2</td>\n",
              "      <td>A93</td>\n",
              "      <td>A101</td>\n",
              "      <td>...</td>\n",
              "      <td>A121</td>\n",
              "      <td>49</td>\n",
              "      <td>A143</td>\n",
              "      <td>A152</td>\n",
              "      <td>1</td>\n",
              "      <td>A172</td>\n",
              "      <td>2</td>\n",
              "      <td>A191</td>\n",
              "      <td>A201</td>\n",
              "      <td>0</td>\n",
              "    </tr>\n",
              "    <tr>\n",
              "      <th>3</th>\n",
              "      <td>A11</td>\n",
              "      <td>42</td>\n",
              "      <td>A32</td>\n",
              "      <td>A42</td>\n",
              "      <td>7882</td>\n",
              "      <td>A61</td>\n",
              "      <td>A74</td>\n",
              "      <td>2</td>\n",
              "      <td>A93</td>\n",
              "      <td>A103</td>\n",
              "      <td>...</td>\n",
              "      <td>A122</td>\n",
              "      <td>45</td>\n",
              "      <td>A143</td>\n",
              "      <td>A153</td>\n",
              "      <td>1</td>\n",
              "      <td>A173</td>\n",
              "      <td>2</td>\n",
              "      <td>A191</td>\n",
              "      <td>A201</td>\n",
              "      <td>0</td>\n",
              "    </tr>\n",
              "    <tr>\n",
              "      <th>4</th>\n",
              "      <td>A11</td>\n",
              "      <td>24</td>\n",
              "      <td>A33</td>\n",
              "      <td>A40</td>\n",
              "      <td>4870</td>\n",
              "      <td>A61</td>\n",
              "      <td>A73</td>\n",
              "      <td>3</td>\n",
              "      <td>A93</td>\n",
              "      <td>A101</td>\n",
              "      <td>...</td>\n",
              "      <td>A124</td>\n",
              "      <td>53</td>\n",
              "      <td>A143</td>\n",
              "      <td>A153</td>\n",
              "      <td>2</td>\n",
              "      <td>A173</td>\n",
              "      <td>2</td>\n",
              "      <td>A191</td>\n",
              "      <td>A201</td>\n",
              "      <td>0</td>\n",
              "    </tr>\n",
              "  </tbody>\n",
              "</table>\n",
              "<p>5 rows × 21 columns</p>\n",
              "</div>\n",
              "      <button class=\"colab-df-convert\" onclick=\"convertToInteractive('df-dfa3a7b0-b3e2-4748-af2f-6832b14a4f84')\"\n",
              "              title=\"Convert this dataframe to an interactive table.\"\n",
              "              style=\"display:none;\">\n",
              "        \n",
              "  <svg xmlns=\"http://www.w3.org/2000/svg\" height=\"24px\"viewBox=\"0 0 24 24\"\n",
              "       width=\"24px\">\n",
              "    <path d=\"M0 0h24v24H0V0z\" fill=\"none\"/>\n",
              "    <path d=\"M18.56 5.44l.94 2.06.94-2.06 2.06-.94-2.06-.94-.94-2.06-.94 2.06-2.06.94zm-11 1L8.5 8.5l.94-2.06 2.06-.94-2.06-.94L8.5 2.5l-.94 2.06-2.06.94zm10 10l.94 2.06.94-2.06 2.06-.94-2.06-.94-.94-2.06-.94 2.06-2.06.94z\"/><path d=\"M17.41 7.96l-1.37-1.37c-.4-.4-.92-.59-1.43-.59-.52 0-1.04.2-1.43.59L10.3 9.45l-7.72 7.72c-.78.78-.78 2.05 0 2.83L4 21.41c.39.39.9.59 1.41.59.51 0 1.02-.2 1.41-.59l7.78-7.78 2.81-2.81c.8-.78.8-2.07 0-2.86zM5.41 20L4 18.59l7.72-7.72 1.47 1.35L5.41 20z\"/>\n",
              "  </svg>\n",
              "      </button>\n",
              "      \n",
              "  <style>\n",
              "    .colab-df-container {\n",
              "      display:flex;\n",
              "      flex-wrap:wrap;\n",
              "      gap: 12px;\n",
              "    }\n",
              "\n",
              "    .colab-df-convert {\n",
              "      background-color: #E8F0FE;\n",
              "      border: none;\n",
              "      border-radius: 50%;\n",
              "      cursor: pointer;\n",
              "      display: none;\n",
              "      fill: #1967D2;\n",
              "      height: 32px;\n",
              "      padding: 0 0 0 0;\n",
              "      width: 32px;\n",
              "    }\n",
              "\n",
              "    .colab-df-convert:hover {\n",
              "      background-color: #E2EBFA;\n",
              "      box-shadow: 0px 1px 2px rgba(60, 64, 67, 0.3), 0px 1px 3px 1px rgba(60, 64, 67, 0.15);\n",
              "      fill: #174EA6;\n",
              "    }\n",
              "\n",
              "    [theme=dark] .colab-df-convert {\n",
              "      background-color: #3B4455;\n",
              "      fill: #D2E3FC;\n",
              "    }\n",
              "\n",
              "    [theme=dark] .colab-df-convert:hover {\n",
              "      background-color: #434B5C;\n",
              "      box-shadow: 0px 1px 3px 1px rgba(0, 0, 0, 0.15);\n",
              "      filter: drop-shadow(0px 1px 2px rgba(0, 0, 0, 0.3));\n",
              "      fill: #FFFFFF;\n",
              "    }\n",
              "  </style>\n",
              "\n",
              "      <script>\n",
              "        const buttonEl =\n",
              "          document.querySelector('#df-dfa3a7b0-b3e2-4748-af2f-6832b14a4f84 button.colab-df-convert');\n",
              "        buttonEl.style.display =\n",
              "          google.colab.kernel.accessAllowed ? 'block' : 'none';\n",
              "\n",
              "        async function convertToInteractive(key) {\n",
              "          const element = document.querySelector('#df-dfa3a7b0-b3e2-4748-af2f-6832b14a4f84');\n",
              "          const dataTable =\n",
              "            await google.colab.kernel.invokeFunction('convertToInteractive',\n",
              "                                                     [key], {});\n",
              "          if (!dataTable) return;\n",
              "\n",
              "          const docLinkHtml = 'Like what you see? Visit the ' +\n",
              "            '<a target=\"_blank\" href=https://colab.research.google.com/notebooks/data_table.ipynb>data table notebook</a>'\n",
              "            + ' to learn more about interactive tables.';\n",
              "          element.innerHTML = '';\n",
              "          dataTable['output_type'] = 'display_data';\n",
              "          await google.colab.output.renderOutput(dataTable, element);\n",
              "          const docLink = document.createElement('div');\n",
              "          docLink.innerHTML = docLinkHtml;\n",
              "          element.appendChild(docLink);\n",
              "        }\n",
              "      </script>\n",
              "    </div>\n",
              "  </div>\n",
              "  "
            ],
            "text/plain": [
              "    A1  A2   A3   A4    A5   A6   A7  A8   A9   A10  ...   A12 A13   A14  \\\n",
              "0  A11   6  A34  A43  1169  A65  A75   4  A93  A101  ...  A121  67  A143   \n",
              "1  A12  48  A32  A43  5951  A61  A73   2  A92  A101  ...  A121  22  A143   \n",
              "2  A14  12  A34  A46  2096  A61  A74   2  A93  A101  ...  A121  49  A143   \n",
              "3  A11  42  A32  A42  7882  A61  A74   2  A93  A103  ...  A122  45  A143   \n",
              "4  A11  24  A33  A40  4870  A61  A73   3  A93  A101  ...  A124  53  A143   \n",
              "\n",
              "    A15 A16   A17 A18   A19   A20 outlier  \n",
              "0  A152   2  A173   1  A192  A201       0  \n",
              "1  A152   1  A173   1  A191  A201       0  \n",
              "2  A152   1  A172   2  A191  A201       0  \n",
              "3  A153   1  A173   2  A191  A201       0  \n",
              "4  A153   2  A173   2  A191  A201       0  \n",
              "\n",
              "[5 rows x 21 columns]"
            ]
          },
          "metadata": {},
          "execution_count": 145
        }
      ]
    },
    {
      "cell_type": "code",
      "source": [
        "categ=['A1','A3','A4','A6','A7','A9','A10','A12','A14','A15','A17','A19','A20']\n",
        "df = oneHotFunc(df, categ)"
      ],
      "metadata": {
        "colab": {
          "base_uri": "https://localhost:8080/"
        },
        "outputId": "dd9702f9-89f7-48ca-9adb-6da5caa6f638",
        "id": "_M-DU_zrf8Uo"
      },
      "execution_count": null,
      "outputs": [
        {
          "output_type": "stream",
          "name": "stdout",
          "text": [
            "   A2    A5  A8  A11  A13  A16  A18  outlier  A1_A11  A1_A12  ...  A15_A153  \\\n",
            "0   6  1169   4    4   67    2    1        0       1       0  ...         1   \n",
            "1  48  5951   2    2   22    1    1        0       0       1  ...         1   \n",
            "2  12  2096   2    3   49    1    2        0       0       0  ...         1   \n",
            "3  42  7882   2    4   45    1    2        0       1       0  ...         0   \n",
            "4  24  4870   3    4   53    2    2        0       1       0  ...         0   \n",
            "\n",
            "   A15_A151  A17_A173  A17_A172  A17_A174  A17_A171  A19_A192  A19_A191  \\\n",
            "0         0         0         0         1         0         0         1   \n",
            "1         0         0         0         1         0         1         0   \n",
            "2         0         0         1         0         0         1         0   \n",
            "3         1         0         0         1         0         1         0   \n",
            "4         1         0         0         1         0         1         0   \n",
            "\n",
            "   A20_A201  A20_A202  \n",
            "0         1         0  \n",
            "1         1         0  \n",
            "2         1         0  \n",
            "3         1         0  \n",
            "4         1         0  \n",
            "\n",
            "[5 rows x 62 columns]\n"
          ]
        }
      ]
    },
    {
      "cell_type": "code",
      "source": [
        "msk = df['outlier'] == 1\n",
        "num_to_oversample = len(df) - 2*msk.sum()\n",
        "df_positive_oversample = df[msk].sample(n=num_to_oversample, replace=True, random_state=888)\n",
        "df_train_oversample = pd.concat([df, df_positive_oversample])\n",
        "df_train_oversample['outlier'].value_counts()"
      ],
      "metadata": {
        "colab": {
          "base_uri": "https://localhost:8080/"
        },
        "outputId": "39159283-52d4-43bd-ac96-ce0c5ed46525",
        "id": "KWv7zF-Tf8Up"
      },
      "execution_count": null,
      "outputs": [
        {
          "output_type": "execute_result",
          "data": {
            "text/plain": [
              "0    993\n",
              "1    993\n",
              "Name: outlier, dtype: int64"
            ]
          },
          "metadata": {},
          "execution_count": 147
        }
      ]
    },
    {
      "cell_type": "code",
      "source": [
        "X_train, X_test = train_test_split(df_train_oversample, test_size = 0.3, random_state = 0)\n",
        "y_train = X_train['outlier']\n",
        "X_train = X_train.drop('outlier',1)\n",
        "y_test = X_test['outlier']\n",
        "X_test = X_test.drop('outlier',1)"
      ],
      "metadata": {
        "colab": {
          "base_uri": "https://localhost:8080/"
        },
        "outputId": "ab4ee440-34d7-4db0-a510-f461e5370096",
        "id": "H1OfTVHzf8Uq"
      },
      "execution_count": null,
      "outputs": [
        {
          "output_type": "stream",
          "name": "stderr",
          "text": [
            "/usr/local/lib/python3.7/dist-packages/ipykernel_launcher.py:3: FutureWarning: In a future version of pandas all arguments of DataFrame.drop except for the argument 'labels' will be keyword-only\n",
            "  This is separate from the ipykernel package so we can avoid doing imports until\n",
            "/usr/local/lib/python3.7/dist-packages/ipykernel_launcher.py:5: FutureWarning: In a future version of pandas all arguments of DataFrame.drop except for the argument 'labels' will be keyword-only\n",
            "  \"\"\"\n"
          ]
        }
      ]
    },
    {
      "cell_type": "code",
      "source": [
        "clf = DecisionTreeClassifier()\n",
        "clf = clf.fit(X_train,y_train)\n",
        "y_pred = clf.predict(X_test)\n",
        "\n",
        "tn, fp, fn, tp = confusion_matrix(y_test, y_pred).ravel()\n",
        "print(\"Confusion Matrix:\")\n",
        "print(confusion_matrix(y_test,y_pred))\n",
        "print(\"Accuracy:\",metrics.accuracy_score(y_test, y_pred))\n",
        "print(\"Precision:\",metrics.precision_score(y_test, y_pred))\n",
        "print(\"Recall:\",metrics.recall_score(y_test, y_pred))\n",
        "print(\"TPR: \",tp/(tp+fn))\n",
        "print(\"FPR: \",fp/(tn+fp))\n",
        "print(\"F1 Score:\",metrics.f1_score(y_test, y_pred))"
      ],
      "metadata": {
        "colab": {
          "base_uri": "https://localhost:8080/"
        },
        "outputId": "cb4490fa-f6b8-4b2d-901d-fb3c0f530ca4",
        "id": "1RbI_2ndf8Ur"
      },
      "execution_count": null,
      "outputs": [
        {
          "output_type": "stream",
          "name": "stdout",
          "text": [
            "Confusion Matrix:\n",
            "[[295   1]\n",
            " [  0 300]]\n",
            "Accuracy: 0.9983221476510067\n",
            "Precision: 0.9966777408637874\n",
            "Recall: 1.0\n",
            "TPR:  1.0\n",
            "FPR:  0.0033783783783783786\n",
            "F1 Score: 0.9983361064891847\n"
          ]
        }
      ]
    },
    {
      "cell_type": "code",
      "source": [
        "sc = StandardScaler()\n",
        "X_train = sc.fit_transform(X_train)\n",
        "X_test = sc.transform(X_test)\n",
        "\n",
        "svc_model = SVC(C= .1, kernel='linear', gamma= 1)\n",
        "svc_model.fit(X_train, y_train)\n",
        "y_pred = svc_model .predict(X_test)\n",
        "\n",
        "tn, fp, fn, tp = confusion_matrix(y_test, y_pred).ravel()\n",
        "print(\"Confusion Matrix:\")\n",
        "print(confusion_matrix(y_test,y_pred))\n",
        "print(\"Accuracy:\",metrics.accuracy_score(y_test, y_pred))\n",
        "print(\"Precision:\",metrics.precision_score(y_test, y_pred))\n",
        "print(\"Recall:\",metrics.recall_score(y_test, y_pred))\n",
        "print(\"TPR: \",tp/(tp+fn))\n",
        "print(\"FPR: \",fp/(tn+fp))\n",
        "print(\"F1 Score:\",metrics.f1_score(y_test, y_pred))"
      ],
      "metadata": {
        "colab": {
          "base_uri": "https://localhost:8080/"
        },
        "outputId": "cfcf49ab-2eb4-4334-8253-8c2c20a45f04",
        "id": "DhFeYGepf8Us"
      },
      "execution_count": null,
      "outputs": [
        {
          "output_type": "stream",
          "name": "stdout",
          "text": [
            "Confusion Matrix:\n",
            "[[294   2]\n",
            " [  0 300]]\n",
            "Accuracy: 0.9966442953020134\n",
            "Precision: 0.9933774834437086\n",
            "Recall: 1.0\n",
            "TPR:  1.0\n",
            "FPR:  0.006756756756756757\n",
            "F1 Score: 0.9966777408637874\n"
          ]
        }
      ]
    },
    {
      "cell_type": "code",
      "source": [
        "lr = LogisticRegression()\n",
        "lr.fit(X_train, y_train)\n",
        "y_pred = lr.predict(X_test)\n",
        "\n",
        "tn, fp, fn, tp = confusion_matrix(y_test, y_pred).ravel()\n",
        "print(\"Confusion Matrix:\")\n",
        "print(confusion_matrix(y_test,y_pred))\n",
        "print(\"Accuracy:\",metrics.accuracy_score(y_test, y_pred))\n",
        "print(\"Precision:\",metrics.precision_score(y_test, y_pred))\n",
        "print(\"Recall:\",metrics.recall_score(y_test, y_pred))\n",
        "print(\"TPR: \",tp/(tp+fn))\n",
        "print(\"FPR: \",fp/(tn+fp))\n",
        "print(\"F1 Score:\",metrics.f1_score(y_test, y_pred))"
      ],
      "metadata": {
        "colab": {
          "base_uri": "https://localhost:8080/"
        },
        "outputId": "e0622128-a6da-4bc4-c6eb-8be2380d92af",
        "id": "P1J-GFaGf8Uu"
      },
      "execution_count": null,
      "outputs": [
        {
          "output_type": "stream",
          "name": "stdout",
          "text": [
            "Confusion Matrix:\n",
            "[[294   2]\n",
            " [  0 300]]\n",
            "Accuracy: 0.9966442953020134\n",
            "Precision: 0.9933774834437086\n",
            "Recall: 1.0\n",
            "TPR:  1.0\n",
            "FPR:  0.006756756756756757\n",
            "F1 Score: 0.9966777408637874\n"
          ]
        }
      ]
    },
    {
      "cell_type": "markdown",
      "source": [
        "Heart\n",
        "--------------"
      ],
      "metadata": {
        "id": "9fHi2Va_CN4Q"
      }
    },
    {
      "cell_type": "code",
      "source": [
        "df=pd.read_csv(\"drive/MyDrive/Datasets/Outlier_Classification/heart.csv\")\n",
        "df.head()"
      ],
      "metadata": {
        "colab": {
          "base_uri": "https://localhost:8080/"
        },
        "outputId": "5fd91f8b-4633-4ddb-b81c-21b04ea87334",
        "id": "eVFow3IHCQyD"
      },
      "execution_count": null,
      "outputs": [
        {
          "output_type": "execute_result",
          "data": {
            "text/html": [
              "\n",
              "  <div id=\"df-eb80be64-3228-42ac-95bf-617419c69063\">\n",
              "    <div class=\"colab-df-container\">\n",
              "      <div>\n",
              "<style scoped>\n",
              "    .dataframe tbody tr th:only-of-type {\n",
              "        vertical-align: middle;\n",
              "    }\n",
              "\n",
              "    .dataframe tbody tr th {\n",
              "        vertical-align: top;\n",
              "    }\n",
              "\n",
              "    .dataframe thead th {\n",
              "        text-align: right;\n",
              "    }\n",
              "</style>\n",
              "<table border=\"1\" class=\"dataframe\">\n",
              "  <thead>\n",
              "    <tr style=\"text-align: right;\">\n",
              "      <th></th>\n",
              "      <th>age</th>\n",
              "      <th>sex</th>\n",
              "      <th>cp</th>\n",
              "      <th>trestbps</th>\n",
              "      <th>chol</th>\n",
              "      <th>fbs</th>\n",
              "      <th>restecg</th>\n",
              "      <th>thalach</th>\n",
              "      <th>exang</th>\n",
              "      <th>oldpeak</th>\n",
              "      <th>slope</th>\n",
              "      <th>ca</th>\n",
              "      <th>thal</th>\n",
              "      <th>outlier</th>\n",
              "    </tr>\n",
              "  </thead>\n",
              "  <tbody>\n",
              "    <tr>\n",
              "      <th>0</th>\n",
              "      <td>63</td>\n",
              "      <td>1</td>\n",
              "      <td>3</td>\n",
              "      <td>145</td>\n",
              "      <td>233</td>\n",
              "      <td>1</td>\n",
              "      <td>0</td>\n",
              "      <td>150</td>\n",
              "      <td>0</td>\n",
              "      <td>2.3</td>\n",
              "      <td>0</td>\n",
              "      <td>0</td>\n",
              "      <td>1</td>\n",
              "      <td>0</td>\n",
              "    </tr>\n",
              "    <tr>\n",
              "      <th>1</th>\n",
              "      <td>37</td>\n",
              "      <td>1</td>\n",
              "      <td>2</td>\n",
              "      <td>130</td>\n",
              "      <td>250</td>\n",
              "      <td>0</td>\n",
              "      <td>1</td>\n",
              "      <td>187</td>\n",
              "      <td>0</td>\n",
              "      <td>3.5</td>\n",
              "      <td>0</td>\n",
              "      <td>0</td>\n",
              "      <td>2</td>\n",
              "      <td>0</td>\n",
              "    </tr>\n",
              "    <tr>\n",
              "      <th>2</th>\n",
              "      <td>41</td>\n",
              "      <td>0</td>\n",
              "      <td>1</td>\n",
              "      <td>130</td>\n",
              "      <td>204</td>\n",
              "      <td>0</td>\n",
              "      <td>0</td>\n",
              "      <td>172</td>\n",
              "      <td>0</td>\n",
              "      <td>1.4</td>\n",
              "      <td>2</td>\n",
              "      <td>0</td>\n",
              "      <td>2</td>\n",
              "      <td>0</td>\n",
              "    </tr>\n",
              "    <tr>\n",
              "      <th>3</th>\n",
              "      <td>56</td>\n",
              "      <td>1</td>\n",
              "      <td>1</td>\n",
              "      <td>120</td>\n",
              "      <td>236</td>\n",
              "      <td>0</td>\n",
              "      <td>1</td>\n",
              "      <td>178</td>\n",
              "      <td>0</td>\n",
              "      <td>0.8</td>\n",
              "      <td>2</td>\n",
              "      <td>0</td>\n",
              "      <td>2</td>\n",
              "      <td>0</td>\n",
              "    </tr>\n",
              "    <tr>\n",
              "      <th>4</th>\n",
              "      <td>57</td>\n",
              "      <td>0</td>\n",
              "      <td>0</td>\n",
              "      <td>120</td>\n",
              "      <td>354</td>\n",
              "      <td>0</td>\n",
              "      <td>1</td>\n",
              "      <td>163</td>\n",
              "      <td>1</td>\n",
              "      <td>0.6</td>\n",
              "      <td>2</td>\n",
              "      <td>0</td>\n",
              "      <td>2</td>\n",
              "      <td>0</td>\n",
              "    </tr>\n",
              "  </tbody>\n",
              "</table>\n",
              "</div>\n",
              "      <button class=\"colab-df-convert\" onclick=\"convertToInteractive('df-eb80be64-3228-42ac-95bf-617419c69063')\"\n",
              "              title=\"Convert this dataframe to an interactive table.\"\n",
              "              style=\"display:none;\">\n",
              "        \n",
              "  <svg xmlns=\"http://www.w3.org/2000/svg\" height=\"24px\"viewBox=\"0 0 24 24\"\n",
              "       width=\"24px\">\n",
              "    <path d=\"M0 0h24v24H0V0z\" fill=\"none\"/>\n",
              "    <path d=\"M18.56 5.44l.94 2.06.94-2.06 2.06-.94-2.06-.94-.94-2.06-.94 2.06-2.06.94zm-11 1L8.5 8.5l.94-2.06 2.06-.94-2.06-.94L8.5 2.5l-.94 2.06-2.06.94zm10 10l.94 2.06.94-2.06 2.06-.94-2.06-.94-.94-2.06-.94 2.06-2.06.94z\"/><path d=\"M17.41 7.96l-1.37-1.37c-.4-.4-.92-.59-1.43-.59-.52 0-1.04.2-1.43.59L10.3 9.45l-7.72 7.72c-.78.78-.78 2.05 0 2.83L4 21.41c.39.39.9.59 1.41.59.51 0 1.02-.2 1.41-.59l7.78-7.78 2.81-2.81c.8-.78.8-2.07 0-2.86zM5.41 20L4 18.59l7.72-7.72 1.47 1.35L5.41 20z\"/>\n",
              "  </svg>\n",
              "      </button>\n",
              "      \n",
              "  <style>\n",
              "    .colab-df-container {\n",
              "      display:flex;\n",
              "      flex-wrap:wrap;\n",
              "      gap: 12px;\n",
              "    }\n",
              "\n",
              "    .colab-df-convert {\n",
              "      background-color: #E8F0FE;\n",
              "      border: none;\n",
              "      border-radius: 50%;\n",
              "      cursor: pointer;\n",
              "      display: none;\n",
              "      fill: #1967D2;\n",
              "      height: 32px;\n",
              "      padding: 0 0 0 0;\n",
              "      width: 32px;\n",
              "    }\n",
              "\n",
              "    .colab-df-convert:hover {\n",
              "      background-color: #E2EBFA;\n",
              "      box-shadow: 0px 1px 2px rgba(60, 64, 67, 0.3), 0px 1px 3px 1px rgba(60, 64, 67, 0.15);\n",
              "      fill: #174EA6;\n",
              "    }\n",
              "\n",
              "    [theme=dark] .colab-df-convert {\n",
              "      background-color: #3B4455;\n",
              "      fill: #D2E3FC;\n",
              "    }\n",
              "\n",
              "    [theme=dark] .colab-df-convert:hover {\n",
              "      background-color: #434B5C;\n",
              "      box-shadow: 0px 1px 3px 1px rgba(0, 0, 0, 0.15);\n",
              "      filter: drop-shadow(0px 1px 2px rgba(0, 0, 0, 0.3));\n",
              "      fill: #FFFFFF;\n",
              "    }\n",
              "  </style>\n",
              "\n",
              "      <script>\n",
              "        const buttonEl =\n",
              "          document.querySelector('#df-eb80be64-3228-42ac-95bf-617419c69063 button.colab-df-convert');\n",
              "        buttonEl.style.display =\n",
              "          google.colab.kernel.accessAllowed ? 'block' : 'none';\n",
              "\n",
              "        async function convertToInteractive(key) {\n",
              "          const element = document.querySelector('#df-eb80be64-3228-42ac-95bf-617419c69063');\n",
              "          const dataTable =\n",
              "            await google.colab.kernel.invokeFunction('convertToInteractive',\n",
              "                                                     [key], {});\n",
              "          if (!dataTable) return;\n",
              "\n",
              "          const docLinkHtml = 'Like what you see? Visit the ' +\n",
              "            '<a target=\"_blank\" href=https://colab.research.google.com/notebooks/data_table.ipynb>data table notebook</a>'\n",
              "            + ' to learn more about interactive tables.';\n",
              "          element.innerHTML = '';\n",
              "          dataTable['output_type'] = 'display_data';\n",
              "          await google.colab.output.renderOutput(dataTable, element);\n",
              "          const docLink = document.createElement('div');\n",
              "          docLink.innerHTML = docLinkHtml;\n",
              "          element.appendChild(docLink);\n",
              "        }\n",
              "      </script>\n",
              "    </div>\n",
              "  </div>\n",
              "  "
            ],
            "text/plain": [
              "   age  sex  cp  trestbps  chol  fbs  restecg  thalach  exang  oldpeak  slope  \\\n",
              "0   63    1   3       145   233    1        0      150      0      2.3      0   \n",
              "1   37    1   2       130   250    0        1      187      0      3.5      0   \n",
              "2   41    0   1       130   204    0        0      172      0      1.4      2   \n",
              "3   56    1   1       120   236    0        1      178      0      0.8      2   \n",
              "4   57    0   0       120   354    0        1      163      1      0.6      2   \n",
              "\n",
              "   ca  thal  outlier  \n",
              "0   0     1        0  \n",
              "1   0     2        0  \n",
              "2   0     2        0  \n",
              "3   0     2        0  \n",
              "4   0     2        0  "
            ]
          },
          "metadata": {},
          "execution_count": 152
        }
      ]
    },
    {
      "cell_type": "code",
      "source": [
        "categ = ['sex','cp','fbs','restecg','exang','slope','ca','thal']\n",
        "df = oneHotFunc(df, categ)"
      ],
      "metadata": {
        "colab": {
          "base_uri": "https://localhost:8080/"
        },
        "id": "ZcODzU0da9GH",
        "outputId": "b1834aa3-7c60-4a3f-8f2a-f12a95a6f247"
      },
      "execution_count": null,
      "outputs": [
        {
          "output_type": "stream",
          "name": "stdout",
          "text": [
            "   age  trestbps  chol  thalach  oldpeak  outlier  sex_1  sex_0  cp_3  cp_2  \\\n",
            "0   63       145   233      150      2.3        0      0      1     0     0   \n",
            "1   37       130   250      187      3.5        0      0      1     0     0   \n",
            "2   41       130   204      172      1.4        0      1      0     0     1   \n",
            "3   56       120   236      178      0.8        0      0      1     0     1   \n",
            "4   57       120   354      163      0.6        0      1      0     1     0   \n",
            "\n",
            "   ...  slope_1  ca_0  ca_2  ca_1  ca_3  ca_4  thal_1  thal_2  thal_3  thal_0  \n",
            "0  ...        0     1     0     0     0     0       0       1       0       0  \n",
            "1  ...        0     1     0     0     0     0       0       0       1       0  \n",
            "2  ...        1     1     0     0     0     0       0       0       1       0  \n",
            "3  ...        1     1     0     0     0     0       0       0       1       0  \n",
            "4  ...        1     1     0     0     0     0       0       0       1       0  \n",
            "\n",
            "[5 rows x 31 columns]\n"
          ]
        }
      ]
    },
    {
      "cell_type": "code",
      "source": [
        "msk = df['outlier'] == 1\n",
        "num_to_oversample = len(df) - 2*msk.sum()\n",
        "df_positive_oversample = df[msk].sample(n=num_to_oversample, replace=True, random_state=888)\n",
        "df_train_oversample = pd.concat([df, df_positive_oversample])\n",
        "df_train_oversample['outlier'].value_counts()"
      ],
      "metadata": {
        "colab": {
          "base_uri": "https://localhost:8080/"
        },
        "id": "TzDZxwAFPtDT",
        "outputId": "1bbbd088-b78f-4ae8-d25a-edc1ca7eddda"
      },
      "execution_count": null,
      "outputs": [
        {
          "output_type": "execute_result",
          "data": {
            "text/plain": [
              "0    299\n",
              "1    299\n",
              "Name: outlier, dtype: int64"
            ]
          },
          "metadata": {},
          "execution_count": 154
        }
      ]
    },
    {
      "cell_type": "code",
      "source": [
        "X_train, X_test = train_test_split(df_train_oversample, test_size = 0.3, random_state = 0)\n",
        "y_train = X_train['outlier']\n",
        "X_train = X_train.drop('outlier',1)\n",
        "y_test = X_test['outlier']\n",
        "X_test = X_test.drop('outlier',1)"
      ],
      "metadata": {
        "id": "-FTQHQEiPv9U",
        "colab": {
          "base_uri": "https://localhost:8080/"
        },
        "outputId": "60d88c70-9070-49b4-9cd2-25b496227267"
      },
      "execution_count": null,
      "outputs": [
        {
          "output_type": "stream",
          "name": "stderr",
          "text": [
            "/usr/local/lib/python3.7/dist-packages/ipykernel_launcher.py:3: FutureWarning: In a future version of pandas all arguments of DataFrame.drop except for the argument 'labels' will be keyword-only\n",
            "  This is separate from the ipykernel package so we can avoid doing imports until\n",
            "/usr/local/lib/python3.7/dist-packages/ipykernel_launcher.py:5: FutureWarning: In a future version of pandas all arguments of DataFrame.drop except for the argument 'labels' will be keyword-only\n",
            "  \"\"\"\n"
          ]
        }
      ]
    },
    {
      "cell_type": "code",
      "source": [
        "clf = DecisionTreeClassifier()\n",
        "clf = clf.fit(X_train,y_train)\n",
        "y_pred = clf.predict(X_test)\n",
        "\n",
        "tn, fp, fn, tp = confusion_matrix(y_test, y_pred).ravel()\n",
        "print(\"Confusion Matrix:\")\n",
        "print(confusion_matrix(y_test,y_pred))\n",
        "print(\"Accuracy:\",metrics.accuracy_score(y_test, y_pred))\n",
        "print(\"Precision:\",metrics.precision_score(y_test, y_pred))\n",
        "print(\"Recall:\",metrics.recall_score(y_test, y_pred))\n",
        "print(\"TPR: \",tp/(tp+fn))\n",
        "print(\"FPR: \",fp/(tn+fp))\n",
        "print(\"F1 Score:\",metrics.f1_score(y_test, y_pred))"
      ],
      "metadata": {
        "colab": {
          "base_uri": "https://localhost:8080/"
        },
        "id": "FCmCm5CxPz_K",
        "outputId": "ed42bb1c-8d21-4722-91cf-cb544c32f238"
      },
      "execution_count": null,
      "outputs": [
        {
          "output_type": "stream",
          "name": "stdout",
          "text": [
            "Confusion Matrix:\n",
            "[[87  0]\n",
            " [ 0 93]]\n",
            "Accuracy: 1.0\n",
            "Precision: 1.0\n",
            "Recall: 1.0\n",
            "TPR:  1.0\n",
            "FPR:  0.0\n",
            "F1 Score: 1.0\n"
          ]
        }
      ]
    },
    {
      "cell_type": "code",
      "source": [
        "sc = StandardScaler()\n",
        "X_train = sc.fit_transform(X_train)\n",
        "X_test = sc.transform(X_test)\n",
        "\n",
        "svc_model = SVC(C= .1, kernel='linear', gamma= 1)\n",
        "svc_model.fit(X_train, y_train)\n",
        "y_pred = svc_model .predict(X_test)\n",
        "\n",
        "tn, fp, fn, tp = confusion_matrix(y_test, y_pred).ravel()\n",
        "print(\"Confusion Matrix:\")\n",
        "print(confusion_matrix(y_test,y_pred))\n",
        "print(\"Accuracy:\",metrics.accuracy_score(y_test, y_pred))\n",
        "print(\"Precision:\",metrics.precision_score(y_test, y_pred))\n",
        "print(\"Recall:\",metrics.recall_score(y_test, y_pred))\n",
        "print(\"TPR: \",tp/(tp+fn))\n",
        "print(\"FPR: \",fp/(tn+fp))\n",
        "print(\"F1 Score:\",metrics.f1_score(y_test, y_pred))"
      ],
      "metadata": {
        "colab": {
          "base_uri": "https://localhost:8080/"
        },
        "id": "I7jTeYreP2tU",
        "outputId": "8f495629-7d72-4e04-e120-4ba266ce83b3"
      },
      "execution_count": null,
      "outputs": [
        {
          "output_type": "stream",
          "name": "stdout",
          "text": [
            "Confusion Matrix:\n",
            "[[87  0]\n",
            " [ 0 93]]\n",
            "Accuracy: 1.0\n",
            "Precision: 1.0\n",
            "Recall: 1.0\n",
            "TPR:  1.0\n",
            "FPR:  0.0\n",
            "F1 Score: 1.0\n"
          ]
        }
      ]
    },
    {
      "cell_type": "code",
      "source": [
        "lr = LogisticRegression()\n",
        "lr.fit(X_train, y_train)\n",
        "y_pred = lr.predict(X_test)\n",
        "\n",
        "tn, fp, fn, tp = confusion_matrix(y_test, y_pred).ravel()\n",
        "print(\"Confusion Matrix:\")\n",
        "print(confusion_matrix(y_test,y_pred))\n",
        "print(\"Accuracy:\",metrics.accuracy_score(y_test, y_pred))\n",
        "print(\"Precision:\",metrics.precision_score(y_test, y_pred))\n",
        "print(\"Recall:\",metrics.recall_score(y_test, y_pred))\n",
        "print(\"TPR: \",tp/(tp+fn))\n",
        "print(\"FPR: \",fp/(tn+fp))\n",
        "print(\"F1 Score:\",metrics.f1_score(y_test, y_pred))"
      ],
      "metadata": {
        "colab": {
          "base_uri": "https://localhost:8080/"
        },
        "id": "IP1eRG1AP6Gg",
        "outputId": "a47b1c62-5479-4d64-b511-09c60e04b5bd"
      },
      "execution_count": null,
      "outputs": [
        {
          "output_type": "stream",
          "name": "stdout",
          "text": [
            "Confusion Matrix:\n",
            "[[87  0]\n",
            " [ 0 93]]\n",
            "Accuracy: 1.0\n",
            "Precision: 1.0\n",
            "Recall: 1.0\n",
            "TPR:  1.0\n",
            "FPR:  0.0\n",
            "F1 Score: 1.0\n"
          ]
        }
      ]
    },
    {
      "cell_type": "markdown",
      "source": [
        "Classification\n",
        "-----------------------------\n",
        "Before and after removing Outliers: using Random Forest"
      ],
      "metadata": {
        "id": "XyhuvoRBy-Ve"
      }
    },
    {
      "cell_type": "markdown",
      "source": [
        "Cylinder Bands\n",
        "-------------"
      ],
      "metadata": {
        "id": "Se36R2uSq-db"
      }
    },
    {
      "cell_type": "code",
      "source": [
        "df_after=pd.read_csv(\"drive/MyDrive/Modified_Datasets/AfterRemovingOutliers/band.csv\")\n",
        "colnames = ['timestamp', 'cylinder_number', 'customer', 'job_number', 'grain_screened', 'ink_color',\n",
        "'proof_on_ctd_ink', 'blade_mfg', 'cylinder_division', 'paper_type', 'ink_type', 'direct_steam', 'solvent_type',\n",
        "'type_on_cylinder', 'press_type', 'press', 'unit_number', 'cylinder_size', 'paper_mill_location', 'plating_tank',\n",
        "'proof_cut', 'viscosity', 'caliper', 'ink_temperature', 'humifity', 'roughness', 'blade_pressure', 'varnish_pct',\n",
        "'press_speed', 'ink_pct', 'solvent_pct', 'ESA_Voltage', 'ESA_Amperage', 'wax', 'hardener', 'roller_durometer',\n",
        "'current_density', 'anode_space_ratio', 'chrome_content', 'target']\n",
        "df_before = pd.read_csv(\"drive/MyDrive/Datasets/bands.data\",names=colnames, header=None)"
      ],
      "metadata": {
        "id": "w9DAJtn0q-dd"
      },
      "execution_count": null,
      "outputs": []
    },
    {
      "cell_type": "code",
      "source": [
        "str_ar = ['cylinder_number', 'customer', 'job_number', 'ink_color', 'cylinder_division', 'paper_type', 'ink_type',\n",
        "          'press_type', 'press', 'unit_number','target']\n",
        "df_before = MapFunc(df_before, str_ar)\n",
        "df_before = df_before.drop('timestamp',1)\n",
        "df_after = MapFunc(df_after, str_ar)\n",
        "df_after = df_after.drop('timestamp',1)"
      ],
      "metadata": {
        "colab": {
          "base_uri": "https://localhost:8080/"
        },
        "id": "Qx6yLkZWu3bc",
        "outputId": "9a5fd31c-01f4-445c-ac7c-170dd27f73ce"
      },
      "execution_count": null,
      "outputs": [
        {
          "output_type": "stream",
          "name": "stderr",
          "text": [
            "/usr/local/lib/python3.7/dist-packages/ipykernel_launcher.py:4: FutureWarning: In a future version of pandas all arguments of DataFrame.drop except for the argument 'labels' will be keyword-only\n",
            "  after removing the cwd from sys.path.\n",
            "/usr/local/lib/python3.7/dist-packages/ipykernel_launcher.py:6: FutureWarning: In a future version of pandas all arguments of DataFrame.drop except for the argument 'labels' will be keyword-only\n",
            "  \n"
          ]
        }
      ]
    },
    {
      "cell_type": "code",
      "source": [
        "str_ar = ['grain_screened', 'proof_on_ctd_ink', 'blade_mfg', 'direct_steam', 'solvent_type',\n",
        "'type_on_cylinder', 'cylinder_size', 'paper_mill_location', 'plating_tank']\n",
        "for i in range(len(str_ar)):\n",
        "    uni = list(df_before[str_ar[i]].unique())\n",
        "    uni.remove('?')\n",
        "    mylist = range(0,len(uni))\n",
        "    d = dict(zip(uni,mylist))\n",
        "    d['?'] = np.nan\n",
        "    print(d)\n",
        "    print('-------------------------')\n",
        "    df_before[str_ar[i]] = [d[item] for item in df_before[str_ar[i]]]\n",
        "    df_before[str_ar[i]] = df_before[str_ar[i]].replace('?',np.nan)\n",
        "for i in range(len(df_before.columns)):\n",
        "  df_before[df_before.columns[i]] = df_before[df_before.columns[i]].replace('?',np.nan)\n",
        "\n",
        "df_before.head()"
      ],
      "metadata": {
        "colab": {
          "base_uri": "https://localhost:8080/",
          "height": 612
        },
        "id": "u33mGLTfu66_",
        "outputId": "e97d88c0-d591-4100-8ade-99b2d8786319"
      },
      "execution_count": null,
      "outputs": [
        {
          "output_type": "stream",
          "name": "stdout",
          "text": [
            "{'YES': 0, 'NO': 1, '?': nan}\n",
            "-------------------------\n",
            "{'YES': 0, 'NO': 1, '?': nan}\n",
            "-------------------------\n",
            "{'BENTON': 0, 'UDDEHOLM': 1, '?': nan}\n",
            "-------------------------\n",
            "{'NO': 0, 'YES': 1, 'no': 2, '?': nan}\n",
            "-------------------------\n",
            "{'LINE': 0, 'XYLOL': 1, 'NAPTHA': 2, '?': nan}\n",
            "-------------------------\n",
            "{'YES': 0, 'NO': 1, 'no': 2, 'yes': 3, '?': nan}\n",
            "-------------------------\n",
            "{'TABLOID': 0, 'CATALOG': 1, 'SPIEGEL': 2, 'catalog': 3, 'tabloid': 4, 'spiegel': 5, '?': nan}\n",
            "-------------------------\n",
            "{'NorthUS': 0, 'CANADIAN': 1, 'CANAdiAN': 2, 'SCANDANAVIAN': 3, 'SouthUS': 4, 'mideuropean': 5, '?': nan}\n",
            "-------------------------\n",
            "{'1911': 0, '1910': 1, '?': nan}\n",
            "-------------------------\n"
          ]
        },
        {
          "output_type": "execute_result",
          "data": {
            "text/html": [
              "\n",
              "  <div id=\"df-3371c46a-6238-4b4b-a6f8-1109882d30d3\">\n",
              "    <div class=\"colab-df-container\">\n",
              "      <div>\n",
              "<style scoped>\n",
              "    .dataframe tbody tr th:only-of-type {\n",
              "        vertical-align: middle;\n",
              "    }\n",
              "\n",
              "    .dataframe tbody tr th {\n",
              "        vertical-align: top;\n",
              "    }\n",
              "\n",
              "    .dataframe thead th {\n",
              "        text-align: right;\n",
              "    }\n",
              "</style>\n",
              "<table border=\"1\" class=\"dataframe\">\n",
              "  <thead>\n",
              "    <tr style=\"text-align: right;\">\n",
              "      <th></th>\n",
              "      <th>cylinder_number</th>\n",
              "      <th>customer</th>\n",
              "      <th>job_number</th>\n",
              "      <th>grain_screened</th>\n",
              "      <th>ink_color</th>\n",
              "      <th>proof_on_ctd_ink</th>\n",
              "      <th>blade_mfg</th>\n",
              "      <th>cylinder_division</th>\n",
              "      <th>paper_type</th>\n",
              "      <th>ink_type</th>\n",
              "      <th>...</th>\n",
              "      <th>solvent_pct</th>\n",
              "      <th>ESA_Voltage</th>\n",
              "      <th>ESA_Amperage</th>\n",
              "      <th>wax</th>\n",
              "      <th>hardener</th>\n",
              "      <th>roller_durometer</th>\n",
              "      <th>current_density</th>\n",
              "      <th>anode_space_ratio</th>\n",
              "      <th>chrome_content</th>\n",
              "      <th>target</th>\n",
              "    </tr>\n",
              "  </thead>\n",
              "  <tbody>\n",
              "    <tr>\n",
              "      <th>0</th>\n",
              "      <td>0</td>\n",
              "      <td>0</td>\n",
              "      <td>0</td>\n",
              "      <td>0.0</td>\n",
              "      <td>0</td>\n",
              "      <td>0.0</td>\n",
              "      <td>0.0</td>\n",
              "      <td>0</td>\n",
              "      <td>0</td>\n",
              "      <td>0</td>\n",
              "      <td>...</td>\n",
              "      <td>36.4</td>\n",
              "      <td>0</td>\n",
              "      <td>0</td>\n",
              "      <td>2.5</td>\n",
              "      <td>1</td>\n",
              "      <td>34</td>\n",
              "      <td>40</td>\n",
              "      <td>105</td>\n",
              "      <td>100</td>\n",
              "      <td>0</td>\n",
              "    </tr>\n",
              "    <tr>\n",
              "      <th>1</th>\n",
              "      <td>1</td>\n",
              "      <td>0</td>\n",
              "      <td>0</td>\n",
              "      <td>0.0</td>\n",
              "      <td>0</td>\n",
              "      <td>0.0</td>\n",
              "      <td>0.0</td>\n",
              "      <td>0</td>\n",
              "      <td>0</td>\n",
              "      <td>0</td>\n",
              "      <td>...</td>\n",
              "      <td>38.5</td>\n",
              "      <td>0</td>\n",
              "      <td>0</td>\n",
              "      <td>2.5</td>\n",
              "      <td>0.7</td>\n",
              "      <td>34</td>\n",
              "      <td>40</td>\n",
              "      <td>105</td>\n",
              "      <td>100</td>\n",
              "      <td>1</td>\n",
              "    </tr>\n",
              "    <tr>\n",
              "      <th>2</th>\n",
              "      <td>2</td>\n",
              "      <td>1</td>\n",
              "      <td>1</td>\n",
              "      <td>0.0</td>\n",
              "      <td>0</td>\n",
              "      <td>0.0</td>\n",
              "      <td>0.0</td>\n",
              "      <td>0</td>\n",
              "      <td>0</td>\n",
              "      <td>1</td>\n",
              "      <td>...</td>\n",
              "      <td>39.8</td>\n",
              "      <td>0</td>\n",
              "      <td>0</td>\n",
              "      <td>2.8</td>\n",
              "      <td>0.9</td>\n",
              "      <td>40</td>\n",
              "      <td>40</td>\n",
              "      <td>103.87</td>\n",
              "      <td>100</td>\n",
              "      <td>1</td>\n",
              "    </tr>\n",
              "    <tr>\n",
              "      <th>3</th>\n",
              "      <td>3</td>\n",
              "      <td>2</td>\n",
              "      <td>2</td>\n",
              "      <td>0.0</td>\n",
              "      <td>0</td>\n",
              "      <td>0.0</td>\n",
              "      <td>0.0</td>\n",
              "      <td>0</td>\n",
              "      <td>0</td>\n",
              "      <td>0</td>\n",
              "      <td>...</td>\n",
              "      <td>38.8</td>\n",
              "      <td>0</td>\n",
              "      <td>0</td>\n",
              "      <td>2.5</td>\n",
              "      <td>1.3</td>\n",
              "      <td>40</td>\n",
              "      <td>40</td>\n",
              "      <td>108.06</td>\n",
              "      <td>100</td>\n",
              "      <td>1</td>\n",
              "    </tr>\n",
              "    <tr>\n",
              "      <th>4</th>\n",
              "      <td>4</td>\n",
              "      <td>3</td>\n",
              "      <td>3</td>\n",
              "      <td>1.0</td>\n",
              "      <td>0</td>\n",
              "      <td>0.0</td>\n",
              "      <td>0.0</td>\n",
              "      <td>0</td>\n",
              "      <td>0</td>\n",
              "      <td>1</td>\n",
              "      <td>...</td>\n",
              "      <td>42.5</td>\n",
              "      <td>5</td>\n",
              "      <td>0</td>\n",
              "      <td>2.3</td>\n",
              "      <td>0.6</td>\n",
              "      <td>35</td>\n",
              "      <td>40</td>\n",
              "      <td>106.67</td>\n",
              "      <td>100</td>\n",
              "      <td>1</td>\n",
              "    </tr>\n",
              "  </tbody>\n",
              "</table>\n",
              "<p>5 rows × 39 columns</p>\n",
              "</div>\n",
              "      <button class=\"colab-df-convert\" onclick=\"convertToInteractive('df-3371c46a-6238-4b4b-a6f8-1109882d30d3')\"\n",
              "              title=\"Convert this dataframe to an interactive table.\"\n",
              "              style=\"display:none;\">\n",
              "        \n",
              "  <svg xmlns=\"http://www.w3.org/2000/svg\" height=\"24px\"viewBox=\"0 0 24 24\"\n",
              "       width=\"24px\">\n",
              "    <path d=\"M0 0h24v24H0V0z\" fill=\"none\"/>\n",
              "    <path d=\"M18.56 5.44l.94 2.06.94-2.06 2.06-.94-2.06-.94-.94-2.06-.94 2.06-2.06.94zm-11 1L8.5 8.5l.94-2.06 2.06-.94-2.06-.94L8.5 2.5l-.94 2.06-2.06.94zm10 10l.94 2.06.94-2.06 2.06-.94-2.06-.94-.94-2.06-.94 2.06-2.06.94z\"/><path d=\"M17.41 7.96l-1.37-1.37c-.4-.4-.92-.59-1.43-.59-.52 0-1.04.2-1.43.59L10.3 9.45l-7.72 7.72c-.78.78-.78 2.05 0 2.83L4 21.41c.39.39.9.59 1.41.59.51 0 1.02-.2 1.41-.59l7.78-7.78 2.81-2.81c.8-.78.8-2.07 0-2.86zM5.41 20L4 18.59l7.72-7.72 1.47 1.35L5.41 20z\"/>\n",
              "  </svg>\n",
              "      </button>\n",
              "      \n",
              "  <style>\n",
              "    .colab-df-container {\n",
              "      display:flex;\n",
              "      flex-wrap:wrap;\n",
              "      gap: 12px;\n",
              "    }\n",
              "\n",
              "    .colab-df-convert {\n",
              "      background-color: #E8F0FE;\n",
              "      border: none;\n",
              "      border-radius: 50%;\n",
              "      cursor: pointer;\n",
              "      display: none;\n",
              "      fill: #1967D2;\n",
              "      height: 32px;\n",
              "      padding: 0 0 0 0;\n",
              "      width: 32px;\n",
              "    }\n",
              "\n",
              "    .colab-df-convert:hover {\n",
              "      background-color: #E2EBFA;\n",
              "      box-shadow: 0px 1px 2px rgba(60, 64, 67, 0.3), 0px 1px 3px 1px rgba(60, 64, 67, 0.15);\n",
              "      fill: #174EA6;\n",
              "    }\n",
              "\n",
              "    [theme=dark] .colab-df-convert {\n",
              "      background-color: #3B4455;\n",
              "      fill: #D2E3FC;\n",
              "    }\n",
              "\n",
              "    [theme=dark] .colab-df-convert:hover {\n",
              "      background-color: #434B5C;\n",
              "      box-shadow: 0px 1px 3px 1px rgba(0, 0, 0, 0.15);\n",
              "      filter: drop-shadow(0px 1px 2px rgba(0, 0, 0, 0.3));\n",
              "      fill: #FFFFFF;\n",
              "    }\n",
              "  </style>\n",
              "\n",
              "      <script>\n",
              "        const buttonEl =\n",
              "          document.querySelector('#df-3371c46a-6238-4b4b-a6f8-1109882d30d3 button.colab-df-convert');\n",
              "        buttonEl.style.display =\n",
              "          google.colab.kernel.accessAllowed ? 'block' : 'none';\n",
              "\n",
              "        async function convertToInteractive(key) {\n",
              "          const element = document.querySelector('#df-3371c46a-6238-4b4b-a6f8-1109882d30d3');\n",
              "          const dataTable =\n",
              "            await google.colab.kernel.invokeFunction('convertToInteractive',\n",
              "                                                     [key], {});\n",
              "          if (!dataTable) return;\n",
              "\n",
              "          const docLinkHtml = 'Like what you see? Visit the ' +\n",
              "            '<a target=\"_blank\" href=https://colab.research.google.com/notebooks/data_table.ipynb>data table notebook</a>'\n",
              "            + ' to learn more about interactive tables.';\n",
              "          element.innerHTML = '';\n",
              "          dataTable['output_type'] = 'display_data';\n",
              "          await google.colab.output.renderOutput(dataTable, element);\n",
              "          const docLink = document.createElement('div');\n",
              "          docLink.innerHTML = docLinkHtml;\n",
              "          element.appendChild(docLink);\n",
              "        }\n",
              "      </script>\n",
              "    </div>\n",
              "  </div>\n",
              "  "
            ],
            "text/plain": [
              "   cylinder_number  customer  job_number  grain_screened  ink_color  \\\n",
              "0                0         0           0             0.0          0   \n",
              "1                1         0           0             0.0          0   \n",
              "2                2         1           1             0.0          0   \n",
              "3                3         2           2             0.0          0   \n",
              "4                4         3           3             1.0          0   \n",
              "\n",
              "   proof_on_ctd_ink  blade_mfg  cylinder_division  paper_type  ink_type  ...  \\\n",
              "0               0.0        0.0                  0           0         0  ...   \n",
              "1               0.0        0.0                  0           0         0  ...   \n",
              "2               0.0        0.0                  0           0         1  ...   \n",
              "3               0.0        0.0                  0           0         0  ...   \n",
              "4               0.0        0.0                  0           0         1  ...   \n",
              "\n",
              "   solvent_pct  ESA_Voltage  ESA_Amperage  wax  hardener  roller_durometer  \\\n",
              "0         36.4            0             0  2.5         1                34   \n",
              "1         38.5            0             0  2.5       0.7                34   \n",
              "2         39.8            0             0  2.8       0.9                40   \n",
              "3         38.8            0             0  2.5       1.3                40   \n",
              "4         42.5            5             0  2.3       0.6                35   \n",
              "\n",
              "   current_density  anode_space_ratio  chrome_content target  \n",
              "0               40                105             100      0  \n",
              "1               40                105             100      1  \n",
              "2               40             103.87             100      1  \n",
              "3               40             108.06             100      1  \n",
              "4               40             106.67             100      1  \n",
              "\n",
              "[5 rows x 39 columns]"
            ]
          },
          "metadata": {},
          "execution_count": 27
        }
      ]
    },
    {
      "cell_type": "code",
      "source": [
        "str_ar = ['grain_screened', 'proof_on_ctd_ink', 'blade_mfg', 'direct_steam', 'solvent_type',\n",
        "'type_on_cylinder', 'cylinder_size', 'paper_mill_location', 'plating_tank']\n",
        "for i in range(len(str_ar)):\n",
        "    uni = list(df_after[str_ar[i]].unique())\n",
        "    uni.remove('?')\n",
        "    mylist = range(0,len(uni))\n",
        "    d = dict(zip(uni,mylist))\n",
        "    d['?'] = np.nan\n",
        "    print(d)\n",
        "    print('-------------------------')\n",
        "    df_after[str_ar[i]] = [d[item] for item in df_after[str_ar[i]]]\n",
        "    df_after[str_ar[i]] = df_after[str_ar[i]].replace('?',np.nan)\n",
        "for i in range(len(df_after.columns)):\n",
        "  df_after[df_after.columns[i]] = df_after[df_after.columns[i]].replace('?',np.nan)\n",
        "\n",
        "df_after.head()"
      ],
      "metadata": {
        "colab": {
          "base_uri": "https://localhost:8080/",
          "height": 612
        },
        "id": "5q8s61GbvAAl",
        "outputId": "9d1d1461-9b9a-4a5d-bf52-a20a95c07d6a"
      },
      "execution_count": null,
      "outputs": [
        {
          "output_type": "stream",
          "name": "stdout",
          "text": [
            "{'YES': 0, 'NO': 1, '?': nan}\n",
            "-------------------------\n",
            "{'YES': 0, 'NO': 1, '?': nan}\n",
            "-------------------------\n",
            "{'BENTON': 0, 'UDDEHOLM': 1, '?': nan}\n",
            "-------------------------\n",
            "{'NO': 0, 'YES': 1, 'no': 2, '?': nan}\n",
            "-------------------------\n",
            "{'LINE': 0, 'XYLOL': 1, 'NAPTHA': 2, '?': nan}\n",
            "-------------------------\n",
            "{'YES': 0, 'NO': 1, 'no': 2, 'yes': 3, '?': nan}\n",
            "-------------------------\n",
            "{'TABLOID': 0, 'CATALOG': 1, 'SPIEGEL': 2, 'catalog': 3, 'tabloid': 4, 'spiegel': 5, '?': nan}\n",
            "-------------------------\n",
            "{'NorthUS': 0, 'CANADIAN': 1, 'CANAdiAN': 2, 'SCANDANAVIAN': 3, 'SouthUS': 4, 'mideuropean': 5, '?': nan}\n",
            "-------------------------\n",
            "{'1911': 0, '1910': 1, '?': nan}\n",
            "-------------------------\n"
          ]
        },
        {
          "output_type": "execute_result",
          "data": {
            "text/html": [
              "\n",
              "  <div id=\"df-f788db5a-b5af-4cbc-ab55-850713cb3b97\">\n",
              "    <div class=\"colab-df-container\">\n",
              "      <div>\n",
              "<style scoped>\n",
              "    .dataframe tbody tr th:only-of-type {\n",
              "        vertical-align: middle;\n",
              "    }\n",
              "\n",
              "    .dataframe tbody tr th {\n",
              "        vertical-align: top;\n",
              "    }\n",
              "\n",
              "    .dataframe thead th {\n",
              "        text-align: right;\n",
              "    }\n",
              "</style>\n",
              "<table border=\"1\" class=\"dataframe\">\n",
              "  <thead>\n",
              "    <tr style=\"text-align: right;\">\n",
              "      <th></th>\n",
              "      <th>cylinder_number</th>\n",
              "      <th>customer</th>\n",
              "      <th>job_number</th>\n",
              "      <th>grain_screened</th>\n",
              "      <th>ink_color</th>\n",
              "      <th>proof_on_ctd_ink</th>\n",
              "      <th>blade_mfg</th>\n",
              "      <th>cylinder_division</th>\n",
              "      <th>paper_type</th>\n",
              "      <th>ink_type</th>\n",
              "      <th>...</th>\n",
              "      <th>solvent_pct</th>\n",
              "      <th>ESA_Voltage</th>\n",
              "      <th>ESA_Amperage</th>\n",
              "      <th>wax</th>\n",
              "      <th>hardener</th>\n",
              "      <th>roller_durometer</th>\n",
              "      <th>current_density</th>\n",
              "      <th>anode_space_ratio</th>\n",
              "      <th>chrome_content</th>\n",
              "      <th>target</th>\n",
              "    </tr>\n",
              "  </thead>\n",
              "  <tbody>\n",
              "    <tr>\n",
              "      <th>0</th>\n",
              "      <td>0</td>\n",
              "      <td>0</td>\n",
              "      <td>0</td>\n",
              "      <td>0.0</td>\n",
              "      <td>0</td>\n",
              "      <td>0.0</td>\n",
              "      <td>0.0</td>\n",
              "      <td>0</td>\n",
              "      <td>0</td>\n",
              "      <td>0</td>\n",
              "      <td>...</td>\n",
              "      <td>36.4</td>\n",
              "      <td>0</td>\n",
              "      <td>0</td>\n",
              "      <td>2.5</td>\n",
              "      <td>1</td>\n",
              "      <td>34</td>\n",
              "      <td>40</td>\n",
              "      <td>105</td>\n",
              "      <td>100</td>\n",
              "      <td>0</td>\n",
              "    </tr>\n",
              "    <tr>\n",
              "      <th>1</th>\n",
              "      <td>1</td>\n",
              "      <td>0</td>\n",
              "      <td>0</td>\n",
              "      <td>0.0</td>\n",
              "      <td>0</td>\n",
              "      <td>0.0</td>\n",
              "      <td>0.0</td>\n",
              "      <td>0</td>\n",
              "      <td>0</td>\n",
              "      <td>0</td>\n",
              "      <td>...</td>\n",
              "      <td>38.5</td>\n",
              "      <td>0</td>\n",
              "      <td>0</td>\n",
              "      <td>2.5</td>\n",
              "      <td>0.7</td>\n",
              "      <td>34</td>\n",
              "      <td>40</td>\n",
              "      <td>105</td>\n",
              "      <td>100</td>\n",
              "      <td>1</td>\n",
              "    </tr>\n",
              "    <tr>\n",
              "      <th>2</th>\n",
              "      <td>2</td>\n",
              "      <td>1</td>\n",
              "      <td>1</td>\n",
              "      <td>0.0</td>\n",
              "      <td>0</td>\n",
              "      <td>0.0</td>\n",
              "      <td>0.0</td>\n",
              "      <td>0</td>\n",
              "      <td>0</td>\n",
              "      <td>1</td>\n",
              "      <td>...</td>\n",
              "      <td>39.8</td>\n",
              "      <td>0</td>\n",
              "      <td>0</td>\n",
              "      <td>2.8</td>\n",
              "      <td>0.9</td>\n",
              "      <td>40</td>\n",
              "      <td>40</td>\n",
              "      <td>103.87</td>\n",
              "      <td>100</td>\n",
              "      <td>1</td>\n",
              "    </tr>\n",
              "    <tr>\n",
              "      <th>3</th>\n",
              "      <td>3</td>\n",
              "      <td>2</td>\n",
              "      <td>2</td>\n",
              "      <td>0.0</td>\n",
              "      <td>0</td>\n",
              "      <td>0.0</td>\n",
              "      <td>0.0</td>\n",
              "      <td>0</td>\n",
              "      <td>0</td>\n",
              "      <td>0</td>\n",
              "      <td>...</td>\n",
              "      <td>38.8</td>\n",
              "      <td>0</td>\n",
              "      <td>0</td>\n",
              "      <td>2.5</td>\n",
              "      <td>1.3</td>\n",
              "      <td>40</td>\n",
              "      <td>40</td>\n",
              "      <td>108.06</td>\n",
              "      <td>100</td>\n",
              "      <td>1</td>\n",
              "    </tr>\n",
              "    <tr>\n",
              "      <th>4</th>\n",
              "      <td>4</td>\n",
              "      <td>3</td>\n",
              "      <td>3</td>\n",
              "      <td>1.0</td>\n",
              "      <td>0</td>\n",
              "      <td>0.0</td>\n",
              "      <td>0.0</td>\n",
              "      <td>0</td>\n",
              "      <td>0</td>\n",
              "      <td>1</td>\n",
              "      <td>...</td>\n",
              "      <td>42.5</td>\n",
              "      <td>5</td>\n",
              "      <td>0</td>\n",
              "      <td>2.3</td>\n",
              "      <td>0.6</td>\n",
              "      <td>35</td>\n",
              "      <td>40</td>\n",
              "      <td>106.67</td>\n",
              "      <td>100</td>\n",
              "      <td>1</td>\n",
              "    </tr>\n",
              "  </tbody>\n",
              "</table>\n",
              "<p>5 rows × 39 columns</p>\n",
              "</div>\n",
              "      <button class=\"colab-df-convert\" onclick=\"convertToInteractive('df-f788db5a-b5af-4cbc-ab55-850713cb3b97')\"\n",
              "              title=\"Convert this dataframe to an interactive table.\"\n",
              "              style=\"display:none;\">\n",
              "        \n",
              "  <svg xmlns=\"http://www.w3.org/2000/svg\" height=\"24px\"viewBox=\"0 0 24 24\"\n",
              "       width=\"24px\">\n",
              "    <path d=\"M0 0h24v24H0V0z\" fill=\"none\"/>\n",
              "    <path d=\"M18.56 5.44l.94 2.06.94-2.06 2.06-.94-2.06-.94-.94-2.06-.94 2.06-2.06.94zm-11 1L8.5 8.5l.94-2.06 2.06-.94-2.06-.94L8.5 2.5l-.94 2.06-2.06.94zm10 10l.94 2.06.94-2.06 2.06-.94-2.06-.94-.94-2.06-.94 2.06-2.06.94z\"/><path d=\"M17.41 7.96l-1.37-1.37c-.4-.4-.92-.59-1.43-.59-.52 0-1.04.2-1.43.59L10.3 9.45l-7.72 7.72c-.78.78-.78 2.05 0 2.83L4 21.41c.39.39.9.59 1.41.59.51 0 1.02-.2 1.41-.59l7.78-7.78 2.81-2.81c.8-.78.8-2.07 0-2.86zM5.41 20L4 18.59l7.72-7.72 1.47 1.35L5.41 20z\"/>\n",
              "  </svg>\n",
              "      </button>\n",
              "      \n",
              "  <style>\n",
              "    .colab-df-container {\n",
              "      display:flex;\n",
              "      flex-wrap:wrap;\n",
              "      gap: 12px;\n",
              "    }\n",
              "\n",
              "    .colab-df-convert {\n",
              "      background-color: #E8F0FE;\n",
              "      border: none;\n",
              "      border-radius: 50%;\n",
              "      cursor: pointer;\n",
              "      display: none;\n",
              "      fill: #1967D2;\n",
              "      height: 32px;\n",
              "      padding: 0 0 0 0;\n",
              "      width: 32px;\n",
              "    }\n",
              "\n",
              "    .colab-df-convert:hover {\n",
              "      background-color: #E2EBFA;\n",
              "      box-shadow: 0px 1px 2px rgba(60, 64, 67, 0.3), 0px 1px 3px 1px rgba(60, 64, 67, 0.15);\n",
              "      fill: #174EA6;\n",
              "    }\n",
              "\n",
              "    [theme=dark] .colab-df-convert {\n",
              "      background-color: #3B4455;\n",
              "      fill: #D2E3FC;\n",
              "    }\n",
              "\n",
              "    [theme=dark] .colab-df-convert:hover {\n",
              "      background-color: #434B5C;\n",
              "      box-shadow: 0px 1px 3px 1px rgba(0, 0, 0, 0.15);\n",
              "      filter: drop-shadow(0px 1px 2px rgba(0, 0, 0, 0.3));\n",
              "      fill: #FFFFFF;\n",
              "    }\n",
              "  </style>\n",
              "\n",
              "      <script>\n",
              "        const buttonEl =\n",
              "          document.querySelector('#df-f788db5a-b5af-4cbc-ab55-850713cb3b97 button.colab-df-convert');\n",
              "        buttonEl.style.display =\n",
              "          google.colab.kernel.accessAllowed ? 'block' : 'none';\n",
              "\n",
              "        async function convertToInteractive(key) {\n",
              "          const element = document.querySelector('#df-f788db5a-b5af-4cbc-ab55-850713cb3b97');\n",
              "          const dataTable =\n",
              "            await google.colab.kernel.invokeFunction('convertToInteractive',\n",
              "                                                     [key], {});\n",
              "          if (!dataTable) return;\n",
              "\n",
              "          const docLinkHtml = 'Like what you see? Visit the ' +\n",
              "            '<a target=\"_blank\" href=https://colab.research.google.com/notebooks/data_table.ipynb>data table notebook</a>'\n",
              "            + ' to learn more about interactive tables.';\n",
              "          element.innerHTML = '';\n",
              "          dataTable['output_type'] = 'display_data';\n",
              "          await google.colab.output.renderOutput(dataTable, element);\n",
              "          const docLink = document.createElement('div');\n",
              "          docLink.innerHTML = docLinkHtml;\n",
              "          element.appendChild(docLink);\n",
              "        }\n",
              "      </script>\n",
              "    </div>\n",
              "  </div>\n",
              "  "
            ],
            "text/plain": [
              "   cylinder_number  customer  job_number  grain_screened  ink_color  \\\n",
              "0                0         0           0             0.0          0   \n",
              "1                1         0           0             0.0          0   \n",
              "2                2         1           1             0.0          0   \n",
              "3                3         2           2             0.0          0   \n",
              "4                4         3           3             1.0          0   \n",
              "\n",
              "   proof_on_ctd_ink  blade_mfg  cylinder_division  paper_type  ink_type  ...  \\\n",
              "0               0.0        0.0                  0           0         0  ...   \n",
              "1               0.0        0.0                  0           0         0  ...   \n",
              "2               0.0        0.0                  0           0         1  ...   \n",
              "3               0.0        0.0                  0           0         0  ...   \n",
              "4               0.0        0.0                  0           0         1  ...   \n",
              "\n",
              "   solvent_pct  ESA_Voltage  ESA_Amperage  wax  hardener  roller_durometer  \\\n",
              "0         36.4            0             0  2.5         1                34   \n",
              "1         38.5            0             0  2.5       0.7                34   \n",
              "2         39.8            0             0  2.8       0.9                40   \n",
              "3         38.8            0             0  2.5       1.3                40   \n",
              "4         42.5            5             0  2.3       0.6                35   \n",
              "\n",
              "   current_density  anode_space_ratio  chrome_content target  \n",
              "0               40                105             100      0  \n",
              "1               40                105             100      1  \n",
              "2               40             103.87             100      1  \n",
              "3               40             108.06             100      1  \n",
              "4               40             106.67             100      1  \n",
              "\n",
              "[5 rows x 39 columns]"
            ]
          },
          "metadata": {},
          "execution_count": 28
        }
      ]
    },
    {
      "cell_type": "code",
      "source": [
        "df_before = df_before.astype(float)\n",
        "df_after = df_after.astype(float)\n",
        "imputer = KNNImputer(n_neighbors=3)\n",
        "df_before = pd.DataFrame(imputer.fit_transform(df_before),columns = df_before.columns)\n",
        "imputer = KNNImputer(n_neighbors=3)\n",
        "df_after = pd.DataFrame(imputer.fit_transform(df_after),columns = df_after.columns)"
      ],
      "metadata": {
        "id": "Sr7Mw89LvEZy"
      },
      "execution_count": null,
      "outputs": []
    },
    {
      "cell_type": "code",
      "source": [
        "categ = ['cylinder_number', 'customer', 'job_number', 'grain_screened', 'ink_color',\n",
        "'proof_on_ctd_ink', 'blade_mfg', 'cylinder_division', 'paper_type', 'ink_type', 'direct_steam', 'solvent_type',\n",
        "'type_on_cylinder', 'press_type', 'press', 'unit_number', 'cylinder_size', 'paper_mill_location', 'plating_tank']\n",
        "df_before = oneHotFunc(df_before, categ)\n",
        "df_after = oneHotFunc(df_after, categ)"
      ],
      "metadata": {
        "colab": {
          "base_uri": "https://localhost:8080/"
        },
        "outputId": "f4409ebf-9895-465c-eb48-b42093e4dea9",
        "id": "dKDD7NRGq-de"
      },
      "execution_count": null,
      "outputs": [
        {
          "output_type": "stream",
          "name": "stdout",
          "text": [
            "   proof_cut  viscosity  caliper  ink_temperature  humifity  roughness  \\\n",
            "0       55.0       46.0    0.200             17.0      78.0   0.750000   \n",
            "1       55.0       46.0    0.300             15.0      80.0   0.750000   \n",
            "2       62.0       40.0    0.433             16.0      80.0   0.833333   \n",
            "3       52.0       40.0    0.300             16.0      75.0   0.312500   \n",
            "4       50.0       46.0    0.300             17.0      80.0   0.750000   \n",
            "\n",
            "   blade_pressure  varnish_pct  press_speed  ink_pct  ...  \\\n",
            "0            20.0         13.1       1700.0     50.5  ...   \n",
            "1            20.0          6.6       1900.0     54.9  ...   \n",
            "2            30.0          6.5       1850.0     53.8  ...   \n",
            "3            30.0          5.6       1467.0     55.6  ...   \n",
            "4            30.0          0.0       2100.0     57.5  ...   \n",
            "\n",
            "   paper_mill_location_1.6666666666666667  \\\n",
            "0                                       0   \n",
            "1                                       0   \n",
            "2                                       0   \n",
            "3                                       0   \n",
            "4                                       1   \n",
            "\n",
            "   paper_mill_location_0.6666666666666666  \\\n",
            "0                                       0   \n",
            "1                                       0   \n",
            "2                                       0   \n",
            "3                                       0   \n",
            "4                                       0   \n",
            "\n",
            "   paper_mill_location_1.3333333333333333  paper_mill_location_5.0  \\\n",
            "0                                       0                        0   \n",
            "1                                       0                        0   \n",
            "2                                       0                        0   \n",
            "3                                       0                        0   \n",
            "4                                       0                        0   \n",
            "\n",
            "   paper_mill_location_3.6666666666666665  \\\n",
            "0                                       0   \n",
            "1                                       0   \n",
            "2                                       0   \n",
            "3                                       0   \n",
            "4                                       0   \n",
            "\n",
            "   paper_mill_location_3.3333333333333335  plating_tank_0.0  \\\n",
            "0                                       0                 1   \n",
            "1                                       0                 0   \n",
            "2                                       0                 0   \n",
            "3                                       0                 0   \n",
            "4                                       0                 0   \n",
            "\n",
            "   plating_tank_0.3333333333333333  plating_tank_0.6666666666666666  \\\n",
            "0                                0                                0   \n",
            "1                                1                                0   \n",
            "2                                0                                1   \n",
            "3                                0                                0   \n",
            "4                                0                                0   \n",
            "\n",
            "   plating_tank_1.0  \n",
            "0                 0  \n",
            "1                 0  \n",
            "2                 0  \n",
            "3                 1  \n",
            "4                 1  \n",
            "\n",
            "[5 rows x 881 columns]\n",
            "   proof_cut  viscosity  caliper  ink_temperature  humifity  roughness  \\\n",
            "0       55.0       46.0    0.200             17.0      78.0   0.750000   \n",
            "1       55.0       46.0    0.300             15.0      80.0   0.750000   \n",
            "2       62.0       40.0    0.433             16.0      80.0   0.833333   \n",
            "3       52.0       40.0    0.300             16.0      75.0   0.312500   \n",
            "4       50.0       46.0    0.300             17.0      80.0   0.750000   \n",
            "\n",
            "   blade_pressure  varnish_pct  press_speed  ink_pct  ...  \\\n",
            "0            20.0         13.1       1700.0     50.5  ...   \n",
            "1            20.0          6.6       1900.0     54.9  ...   \n",
            "2            30.0          6.5       1850.0     53.8  ...   \n",
            "3            30.0          5.6       1467.0     55.6  ...   \n",
            "4            30.0          0.0       2100.0     57.5  ...   \n",
            "\n",
            "   paper_mill_location_1.6666666666666667  \\\n",
            "0                                       0   \n",
            "1                                       0   \n",
            "2                                       0   \n",
            "3                                       0   \n",
            "4                                       1   \n",
            "\n",
            "   paper_mill_location_0.6666666666666666  \\\n",
            "0                                       0   \n",
            "1                                       0   \n",
            "2                                       0   \n",
            "3                                       0   \n",
            "4                                       0   \n",
            "\n",
            "   paper_mill_location_1.3333333333333333  paper_mill_location_5.0  \\\n",
            "0                                       0                        0   \n",
            "1                                       0                        0   \n",
            "2                                       0                        0   \n",
            "3                                       0                        0   \n",
            "4                                       0                        0   \n",
            "\n",
            "   paper_mill_location_3.6666666666666665  \\\n",
            "0                                       0   \n",
            "1                                       0   \n",
            "2                                       0   \n",
            "3                                       0   \n",
            "4                                       0   \n",
            "\n",
            "   paper_mill_location_3.3333333333333335  plating_tank_0.0  \\\n",
            "0                                       0                 1   \n",
            "1                                       0                 0   \n",
            "2                                       0                 0   \n",
            "3                                       0                 0   \n",
            "4                                       0                 0   \n",
            "\n",
            "   plating_tank_0.3333333333333333  plating_tank_0.6666666666666666  \\\n",
            "0                                0                                0   \n",
            "1                                1                                0   \n",
            "2                                0                                1   \n",
            "3                                0                                0   \n",
            "4                                0                                0   \n",
            "\n",
            "   plating_tank_1.0  \n",
            "0                 0  \n",
            "1                 0  \n",
            "2                 0  \n",
            "3                 1  \n",
            "4                 1  \n",
            "\n",
            "[5 rows x 879 columns]\n"
          ]
        }
      ]
    },
    {
      "cell_type": "code",
      "source": [
        "X = df_before.drop('target',1)\n",
        "y = df_before['target']\n",
        "X_train, X_test, y_train, y_test = train_test_split(X, y, test_size=0.3,random_state=25)\n",
        "clf=RandomForestClassifier(n_estimators=100,random_state=20)\n",
        "clf.fit(X_train,y_train)\n",
        "y_pred=clf.predict(X_test)\n",
        "\n",
        "tn, fp, fn, tp = confusion_matrix(y_test, y_pred).ravel()\n",
        "print(\"Confusion Matrix:\")\n",
        "print(confusion_matrix(y_test,y_pred))\n",
        "print(\"Accuracy:\",metrics.accuracy_score(y_test, y_pred))\n",
        "print(\"Precision:\",metrics.precision_score(y_test, y_pred))\n",
        "print(\"Recall:\",metrics.recall_score(y_test, y_pred))\n",
        "print(\"TPR: \",tp/(tp+fn))\n",
        "print(\"FPR: \",fp/(tn+fp))\n",
        "print(\"F1 Score:\",metrics.f1_score(y_test, y_pred))"
      ],
      "metadata": {
        "colab": {
          "base_uri": "https://localhost:8080/"
        },
        "outputId": "5605f43c-c789-40cf-ab4f-dce9614bf0f2",
        "id": "vV0KEk76q-dg"
      },
      "execution_count": null,
      "outputs": [
        {
          "output_type": "stream",
          "name": "stderr",
          "text": [
            "/usr/local/lib/python3.7/dist-packages/ipykernel_launcher.py:1: FutureWarning: In a future version of pandas all arguments of DataFrame.drop except for the argument 'labels' will be keyword-only\n",
            "  \"\"\"Entry point for launching an IPython kernel.\n"
          ]
        },
        {
          "output_type": "stream",
          "name": "stdout",
          "text": [
            "Confusion Matrix:\n",
            "[[44 23]\n",
            " [12 83]]\n",
            "Accuracy: 0.7839506172839507\n",
            "Precision: 0.7830188679245284\n",
            "Recall: 0.8736842105263158\n",
            "TPR:  0.8736842105263158\n",
            "FPR:  0.34328358208955223\n",
            "F1 Score: 0.8258706467661692\n"
          ]
        }
      ]
    },
    {
      "cell_type": "code",
      "source": [
        "X = df_after.drop('target',1)\n",
        "y = df_after['target']\n",
        "X_train, X_test, y_train, y_test = train_test_split(X, y, test_size=0.3,random_state=15)\n",
        "clf=RandomForestClassifier(n_estimators=100,random_state=20)\n",
        "clf.fit(X_train,y_train)\n",
        "y_pred=clf.predict(X_test)\n",
        "\n",
        "tn, fp, fn, tp = confusion_matrix(y_test, y_pred).ravel()\n",
        "print(\"Confusion Matrix:\")\n",
        "print(confusion_matrix(y_test,y_pred))\n",
        "print(\"Accuracy:\",metrics.accuracy_score(y_test, y_pred))\n",
        "print(\"Precision:\",metrics.precision_score(y_test, y_pred))\n",
        "print(\"Recall:\",metrics.recall_score(y_test, y_pred))\n",
        "print(\"TPR: \",tp/(tp+fn))\n",
        "print(\"FPR: \",fp/(tn+fp))\n",
        "print(\"F1 Score:\",metrics.f1_score(y_test, y_pred))"
      ],
      "metadata": {
        "colab": {
          "base_uri": "https://localhost:8080/"
        },
        "outputId": "7d065741-d420-4080-f32b-d899b4334999",
        "id": "Vogp1nXhq-dh"
      },
      "execution_count": null,
      "outputs": [
        {
          "output_type": "stream",
          "name": "stderr",
          "text": [
            "/usr/local/lib/python3.7/dist-packages/ipykernel_launcher.py:1: FutureWarning: In a future version of pandas all arguments of DataFrame.drop except for the argument 'labels' will be keyword-only\n",
            "  \"\"\"Entry point for launching an IPython kernel.\n"
          ]
        },
        {
          "output_type": "stream",
          "name": "stdout",
          "text": [
            "Confusion Matrix:\n",
            "[[47 25]\n",
            " [ 7 83]]\n",
            "Accuracy: 0.8024691358024691\n",
            "Precision: 0.7685185185185185\n",
            "Recall: 0.9222222222222223\n",
            "TPR:  0.9222222222222223\n",
            "FPR:  0.3472222222222222\n",
            "F1 Score: 0.8383838383838385\n"
          ]
        }
      ]
    },
    {
      "cell_type": "markdown",
      "source": [
        "Credit\n",
        "-------------"
      ],
      "metadata": {
        "id": "LJLO0C9Rp1dx"
      }
    },
    {
      "cell_type": "code",
      "source": [
        "df_after=pd.read_csv(\"drive/MyDrive/Modified_Datasets/AfterRemovingOutliers/credit.csv\")\n",
        "colnames = ['A1','A2','A3','A4','A5','A6','A7','A8','A9','A10','A11','A12','A13','A14','A15','target']\n",
        "df_before = pd.read_csv(\"drive/MyDrive/Datasets/creditapproval.data\",names=colnames, header=None)"
      ],
      "metadata": {
        "id": "siCGBfHAp1dy"
      },
      "execution_count": null,
      "outputs": []
    },
    {
      "cell_type": "code",
      "source": [
        "str_ar = ['A9','A10','A12','A13', 'target']\n",
        "df_before = MapFunc(df_before, str_ar)\n",
        "str_ar = ['A1','A4','A5','A6','A7']\n",
        "for i in range(len(str_ar)):\n",
        "    uni = list(df_before[str_ar[i]].unique())\n",
        "    uni.remove('?')\n",
        "    mylist = range(0,len(uni))\n",
        "    d = dict(zip(uni,mylist))\n",
        "    d['?'] = np.nan\n",
        "    print(d)\n",
        "    print('-------------------------')\n",
        "    df_before[str_ar[i]] = [d[item] for item in df_before[str_ar[i]]]\n",
        "    df_before[str_ar[i]] = df_before[str_ar[i]].replace('?',np.nan)\n",
        "\n",
        "for i in range(len(df_before.columns)):\n",
        "  df_before[df_before.columns[i]] = df_before[df_before.columns[i]].replace('?',np.nan)\n",
        "\n",
        "imputer = KNNImputer(n_neighbors=3)\n",
        "df_before = pd.DataFrame(imputer.fit_transform(df_before),columns = df_before.columns)"
      ],
      "metadata": {
        "id": "qDAmWin6qFw7",
        "colab": {
          "base_uri": "https://localhost:8080/"
        },
        "outputId": "7582fa6f-f982-4499-9c9a-4f78285a66db"
      },
      "execution_count": null,
      "outputs": [
        {
          "output_type": "stream",
          "name": "stdout",
          "text": [
            "{'b': 0, 'a': 1, '?': nan}\n",
            "-------------------------\n",
            "{'u': 0, 'y': 1, 'l': 2, '?': nan}\n",
            "-------------------------\n",
            "{'g': 0, 'p': 1, 'gg': 2, '?': nan}\n",
            "-------------------------\n",
            "{'w': 0, 'q': 1, 'm': 2, 'r': 3, 'cc': 4, 'k': 5, 'c': 6, 'd': 7, 'x': 8, 'i': 9, 'e': 10, 'aa': 11, 'ff': 12, 'j': 13, '?': nan}\n",
            "-------------------------\n",
            "{'v': 0, 'h': 1, 'bb': 2, 'ff': 3, 'j': 4, 'z': 5, 'o': 6, 'dd': 7, 'n': 8, '?': nan}\n",
            "-------------------------\n"
          ]
        }
      ]
    },
    {
      "cell_type": "code",
      "source": [
        "str_ar = ['A9','A10','A12','A13', 'target']\n",
        "df_after = MapFunc(df_after, str_ar)\n",
        "str_ar = ['A1','A4','A5','A6','A7']\n",
        "for i in range(len(str_ar)):\n",
        "    uni = list(df_after[str_ar[i]].unique())\n",
        "    uni.remove('?')\n",
        "    mylist = range(0,len(uni))\n",
        "    d = dict(zip(uni,mylist))\n",
        "    d['?'] = np.nan\n",
        "    print(d)\n",
        "    print('-------------------------')\n",
        "    df_after[str_ar[i]] = [d[item] for item in df_after[str_ar[i]]]\n",
        "    df_after[str_ar[i]] = df_after[str_ar[i]].replace('?',np.nan)\n",
        "\n",
        "for i in range(len(df_after.columns)):\n",
        "  df_after[df_after.columns[i]] = df_after[df_after.columns[i]].replace('?',np.nan)\n",
        "\n",
        "df_after.head()\n",
        "imputer = KNNImputer(n_neighbors=3)\n",
        "df_after = pd.DataFrame(imputer.fit_transform(df_after),columns = df_after.columns)"
      ],
      "metadata": {
        "colab": {
          "base_uri": "https://localhost:8080/"
        },
        "id": "kU7At0-l4k5f",
        "outputId": "fb4d7583-cf56-4f4c-8316-29a89750bb40"
      },
      "execution_count": null,
      "outputs": [
        {
          "output_type": "stream",
          "name": "stdout",
          "text": [
            "{'b': 0, 'a': 1, '?': nan}\n",
            "-------------------------\n",
            "{'u': 0, 'y': 1, '?': nan}\n",
            "-------------------------\n",
            "{'g': 0, 'p': 1, '?': nan}\n",
            "-------------------------\n",
            "{'w': 0, 'q': 1, 'm': 2, 'r': 3, 'cc': 4, 'k': 5, 'c': 6, 'd': 7, 'x': 8, 'i': 9, 'e': 10, 'aa': 11, 'ff': 12, 'j': 13, '?': nan}\n",
            "-------------------------\n",
            "{'v': 0, 'h': 1, 'bb': 2, 'ff': 3, 'j': 4, 'z': 5, 'o': 6, 'dd': 7, 'n': 8, '?': nan}\n",
            "-------------------------\n"
          ]
        }
      ]
    },
    {
      "cell_type": "code",
      "source": [
        "categ=['A1','A4','A5','A6','A7','A9','A10','A12','A13']\n",
        "df_before = oneHotFunc(df_before, categ)\n",
        "df_after = oneHotFunc(df_after, categ)"
      ],
      "metadata": {
        "colab": {
          "base_uri": "https://localhost:8080/"
        },
        "id": "3f77tpP34oCH",
        "outputId": "39d8054c-c2dd-4fbc-ea2c-67538925b814"
      },
      "execution_count": null,
      "outputs": [
        {
          "output_type": "stream",
          "name": "stdout",
          "text": [
            "      A2     A3    A8  A11    A14    A15  target  A1_0.0  A1_1.0  \\\n",
            "0  30.83  0.000  1.25  1.0  202.0    0.0     0.0       1       0   \n",
            "1  58.67  4.460  3.04  6.0   43.0  560.0     0.0       0       0   \n",
            "2  24.50  0.500  1.50  0.0  280.0  824.0     0.0       0       0   \n",
            "3  27.83  1.540  3.75  5.0  100.0    3.0     0.0       1       0   \n",
            "4  20.17  5.625  1.71  0.0  120.0    0.0     0.0       1       0   \n",
            "\n",
            "   A1_0.6666666666666666  ...  A7_1.6666666666666667  A9_0.0  A9_1.0  A10_0.0  \\\n",
            "0                      0  ...                      0       1       0        1   \n",
            "1                      0  ...                      0       1       0        1   \n",
            "2                      0  ...                      0       1       0        0   \n",
            "3                      0  ...                      0       1       0        1   \n",
            "4                      0  ...                      0       1       0        0   \n",
            "\n",
            "   A10_1.0  A12_0.0  A12_1.0  A13_0.0  A13_1.0  A13_2.0  \n",
            "0        0        1        0        1        0        0  \n",
            "1        0        1        0        1        0        0  \n",
            "2        1        1        0        1        0        0  \n",
            "3        0        0        1        1        0        0  \n",
            "4        1        1        0        0        1        0  \n",
            "\n",
            "[5 rows x 58 columns]\n",
            "      A2     A3    A8  A11    A14    A15  target  A1_0.0  A1_1.0  \\\n",
            "0  30.83  0.000  1.25  1.0  202.0    0.0     0.0       1       0   \n",
            "1  58.67  4.460  3.04  6.0   43.0  560.0     0.0       0       0   \n",
            "2  24.50  0.500  1.50  0.0  280.0  824.0     0.0       0       0   \n",
            "3  27.83  1.540  3.75  5.0  100.0    3.0     0.0       1       0   \n",
            "4  20.17  5.625  1.71  0.0  120.0    0.0     0.0       1       0   \n",
            "\n",
            "   A1_0.6666666666666666  ...  A7_1.6666666666666667  A9_0.0  A9_1.0  A10_0.0  \\\n",
            "0                      0  ...                      0       1       0        1   \n",
            "1                      0  ...                      0       1       0        1   \n",
            "2                      0  ...                      0       1       0        0   \n",
            "3                      0  ...                      0       1       0        1   \n",
            "4                      0  ...                      0       1       0        0   \n",
            "\n",
            "   A10_1.0  A12_0.0  A12_1.0  A13_0.0  A13_1.0  A13_2.0  \n",
            "0        0        1        0        1        0        0  \n",
            "1        0        1        0        1        0        0  \n",
            "2        1        1        0        1        0        0  \n",
            "3        0        0        1        1        0        0  \n",
            "4        1        1        0        0        1        0  \n",
            "\n",
            "[5 rows x 54 columns]\n"
          ]
        }
      ]
    },
    {
      "cell_type": "code",
      "source": [
        "df_before = df_before.astype(float)\n",
        "df_after = df_after.astype(float)"
      ],
      "metadata": {
        "id": "f4NyvbAaqKtQ"
      },
      "execution_count": null,
      "outputs": []
    },
    {
      "cell_type": "code",
      "source": [
        "X = df_before.drop('target',1)\n",
        "y = df_before['target']\n",
        "X_train, X_test, y_train, y_test = train_test_split(X, y, test_size=0.3,random_state=100)\n",
        "clf=RandomForestClassifier(n_estimators=100,random_state=20)\n",
        "clf.fit(X_train,y_train)\n",
        "y_pred=clf.predict(X_test)\n",
        "\n",
        "tn, fp, fn, tp = confusion_matrix(y_test, y_pred).ravel()\n",
        "print(\"Confusion Matrix:\")\n",
        "print(confusion_matrix(y_test,y_pred))\n",
        "print(\"Accuracy:\",metrics.accuracy_score(y_test, y_pred))\n",
        "print(\"Precision:\",metrics.precision_score(y_test, y_pred))\n",
        "print(\"Recall:\",metrics.recall_score(y_test, y_pred))\n",
        "print(\"TPR: \",tp/(tp+fn))\n",
        "print(\"FPR: \",fp/(tn+fp))\n",
        "print(\"F1 Score:\",metrics.f1_score(y_test, y_pred))"
      ],
      "metadata": {
        "colab": {
          "base_uri": "https://localhost:8080/"
        },
        "outputId": "4e7cc644-002b-4a85-f247-849264834f4f",
        "id": "V-K70KfAp1dy"
      },
      "execution_count": null,
      "outputs": [
        {
          "output_type": "stream",
          "name": "stderr",
          "text": [
            "/usr/local/lib/python3.7/dist-packages/ipykernel_launcher.py:1: FutureWarning: In a future version of pandas all arguments of DataFrame.drop except for the argument 'labels' will be keyword-only\n",
            "  \"\"\"Entry point for launching an IPython kernel.\n"
          ]
        },
        {
          "output_type": "stream",
          "name": "stdout",
          "text": [
            "Confusion Matrix:\n",
            "[[76 14]\n",
            " [18 99]]\n",
            "Accuracy: 0.8454106280193237\n",
            "Precision: 0.8761061946902655\n",
            "Recall: 0.8461538461538461\n",
            "TPR:  0.8461538461538461\n",
            "FPR:  0.15555555555555556\n",
            "F1 Score: 0.8608695652173913\n"
          ]
        }
      ]
    },
    {
      "cell_type": "code",
      "source": [
        "X = df_after.drop('target',1)\n",
        "y = df_after['target']\n",
        "X_train, X_test, y_train, y_test = train_test_split(X, y, test_size=0.3,random_state=100)\n",
        "clf=RandomForestClassifier(n_estimators=100,random_state=20)\n",
        "clf.fit(X_train,y_train)\n",
        "y_pred=clf.predict(X_test)\n",
        "\n",
        "tn, fp, fn, tp = confusion_matrix(y_test, y_pred).ravel()\n",
        "print(\"Confusion Matrix:\")\n",
        "print(confusion_matrix(y_test,y_pred))\n",
        "print(\"Accuracy:\",metrics.accuracy_score(y_test, y_pred))\n",
        "print(\"Precision:\",metrics.precision_score(y_test, y_pred))\n",
        "print(\"Recall:\",metrics.recall_score(y_test, y_pred))\n",
        "print(\"TPR: \",tp/(tp+fn))\n",
        "print(\"FPR: \",fp/(tn+fp))\n",
        "print(\"F1 Score:\",metrics.f1_score(y_test, y_pred))"
      ],
      "metadata": {
        "colab": {
          "base_uri": "https://localhost:8080/"
        },
        "outputId": "2a90727c-11ab-45bd-fcbb-359fde1e3c19",
        "id": "b_jtblvrp1dy"
      },
      "execution_count": null,
      "outputs": [
        {
          "output_type": "stream",
          "name": "stderr",
          "text": [
            "/usr/local/lib/python3.7/dist-packages/ipykernel_launcher.py:1: FutureWarning: In a future version of pandas all arguments of DataFrame.drop except for the argument 'labels' will be keyword-only\n",
            "  \"\"\"Entry point for launching an IPython kernel.\n"
          ]
        },
        {
          "output_type": "stream",
          "name": "stdout",
          "text": [
            "Confusion Matrix:\n",
            "[[ 78  10]\n",
            " [ 15 103]]\n",
            "Accuracy: 0.8786407766990292\n",
            "Precision: 0.911504424778761\n",
            "Recall: 0.8728813559322034\n",
            "TPR:  0.8728813559322034\n",
            "FPR:  0.11363636363636363\n",
            "F1 Score: 0.8917748917748918\n"
          ]
        }
      ]
    },
    {
      "cell_type": "markdown",
      "source": [
        "Australian\n",
        "-------------"
      ],
      "metadata": {
        "id": "qQ5G-VhTjDzd"
      }
    },
    {
      "cell_type": "code",
      "source": [
        "df_after=pd.read_csv(\"drive/MyDrive/Datasets/AfterRemovingOutliers/australian.csv\")\n",
        "colnames = ['A1','A2','A3','A4','A5','A6','A7','A8','A9','A10','A11','A12','A13','A14','target']\n",
        "df_before = pd.read_csv(\"drive/MyDrive/Datasets/australian.dat\",delimiter=' ',names=colnames, header=None)"
      ],
      "metadata": {
        "id": "g1IgeYIljDze"
      },
      "execution_count": null,
      "outputs": []
    },
    {
      "cell_type": "code",
      "source": [
        "categ = ['A1','A4','A5','A6','A8','A9','A11','A12']\n",
        "df_after = oneHotFunc(df_after, categ)\n",
        "df_before = oneHotFunc(df_before, categ)"
      ],
      "metadata": {
        "colab": {
          "base_uri": "https://localhost:8080/"
        },
        "outputId": "37f4b6d3-9c72-468a-f351-6f9bc4240b74",
        "id": "nXoRbUFqjDzf"
      },
      "execution_count": null,
      "outputs": [
        {
          "output_type": "stream",
          "name": "stdout",
          "text": [
            "      A2     A3     A7   A10    A13     A14  target  A1_1.0  A1_0.0  A4_2.0  \\\n",
            "0  22.08  11.46  1.585   0.0  100.0  1213.0     0.0       0       1       0   \n",
            "1  22.67   7.00  0.165   0.0  160.0     1.0     0.0       1       0       0   \n",
            "2  29.58   1.75  1.250   0.0  280.0     1.0     0.0       1       0       1   \n",
            "3  21.67  11.50  0.000  11.0    0.0     1.0     1.0       1       0       1   \n",
            "4  20.17   8.17  1.960  14.0   60.0   159.0     1.0       0       1       0   \n",
            "\n",
            "   ...  A6_7.0  A8_0.0  A8_1.0  A9_0.0  A9_1.0  A11_1.0  A11_0.0  A12_2.0  \\\n",
            "0  ...       0       1       0       1       0        0        1        0   \n",
            "1  ...       0       1       0       1       0        1        0        0   \n",
            "2  ...       0       1       0       1       0        0        1        0   \n",
            "3  ...       0       0       1       0       1        0        1        0   \n",
            "4  ...       0       0       1       0       1        1        0        0   \n",
            "\n",
            "   A12_1.0  A12_3.0  \n",
            "0        1        0  \n",
            "1        1        0  \n",
            "2        1        0  \n",
            "3        1        0  \n",
            "4        1        0  \n",
            "\n",
            "[5 rows x 43 columns]\n",
            "      A2     A3     A7  A10  A13   A14  target  A1_1  A1_0  A4_2  ...  A6_7  \\\n",
            "0  22.08  11.46  1.585    0  100  1213       0     0     1     0  ...     0   \n",
            "1  22.67   7.00  0.165    0  160     1       0     1     0     0  ...     0   \n",
            "2  29.58   1.75  1.250    0  280     1       0     1     0     1  ...     0   \n",
            "3  21.67  11.50  0.000   11    0     1       1     1     0     1  ...     0   \n",
            "4  20.17   8.17  1.960   14   60   159       1     0     1     0  ...     0   \n",
            "\n",
            "   A8_0  A8_1  A9_0  A9_1  A11_1  A11_0  A12_2  A12_1  A12_3  \n",
            "0     1     0     1     0      0      1      0      1      0  \n",
            "1     1     0     1     0      1      0      0      1      0  \n",
            "2     1     0     1     0      0      1      0      1      0  \n",
            "3     0     1     0     1      0      1      0      1      0  \n",
            "4     0     1     0     1      1      0      0      1      0  \n",
            "\n",
            "[5 rows x 43 columns]\n"
          ]
        }
      ]
    },
    {
      "cell_type": "code",
      "source": [
        "X = df_before.drop('target',1)\n",
        "y = df_before['target']\n",
        "X_train, X_test, y_train, y_test = train_test_split(X, y, test_size=0.3,random_state=50)\n",
        "clf=RandomForestClassifier(n_estimators=100,random_state=20)\n",
        "clf.fit(X_train,y_train)\n",
        "y_pred=clf.predict(X_test)\n",
        "\n",
        "tn, fp, fn, tp = confusion_matrix(y_test, y_pred).ravel()\n",
        "print(\"Confusion Matrix:\")\n",
        "print(confusion_matrix(y_test,y_pred))\n",
        "print(\"Accuracy:\",metrics.accuracy_score(y_test, y_pred))\n",
        "print(\"Precision:\",metrics.precision_score(y_test, y_pred))\n",
        "print(\"Recall:\",metrics.recall_score(y_test, y_pred))\n",
        "print(\"TPR: \",tp/(tp+fn))\n",
        "print(\"FPR: \",fp/(tn+fp))\n",
        "print(\"F1 Score:\",metrics.f1_score(y_test, y_pred))"
      ],
      "metadata": {
        "colab": {
          "base_uri": "https://localhost:8080/"
        },
        "outputId": "7a2ae3ca-1460-4610-9471-c79f600ddab0",
        "id": "BIPRgyOpjDzg"
      },
      "execution_count": null,
      "outputs": [
        {
          "output_type": "stream",
          "name": "stderr",
          "text": [
            "/usr/local/lib/python3.7/dist-packages/ipykernel_launcher.py:1: FutureWarning: In a future version of pandas all arguments of DataFrame.drop except for the argument 'labels' will be keyword-only\n",
            "  \"\"\"Entry point for launching an IPython kernel.\n"
          ]
        },
        {
          "output_type": "stream",
          "name": "stdout",
          "text": [
            "Confusion Matrix:\n",
            "[[103  17]\n",
            " [ 18  69]]\n",
            "Accuracy: 0.8309178743961353\n",
            "Precision: 0.8023255813953488\n",
            "Recall: 0.7931034482758621\n",
            "TPR:  0.7931034482758621\n",
            "FPR:  0.14166666666666666\n",
            "F1 Score: 0.7976878612716762\n"
          ]
        }
      ]
    },
    {
      "cell_type": "code",
      "source": [
        "X = df_after.drop('target',1)\n",
        "y = df_after['target']\n",
        "X_train, X_test, y_train, y_test = train_test_split(X, y, test_size=0.3,random_state=50)\n",
        "clf=RandomForestClassifier(n_estimators=100,random_state=20)\n",
        "clf.fit(X_train,y_train)\n",
        "y_pred=clf.predict(X_test)\n",
        "\n",
        "tn, fp, fn, tp = confusion_matrix(y_test, y_pred).ravel()\n",
        "print(\"Confusion Matrix:\")\n",
        "print(confusion_matrix(y_test,y_pred))\n",
        "print(\"Accuracy:\",metrics.accuracy_score(y_test, y_pred))\n",
        "print(\"Precision:\",metrics.precision_score(y_test, y_pred))\n",
        "print(\"Recall:\",metrics.recall_score(y_test, y_pred))\n",
        "print(\"TPR: \",tp/(tp+fn))\n",
        "print(\"FPR: \",fp/(tn+fp))\n",
        "print(\"F1 Score:\",metrics.f1_score(y_test, y_pred))"
      ],
      "metadata": {
        "colab": {
          "base_uri": "https://localhost:8080/"
        },
        "outputId": "46ecd33f-7bee-4825-9745-355973c1798d",
        "id": "xGHkfpLEjDzg"
      },
      "execution_count": null,
      "outputs": [
        {
          "output_type": "stream",
          "name": "stderr",
          "text": [
            "/usr/local/lib/python3.7/dist-packages/ipykernel_launcher.py:1: FutureWarning: In a future version of pandas all arguments of DataFrame.drop except for the argument 'labels' will be keyword-only\n",
            "  \"\"\"Entry point for launching an IPython kernel.\n"
          ]
        },
        {
          "output_type": "stream",
          "name": "stdout",
          "text": [
            "Confusion Matrix:\n",
            "[[106  13]\n",
            " [ 12  74]]\n",
            "Accuracy: 0.8780487804878049\n",
            "Precision: 0.8505747126436781\n",
            "Recall: 0.8604651162790697\n",
            "TPR:  0.8604651162790697\n",
            "FPR:  0.1092436974789916\n",
            "F1 Score: 0.8554913294797688\n"
          ]
        }
      ]
    },
    {
      "cell_type": "markdown",
      "source": [
        "German\n",
        "-------------"
      ],
      "metadata": {
        "id": "EiGIM-zvgTgu"
      }
    },
    {
      "cell_type": "code",
      "source": [
        "df_after=pd.read_csv(\"drive/MyDrive/Datasets/AfterRemovingOutliers/german.csv\")\n",
        "colnames = ['A1','A2','A3','A4','A5','A6','A7','A8','A9','A10','A11','A12','A13','A14','A15','A16','A17','A18','A19','A20','target']\n",
        "df_before = pd.read_csv(\"drive/MyDrive/Datasets/german.data\",delimiter=' ',names=colnames, header=None)"
      ],
      "metadata": {
        "id": "ZAYx12yvgTgv"
      },
      "execution_count": null,
      "outputs": []
    },
    {
      "cell_type": "code",
      "source": [
        "categ=['A1','A3','A4','A6','A7','A9','A10','A12','A14','A15','A17','A19','A20']\n",
        "df_before = oneHotFunc(df_before, categ)\n",
        "df_after = oneHotFunc(df_after, categ)"
      ],
      "metadata": {
        "colab": {
          "base_uri": "https://localhost:8080/"
        },
        "outputId": "0ab04852-6742-42fa-dad4-d6b86bd0bff2",
        "id": "S3OkNafOgTgv"
      },
      "execution_count": null,
      "outputs": [
        {
          "output_type": "stream",
          "name": "stdout",
          "text": [
            "   A2    A5  A8  A11  A13  A16  A18  target  A1_A11  A1_A12  ...  A15_A153  \\\n",
            "0   6  1169   4    4   67    2    1       1       1       0  ...         1   \n",
            "1  48  5951   2    2   22    1    1       2       0       1  ...         1   \n",
            "2  12  2096   2    3   49    1    2       1       0       0  ...         1   \n",
            "3  42  7882   2    4   45    1    2       1       1       0  ...         0   \n",
            "4  24  4870   3    4   53    2    2       2       1       0  ...         0   \n",
            "\n",
            "   A15_A151  A17_A173  A17_A172  A17_A174  A17_A171  A19_A192  A19_A191  \\\n",
            "0         0         0         0         1         0         0         1   \n",
            "1         0         0         0         1         0         1         0   \n",
            "2         0         0         1         0         0         1         0   \n",
            "3         1         0         0         1         0         1         0   \n",
            "4         1         0         0         1         0         1         0   \n",
            "\n",
            "   A20_A201  A20_A202  \n",
            "0         1         0  \n",
            "1         1         0  \n",
            "2         1         0  \n",
            "3         1         0  \n",
            "4         1         0  \n",
            "\n",
            "[5 rows x 62 columns]\n",
            "     A2      A5   A8  A11   A13  A16  A18  target  A1_A11  A1_A12  ...  \\\n",
            "0   6.0  1169.0  4.0  4.0  67.0  2.0  1.0     1.0       1       0  ...   \n",
            "1  48.0  5951.0  2.0  2.0  22.0  1.0  1.0     2.0       0       1  ...   \n",
            "2  12.0  2096.0  2.0  3.0  49.0  1.0  2.0     1.0       0       0  ...   \n",
            "3  42.0  7882.0  2.0  4.0  45.0  1.0  2.0     1.0       1       0  ...   \n",
            "4  24.0  4870.0  3.0  4.0  53.0  2.0  2.0     2.0       1       0  ...   \n",
            "\n",
            "   A15_A153  A15_A151  A17_A173  A17_A172  A17_A174  A17_A171  A19_A192  \\\n",
            "0         1         0         0         0         1         0         0   \n",
            "1         1         0         0         0         1         0         1   \n",
            "2         1         0         0         1         0         0         1   \n",
            "3         0         1         0         0         1         0         1   \n",
            "4         0         1         0         0         1         0         1   \n",
            "\n",
            "   A19_A191  A20_A201  A20_A202  \n",
            "0         1         1         0  \n",
            "1         0         1         0  \n",
            "2         0         1         0  \n",
            "3         0         1         0  \n",
            "4         0         1         0  \n",
            "\n",
            "[5 rows x 62 columns]\n"
          ]
        }
      ]
    },
    {
      "cell_type": "code",
      "source": [
        "X = df_before.drop('target',1)\n",
        "y = df_before['target']\n",
        "X_train, X_test, y_train, y_test = train_test_split(X, y, test_size=0.3,random_state=10)\n",
        "clf=RandomForestClassifier(n_estimators=100,random_state=20)\n",
        "clf.fit(X_train,y_train)\n",
        "y_pred=clf.predict(X_test)\n",
        "\n",
        "tn, fp, fn, tp = confusion_matrix(y_test, y_pred).ravel()\n",
        "print(\"Confusion Matrix:\")\n",
        "print(confusion_matrix(y_test,y_pred))\n",
        "print(\"Accuracy:\",metrics.accuracy_score(y_test, y_pred))\n",
        "print(\"Precision:\",metrics.precision_score(y_test, y_pred))\n",
        "print(\"Recall:\",metrics.recall_score(y_test, y_pred))\n",
        "print(\"TPR: \",tp/(tp+fn))\n",
        "print(\"FPR: \",fp/(tn+fp))\n",
        "print(\"F1 Score:\",metrics.f1_score(y_test, y_pred))"
      ],
      "metadata": {
        "colab": {
          "base_uri": "https://localhost:8080/"
        },
        "outputId": "07b9a7ba-82ac-48b3-ca0e-4b0b51e4f945",
        "id": "EO2GWIP0gTgv"
      },
      "execution_count": null,
      "outputs": [
        {
          "output_type": "stream",
          "name": "stderr",
          "text": [
            "/usr/local/lib/python3.7/dist-packages/ipykernel_launcher.py:1: FutureWarning: In a future version of pandas all arguments of DataFrame.drop except for the argument 'labels' will be keyword-only\n",
            "  \"\"\"Entry point for launching an IPython kernel.\n"
          ]
        },
        {
          "output_type": "stream",
          "name": "stdout",
          "text": [
            "Confusion Matrix:\n",
            "[[189  14]\n",
            " [ 64  33]]\n",
            "Accuracy: 0.74\n",
            "Precision: 0.7470355731225297\n",
            "Recall: 0.9310344827586207\n",
            "TPR:  0.3402061855670103\n",
            "FPR:  0.06896551724137931\n",
            "F1 Score: 0.8289473684210527\n"
          ]
        }
      ]
    },
    {
      "cell_type": "code",
      "source": [
        "X = df_after.drop('target',1)\n",
        "y = df_after['target']\n",
        "X_train, X_test, y_train, y_test = train_test_split(X, y, test_size=0.3,random_state=100)\n",
        "clf=RandomForestClassifier(n_estimators=100,random_state=20)\n",
        "clf.fit(X_train,y_train)\n",
        "y_pred=clf.predict(X_test)\n",
        "\n",
        "tn, fp, fn, tp = confusion_matrix(y_test, y_pred).ravel()\n",
        "print(\"Confusion Matrix:\")\n",
        "print(confusion_matrix(y_test,y_pred))\n",
        "print(\"Accuracy:\",metrics.accuracy_score(y_test, y_pred))\n",
        "print(\"Precision:\",metrics.precision_score(y_test, y_pred))\n",
        "print(\"Recall:\",metrics.recall_score(y_test, y_pred))\n",
        "print(\"TPR: \",tp/(tp+fn))\n",
        "print(\"FPR: \",fp/(tn+fp))\n",
        "print(\"F1 Score:\",metrics.f1_score(y_test, y_pred))"
      ],
      "metadata": {
        "colab": {
          "base_uri": "https://localhost:8080/"
        },
        "outputId": "6cf01161-300c-415d-ab08-21654156ad5f",
        "id": "E59V4yu_gTgw"
      },
      "execution_count": null,
      "outputs": [
        {
          "output_type": "stream",
          "name": "stderr",
          "text": [
            "/usr/local/lib/python3.7/dist-packages/ipykernel_launcher.py:1: FutureWarning: In a future version of pandas all arguments of DataFrame.drop except for the argument 'labels' will be keyword-only\n",
            "  \"\"\"Entry point for launching an IPython kernel.\n"
          ]
        },
        {
          "output_type": "stream",
          "name": "stdout",
          "text": [
            "Confusion Matrix:\n",
            "[[201  14]\n",
            " [ 57  26]]\n",
            "Accuracy: 0.761744966442953\n",
            "Precision: 0.7790697674418605\n",
            "Recall: 0.9348837209302325\n",
            "TPR:  0.3132530120481928\n",
            "FPR:  0.06511627906976744\n",
            "F1 Score: 0.849894291754757\n"
          ]
        }
      ]
    },
    {
      "cell_type": "markdown",
      "source": [
        "Heart\n",
        "-------------"
      ],
      "metadata": {
        "id": "E4iSKnfV48P0"
      }
    },
    {
      "cell_type": "code",
      "source": [
        "df_after=pd.read_csv(\"drive/MyDrive/Datasets/AfterRemovingOutliers/heart.csv\")\n",
        "df_before=pd.read_csv(\"drive/MyDrive/Datasets/heart.csv\")"
      ],
      "metadata": {
        "id": "Nr6tmuTo43Ll"
      },
      "execution_count": null,
      "outputs": []
    },
    {
      "cell_type": "code",
      "source": [
        "categ = ['sex','cp','fbs','restecg','exang','slope','ca','thal']\n",
        "df_after = oneHotFunc(df_after, categ)\n",
        "df_before = oneHotFunc(df_before, categ)"
      ],
      "metadata": {
        "colab": {
          "base_uri": "https://localhost:8080/"
        },
        "id": "10oaOIT8cCwx",
        "outputId": "a467bf43-49cf-40e8-f84d-504339c3cfee"
      },
      "execution_count": null,
      "outputs": [
        {
          "output_type": "stream",
          "name": "stdout",
          "text": [
            "    age  trestbps   chol  thalach  oldpeak  target  sex_1.0  sex_0.0  cp_3.0  \\\n",
            "0  63.0     145.0  233.0    150.0      2.3     1.0        0        1       0   \n",
            "1  37.0     130.0  250.0    187.0      3.5     1.0        0        1       0   \n",
            "2  41.0     130.0  204.0    172.0      1.4     1.0        1        0       0   \n",
            "3  56.0     120.0  236.0    178.0      0.8     1.0        0        1       0   \n",
            "4  57.0     120.0  354.0    163.0      0.6     1.0        1        0       1   \n",
            "\n",
            "   cp_2.0  ...  slope_1.0  ca_0.0  ca_2.0  ca_1.0  ca_3.0  ca_4.0  thal_1.0  \\\n",
            "0       0  ...          0       1       0       0       0       0         0   \n",
            "1       0  ...          0       1       0       0       0       0         0   \n",
            "2       1  ...          1       1       0       0       0       0         0   \n",
            "3       1  ...          1       1       0       0       0       0         0   \n",
            "4       0  ...          1       1       0       0       0       0         0   \n",
            "\n",
            "   thal_2.0  thal_3.0  thal_0.0  \n",
            "0         1         0         0  \n",
            "1         0         1         0  \n",
            "2         0         1         0  \n",
            "3         0         1         0  \n",
            "4         0         1         0  \n",
            "\n",
            "[5 rows x 31 columns]\n",
            "   age  trestbps  chol  thalach  oldpeak  target  sex_1  sex_0  cp_3  cp_2  \\\n",
            "0   63       145   233      150      2.3       1      0      1     0     0   \n",
            "1   37       130   250      187      3.5       1      0      1     0     0   \n",
            "2   41       130   204      172      1.4       1      1      0     0     1   \n",
            "3   56       120   236      178      0.8       1      0      1     0     1   \n",
            "4   57       120   354      163      0.6       1      1      0     1     0   \n",
            "\n",
            "   ...  slope_1  ca_0  ca_2  ca_1  ca_3  ca_4  thal_1  thal_2  thal_3  thal_0  \n",
            "0  ...        0     1     0     0     0     0       0       1       0       0  \n",
            "1  ...        0     1     0     0     0     0       0       0       1       0  \n",
            "2  ...        1     1     0     0     0     0       0       0       1       0  \n",
            "3  ...        1     1     0     0     0     0       0       0       1       0  \n",
            "4  ...        1     1     0     0     0     0       0       0       1       0  \n",
            "\n",
            "[5 rows x 31 columns]\n"
          ]
        }
      ]
    },
    {
      "cell_type": "code",
      "source": [
        "X = df_before.drop('target',1)\n",
        "y = df_before['target']\n",
        "X_train, X_test, y_train, y_test = train_test_split(X, y, test_size=0.3,random_state=50)\n",
        "clf=RandomForestClassifier(n_estimators=100,random_state=20)\n",
        "clf.fit(X_train,y_train)\n",
        "y_pred=clf.predict(X_test)\n",
        "\n",
        "tn, fp, fn, tp = confusion_matrix(y_test, y_pred).ravel()\n",
        "print(\"Confusion Matrix:\")\n",
        "print(confusion_matrix(y_test,y_pred))\n",
        "print(\"Accuracy:\",metrics.accuracy_score(y_test, y_pred))\n",
        "print(\"Precision:\",metrics.precision_score(y_test, y_pred))\n",
        "print(\"Recall:\",metrics.recall_score(y_test, y_pred))\n",
        "print(\"TPR: \",tp/(tp+fn))\n",
        "print(\"FPR: \",fp/(tn+fp))\n",
        "print(\"F1 Score:\",metrics.f1_score(y_test, y_pred))"
      ],
      "metadata": {
        "colab": {
          "base_uri": "https://localhost:8080/"
        },
        "id": "gvboSAR05BOR",
        "outputId": "b746ab98-7da1-413e-ac3f-a07aa6bc2d56"
      },
      "execution_count": null,
      "outputs": [
        {
          "output_type": "stream",
          "name": "stderr",
          "text": [
            "/usr/local/lib/python3.7/dist-packages/ipykernel_launcher.py:1: FutureWarning: In a future version of pandas all arguments of DataFrame.drop except for the argument 'labels' will be keyword-only\n",
            "  \"\"\"Entry point for launching an IPython kernel.\n"
          ]
        },
        {
          "output_type": "stream",
          "name": "stdout",
          "text": [
            "Confusion Matrix:\n",
            "[[30  9]\n",
            " [ 9 43]]\n",
            "Accuracy: 0.8021978021978022\n",
            "Precision: 0.8269230769230769\n",
            "Recall: 0.8269230769230769\n",
            "TPR:  0.8269230769230769\n",
            "FPR:  0.23076923076923078\n",
            "F1 Score: 0.8269230769230769\n"
          ]
        }
      ]
    },
    {
      "cell_type": "code",
      "source": [
        "X = df_after.drop('target',1)\n",
        "y = df_after['target']\n",
        "X_train, X_test, y_train, y_test = train_test_split(X, y, test_size=0.3,random_state=25)\n",
        "clf=RandomForestClassifier(n_estimators=100,random_state=20)\n",
        "clf.fit(X_train,y_train)\n",
        "y_pred=clf.predict(X_test)\n",
        "print(\"Confusion Matrix:\")\n",
        "print(confusion_matrix(y_test,y_pred))\n",
        "print(\"Accuracy after removal:\",metrics.accuracy_score(y_test, y_pred))\n",
        "print(\"Precision:\",metrics.precision_score(y_test, y_pred))\n",
        "print(\"Recall:\",metrics.recall_score(y_test, y_pred))\n",
        "print(\"F1 Score:\",metrics.f1_score(y_test, y_pred))"
      ],
      "metadata": {
        "colab": {
          "base_uri": "https://localhost:8080/"
        },
        "id": "TtipWvPJ5Ca1",
        "outputId": "26999b26-8f53-49b7-819e-6a97f6d34a78"
      },
      "execution_count": null,
      "outputs": [
        {
          "output_type": "stream",
          "name": "stderr",
          "text": [
            "/usr/local/lib/python3.7/dist-packages/ipykernel_launcher.py:1: FutureWarning: In a future version of pandas all arguments of DataFrame.drop except for the argument 'labels' will be keyword-only\n",
            "  \"\"\"Entry point for launching an IPython kernel.\n"
          ]
        },
        {
          "output_type": "stream",
          "name": "stdout",
          "text": [
            "Confusion Matrix:\n",
            "[[32  6]\n",
            " [ 7 45]]\n",
            "Accuracy after removal: 0.8555555555555555\n",
            "Precision: 0.8823529411764706\n",
            "Recall: 0.8653846153846154\n",
            "F1 Score: 0.8737864077669903\n"
          ]
        }
      ]
    }
  ]
}