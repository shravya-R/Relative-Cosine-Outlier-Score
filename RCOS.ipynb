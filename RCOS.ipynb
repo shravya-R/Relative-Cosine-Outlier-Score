{
  "nbformat": 4,
  "nbformat_minor": 0,
  "metadata": {
    "colab": {
      "provenance": [],
      "collapsed_sections": [
        "Rw_DVIP5pK6P",
        "3Ta8ERTdjz5X",
        "hNqmxMvUhZUr",
        "RabJzxULfFJn",
        "hNqpbxTbgsGj",
        "_z9vrUj2qiz2",
        "DnqaZrEbonYC",
        "2xnfri0FirTe",
        "LOiZMZNef8Um",
        "Se36R2uSq-db",
        "LJLO0C9Rp1dx",
        "qQ5G-VhTjDzd",
        "EiGIM-zvgTgu"
      ]
    },
    "kernelspec": {
      "name": "python3",
      "display_name": "Python 3"
    },
    "language_info": {
      "name": "python"
    }
  },
  "cells": [
    {
      "cell_type": "markdown",
      "source": [
        "1) Find Outliers (use gaussian formula with cos)\n",
        "\n",
        "2) Classification problem with target value: Outlier/ not Outlier\n",
        "\n",
        "3) Classification problem before and after removal of outliers\n",
        "\n"
      ],
      "metadata": {
        "id": "WYJWO7xR7suF"
      }
    },
    {
      "cell_type": "code",
      "source": [
        "from google.colab import drive\n",
        "drive.mount('/content/drive')"
      ],
      "metadata": {
        "id": "jU0zBQDQium_",
        "colab": {
          "base_uri": "https://localhost:8080/"
        },
        "outputId": "85671402-b41d-4c2e-b3f6-176fe3640a7b"
      },
      "execution_count": null,
      "outputs": [
        {
          "output_type": "stream",
          "name": "stdout",
          "text": [
            "Mounted at /content/drive\n"
          ]
        }
      ]
    },
    {
      "cell_type": "code",
      "source": [
        "import numpy as np\n",
        "import pandas as pd\n",
        "import seaborn as sns\n",
        "import math\n",
        "from scipy.stats import multivariate_normal\n",
        "from scipy.stats import mode\n",
        "from sklearn.metrics import confusion_matrix\n",
        "import matplotlib.pyplot as plt\n",
        "import sklearn\n",
        "from sklearn import metrics\n",
        "from sklearn.model_selection import cross_val_score\n",
        "from sklearn.model_selection import RepeatedStratifiedKFold\n",
        "from sklearn.ensemble import RandomForestClassifier\n",
        "from sklearn.model_selection import train_test_split\n",
        "from sklearn.linear_model import LogisticRegression\n",
        "from sklearn.preprocessing import StandardScaler\n",
        "from sklearn.metrics import confusion_matrix, classification_report\n",
        "from imblearn.under_sampling import RandomUnderSampler\n",
        "from imblearn.over_sampling import SMOTE\n",
        "from sklearn.metrics import accuracy_score, confusion_matrix\n",
        "from sklearn.svm import SVC\n",
        "from sklearn import tree\n",
        "from imblearn.combine import SMOTETomek\n",
        "import pydotplus\n",
        "from sklearn.tree import DecisionTreeClassifier"
      ],
      "metadata": {
        "id": "FBMig9t_4Hyd"
      },
      "execution_count": null,
      "outputs": []
    },
    {
      "cell_type": "code",
      "source": [
        "def oneHotFunc(df, categ):\n",
        "  for i in range(len(categ)):\n",
        "    one_hot = pd.get_dummies(df[categ[i]])\n",
        "    names = df[categ[i]].unique()\n",
        "    temp = []\n",
        "    for j in range(len(names)):\n",
        "      temp.append(categ[i] +'_'+ str(names[j]))\n",
        "    one_hot.columns = temp\n",
        "    df = df.drop(categ[i],axis = 1)\n",
        "    df= df.join(one_hot)\n",
        "  print(df.head())\n",
        "  return df"
      ],
      "metadata": {
        "id": "9UjjuP9_pBQD"
      },
      "execution_count": null,
      "outputs": []
    },
    {
      "cell_type": "code",
      "source": [
        "def MissingValuesHandler(df, categ, cont):\n",
        "  for s in categ:\n",
        "    mode = df[s].mode()[0]\n",
        "    df[s] = df[s].replace(\"?\", mode)\n",
        "  for s in cont:\n",
        "    temp = df[s].copy()\n",
        "    temp = temp.replace(\"?\", 0)\n",
        "    temp = temp.replace('nan', 0)\n",
        "    median = temp.median()\n",
        "    df[s] = df[s].replace('?',median)\n",
        "    df[s] = df[s].replace('nan',median)\n",
        "  return df"
      ],
      "metadata": {
        "id": "k_-bOzeOpGDu"
      },
      "execution_count": null,
      "outputs": []
    },
    {
      "cell_type": "markdown",
      "source": [
        "Removing Outliers\n",
        "-------------------------"
      ],
      "metadata": {
        "id": "OBc8LIGDMoMi"
      }
    },
    {
      "cell_type": "markdown",
      "source": [
        "Cylinder Bands\n",
        "---------------"
      ],
      "metadata": {
        "id": "Rw_DVIP5pK6P"
      }
    },
    {
      "cell_type": "code",
      "source": [
        "colnames = ['timestamp', 'cylinder_number', 'customer', 'job_number', 'grain_screened', 'ink_color',\n",
        "'proof_on_ctd_ink', 'blade_mfg', 'cylinder_division', 'paper_type', 'ink_type', 'direct_steam', 'solvent_type',\n",
        "'type_on_cylinder', 'press_type', 'press', 'unit_number', 'cylinder_size', 'paper_mill_location', 'plating_tank',\n",
        "'proof_cut', 'viscosity', 'caliper', 'ink_temperature', 'humifity', 'roughness', 'blade_pressure', 'varnish_pct',\n",
        "'press_speed', 'ink_pct', 'solvent_pct', 'ESA_Voltage', 'ESA_Amperage', 'wax', 'hardener', 'roller_durometer',\n",
        "'current_density', 'anode_space_ratio', 'chrome_content', 'target']\n",
        "df = pd.read_csv(\"drive/MyDrive/Datasets/bands.data\",names=colnames, header=None)\n",
        "df = df.drop('timestamp',1)\n",
        "df.head()"
      ],
      "metadata": {
        "id": "0sYsXAzipK6Q"
      },
      "execution_count": null,
      "outputs": []
    },
    {
      "cell_type": "markdown",
      "source": [
        "cylinder number: nominal\n",
        "\n",
        "customer: nominal;\n",
        "\n",
        "job number: nominal;\n",
        "\n",
        "grain screened: nominal; yes, no\n",
        "\n",
        "ink color: nominal;  key, type\n",
        "\n",
        "proof on ctd ink:  nominal;  yes, no  \n",
        "\n",
        "blade mfg: nominal;  benton, daetwyler, uddeholm\n",
        "\n",
        "cylinder division: nominal;  gallatin, warsaw, mattoon\n",
        "\n",
        "paper type: nominal;  uncoated, coated, super\n",
        "\n",
        "ink type: nominal;  uncoated, coated, cover\n",
        "\n",
        "direct steam: nominal; use; yes, no *\n",
        "\n",
        "solvent type: nominal;  xylol, lactol, naptha, line, other\n",
        "\n",
        "type on cylinder:  nominal;  yes, no  \n",
        "\n",
        "press type: nominal; use; 70 wood hoe, 70 motter, 70 albert, 94 motter\n",
        "\n",
        "press: nominal;  821, 802, 813, 824, 815, 816, 827, 828\n",
        "\n",
        "unit number: nominal;  1, 2, 3, 4, 5, 6, 7, 8, 9, 10\n",
        "\n",
        "cylinder size: nominal;  catalog, spiegel, tabloid\n",
        "\n",
        "paper mill location: nominal; north us, south us, canadian, scandanavian, mid european\n",
        "\n",
        "plating tank: nominal; 1910, 1911, other\n",
        "\n",
        "band type: nominal; class; band, no band *"
      ],
      "metadata": {
        "id": "x43VmOu0pK6Q"
      }
    },
    {
      "cell_type": "code",
      "source": [
        "categ = ['cylinder_number', 'customer', 'job_number', 'grain_screened', 'ink_color',\n",
        "'proof_on_ctd_ink', 'blade_mfg', 'cylinder_division', 'paper_type', 'ink_type', 'direct_steam', 'solvent_type',\n",
        "'type_on_cylinder', 'press_type', 'press', 'unit_number', 'cylinder_size', 'paper_mill_location', 'plating_tank']\n",
        "cont = ['proof_cut', 'viscosity', 'caliper', 'ink_temperature', 'humifity', 'roughness', 'blade_pressure', 'varnish_pct',\n",
        "'press_speed', 'ink_pct', 'solvent_pct', 'ESA_Voltage', 'ESA_Amperage', 'wax', 'hardener', 'roller_durometer',\n",
        "'current_density', 'anode_space_ratio', 'chrome_content']\n",
        "df = MissingValuesHandler(df, categ, cont)"
      ],
      "metadata": {
        "id": "RFbnipbYpK6Q"
      },
      "execution_count": null,
      "outputs": []
    },
    {
      "cell_type": "code",
      "source": [
        "map = { 'band':0, 'noband':1}\n",
        "df.target = [map[item] for item in df.target]"
      ],
      "metadata": {
        "id": "vmsHVzR_pmMq"
      },
      "execution_count": null,
      "outputs": []
    },
    {
      "cell_type": "code",
      "source": [
        "df = oneHotFunc(df, categ)"
      ],
      "metadata": {
        "id": "zMTm1rQdpK6Q"
      },
      "execution_count": null,
      "outputs": []
    },
    {
      "cell_type": "code",
      "source": [
        "df = df.astype(float)\n",
        "df=(df- df.mean())/df.std()\n",
        "std=df.std()\n",
        "df=df.transform(lambda x:-0.5*x**2)\n",
        "# df = df.to_numpy()\n",
        "df_new = np.cos(df)\n",
        "df_new = df_new / (math.sqrt(2*math.pi))\n",
        "df_new = df_new / std\n",
        "a=df_new.to_numpy()\n",
        "df_new['score'] = np.sum(a,axis = 1 )"
      ],
      "metadata": {
        "id": "tGrGY83VpK6Q"
      },
      "execution_count": null,
      "outputs": []
    },
    {
      "cell_type": "code",
      "source": [
        "colnames = ['timestamp', 'cylinder_number', 'customer', 'job_number', 'grain_screened', 'ink_color',\n",
        "'proof_on_ctd_ink', 'blade_mfg', 'cylinder_division', 'paper_type', 'ink_type', 'direct_steam', 'solvent_type',\n",
        "'type_on_cylinder', 'press_type', 'press', 'unit_number', 'cylinder_size', 'paper_mill_location', 'plating_tank',\n",
        "'proof_cut', 'viscosity', 'caliper', 'ink_temperature', 'humifity', 'roughness', 'blade_pressure', 'varnish_pct',\n",
        "'press_speed', 'ink_pct', 'solvent_pct', 'ESA_Voltage', 'ESA_Amperage', 'wax', 'hardener', 'roller_durometer',\n",
        "'current_density', 'anode_space_ratio', 'chrome_content', 'target']\n",
        "classify_df = pd.read_csv(\"drive/MyDrive/Datasets/bands.data\",names=colnames, header=None)\n",
        "classify_df = classify_df.drop('target', 1)\n",
        "classify_df['outlier']=0"
      ],
      "metadata": {
        "id": "dDVna_arpK6R"
      },
      "execution_count": null,
      "outputs": []
    },
    {
      "cell_type": "code",
      "source": [
        "colnames = ['timestamp', 'cylinder_number', 'customer', 'job_number', 'grain_screened', 'ink_color',\n",
        "'proof_on_ctd_ink', 'blade_mfg', 'cylinder_division', 'paper_type', 'ink_type', 'direct_steam', 'solvent_type',\n",
        "'type_on_cylinder', 'press_type', 'press', 'unit_number', 'cylinder_size', 'paper_mill_location', 'plating_tank',\n",
        "'proof_cut', 'viscosity', 'caliper', 'ink_temperature', 'humifity', 'roughness', 'blade_pressure', 'varnish_pct',\n",
        "'press_speed', 'ink_pct', 'solvent_pct', 'ESA_Voltage', 'ESA_Amperage', 'wax', 'hardener', 'roller_durometer',\n",
        "'current_density', 'anode_space_ratio', 'chrome_content', 'target']\n",
        "original = pd.read_csv(\"drive/MyDrive/Datasets/bands.data\",names=colnames, header=None)"
      ],
      "metadata": {
        "id": "ar4LPGHlpK6R"
      },
      "execution_count": null,
      "outputs": []
    },
    {
      "cell_type": "code",
      "source": [
        "avg=np.mean(df_new['score'])\n",
        "std=np.std(df_new['score'])\n",
        "final = pd.DataFrame()\n",
        "outliers = pd.DataFrame()\n",
        "for i in range(df_new.shape[0]):\n",
        "  if df_new['score'][i] > avg + (3*std) or df_new['score'][i] < avg - (3*std):\n",
        "    outliers=outliers.append(original.iloc[i])\n",
        "    classify_df['outlier'][i]=1\n",
        "  else:\n",
        "    final=final.append(original.iloc[i])\n",
        "print(outliers.shape)"
      ],
      "metadata": {
        "id": "B9je0UWIpK6R"
      },
      "execution_count": null,
      "outputs": []
    },
    {
      "cell_type": "code",
      "source": [
        "print(original.shape)\n",
        "print(final.shape)"
      ],
      "metadata": {
        "id": "WlPYlTXgpK6R"
      },
      "execution_count": null,
      "outputs": []
    },
    {
      "cell_type": "code",
      "source": [
        "final.to_csv('drive/MyDrive/Datasets/AfterRemovingOutliers/band.csv', index=False)"
      ],
      "metadata": {
        "id": "hxhvZu2-pK6R"
      },
      "execution_count": null,
      "outputs": []
    },
    {
      "cell_type": "code",
      "source": [
        "classify_df.to_csv('drive/MyDrive/Datasets/Outlier_Classification/band.csv',index=False)"
      ],
      "metadata": {
        "id": "jHLf8v5ZpK6S"
      },
      "execution_count": null,
      "outputs": []
    },
    {
      "cell_type": "markdown",
      "source": [
        "Credit\n",
        "---------------"
      ],
      "metadata": {
        "id": "3Ta8ERTdjz5X"
      }
    },
    {
      "cell_type": "code",
      "source": [
        "colnames = ['A1','A2','A3','A4','A5','A6','A7','A8','A9','A10','A11','A12','A13','A14','A15','target']\n",
        "df = pd.read_csv(\"drive/MyDrive/Datasets/creditapproval.data\",names=colnames, header=None)\n",
        "df = df.drop('target', 1)\n",
        "df.head()"
      ],
      "metadata": {
        "colab": {
          "base_uri": "https://localhost:8080/"
        },
        "outputId": "3c157d9c-b5b7-4458-a4d5-0f0eb6cca7cb",
        "id": "W2VurPdWjz5Y"
      },
      "execution_count": null,
      "outputs": [
        {
          "output_type": "stream",
          "name": "stderr",
          "text": [
            "/usr/local/lib/python3.7/dist-packages/ipykernel_launcher.py:3: FutureWarning: In a future version of pandas all arguments of DataFrame.drop except for the argument 'labels' will be keyword-only\n",
            "  This is separate from the ipykernel package so we can avoid doing imports until\n"
          ]
        },
        {
          "output_type": "execute_result",
          "data": {
            "text/html": [
              "\n",
              "  <div id=\"df-7fbeeee7-6f52-441d-a87e-5275b0975b0c\">\n",
              "    <div class=\"colab-df-container\">\n",
              "      <div>\n",
              "<style scoped>\n",
              "    .dataframe tbody tr th:only-of-type {\n",
              "        vertical-align: middle;\n",
              "    }\n",
              "\n",
              "    .dataframe tbody tr th {\n",
              "        vertical-align: top;\n",
              "    }\n",
              "\n",
              "    .dataframe thead th {\n",
              "        text-align: right;\n",
              "    }\n",
              "</style>\n",
              "<table border=\"1\" class=\"dataframe\">\n",
              "  <thead>\n",
              "    <tr style=\"text-align: right;\">\n",
              "      <th></th>\n",
              "      <th>A1</th>\n",
              "      <th>A2</th>\n",
              "      <th>A3</th>\n",
              "      <th>A4</th>\n",
              "      <th>A5</th>\n",
              "      <th>A6</th>\n",
              "      <th>A7</th>\n",
              "      <th>A8</th>\n",
              "      <th>A9</th>\n",
              "      <th>A10</th>\n",
              "      <th>A11</th>\n",
              "      <th>A12</th>\n",
              "      <th>A13</th>\n",
              "      <th>A14</th>\n",
              "      <th>A15</th>\n",
              "    </tr>\n",
              "  </thead>\n",
              "  <tbody>\n",
              "    <tr>\n",
              "      <th>0</th>\n",
              "      <td>b</td>\n",
              "      <td>30.83</td>\n",
              "      <td>0.000</td>\n",
              "      <td>u</td>\n",
              "      <td>g</td>\n",
              "      <td>w</td>\n",
              "      <td>v</td>\n",
              "      <td>1.25</td>\n",
              "      <td>t</td>\n",
              "      <td>t</td>\n",
              "      <td>1</td>\n",
              "      <td>f</td>\n",
              "      <td>g</td>\n",
              "      <td>00202</td>\n",
              "      <td>0</td>\n",
              "    </tr>\n",
              "    <tr>\n",
              "      <th>1</th>\n",
              "      <td>a</td>\n",
              "      <td>58.67</td>\n",
              "      <td>4.460</td>\n",
              "      <td>u</td>\n",
              "      <td>g</td>\n",
              "      <td>q</td>\n",
              "      <td>h</td>\n",
              "      <td>3.04</td>\n",
              "      <td>t</td>\n",
              "      <td>t</td>\n",
              "      <td>6</td>\n",
              "      <td>f</td>\n",
              "      <td>g</td>\n",
              "      <td>00043</td>\n",
              "      <td>560</td>\n",
              "    </tr>\n",
              "    <tr>\n",
              "      <th>2</th>\n",
              "      <td>a</td>\n",
              "      <td>24.50</td>\n",
              "      <td>0.500</td>\n",
              "      <td>u</td>\n",
              "      <td>g</td>\n",
              "      <td>q</td>\n",
              "      <td>h</td>\n",
              "      <td>1.50</td>\n",
              "      <td>t</td>\n",
              "      <td>f</td>\n",
              "      <td>0</td>\n",
              "      <td>f</td>\n",
              "      <td>g</td>\n",
              "      <td>00280</td>\n",
              "      <td>824</td>\n",
              "    </tr>\n",
              "    <tr>\n",
              "      <th>3</th>\n",
              "      <td>b</td>\n",
              "      <td>27.83</td>\n",
              "      <td>1.540</td>\n",
              "      <td>u</td>\n",
              "      <td>g</td>\n",
              "      <td>w</td>\n",
              "      <td>v</td>\n",
              "      <td>3.75</td>\n",
              "      <td>t</td>\n",
              "      <td>t</td>\n",
              "      <td>5</td>\n",
              "      <td>t</td>\n",
              "      <td>g</td>\n",
              "      <td>00100</td>\n",
              "      <td>3</td>\n",
              "    </tr>\n",
              "    <tr>\n",
              "      <th>4</th>\n",
              "      <td>b</td>\n",
              "      <td>20.17</td>\n",
              "      <td>5.625</td>\n",
              "      <td>u</td>\n",
              "      <td>g</td>\n",
              "      <td>w</td>\n",
              "      <td>v</td>\n",
              "      <td>1.71</td>\n",
              "      <td>t</td>\n",
              "      <td>f</td>\n",
              "      <td>0</td>\n",
              "      <td>f</td>\n",
              "      <td>s</td>\n",
              "      <td>00120</td>\n",
              "      <td>0</td>\n",
              "    </tr>\n",
              "  </tbody>\n",
              "</table>\n",
              "</div>\n",
              "      <button class=\"colab-df-convert\" onclick=\"convertToInteractive('df-7fbeeee7-6f52-441d-a87e-5275b0975b0c')\"\n",
              "              title=\"Convert this dataframe to an interactive table.\"\n",
              "              style=\"display:none;\">\n",
              "        \n",
              "  <svg xmlns=\"http://www.w3.org/2000/svg\" height=\"24px\"viewBox=\"0 0 24 24\"\n",
              "       width=\"24px\">\n",
              "    <path d=\"M0 0h24v24H0V0z\" fill=\"none\"/>\n",
              "    <path d=\"M18.56 5.44l.94 2.06.94-2.06 2.06-.94-2.06-.94-.94-2.06-.94 2.06-2.06.94zm-11 1L8.5 8.5l.94-2.06 2.06-.94-2.06-.94L8.5 2.5l-.94 2.06-2.06.94zm10 10l.94 2.06.94-2.06 2.06-.94-2.06-.94-.94-2.06-.94 2.06-2.06.94z\"/><path d=\"M17.41 7.96l-1.37-1.37c-.4-.4-.92-.59-1.43-.59-.52 0-1.04.2-1.43.59L10.3 9.45l-7.72 7.72c-.78.78-.78 2.05 0 2.83L4 21.41c.39.39.9.59 1.41.59.51 0 1.02-.2 1.41-.59l7.78-7.78 2.81-2.81c.8-.78.8-2.07 0-2.86zM5.41 20L4 18.59l7.72-7.72 1.47 1.35L5.41 20z\"/>\n",
              "  </svg>\n",
              "      </button>\n",
              "      \n",
              "  <style>\n",
              "    .colab-df-container {\n",
              "      display:flex;\n",
              "      flex-wrap:wrap;\n",
              "      gap: 12px;\n",
              "    }\n",
              "\n",
              "    .colab-df-convert {\n",
              "      background-color: #E8F0FE;\n",
              "      border: none;\n",
              "      border-radius: 50%;\n",
              "      cursor: pointer;\n",
              "      display: none;\n",
              "      fill: #1967D2;\n",
              "      height: 32px;\n",
              "      padding: 0 0 0 0;\n",
              "      width: 32px;\n",
              "    }\n",
              "\n",
              "    .colab-df-convert:hover {\n",
              "      background-color: #E2EBFA;\n",
              "      box-shadow: 0px 1px 2px rgba(60, 64, 67, 0.3), 0px 1px 3px 1px rgba(60, 64, 67, 0.15);\n",
              "      fill: #174EA6;\n",
              "    }\n",
              "\n",
              "    [theme=dark] .colab-df-convert {\n",
              "      background-color: #3B4455;\n",
              "      fill: #D2E3FC;\n",
              "    }\n",
              "\n",
              "    [theme=dark] .colab-df-convert:hover {\n",
              "      background-color: #434B5C;\n",
              "      box-shadow: 0px 1px 3px 1px rgba(0, 0, 0, 0.15);\n",
              "      filter: drop-shadow(0px 1px 2px rgba(0, 0, 0, 0.3));\n",
              "      fill: #FFFFFF;\n",
              "    }\n",
              "  </style>\n",
              "\n",
              "      <script>\n",
              "        const buttonEl =\n",
              "          document.querySelector('#df-7fbeeee7-6f52-441d-a87e-5275b0975b0c button.colab-df-convert');\n",
              "        buttonEl.style.display =\n",
              "          google.colab.kernel.accessAllowed ? 'block' : 'none';\n",
              "\n",
              "        async function convertToInteractive(key) {\n",
              "          const element = document.querySelector('#df-7fbeeee7-6f52-441d-a87e-5275b0975b0c');\n",
              "          const dataTable =\n",
              "            await google.colab.kernel.invokeFunction('convertToInteractive',\n",
              "                                                     [key], {});\n",
              "          if (!dataTable) return;\n",
              "\n",
              "          const docLinkHtml = 'Like what you see? Visit the ' +\n",
              "            '<a target=\"_blank\" href=https://colab.research.google.com/notebooks/data_table.ipynb>data table notebook</a>'\n",
              "            + ' to learn more about interactive tables.';\n",
              "          element.innerHTML = '';\n",
              "          dataTable['output_type'] = 'display_data';\n",
              "          await google.colab.output.renderOutput(dataTable, element);\n",
              "          const docLink = document.createElement('div');\n",
              "          docLink.innerHTML = docLinkHtml;\n",
              "          element.appendChild(docLink);\n",
              "        }\n",
              "      </script>\n",
              "    </div>\n",
              "  </div>\n",
              "  "
            ],
            "text/plain": [
              "  A1     A2     A3 A4 A5 A6 A7    A8 A9 A10  A11 A12 A13    A14  A15\n",
              "0  b  30.83  0.000  u  g  w  v  1.25  t   t    1   f   g  00202    0\n",
              "1  a  58.67  4.460  u  g  q  h  3.04  t   t    6   f   g  00043  560\n",
              "2  a  24.50  0.500  u  g  q  h  1.50  t   f    0   f   g  00280  824\n",
              "3  b  27.83  1.540  u  g  w  v  3.75  t   t    5   t   g  00100    3\n",
              "4  b  20.17  5.625  u  g  w  v  1.71  t   f    0   f   s  00120    0"
            ]
          },
          "metadata": {},
          "execution_count": 8
        }
      ]
    },
    {
      "cell_type": "markdown",
      "source": [
        "A1:\t0, 1  ('b', 'a')\n",
        "\n",
        "A4: 0, 1, 2, 3\t('u', 'y', 'l', 't')\n",
        "    \n",
        "A5:\t0, 1, 2  ('g', 'p', 'gg')\n",
        "    \n",
        "A6:\t0, 1, 2, 3, 4, 5, 6, 7, 8, 9, 10, 11, 12, 13  ('c', 'd', 'cc', 'i', 'j', 'k', 'm', 'r', 'q', 'w', 'x', 'e', 'aa', 'ff')\n",
        "\n",
        "A7:\t0, 1, 2, 3, 4, 5, 6, 7, 8 ('v', 'h', 'bb', 'j', 'n', 'z', 'dd', 'ff', 'o')\n",
        "\n",
        "A9:\t0, 1  ('t', 'f')\n",
        "\n",
        "A10: 0, 1  ('t', 'f')\n",
        "\n",
        "A12:\t0, 1  ('t', 'f')\n",
        "\n",
        "A13: 0, 1, 2 ('g', 'p', 's')\n",
        "\n",
        "target: 0, 1 ('+', '-')         (class attribute)"
      ],
      "metadata": {
        "id": "GdeGDPY5jz5Z"
      }
    },
    {
      "cell_type": "code",
      "source": [
        "categ=['A1','A4','A5','A6','A7','A9','A10','A12','A13']\n",
        "cont=['A2','A3','A8','A11','A14','A15']\n",
        "df = MissingValuesHandler(df, categ, cont)"
      ],
      "metadata": {
        "id": "NUlZm2dOkg8P"
      },
      "execution_count": null,
      "outputs": []
    },
    {
      "cell_type": "code",
      "source": [
        "df = oneHotFunc(df, categ)"
      ],
      "metadata": {
        "colab": {
          "base_uri": "https://localhost:8080/"
        },
        "outputId": "c23b9e57-4e10-48ce-a377-c69c38c78594",
        "id": "CPHmCXcSjz5a"
      },
      "execution_count": null,
      "outputs": [
        {
          "output_type": "stream",
          "name": "stdout",
          "text": [
            "      A2     A3    A8  A11    A14  ...  A12_f  A12_t  A13_g  A13_s  A13_p\n",
            "0  30.83  0.000  1.25    1  00202  ...      1      0      1      0      0\n",
            "1  58.67  4.460  3.04    6  00043  ...      1      0      1      0      0\n",
            "2  24.50  0.500  1.50    0  00280  ...      1      0      1      0      0\n",
            "3  27.83  1.540  3.75    5  00100  ...      0      1      1      0      0\n",
            "4  20.17  5.625  1.71    0  00120  ...      1      0      0      0      1\n",
            "\n",
            "[5 rows x 46 columns]\n"
          ]
        }
      ]
    },
    {
      "cell_type": "code",
      "source": [
        "df = df.astype(float)\n",
        "df=(df- df.mean())/df.std()\n",
        "std=df.std()\n",
        "df=df.transform(lambda x:-0.5*x**2)\n",
        "# df = df.to_numpy()\n",
        "df_new = np.cos(df)\n",
        "df_new = df_new / (math.sqrt(2*math.pi))\n",
        "df_new = df_new / std\n",
        "a=df_new.to_numpy()\n",
        "df_new['score'] = np.sum(a,axis = 1 )"
      ],
      "metadata": {
        "id": "YPr5U10pjz5c"
      },
      "execution_count": null,
      "outputs": []
    },
    {
      "cell_type": "code",
      "source": [
        "colnames = ['A1','A2','A3','A4','A5','A6','A7','A8','A9','A10','A11','A12','A13','A14','A15','target']\n",
        "classify_df = pd.read_csv(\"drive/MyDrive/Datasets/creditapproval.data\",names=colnames, header=None)\n",
        "classify_df = classify_df.drop('target', 1)\n",
        "classify_df['outlier']=0"
      ],
      "metadata": {
        "colab": {
          "base_uri": "https://localhost:8080/"
        },
        "outputId": "795c9057-3f7e-4538-9517-813535c34ff1",
        "id": "FbX51cRAjz5d"
      },
      "execution_count": null,
      "outputs": [
        {
          "output_type": "stream",
          "name": "stderr",
          "text": [
            "/usr/local/lib/python3.7/dist-packages/ipykernel_launcher.py:3: FutureWarning: In a future version of pandas all arguments of DataFrame.drop except for the argument 'labels' will be keyword-only\n",
            "  This is separate from the ipykernel package so we can avoid doing imports until\n"
          ]
        }
      ]
    },
    {
      "cell_type": "code",
      "source": [
        "colnames = ['A1','A2','A3','A4','A5','A6','A7','A8','A9','A10','A11','A12','A13','A14','A15','target']\n",
        "original = pd.read_csv(\"drive/MyDrive/Datasets/creditapproval.data\",names=colnames, header=None)"
      ],
      "metadata": {
        "id": "PwMhha22jz5f"
      },
      "execution_count": null,
      "outputs": []
    },
    {
      "cell_type": "code",
      "source": [
        "avg=np.mean(df_new['score'])\n",
        "std=np.std(df_new['score'])\n",
        "final = pd.DataFrame()\n",
        "outliers = pd.DataFrame()\n",
        "for i in range(df_new.shape[0]):\n",
        "  if df_new['score'][i] > avg + (3*std) or df_new['score'][i] < avg - (3*std):\n",
        "    outliers=outliers.append(original.iloc[i])\n",
        "    classify_df['outlier'][i]=1\n",
        "  else:\n",
        "    final=final.append(original.iloc[i])\n",
        "print(outliers.shape)"
      ],
      "metadata": {
        "colab": {
          "base_uri": "https://localhost:8080/"
        },
        "outputId": "e28c5581-de60-4f31-b349-0f33ae1a03a8",
        "id": "9ZWmABMqjz5f"
      },
      "execution_count": null,
      "outputs": [
        {
          "output_type": "stream",
          "name": "stderr",
          "text": [
            "/usr/local/lib/python3.7/dist-packages/ipykernel_launcher.py:8: SettingWithCopyWarning: \n",
            "A value is trying to be set on a copy of a slice from a DataFrame\n",
            "\n",
            "See the caveats in the documentation: https://pandas.pydata.org/pandas-docs/stable/user_guide/indexing.html#returning-a-view-versus-a-copy\n",
            "  \n"
          ]
        },
        {
          "output_type": "stream",
          "name": "stdout",
          "text": [
            "(4, 16)\n"
          ]
        }
      ]
    },
    {
      "cell_type": "code",
      "source": [
        "print(original.shape)\n",
        "print(final.shape)"
      ],
      "metadata": {
        "colab": {
          "base_uri": "https://localhost:8080/"
        },
        "outputId": "e74e3ce0-7699-44ce-be0d-ae1e099d2b42",
        "id": "hjFEfxmGjz5g"
      },
      "execution_count": null,
      "outputs": [
        {
          "output_type": "stream",
          "name": "stdout",
          "text": [
            "(690, 16)\n",
            "(686, 16)\n"
          ]
        }
      ]
    },
    {
      "cell_type": "code",
      "source": [
        "final.to_csv('drive/MyDrive/Datasets/AfterRemovingOutliers/credit.csv', index=False)"
      ],
      "metadata": {
        "id": "4BrZ4MSZjz5h"
      },
      "execution_count": null,
      "outputs": []
    },
    {
      "cell_type": "code",
      "source": [
        "classify_df.to_csv('drive/MyDrive/Datasets/Outlier_Classification/credit.csv',index=False)"
      ],
      "metadata": {
        "id": "K6b_6EJNjz5i"
      },
      "execution_count": null,
      "outputs": []
    },
    {
      "cell_type": "markdown",
      "source": [
        "Australian\n",
        "---------------"
      ],
      "metadata": {
        "id": "hNqmxMvUhZUr"
      }
    },
    {
      "cell_type": "code",
      "source": [
        "colnames = ['A1','A2','A3','A4','A5','A6','A7','A8','A9','A10','A11','A12','A13','A14','target']\n",
        "df = pd.read_csv(\"drive/MyDrive/Datasets/australian.dat\",delimiter=' ',names=colnames, header=None)\n",
        "df = df.drop('target', 1)\n",
        "df.head()"
      ],
      "metadata": {
        "colab": {
          "base_uri": "https://localhost:8080/",
          "height": 261
        },
        "outputId": "afc604d3-f55e-4557-af3f-12bc6536cac5",
        "id": "y5sr3NHnhZUs"
      },
      "execution_count": null,
      "outputs": [
        {
          "output_type": "stream",
          "name": "stderr",
          "text": [
            "/usr/local/lib/python3.7/dist-packages/ipykernel_launcher.py:3: FutureWarning: In a future version of pandas all arguments of DataFrame.drop except for the argument 'labels' will be keyword-only\n",
            "  This is separate from the ipykernel package so we can avoid doing imports until\n"
          ]
        },
        {
          "output_type": "execute_result",
          "data": {
            "text/html": [
              "\n",
              "  <div id=\"df-8db7d567-ea90-4109-9e0e-eb23b73d2438\">\n",
              "    <div class=\"colab-df-container\">\n",
              "      <div>\n",
              "<style scoped>\n",
              "    .dataframe tbody tr th:only-of-type {\n",
              "        vertical-align: middle;\n",
              "    }\n",
              "\n",
              "    .dataframe tbody tr th {\n",
              "        vertical-align: top;\n",
              "    }\n",
              "\n",
              "    .dataframe thead th {\n",
              "        text-align: right;\n",
              "    }\n",
              "</style>\n",
              "<table border=\"1\" class=\"dataframe\">\n",
              "  <thead>\n",
              "    <tr style=\"text-align: right;\">\n",
              "      <th></th>\n",
              "      <th>A1</th>\n",
              "      <th>A2</th>\n",
              "      <th>A3</th>\n",
              "      <th>A4</th>\n",
              "      <th>A5</th>\n",
              "      <th>A6</th>\n",
              "      <th>A7</th>\n",
              "      <th>A8</th>\n",
              "      <th>A9</th>\n",
              "      <th>A10</th>\n",
              "      <th>A11</th>\n",
              "      <th>A12</th>\n",
              "      <th>A13</th>\n",
              "      <th>A14</th>\n",
              "    </tr>\n",
              "  </thead>\n",
              "  <tbody>\n",
              "    <tr>\n",
              "      <th>0</th>\n",
              "      <td>1</td>\n",
              "      <td>22.08</td>\n",
              "      <td>11.46</td>\n",
              "      <td>2</td>\n",
              "      <td>4</td>\n",
              "      <td>4</td>\n",
              "      <td>1.585</td>\n",
              "      <td>0</td>\n",
              "      <td>0</td>\n",
              "      <td>0</td>\n",
              "      <td>1</td>\n",
              "      <td>2</td>\n",
              "      <td>100</td>\n",
              "      <td>1213</td>\n",
              "    </tr>\n",
              "    <tr>\n",
              "      <th>1</th>\n",
              "      <td>0</td>\n",
              "      <td>22.67</td>\n",
              "      <td>7.00</td>\n",
              "      <td>2</td>\n",
              "      <td>8</td>\n",
              "      <td>4</td>\n",
              "      <td>0.165</td>\n",
              "      <td>0</td>\n",
              "      <td>0</td>\n",
              "      <td>0</td>\n",
              "      <td>0</td>\n",
              "      <td>2</td>\n",
              "      <td>160</td>\n",
              "      <td>1</td>\n",
              "    </tr>\n",
              "    <tr>\n",
              "      <th>2</th>\n",
              "      <td>0</td>\n",
              "      <td>29.58</td>\n",
              "      <td>1.75</td>\n",
              "      <td>1</td>\n",
              "      <td>4</td>\n",
              "      <td>4</td>\n",
              "      <td>1.250</td>\n",
              "      <td>0</td>\n",
              "      <td>0</td>\n",
              "      <td>0</td>\n",
              "      <td>1</td>\n",
              "      <td>2</td>\n",
              "      <td>280</td>\n",
              "      <td>1</td>\n",
              "    </tr>\n",
              "    <tr>\n",
              "      <th>3</th>\n",
              "      <td>0</td>\n",
              "      <td>21.67</td>\n",
              "      <td>11.50</td>\n",
              "      <td>1</td>\n",
              "      <td>5</td>\n",
              "      <td>3</td>\n",
              "      <td>0.000</td>\n",
              "      <td>1</td>\n",
              "      <td>1</td>\n",
              "      <td>11</td>\n",
              "      <td>1</td>\n",
              "      <td>2</td>\n",
              "      <td>0</td>\n",
              "      <td>1</td>\n",
              "    </tr>\n",
              "    <tr>\n",
              "      <th>4</th>\n",
              "      <td>1</td>\n",
              "      <td>20.17</td>\n",
              "      <td>8.17</td>\n",
              "      <td>2</td>\n",
              "      <td>6</td>\n",
              "      <td>4</td>\n",
              "      <td>1.960</td>\n",
              "      <td>1</td>\n",
              "      <td>1</td>\n",
              "      <td>14</td>\n",
              "      <td>0</td>\n",
              "      <td>2</td>\n",
              "      <td>60</td>\n",
              "      <td>159</td>\n",
              "    </tr>\n",
              "  </tbody>\n",
              "</table>\n",
              "</div>\n",
              "      <button class=\"colab-df-convert\" onclick=\"convertToInteractive('df-8db7d567-ea90-4109-9e0e-eb23b73d2438')\"\n",
              "              title=\"Convert this dataframe to an interactive table.\"\n",
              "              style=\"display:none;\">\n",
              "        \n",
              "  <svg xmlns=\"http://www.w3.org/2000/svg\" height=\"24px\"viewBox=\"0 0 24 24\"\n",
              "       width=\"24px\">\n",
              "    <path d=\"M0 0h24v24H0V0z\" fill=\"none\"/>\n",
              "    <path d=\"M18.56 5.44l.94 2.06.94-2.06 2.06-.94-2.06-.94-.94-2.06-.94 2.06-2.06.94zm-11 1L8.5 8.5l.94-2.06 2.06-.94-2.06-.94L8.5 2.5l-.94 2.06-2.06.94zm10 10l.94 2.06.94-2.06 2.06-.94-2.06-.94-.94-2.06-.94 2.06-2.06.94z\"/><path d=\"M17.41 7.96l-1.37-1.37c-.4-.4-.92-.59-1.43-.59-.52 0-1.04.2-1.43.59L10.3 9.45l-7.72 7.72c-.78.78-.78 2.05 0 2.83L4 21.41c.39.39.9.59 1.41.59.51 0 1.02-.2 1.41-.59l7.78-7.78 2.81-2.81c.8-.78.8-2.07 0-2.86zM5.41 20L4 18.59l7.72-7.72 1.47 1.35L5.41 20z\"/>\n",
              "  </svg>\n",
              "      </button>\n",
              "      \n",
              "  <style>\n",
              "    .colab-df-container {\n",
              "      display:flex;\n",
              "      flex-wrap:wrap;\n",
              "      gap: 12px;\n",
              "    }\n",
              "\n",
              "    .colab-df-convert {\n",
              "      background-color: #E8F0FE;\n",
              "      border: none;\n",
              "      border-radius: 50%;\n",
              "      cursor: pointer;\n",
              "      display: none;\n",
              "      fill: #1967D2;\n",
              "      height: 32px;\n",
              "      padding: 0 0 0 0;\n",
              "      width: 32px;\n",
              "    }\n",
              "\n",
              "    .colab-df-convert:hover {\n",
              "      background-color: #E2EBFA;\n",
              "      box-shadow: 0px 1px 2px rgba(60, 64, 67, 0.3), 0px 1px 3px 1px rgba(60, 64, 67, 0.15);\n",
              "      fill: #174EA6;\n",
              "    }\n",
              "\n",
              "    [theme=dark] .colab-df-convert {\n",
              "      background-color: #3B4455;\n",
              "      fill: #D2E3FC;\n",
              "    }\n",
              "\n",
              "    [theme=dark] .colab-df-convert:hover {\n",
              "      background-color: #434B5C;\n",
              "      box-shadow: 0px 1px 3px 1px rgba(0, 0, 0, 0.15);\n",
              "      filter: drop-shadow(0px 1px 2px rgba(0, 0, 0, 0.3));\n",
              "      fill: #FFFFFF;\n",
              "    }\n",
              "  </style>\n",
              "\n",
              "      <script>\n",
              "        const buttonEl =\n",
              "          document.querySelector('#df-8db7d567-ea90-4109-9e0e-eb23b73d2438 button.colab-df-convert');\n",
              "        buttonEl.style.display =\n",
              "          google.colab.kernel.accessAllowed ? 'block' : 'none';\n",
              "\n",
              "        async function convertToInteractive(key) {\n",
              "          const element = document.querySelector('#df-8db7d567-ea90-4109-9e0e-eb23b73d2438');\n",
              "          const dataTable =\n",
              "            await google.colab.kernel.invokeFunction('convertToInteractive',\n",
              "                                                     [key], {});\n",
              "          if (!dataTable) return;\n",
              "\n",
              "          const docLinkHtml = 'Like what you see? Visit the ' +\n",
              "            '<a target=\"_blank\" href=https://colab.research.google.com/notebooks/data_table.ipynb>data table notebook</a>'\n",
              "            + ' to learn more about interactive tables.';\n",
              "          element.innerHTML = '';\n",
              "          dataTable['output_type'] = 'display_data';\n",
              "          await google.colab.output.renderOutput(dataTable, element);\n",
              "          const docLink = document.createElement('div');\n",
              "          docLink.innerHTML = docLinkHtml;\n",
              "          element.appendChild(docLink);\n",
              "        }\n",
              "      </script>\n",
              "    </div>\n",
              "  </div>\n",
              "  "
            ],
            "text/plain": [
              "   A1     A2     A3  A4  A5  A6     A7  A8  A9  A10  A11  A12  A13   A14\n",
              "0   1  22.08  11.46   2   4   4  1.585   0   0    0    1    2  100  1213\n",
              "1   0  22.67   7.00   2   8   4  0.165   0   0    0    0    2  160     1\n",
              "2   0  29.58   1.75   1   4   4  1.250   0   0    0    1    2  280     1\n",
              "3   0  21.67  11.50   1   5   3  0.000   1   1   11    1    2    0     1\n",
              "4   1  20.17   8.17   2   6   4  1.960   1   1   14    0    2   60   159"
            ]
          },
          "metadata": {},
          "execution_count": 8
        }
      ]
    },
    {
      "cell_type": "markdown",
      "source": [
        "Categorical attributes:\n",
        "\n",
        "A1:\t0, 1   (a, b)\n",
        "\n",
        "A4:\t1, 2, 3  (p, g, gg)\n",
        "\n",
        "A5:  1, 2, 3, 4, 5, 6, 7, 8, 9, 10, 11, 12, 13, 14 (ff, d, i, k, j, aa, m, c, w, e, q, r, cc, x )\n",
        "\n",
        "A6:\t 1, 2, 3, 4, 5, 6, 7, 8, 9  (ff, dd, j, bb, v, n, o, h, z)\n",
        "\n",
        "A8:\t1, 0  (t, f)\n",
        "\n",
        "A9: 1, 0\t(t, f)\n",
        "\n",
        "A11: 1, 0 (t, f)\n",
        "\n",
        "A12: 1, 2, 3  (s, g, p)\n",
        "\n",
        "target: 0, 1 (+, -)  (class attribute)"
      ],
      "metadata": {
        "id": "UbybO065hZUu"
      }
    },
    {
      "cell_type": "code",
      "source": [
        "categ = ['A1','A4','A5','A6','A8','A9','A11','A12']\n",
        "df = oneHotFunc(df, categ)"
      ],
      "metadata": {
        "colab": {
          "base_uri": "https://localhost:8080/"
        },
        "outputId": "053030ea-79db-4890-d344-d90ba74cdcfa",
        "id": "Sv-mHG8QhZUv"
      },
      "execution_count": null,
      "outputs": [
        {
          "output_type": "stream",
          "name": "stdout",
          "text": [
            "      A2     A3     A7  A10  A13   A14  ...  A9_1  A11_1  A11_0  A12_2  A12_1  A12_3\n",
            "0  22.08  11.46  1.585    0  100  1213  ...     0      0      1      0      1      0\n",
            "1  22.67   7.00  0.165    0  160     1  ...     0      1      0      0      1      0\n",
            "2  29.58   1.75  1.250    0  280     1  ...     0      0      1      0      1      0\n",
            "3  21.67  11.50  0.000   11    0     1  ...     1      0      1      0      1      0\n",
            "4  20.17   8.17  1.960   14   60   159  ...     1      1      0      0      1      0\n",
            "\n",
            "[5 rows x 42 columns]\n"
          ]
        }
      ]
    },
    {
      "cell_type": "code",
      "source": [
        "df=(df- df.mean())/df.std()\n",
        "std=df.std()\n",
        "df=df.transform(lambda x:-0.5*x**2)\n",
        "df.to_numpy()\n",
        "df_new = np.cos(df)\n",
        "df_new = df_new / (math.sqrt(2*math.pi))\n",
        "df_new = df_new / std\n",
        "a=df_new.to_numpy()\n",
        "df_new['score'] = np.sum(a,axis = 1 )"
      ],
      "metadata": {
        "id": "nIHqKzGOhZUw"
      },
      "execution_count": null,
      "outputs": []
    },
    {
      "cell_type": "code",
      "source": [
        "colnames = ['A1','A2','A3','A4','A5','A6','A7','A8','A9','A10','A11','A12','A13','A14','target']\n",
        "classify_df = pd.read_csv(\"drive/MyDrive/Datasets/australian.dat\",delimiter=' ',names=colnames, header=None)\n",
        "classify_df = classify_df.drop('target', 1)\n",
        "classify_df['outlier']=0"
      ],
      "metadata": {
        "colab": {
          "base_uri": "https://localhost:8080/"
        },
        "outputId": "d5ebe514-9ce3-4693-9c32-73408f617473",
        "id": "tVJkgYj9hZUy"
      },
      "execution_count": null,
      "outputs": [
        {
          "output_type": "stream",
          "name": "stderr",
          "text": [
            "/usr/local/lib/python3.7/dist-packages/ipykernel_launcher.py:3: FutureWarning: In a future version of pandas all arguments of DataFrame.drop except for the argument 'labels' will be keyword-only\n",
            "  This is separate from the ipykernel package so we can avoid doing imports until\n"
          ]
        }
      ]
    },
    {
      "cell_type": "code",
      "source": [
        "colnames = ['A1','A2','A3','A4','A5','A6','A7','A8','A9','A10','A11','A12','A13','A14','target']\n",
        "original = pd.read_csv(\"drive/MyDrive/Datasets/australian.dat\",delimiter=' ',names=colnames, header=None)"
      ],
      "metadata": {
        "id": "NAih_9h1hZUz"
      },
      "execution_count": null,
      "outputs": []
    },
    {
      "cell_type": "code",
      "source": [
        "avg=np.mean(df_new['score'])\n",
        "std=np.std(df_new['score'])\n",
        "final = pd.DataFrame()\n",
        "outliers = pd.DataFrame()\n",
        "for i in range(df_new.shape[0]):\n",
        "  if df_new['score'][i] > avg + (3*std) or df_new['score'][i] < avg - (3*std):\n",
        "    outliers=outliers.append(original.iloc[i])\n",
        "    classify_df['outlier'][i]=1\n",
        "  else:\n",
        "    final=final.append(original.iloc[i])\n",
        "print(outliers.shape)"
      ],
      "metadata": {
        "colab": {
          "base_uri": "https://localhost:8080/"
        },
        "outputId": "10cec41b-6112-472e-fb23-fa705b0e6696",
        "id": "232gEBtOhZU0"
      },
      "execution_count": null,
      "outputs": [
        {
          "output_type": "stream",
          "name": "stderr",
          "text": [
            "/usr/local/lib/python3.7/dist-packages/ipykernel_launcher.py:8: SettingWithCopyWarning: \n",
            "A value is trying to be set on a copy of a slice from a DataFrame\n",
            "\n",
            "See the caveats in the documentation: https://pandas.pydata.org/pandas-docs/stable/user_guide/indexing.html#returning-a-view-versus-a-copy\n",
            "  \n"
          ]
        },
        {
          "output_type": "stream",
          "name": "stdout",
          "text": [
            "(7, 15)\n"
          ]
        }
      ]
    },
    {
      "cell_type": "code",
      "source": [
        "print(original.shape)\n",
        "print(final.shape)"
      ],
      "metadata": {
        "colab": {
          "base_uri": "https://localhost:8080/"
        },
        "outputId": "82b486bb-25ec-4909-88ba-39e51a413697",
        "id": "KTxgwa5JhZU1"
      },
      "execution_count": null,
      "outputs": [
        {
          "output_type": "stream",
          "name": "stdout",
          "text": [
            "(690, 15)\n",
            "(683, 15)\n"
          ]
        }
      ]
    },
    {
      "cell_type": "code",
      "source": [
        "final.to_csv('drive/MyDrive/Datasets/AfterRemovingOutliers/australian.csv', index=False)"
      ],
      "metadata": {
        "id": "E9Zne6lzhZU2"
      },
      "execution_count": null,
      "outputs": []
    },
    {
      "cell_type": "code",
      "source": [
        "classify_df.to_csv('drive/MyDrive/Datasets/Outlier_Classification/australian.csv',index=False)"
      ],
      "metadata": {
        "id": "eEX1kTGShZU2"
      },
      "execution_count": null,
      "outputs": []
    },
    {
      "cell_type": "markdown",
      "source": [
        "German\n",
        "---------------"
      ],
      "metadata": {
        "id": "RabJzxULfFJn"
      }
    },
    {
      "cell_type": "code",
      "source": [
        "colnames = ['A1','A2','A3','A4','A5','A6','A7','A8','A9','A10','A11','A12','A13','A14','A15','A16','A17','A18','A19','A20','target']\n",
        "df = pd.read_csv(\"drive/MyDrive/Datasets/german.data\",delimiter=' ',names=colnames, header=None)\n",
        "df = df.drop('target', 1)\n",
        "df.head"
      ],
      "metadata": {
        "colab": {
          "base_uri": "https://localhost:8080/",
          "height": 217
        },
        "outputId": "fef99b77-bbab-49db-c31d-af26d4a04275",
        "id": "Jf7nV88afFJp"
      },
      "execution_count": null,
      "outputs": [
        {
          "output_type": "error",
          "ename": "NameError",
          "evalue": "ignored",
          "traceback": [
            "\u001b[0;31m---------------------------------------------------------------------------\u001b[0m",
            "\u001b[0;31mNameError\u001b[0m                                 Traceback (most recent call last)",
            "\u001b[0;32m<ipython-input-1-1f57000e0de0>\u001b[0m in \u001b[0;36m<module>\u001b[0;34m()\u001b[0m\n\u001b[1;32m      1\u001b[0m \u001b[0mcolnames\u001b[0m \u001b[0;34m=\u001b[0m \u001b[0;34m[\u001b[0m\u001b[0;34m'A1'\u001b[0m\u001b[0;34m,\u001b[0m\u001b[0;34m'A2'\u001b[0m\u001b[0;34m,\u001b[0m\u001b[0;34m'A3'\u001b[0m\u001b[0;34m,\u001b[0m\u001b[0;34m'A4'\u001b[0m\u001b[0;34m,\u001b[0m\u001b[0;34m'A5'\u001b[0m\u001b[0;34m,\u001b[0m\u001b[0;34m'A6'\u001b[0m\u001b[0;34m,\u001b[0m\u001b[0;34m'A7'\u001b[0m\u001b[0;34m,\u001b[0m\u001b[0;34m'A8'\u001b[0m\u001b[0;34m,\u001b[0m\u001b[0;34m'A9'\u001b[0m\u001b[0;34m,\u001b[0m\u001b[0;34m'A10'\u001b[0m\u001b[0;34m,\u001b[0m\u001b[0;34m'A11'\u001b[0m\u001b[0;34m,\u001b[0m\u001b[0;34m'A12'\u001b[0m\u001b[0;34m,\u001b[0m\u001b[0;34m'A13'\u001b[0m\u001b[0;34m,\u001b[0m\u001b[0;34m'A14'\u001b[0m\u001b[0;34m,\u001b[0m\u001b[0;34m'A15'\u001b[0m\u001b[0;34m,\u001b[0m\u001b[0;34m'A16'\u001b[0m\u001b[0;34m,\u001b[0m\u001b[0;34m'A17'\u001b[0m\u001b[0;34m,\u001b[0m\u001b[0;34m'A18'\u001b[0m\u001b[0;34m,\u001b[0m\u001b[0;34m'A19'\u001b[0m\u001b[0;34m,\u001b[0m\u001b[0;34m'A20'\u001b[0m\u001b[0;34m,\u001b[0m\u001b[0;34m'target'\u001b[0m\u001b[0;34m]\u001b[0m\u001b[0;34m\u001b[0m\u001b[0;34m\u001b[0m\u001b[0m\n\u001b[0;32m----> 2\u001b[0;31m \u001b[0mdf\u001b[0m \u001b[0;34m=\u001b[0m \u001b[0mpd\u001b[0m\u001b[0;34m.\u001b[0m\u001b[0mread_csv\u001b[0m\u001b[0;34m(\u001b[0m\u001b[0;34m\"drive/MyDrive/Datasets/german.data\"\u001b[0m\u001b[0;34m,\u001b[0m\u001b[0mdelimiter\u001b[0m\u001b[0;34m=\u001b[0m\u001b[0;34m' '\u001b[0m\u001b[0;34m,\u001b[0m\u001b[0mnames\u001b[0m\u001b[0;34m=\u001b[0m\u001b[0mcolnames\u001b[0m\u001b[0;34m,\u001b[0m \u001b[0mheader\u001b[0m\u001b[0;34m=\u001b[0m\u001b[0;32mNone\u001b[0m\u001b[0;34m)\u001b[0m\u001b[0;34m\u001b[0m\u001b[0;34m\u001b[0m\u001b[0m\n\u001b[0m\u001b[1;32m      3\u001b[0m \u001b[0mdf\u001b[0m \u001b[0;34m=\u001b[0m \u001b[0mdf\u001b[0m\u001b[0;34m.\u001b[0m\u001b[0mdrop\u001b[0m\u001b[0;34m(\u001b[0m\u001b[0;34m'target'\u001b[0m\u001b[0;34m,\u001b[0m \u001b[0;36m1\u001b[0m\u001b[0;34m)\u001b[0m\u001b[0;34m\u001b[0m\u001b[0;34m\u001b[0m\u001b[0m\n\u001b[1;32m      4\u001b[0m \u001b[0mdf\u001b[0m\u001b[0;34m.\u001b[0m\u001b[0mhead\u001b[0m\u001b[0;34m\u001b[0m\u001b[0;34m\u001b[0m\u001b[0m\n",
            "\u001b[0;31mNameError\u001b[0m: name 'pd' is not defined"
          ]
        }
      ]
    },
    {
      "cell_type": "markdown",
      "source": [
        "Categorical attributes:\n",
        "\n",
        "A1: 0, 1, 2, 3 ('A11', 'A12', 'A14', 'A13')\n",
        "\n",
        "A3:\t0, 1, 2, 3, 4  ('A34', 'A32', 'A33', 'A30', 'A31')\n",
        "\n",
        "A4: 0, 1, 2, 3, 4, 5, 6, 7, 8, 9 ('A43', 'A46', 'A42', 'A40', 'A41', 'A49', 'A44', 'A45', 'A410',\n",
        "       'A48')\n",
        "\n",
        "A6:\t 0, 1, 2, 3, 4  ('A65', 'A61', 'A63', 'A64', 'A62')\n",
        "\n",
        "A7:\t0, 1, 2, 3, 4  ('A75', 'A73', 'A74', 'A71', 'A72')\n",
        "\n",
        "A9: 0, 1, 2, 3,\t('A93', 'A92', 'A91', 'A94')\n",
        "\n",
        "A10: 0, 1, 2 ('A101', 'A103', 'A102')\n",
        "\n",
        "A12: 0, 1, 2, 3  ('A121', 'A122', 'A124', 'A123')\n",
        "\n",
        "A14: 0, 1, 2 ('A143', 'A141', 'A142')\n",
        "\n",
        "A15: 0, 1, 2 ('A152', 'A153', 'A151')\n",
        "\n",
        "A17: 0, 1, 2, 3 ('A173', 'A172', 'A174', 'A171')\n",
        "\n",
        "A19: 0, 1 ('A192', 'A191')\n",
        "\n",
        "A20: 0, 1 ('A201', 'A202)\n",
        "\n",
        "target: 1, 2"
      ],
      "metadata": {
        "id": "wCJf4NCvfFJq"
      }
    },
    {
      "cell_type": "code",
      "source": [
        "categ=['A1','A3','A4','A6','A7','A9','A10','A12','A14','A15','A17','A19','A20']\n",
        "df = oneHotFunc(df, categ)"
      ],
      "metadata": {
        "colab": {
          "base_uri": "https://localhost:8080/"
        },
        "outputId": "525029c1-45a8-4747-b9de-a28c8afdf5cb",
        "id": "TGFCTxTgfFJr"
      },
      "execution_count": null,
      "outputs": [
        {
          "output_type": "stream",
          "name": "stdout",
          "text": [
            "   A2    A5  A8  A11  A13  ...  A17_A171  A19_A192  A19_A191  A20_A201  A20_A202\n",
            "0   6  1169   4    4   67  ...         0         0         1         1         0\n",
            "1  48  5951   2    2   22  ...         0         1         0         1         0\n",
            "2  12  2096   2    3   49  ...         0         1         0         1         0\n",
            "3  42  7882   2    4   45  ...         0         1         0         1         0\n",
            "4  24  4870   3    4   53  ...         0         1         0         1         0\n",
            "\n",
            "[5 rows x 61 columns]\n"
          ]
        }
      ]
    },
    {
      "cell_type": "code",
      "source": [
        "df=(df- df.mean())/df.std()\n",
        "std=df.std()\n",
        "df=df.transform(lambda x:-0.5*x**2)\n",
        "df.to_numpy()\n",
        "df_new = np.cos(df)\n",
        "df_new = df_new / (math.sqrt(2*math.pi))\n",
        "df_new = df_new / std\n",
        "a=df_new.to_numpy()\n",
        "df_new['score'] = np.sum(a,axis = 1 )"
      ],
      "metadata": {
        "id": "3d6u4T6QfFJr"
      },
      "execution_count": null,
      "outputs": []
    },
    {
      "cell_type": "code",
      "source": [
        "colnames = ['A1','A2','A3','A4','A5','A6','A7','A8','A9','A10','A11','A12','A13','A14','A15','A16','A17','A18','A19','A20','target']\n",
        "classify_df = pd.read_csv(\"drive/MyDrive/Datasets/german.data\",delimiter=' ',names=colnames, header=None)\n",
        "classify_df = classify_df.drop('target', 1)\n",
        "classify_df['outlier']=0"
      ],
      "metadata": {
        "colab": {
          "base_uri": "https://localhost:8080/"
        },
        "outputId": "0a06cdba-e443-4c58-bb5a-dab9249c45d8",
        "id": "AXY8ovitfFJs"
      },
      "execution_count": null,
      "outputs": [
        {
          "output_type": "stream",
          "name": "stderr",
          "text": [
            "/usr/local/lib/python3.7/dist-packages/ipykernel_launcher.py:3: FutureWarning: In a future version of pandas all arguments of DataFrame.drop except for the argument 'labels' will be keyword-only\n",
            "  This is separate from the ipykernel package so we can avoid doing imports until\n"
          ]
        }
      ]
    },
    {
      "cell_type": "code",
      "source": [
        "colnames = ['A1','A2','A3','A4','A5','A6','A7','A8','A9','A10','A11','A12','A13','A14','A15','A16','A17','A18','A19','A20','target']\n",
        "original = pd.read_csv(\"drive/MyDrive/Datasets/german.data\",delimiter=' ',names=colnames, header=None)"
      ],
      "metadata": {
        "id": "dHi2msEcfFJt"
      },
      "execution_count": null,
      "outputs": []
    },
    {
      "cell_type": "code",
      "source": [
        "avg=np.mean(df_new['score'])\n",
        "std=np.std(df_new['score'])\n",
        "final = pd.DataFrame()\n",
        "outliers = pd.DataFrame()\n",
        "for i in range(df_new.shape[0]):\n",
        "  if df_new['score'][i] > avg + (3*std) or df_new['score'][i] < avg - (3*std):\n",
        "    outliers=outliers.append(original.iloc[i])\n",
        "    classify_df['outlier'][i]=1\n",
        "  else:\n",
        "    final=final.append(original.iloc[i])\n",
        "print(outliers.shape)"
      ],
      "metadata": {
        "colab": {
          "base_uri": "https://localhost:8080/"
        },
        "outputId": "1549c331-bfaf-4d3e-ce18-e88e3a48ec21",
        "id": "GTmdEklqfFJt"
      },
      "execution_count": null,
      "outputs": [
        {
          "output_type": "stream",
          "name": "stderr",
          "text": [
            "/usr/local/lib/python3.7/dist-packages/ipykernel_launcher.py:8: SettingWithCopyWarning: \n",
            "A value is trying to be set on a copy of a slice from a DataFrame\n",
            "\n",
            "See the caveats in the documentation: https://pandas.pydata.org/pandas-docs/stable/user_guide/indexing.html#returning-a-view-versus-a-copy\n",
            "  \n"
          ]
        },
        {
          "output_type": "stream",
          "name": "stdout",
          "text": [
            "(7, 21)\n"
          ]
        }
      ]
    },
    {
      "cell_type": "code",
      "source": [
        "print(original.shape)\n",
        "print(final.shape)"
      ],
      "metadata": {
        "colab": {
          "base_uri": "https://localhost:8080/"
        },
        "outputId": "c8695196-0afb-470e-c8f1-0ef1394d68b3",
        "id": "IXfw0GLufFJu"
      },
      "execution_count": null,
      "outputs": [
        {
          "output_type": "stream",
          "name": "stdout",
          "text": [
            "(1000, 21)\n",
            "(993, 21)\n"
          ]
        }
      ]
    },
    {
      "cell_type": "code",
      "source": [
        "final.to_csv('drive/MyDrive/Datasets/AfterRemovingOutliers/german.csv', index=False)"
      ],
      "metadata": {
        "id": "dDcjAvvhfFJv"
      },
      "execution_count": null,
      "outputs": []
    },
    {
      "cell_type": "code",
      "source": [
        "classify_df.to_csv('drive/MyDrive/Datasets/Outlier_Classification/german.csv',index=False)"
      ],
      "metadata": {
        "id": "XLBKSrpQfFJv"
      },
      "execution_count": null,
      "outputs": []
    },
    {
      "cell_type": "markdown",
      "source": [
        "Heart\n",
        "---------------"
      ],
      "metadata": {
        "id": "hNqpbxTbgsGj"
      }
    },
    {
      "cell_type": "code",
      "source": [
        "df=pd.read_csv(\"drive/MyDrive/Datasets/heart.csv\")\n",
        "df = df.drop('target', 1)\n",
        "df.shape"
      ],
      "metadata": {
        "colab": {
          "base_uri": "https://localhost:8080/"
        },
        "id": "5GIWdYdggrL7",
        "outputId": "9d4842a1-8a42-44ca-c7f2-780a25837365"
      },
      "execution_count": null,
      "outputs": [
        {
          "output_type": "stream",
          "name": "stderr",
          "text": [
            "/usr/local/lib/python3.7/dist-packages/ipykernel_launcher.py:2: FutureWarning: In a future version of pandas all arguments of DataFrame.drop except for the argument 'labels' will be keyword-only\n",
            "  \n"
          ]
        },
        {
          "output_type": "execute_result",
          "data": {
            "text/plain": [
              "(303, 13)"
            ]
          },
          "metadata": {},
          "execution_count": 40
        }
      ]
    },
    {
      "cell_type": "markdown",
      "source": [
        "Unique values for categorical variables\n",
        "\n",
        "sex: [1, 0]\n",
        "\n",
        "cp: [3, 2, 1, 0]\n",
        "\n",
        "fbs: [1, 0]\n",
        "\n",
        "restecg: [0, 1, 2]\n",
        "\n",
        "exang: [0, 1]\n",
        "\n",
        "slope: [0, 2, 1]\n",
        "\n",
        "ca: [0, 2, 1, 3, 4]\n",
        "\n",
        "thal: [1, 2, 3, 0]\n",
        "\n"
      ],
      "metadata": {
        "id": "ZMYn26XlkN3x"
      }
    },
    {
      "cell_type": "code",
      "source": [
        "categ = ['sex','cp','fbs','restecg','exang','slope','ca','thal']\n",
        "df = oneHotFunc(df,categ)"
      ],
      "metadata": {
        "colab": {
          "base_uri": "https://localhost:8080/"
        },
        "id": "f_S8dkhbnRyx",
        "outputId": "33360bd8-a670-4657-fb7c-8c46844f5095"
      },
      "execution_count": null,
      "outputs": [
        {
          "output_type": "stream",
          "name": "stdout",
          "text": [
            "   age  trestbps  chol  thalach  oldpeak  ...  ca_4  thal_1  thal_2  thal_3  thal_0\n",
            "0   63       145   233      150      2.3  ...     0       0       1       0       0\n",
            "1   37       130   250      187      3.5  ...     0       0       0       1       0\n",
            "2   41       130   204      172      1.4  ...     0       0       0       1       0\n",
            "3   56       120   236      178      0.8  ...     0       0       0       1       0\n",
            "4   57       120   354      163      0.6  ...     0       0       0       1       0\n",
            "\n",
            "[5 rows x 30 columns]\n"
          ]
        }
      ]
    },
    {
      "cell_type": "code",
      "source": [
        "df=(df- df.mean())/df.std()\n",
        "std=df.std()\n",
        "df=df.transform(lambda x:-0.5*x**2)\n",
        "df.to_numpy()\n",
        "df_new = np.cos(df)\n",
        "df_new = df_new / (math.sqrt(2*math.pi))\n",
        "df_new = df_new / std\n",
        "a=df_new.to_numpy()\n",
        "df_new['score'] = np.sum(a,axis = 1 )"
      ],
      "metadata": {
        "id": "LkWlqBVSz2Os"
      },
      "execution_count": null,
      "outputs": []
    },
    {
      "cell_type": "code",
      "source": [
        "classify_df= pd.read_csv('drive/MyDrive/Datasets/heart.csv')\n",
        "classify_df = classify_df.drop('target', 1)\n",
        "classify_df['outlier']=0"
      ],
      "metadata": {
        "colab": {
          "base_uri": "https://localhost:8080/"
        },
        "id": "xDhjxr0z0G6E",
        "outputId": "5ed9754e-2de2-48c3-f8bc-2ad97b5ae6dd"
      },
      "execution_count": null,
      "outputs": [
        {
          "output_type": "stream",
          "name": "stderr",
          "text": [
            "/usr/local/lib/python3.7/dist-packages/ipykernel_launcher.py:2: FutureWarning: In a future version of pandas all arguments of DataFrame.drop except for the argument 'labels' will be keyword-only\n",
            "  \n"
          ]
        }
      ]
    },
    {
      "cell_type": "code",
      "source": [
        "original = pd.read_csv('drive/MyDrive/Datasets/heart.csv')"
      ],
      "metadata": {
        "id": "N-1oPIfBxjsE"
      },
      "execution_count": null,
      "outputs": []
    },
    {
      "cell_type": "code",
      "source": [
        "avg=np.mean(df_new['score'])\n",
        "std=np.std(df_new['score'])\n",
        "final = pd.DataFrame()\n",
        "outliers = pd.DataFrame()\n",
        "for i in range(df_new.shape[0]):\n",
        "  if df_new['score'][i] > avg + (3*std) or df_new['score'][i] < avg - (3*std):\n",
        "    outliers=outliers.append(original.iloc[i])\n",
        "    classify_df['outlier'][i]=1\n",
        "  else:\n",
        "    final=final.append(original.iloc[i])\n",
        "print(outliers.shape)"
      ],
      "metadata": {
        "colab": {
          "base_uri": "https://localhost:8080/"
        },
        "id": "IBymGlwO0a62",
        "outputId": "86969598-bc86-4b88-b271-76d5fed212a1"
      },
      "execution_count": null,
      "outputs": [
        {
          "output_type": "stream",
          "name": "stdout",
          "text": [
            "(4, 14)\n"
          ]
        },
        {
          "output_type": "stream",
          "name": "stderr",
          "text": [
            "/usr/local/lib/python3.7/dist-packages/ipykernel_launcher.py:8: SettingWithCopyWarning: \n",
            "A value is trying to be set on a copy of a slice from a DataFrame\n",
            "\n",
            "See the caveats in the documentation: https://pandas.pydata.org/pandas-docs/stable/user_guide/indexing.html#returning-a-view-versus-a-copy\n",
            "  \n"
          ]
        }
      ]
    },
    {
      "cell_type": "code",
      "source": [
        "print(original.shape)\n",
        "print(final.shape)"
      ],
      "metadata": {
        "colab": {
          "base_uri": "https://localhost:8080/"
        },
        "id": "PC3c2cXKxudF",
        "outputId": "f444fe3d-e694-4f9b-ebf6-ea27aaf8ce95"
      },
      "execution_count": null,
      "outputs": [
        {
          "output_type": "stream",
          "name": "stdout",
          "text": [
            "(303, 14)\n",
            "(299, 14)\n"
          ]
        }
      ]
    },
    {
      "cell_type": "code",
      "source": [
        "final.to_csv('drive/MyDrive/Datasets/AfterRemovingOutliers/heart.csv', index=False)"
      ],
      "metadata": {
        "id": "TqP9pPSTxzsx"
      },
      "execution_count": null,
      "outputs": []
    },
    {
      "cell_type": "code",
      "source": [
        "classify_df.to_csv('drive/MyDrive/Datasets/Outlier_Classification/heart.csv',index=False)"
      ],
      "metadata": {
        "id": "QMwp8MvF0fpo"
      },
      "execution_count": null,
      "outputs": []
    },
    {
      "cell_type": "markdown",
      "source": [
        "Classification Problem\n",
        "--------------------------------\n",
        "Given sample Outlier or not"
      ],
      "metadata": {
        "id": "UkdxBL6x5BGe"
      }
    },
    {
      "cell_type": "markdown",
      "source": [
        "Cylinder Bands\n",
        "--------------"
      ],
      "metadata": {
        "id": "_z9vrUj2qiz2"
      }
    },
    {
      "cell_type": "code",
      "source": [
        "df=pd.read_csv(\"drive/MyDrive/Datasets/Outlier_Classification/band.csv\")\n",
        "df.head()"
      ],
      "metadata": {
        "colab": {
          "base_uri": "https://localhost:8080/",
          "height": 300
        },
        "outputId": "b8b9af55-8c49-4a91-eb60-efddf80af6b2",
        "id": "LSgbkFxTqiz5"
      },
      "execution_count": null,
      "outputs": [
        {
          "output_type": "execute_result",
          "data": {
            "text/html": [
              "\n",
              "  <div id=\"df-a476caa3-d7bc-4b47-ab67-5df9f39ae923\">\n",
              "    <div class=\"colab-df-container\">\n",
              "      <div>\n",
              "<style scoped>\n",
              "    .dataframe tbody tr th:only-of-type {\n",
              "        vertical-align: middle;\n",
              "    }\n",
              "\n",
              "    .dataframe tbody tr th {\n",
              "        vertical-align: top;\n",
              "    }\n",
              "\n",
              "    .dataframe thead th {\n",
              "        text-align: right;\n",
              "    }\n",
              "</style>\n",
              "<table border=\"1\" class=\"dataframe\">\n",
              "  <thead>\n",
              "    <tr style=\"text-align: right;\">\n",
              "      <th></th>\n",
              "      <th>timestamp</th>\n",
              "      <th>cylinder_number</th>\n",
              "      <th>customer</th>\n",
              "      <th>job_number</th>\n",
              "      <th>grain_screened</th>\n",
              "      <th>ink_color</th>\n",
              "      <th>proof_on_ctd_ink</th>\n",
              "      <th>blade_mfg</th>\n",
              "      <th>cylinder_division</th>\n",
              "      <th>paper_type</th>\n",
              "      <th>...</th>\n",
              "      <th>solvent_pct</th>\n",
              "      <th>ESA_Voltage</th>\n",
              "      <th>ESA_Amperage</th>\n",
              "      <th>wax</th>\n",
              "      <th>hardener</th>\n",
              "      <th>roller_durometer</th>\n",
              "      <th>current_density</th>\n",
              "      <th>anode_space_ratio</th>\n",
              "      <th>chrome_content</th>\n",
              "      <th>outlier</th>\n",
              "    </tr>\n",
              "  </thead>\n",
              "  <tbody>\n",
              "    <tr>\n",
              "      <th>0</th>\n",
              "      <td>19910108</td>\n",
              "      <td>X126</td>\n",
              "      <td>TVGUIDE</td>\n",
              "      <td>25503</td>\n",
              "      <td>YES</td>\n",
              "      <td>KEY</td>\n",
              "      <td>YES</td>\n",
              "      <td>BENTON</td>\n",
              "      <td>GALLATIN</td>\n",
              "      <td>UNCOATED</td>\n",
              "      <td>...</td>\n",
              "      <td>36.4</td>\n",
              "      <td>0</td>\n",
              "      <td>0</td>\n",
              "      <td>2.5</td>\n",
              "      <td>1</td>\n",
              "      <td>34</td>\n",
              "      <td>40</td>\n",
              "      <td>105</td>\n",
              "      <td>100</td>\n",
              "      <td>0</td>\n",
              "    </tr>\n",
              "    <tr>\n",
              "      <th>1</th>\n",
              "      <td>19910109</td>\n",
              "      <td>X266</td>\n",
              "      <td>TVGUIDE</td>\n",
              "      <td>25503</td>\n",
              "      <td>YES</td>\n",
              "      <td>KEY</td>\n",
              "      <td>YES</td>\n",
              "      <td>BENTON</td>\n",
              "      <td>GALLATIN</td>\n",
              "      <td>UNCOATED</td>\n",
              "      <td>...</td>\n",
              "      <td>38.5</td>\n",
              "      <td>0</td>\n",
              "      <td>0</td>\n",
              "      <td>2.5</td>\n",
              "      <td>0.7</td>\n",
              "      <td>34</td>\n",
              "      <td>40</td>\n",
              "      <td>105</td>\n",
              "      <td>100</td>\n",
              "      <td>0</td>\n",
              "    </tr>\n",
              "    <tr>\n",
              "      <th>2</th>\n",
              "      <td>19910104</td>\n",
              "      <td>B7</td>\n",
              "      <td>MODMAT</td>\n",
              "      <td>47201</td>\n",
              "      <td>YES</td>\n",
              "      <td>KEY</td>\n",
              "      <td>YES</td>\n",
              "      <td>BENTON</td>\n",
              "      <td>GALLATIN</td>\n",
              "      <td>UNCOATED</td>\n",
              "      <td>...</td>\n",
              "      <td>39.8</td>\n",
              "      <td>0</td>\n",
              "      <td>0</td>\n",
              "      <td>2.8</td>\n",
              "      <td>0.9</td>\n",
              "      <td>40</td>\n",
              "      <td>40</td>\n",
              "      <td>103.87</td>\n",
              "      <td>100</td>\n",
              "      <td>0</td>\n",
              "    </tr>\n",
              "    <tr>\n",
              "      <th>3</th>\n",
              "      <td>19910104</td>\n",
              "      <td>T133</td>\n",
              "      <td>MASSEY</td>\n",
              "      <td>39039</td>\n",
              "      <td>YES</td>\n",
              "      <td>KEY</td>\n",
              "      <td>YES</td>\n",
              "      <td>BENTON</td>\n",
              "      <td>GALLATIN</td>\n",
              "      <td>UNCOATED</td>\n",
              "      <td>...</td>\n",
              "      <td>38.8</td>\n",
              "      <td>0</td>\n",
              "      <td>0</td>\n",
              "      <td>2.5</td>\n",
              "      <td>1.3</td>\n",
              "      <td>40</td>\n",
              "      <td>40</td>\n",
              "      <td>108.06</td>\n",
              "      <td>100</td>\n",
              "      <td>0</td>\n",
              "    </tr>\n",
              "    <tr>\n",
              "      <th>4</th>\n",
              "      <td>19910111</td>\n",
              "      <td>J34</td>\n",
              "      <td>KMART</td>\n",
              "      <td>37351</td>\n",
              "      <td>NO</td>\n",
              "      <td>KEY</td>\n",
              "      <td>YES</td>\n",
              "      <td>BENTON</td>\n",
              "      <td>GALLATIN</td>\n",
              "      <td>UNCOATED</td>\n",
              "      <td>...</td>\n",
              "      <td>42.5</td>\n",
              "      <td>5</td>\n",
              "      <td>0</td>\n",
              "      <td>2.3</td>\n",
              "      <td>0.6</td>\n",
              "      <td>35</td>\n",
              "      <td>40</td>\n",
              "      <td>106.67</td>\n",
              "      <td>100</td>\n",
              "      <td>0</td>\n",
              "    </tr>\n",
              "  </tbody>\n",
              "</table>\n",
              "<p>5 rows × 40 columns</p>\n",
              "</div>\n",
              "      <button class=\"colab-df-convert\" onclick=\"convertToInteractive('df-a476caa3-d7bc-4b47-ab67-5df9f39ae923')\"\n",
              "              title=\"Convert this dataframe to an interactive table.\"\n",
              "              style=\"display:none;\">\n",
              "        \n",
              "  <svg xmlns=\"http://www.w3.org/2000/svg\" height=\"24px\"viewBox=\"0 0 24 24\"\n",
              "       width=\"24px\">\n",
              "    <path d=\"M0 0h24v24H0V0z\" fill=\"none\"/>\n",
              "    <path d=\"M18.56 5.44l.94 2.06.94-2.06 2.06-.94-2.06-.94-.94-2.06-.94 2.06-2.06.94zm-11 1L8.5 8.5l.94-2.06 2.06-.94-2.06-.94L8.5 2.5l-.94 2.06-2.06.94zm10 10l.94 2.06.94-2.06 2.06-.94-2.06-.94-.94-2.06-.94 2.06-2.06.94z\"/><path d=\"M17.41 7.96l-1.37-1.37c-.4-.4-.92-.59-1.43-.59-.52 0-1.04.2-1.43.59L10.3 9.45l-7.72 7.72c-.78.78-.78 2.05 0 2.83L4 21.41c.39.39.9.59 1.41.59.51 0 1.02-.2 1.41-.59l7.78-7.78 2.81-2.81c.8-.78.8-2.07 0-2.86zM5.41 20L4 18.59l7.72-7.72 1.47 1.35L5.41 20z\"/>\n",
              "  </svg>\n",
              "      </button>\n",
              "      \n",
              "  <style>\n",
              "    .colab-df-container {\n",
              "      display:flex;\n",
              "      flex-wrap:wrap;\n",
              "      gap: 12px;\n",
              "    }\n",
              "\n",
              "    .colab-df-convert {\n",
              "      background-color: #E8F0FE;\n",
              "      border: none;\n",
              "      border-radius: 50%;\n",
              "      cursor: pointer;\n",
              "      display: none;\n",
              "      fill: #1967D2;\n",
              "      height: 32px;\n",
              "      padding: 0 0 0 0;\n",
              "      width: 32px;\n",
              "    }\n",
              "\n",
              "    .colab-df-convert:hover {\n",
              "      background-color: #E2EBFA;\n",
              "      box-shadow: 0px 1px 2px rgba(60, 64, 67, 0.3), 0px 1px 3px 1px rgba(60, 64, 67, 0.15);\n",
              "      fill: #174EA6;\n",
              "    }\n",
              "\n",
              "    [theme=dark] .colab-df-convert {\n",
              "      background-color: #3B4455;\n",
              "      fill: #D2E3FC;\n",
              "    }\n",
              "\n",
              "    [theme=dark] .colab-df-convert:hover {\n",
              "      background-color: #434B5C;\n",
              "      box-shadow: 0px 1px 3px 1px rgba(0, 0, 0, 0.15);\n",
              "      filter: drop-shadow(0px 1px 2px rgba(0, 0, 0, 0.3));\n",
              "      fill: #FFFFFF;\n",
              "    }\n",
              "  </style>\n",
              "\n",
              "      <script>\n",
              "        const buttonEl =\n",
              "          document.querySelector('#df-a476caa3-d7bc-4b47-ab67-5df9f39ae923 button.colab-df-convert');\n",
              "        buttonEl.style.display =\n",
              "          google.colab.kernel.accessAllowed ? 'block' : 'none';\n",
              "\n",
              "        async function convertToInteractive(key) {\n",
              "          const element = document.querySelector('#df-a476caa3-d7bc-4b47-ab67-5df9f39ae923');\n",
              "          const dataTable =\n",
              "            await google.colab.kernel.invokeFunction('convertToInteractive',\n",
              "                                                     [key], {});\n",
              "          if (!dataTable) return;\n",
              "\n",
              "          const docLinkHtml = 'Like what you see? Visit the ' +\n",
              "            '<a target=\"_blank\" href=https://colab.research.google.com/notebooks/data_table.ipynb>data table notebook</a>'\n",
              "            + ' to learn more about interactive tables.';\n",
              "          element.innerHTML = '';\n",
              "          dataTable['output_type'] = 'display_data';\n",
              "          await google.colab.output.renderOutput(dataTable, element);\n",
              "          const docLink = document.createElement('div');\n",
              "          docLink.innerHTML = docLinkHtml;\n",
              "          element.appendChild(docLink);\n",
              "        }\n",
              "      </script>\n",
              "    </div>\n",
              "  </div>\n",
              "  "
            ],
            "text/plain": [
              "   timestamp cylinder_number customer  job_number grain_screened ink_color  \\\n",
              "0   19910108            X126  TVGUIDE       25503            YES       KEY   \n",
              "1   19910109            X266  TVGUIDE       25503            YES       KEY   \n",
              "2   19910104              B7   MODMAT       47201            YES       KEY   \n",
              "3   19910104            T133   MASSEY       39039            YES       KEY   \n",
              "4   19910111             J34    KMART       37351             NO       KEY   \n",
              "\n",
              "  proof_on_ctd_ink blade_mfg cylinder_division paper_type  ... solvent_pct  \\\n",
              "0              YES    BENTON          GALLATIN   UNCOATED  ...        36.4   \n",
              "1              YES    BENTON          GALLATIN   UNCOATED  ...        38.5   \n",
              "2              YES    BENTON          GALLATIN   UNCOATED  ...        39.8   \n",
              "3              YES    BENTON          GALLATIN   UNCOATED  ...        38.8   \n",
              "4              YES    BENTON          GALLATIN   UNCOATED  ...        42.5   \n",
              "\n",
              "  ESA_Voltage ESA_Amperage  wax hardener  roller_durometer  current_density  \\\n",
              "0           0            0  2.5        1                34               40   \n",
              "1           0            0  2.5      0.7                34               40   \n",
              "2           0            0  2.8      0.9                40               40   \n",
              "3           0            0  2.5      1.3                40               40   \n",
              "4           5            0  2.3      0.6                35               40   \n",
              "\n",
              "  anode_space_ratio chrome_content outlier  \n",
              "0               105            100       0  \n",
              "1               105            100       0  \n",
              "2            103.87            100       0  \n",
              "3            108.06            100       0  \n",
              "4            106.67            100       0  \n",
              "\n",
              "[5 rows x 40 columns]"
            ]
          },
          "metadata": {},
          "execution_count": 13
        }
      ]
    },
    {
      "cell_type": "code",
      "source": [
        "categ = ['cylinder_number', 'customer', 'job_number', 'grain_screened', 'ink_color',\n",
        "'proof_on_ctd_ink', 'blade_mfg', 'cylinder_division', 'paper_type', 'ink_type', 'direct_steam', 'solvent_type',\n",
        "'type_on_cylinder', 'press_type', 'press', 'unit_number', 'cylinder_size', 'paper_mill_location', 'plating_tank']\n",
        "cont = ['proof_cut', 'viscosity', 'caliper', 'ink_temperature', 'humifity', 'roughness', 'blade_pressure', 'varnish_pct',\n",
        "'press_speed', 'ink_pct', 'solvent_pct', 'ESA_Voltage', 'ESA_Amperage', 'wax', 'hardener', 'roller_durometer',\n",
        "'current_density', 'anode_space_ratio', 'chrome_content']\n",
        "df = MissingValuesHandler(df, categ, cont)"
      ],
      "metadata": {
        "id": "wg9C5GBnqiz7"
      },
      "execution_count": null,
      "outputs": []
    },
    {
      "cell_type": "code",
      "source": [
        "df = df.drop('timestamp',1)"
      ],
      "metadata": {
        "colab": {
          "base_uri": "https://localhost:8080/"
        },
        "id": "j8UcsFTMRWEN",
        "outputId": "1e7906f3-ff73-42c1-a4ed-07c777333f7a"
      },
      "execution_count": null,
      "outputs": [
        {
          "output_type": "stream",
          "name": "stderr",
          "text": [
            "/usr/local/lib/python3.7/dist-packages/ipykernel_launcher.py:1: FutureWarning: In a future version of pandas all arguments of DataFrame.drop except for the argument 'labels' will be keyword-only\n",
            "  \"\"\"Entry point for launching an IPython kernel.\n"
          ]
        }
      ]
    },
    {
      "cell_type": "code",
      "source": [
        "df = oneHotFunc(df, categ)\n",
        "df = df.astype(float)"
      ],
      "metadata": {
        "colab": {
          "base_uri": "https://localhost:8080/"
        },
        "outputId": "5119635e-86cc-477f-a4b2-0a43bc4d219a",
        "id": "vxq7p2_cqiz9"
      },
      "execution_count": null,
      "outputs": [
        {
          "output_type": "stream",
          "name": "stdout",
          "text": [
            "  proof_cut viscosity caliper ink_temperature humifity roughness  \\\n",
            "0        55        46     0.2              17       78      0.75   \n",
            "1        55        46     0.3              15       80      0.75   \n",
            "2        62        40   0.433              16       80      0.75   \n",
            "3        52        40     0.3              16       75    0.3125   \n",
            "4        50        46     0.3              17       80      0.75   \n",
            "\n",
            "  blade_pressure varnish_pct press_speed ink_pct  ... cylinder_size_tabloid  \\\n",
            "0             20        13.1        1700    50.5  ...                     0   \n",
            "1             20         6.6        1900    54.9  ...                     0   \n",
            "2             30         6.5        1850    53.8  ...                     0   \n",
            "3             30         5.6        1467    55.6  ...                     0   \n",
            "4             30           0        2100    57.5  ...                     0   \n",
            "\n",
            "  cylinder_size_spiegel paper_mill_location_NorthUS  \\\n",
            "0                     0                           0   \n",
            "1                     0                           0   \n",
            "2                     0                           0   \n",
            "3                     0                           0   \n",
            "4                     0                           0   \n",
            "\n",
            "  paper_mill_location_CANADIAN paper_mill_location_CANAdiAN  \\\n",
            "0                            0                            1   \n",
            "1                            0                            1   \n",
            "2                            0                            1   \n",
            "3                            0                            1   \n",
            "4                            0                            1   \n",
            "\n",
            "  paper_mill_location_SCANDANAVIAN paper_mill_location_SouthUS  \\\n",
            "0                                0                           0   \n",
            "1                                0                           0   \n",
            "2                                0                           0   \n",
            "3                                0                           0   \n",
            "4                                0                           0   \n",
            "\n",
            "  paper_mill_location_mideuropean plating_tank_1911  plating_tank_1910  \n",
            "0                               0                 0                  1  \n",
            "1                               0                 1                  0  \n",
            "2                               0                 1                  0  \n",
            "3                               0                 1                  0  \n",
            "4                               0                 1                  0  \n",
            "\n",
            "[5 rows x 864 columns]\n"
          ]
        }
      ]
    },
    {
      "cell_type": "code",
      "source": [
        "msk = df['outlier'] == 1\n",
        "num_to_oversample = len(df) - 2*msk.sum()\n",
        "df_positive_oversample = df[msk].sample(n=num_to_oversample, replace=True, random_state=888)\n",
        "df_train_oversample = pd.concat([df, df_positive_oversample])\n",
        "df_train_oversample['outlier'].value_counts()"
      ],
      "metadata": {
        "colab": {
          "base_uri": "https://localhost:8080/"
        },
        "outputId": "d15ba07f-9deb-4070-b4d6-67054a5bdfd1",
        "id": "r1TwSMVAqiz_"
      },
      "execution_count": null,
      "outputs": [
        {
          "output_type": "execute_result",
          "data": {
            "text/plain": [
              "0.0    536\n",
              "1.0    536\n",
              "Name: outlier, dtype: int64"
            ]
          },
          "metadata": {},
          "execution_count": 17
        }
      ]
    },
    {
      "cell_type": "code",
      "source": [
        "X_train, X_test = train_test_split(df_train_oversample, test_size = 0.3, random_state = 0)\n",
        "y_train = X_train['outlier']\n",
        "X_train = X_train.drop('outlier',1)\n",
        "y_test = X_test['outlier']\n",
        "X_test = X_test.drop('outlier',1)"
      ],
      "metadata": {
        "colab": {
          "base_uri": "https://localhost:8080/"
        },
        "outputId": "2018bc52-1f1c-41b1-c12b-bb289aa226ae",
        "id": "EWQmbAeuqi0A"
      },
      "execution_count": null,
      "outputs": [
        {
          "output_type": "stream",
          "name": "stderr",
          "text": [
            "/usr/local/lib/python3.7/dist-packages/ipykernel_launcher.py:3: FutureWarning: In a future version of pandas all arguments of DataFrame.drop except for the argument 'labels' will be keyword-only\n",
            "  This is separate from the ipykernel package so we can avoid doing imports until\n",
            "/usr/local/lib/python3.7/dist-packages/ipykernel_launcher.py:5: FutureWarning: In a future version of pandas all arguments of DataFrame.drop except for the argument 'labels' will be keyword-only\n",
            "  \"\"\"\n"
          ]
        }
      ]
    },
    {
      "cell_type": "code",
      "source": [
        "clf = DecisionTreeClassifier()\n",
        "clf = clf.fit(X_train,y_train)\n",
        "y_pred = clf.predict(X_test)\n",
        "\n",
        "tn, fp, fn, tp = confusion_matrix(y_test, y_pred).ravel()\n",
        "print(\"Confusion Matrix:\")\n",
        "print(confusion_matrix(y_test,y_pred))\n",
        "sns.heatmap(confusion_matrix(y_test,y_pred), annot=True,fmt=\"d\",annot_kws={'size': 30})\n",
        "print(\"Accuracy:\",metrics.accuracy_score(y_test, y_pred))\n",
        "print(\"Precision:\",metrics.precision_score(y_test, y_pred))\n",
        "print(\"Recall:\",metrics.recall_score(y_test, y_pred))\n",
        "print(\"TPR: \",tp/(tp+fn))\n",
        "print(\"FPR: \",fp/(tn+fp))\n",
        "print(\"F1 Score:\",metrics.f1_score(y_test, y_pred))"
      ],
      "metadata": {
        "colab": {
          "base_uri": "https://localhost:8080/",
          "height": 421
        },
        "outputId": "0d0ba4c8-a937-495f-c138-22edd9745a8a",
        "id": "tkK0QYPAqi0C"
      },
      "execution_count": null,
      "outputs": [
        {
          "output_type": "stream",
          "name": "stdout",
          "text": [
            "Confusion Matrix:\n",
            "[[156   2]\n",
            " [  0 164]]\n",
            "Accuracy: 0.9937888198757764\n",
            "Precision: 0.9879518072289156\n",
            "Recall: 1.0\n",
            "TPR:  1.0\n",
            "FPR:  0.012658227848101266\n",
            "F1 Score: 0.993939393939394\n"
          ]
        },
        {
          "output_type": "display_data",
          "data": {
            "image/png": "[encoded data removed]",
            "text/plain": [
              "<Figure size 432x288 with 2 Axes>"
            ]
          },
          "metadata": {
            "needs_background": "light"
          }
        }
      ]
    },
    {
      "cell_type": "code",
      "source": [
        "sc = StandardScaler()\n",
        "X_train = sc.fit_transform(X_train)\n",
        "X_test = sc.transform(X_test)\n",
        "\n",
        "svc_model = SVC(C= .1, kernel='linear', gamma= 1)\n",
        "svc_model.fit(X_train, y_train)\n",
        "y_pred = svc_model .predict(X_test)\n",
        "\n",
        "tn, fp, fn, tp = confusion_matrix(y_test, y_pred).ravel()\n",
        "print(\"Confusion Matrix:\")\n",
        "print(confusion_matrix(y_test,y_pred))\n",
        "print(\"Accuracy:\",metrics.accuracy_score(y_test, y_pred))\n",
        "print(\"Precision:\",metrics.precision_score(y_test, y_pred))\n",
        "print(\"Recall:\",metrics.recall_score(y_test, y_pred))\n",
        "print(\"TPR: \",tp/(tp+fn))\n",
        "print(\"FPR: \",fp/(tn+fp))\n",
        "print(\"F1 Score:\",metrics.f1_score(y_test, y_pred))"
      ],
      "metadata": {
        "colab": {
          "base_uri": "https://localhost:8080/"
        },
        "outputId": "2f1491f8-3909-4d91-860a-6662d4e90783",
        "id": "xjK1v5rSqi0E"
      },
      "execution_count": null,
      "outputs": [
        {
          "output_type": "stream",
          "name": "stdout",
          "text": [
            "Confusion Matrix:\n",
            "[[156   2]\n",
            " [  0 164]]\n",
            "Accuracy: 0.9937888198757764\n",
            "Precision: 0.9879518072289156\n",
            "Recall: 1.0\n",
            "TPR:  1.0\n",
            "FPR:  0.012658227848101266\n",
            "F1 Score: 0.993939393939394\n"
          ]
        }
      ]
    },
    {
      "cell_type": "code",
      "source": [
        "lr = LogisticRegression()\n",
        "lr.fit(X_train, y_train)\n",
        "y_pred = lr.predict(X_test)\n",
        "\n",
        "tn, fp, fn, tp = confusion_matrix(y_test, y_pred).ravel()\n",
        "print(\"Confusion Matrix:\")\n",
        "print(confusion_matrix(y_test,y_pred))\n",
        "print(\"Accuracy:\",metrics.accuracy_score(y_test, y_pred))\n",
        "print(\"Precision:\",metrics.precision_score(y_test, y_pred))\n",
        "print(\"Recall:\",metrics.recall_score(y_test, y_pred))\n",
        "print(\"TPR: \",tp/(tp+fn))\n",
        "print(\"FPR: \",fp/(tn+fp))\n",
        "print(\"F1 Score:\",metrics.f1_score(y_test, y_pred))"
      ],
      "metadata": {
        "colab": {
          "base_uri": "https://localhost:8080/"
        },
        "outputId": "e498b1b3-bdd0-4383-90e0-673e43fc8ef0",
        "id": "SNPwJ_Kxqi0G"
      },
      "execution_count": null,
      "outputs": [
        {
          "output_type": "stream",
          "name": "stdout",
          "text": [
            "Confusion Matrix:\n",
            "[[156   2]\n",
            " [  0 164]]\n",
            "Accuracy: 0.9937888198757764\n",
            "Precision: 0.9879518072289156\n",
            "Recall: 1.0\n",
            "TPR:  1.0\n",
            "FPR:  0.012658227848101266\n",
            "F1 Score: 0.993939393939394\n"
          ]
        }
      ]
    },
    {
      "cell_type": "markdown",
      "source": [
        "Credit\n",
        "--------------"
      ],
      "metadata": {
        "id": "DnqaZrEbonYC"
      }
    },
    {
      "cell_type": "code",
      "source": [
        "df=pd.read_csv(\"drive/MyDrive/Datasets/Outlier_Classification/credit.csv\")\n",
        "df.head()"
      ],
      "metadata": {
        "colab": {
          "base_uri": "https://localhost:8080/",
          "height": 206
        },
        "outputId": "72f79aef-d721-4188-e86b-dccb59d2a23f",
        "id": "JD1HSJF6onYD"
      },
      "execution_count": null,
      "outputs": [
        {
          "output_type": "execute_result",
          "data": {
            "text/html": [
              "\n",
              "  <div id=\"df-fe9baa95-dbb7-449e-bd91-8267a57856a7\">\n",
              "    <div class=\"colab-df-container\">\n",
              "      <div>\n",
              "<style scoped>\n",
              "    .dataframe tbody tr th:only-of-type {\n",
              "        vertical-align: middle;\n",
              "    }\n",
              "\n",
              "    .dataframe tbody tr th {\n",
              "        vertical-align: top;\n",
              "    }\n",
              "\n",
              "    .dataframe thead th {\n",
              "        text-align: right;\n",
              "    }\n",
              "</style>\n",
              "<table border=\"1\" class=\"dataframe\">\n",
              "  <thead>\n",
              "    <tr style=\"text-align: right;\">\n",
              "      <th></th>\n",
              "      <th>A1</th>\n",
              "      <th>A2</th>\n",
              "      <th>A3</th>\n",
              "      <th>A4</th>\n",
              "      <th>A5</th>\n",
              "      <th>A6</th>\n",
              "      <th>A7</th>\n",
              "      <th>A8</th>\n",
              "      <th>A9</th>\n",
              "      <th>A10</th>\n",
              "      <th>A11</th>\n",
              "      <th>A12</th>\n",
              "      <th>A13</th>\n",
              "      <th>A14</th>\n",
              "      <th>A15</th>\n",
              "      <th>outlier</th>\n",
              "    </tr>\n",
              "  </thead>\n",
              "  <tbody>\n",
              "    <tr>\n",
              "      <th>0</th>\n",
              "      <td>b</td>\n",
              "      <td>30.83</td>\n",
              "      <td>0.000</td>\n",
              "      <td>u</td>\n",
              "      <td>g</td>\n",
              "      <td>w</td>\n",
              "      <td>v</td>\n",
              "      <td>1.25</td>\n",
              "      <td>t</td>\n",
              "      <td>t</td>\n",
              "      <td>1</td>\n",
              "      <td>f</td>\n",
              "      <td>g</td>\n",
              "      <td>00202</td>\n",
              "      <td>0</td>\n",
              "      <td>0</td>\n",
              "    </tr>\n",
              "    <tr>\n",
              "      <th>1</th>\n",
              "      <td>a</td>\n",
              "      <td>58.67</td>\n",
              "      <td>4.460</td>\n",
              "      <td>u</td>\n",
              "      <td>g</td>\n",
              "      <td>q</td>\n",
              "      <td>h</td>\n",
              "      <td>3.04</td>\n",
              "      <td>t</td>\n",
              "      <td>t</td>\n",
              "      <td>6</td>\n",
              "      <td>f</td>\n",
              "      <td>g</td>\n",
              "      <td>00043</td>\n",
              "      <td>560</td>\n",
              "      <td>0</td>\n",
              "    </tr>\n",
              "    <tr>\n",
              "      <th>2</th>\n",
              "      <td>a</td>\n",
              "      <td>24.50</td>\n",
              "      <td>0.500</td>\n",
              "      <td>u</td>\n",
              "      <td>g</td>\n",
              "      <td>q</td>\n",
              "      <td>h</td>\n",
              "      <td>1.50</td>\n",
              "      <td>t</td>\n",
              "      <td>f</td>\n",
              "      <td>0</td>\n",
              "      <td>f</td>\n",
              "      <td>g</td>\n",
              "      <td>00280</td>\n",
              "      <td>824</td>\n",
              "      <td>0</td>\n",
              "    </tr>\n",
              "    <tr>\n",
              "      <th>3</th>\n",
              "      <td>b</td>\n",
              "      <td>27.83</td>\n",
              "      <td>1.540</td>\n",
              "      <td>u</td>\n",
              "      <td>g</td>\n",
              "      <td>w</td>\n",
              "      <td>v</td>\n",
              "      <td>3.75</td>\n",
              "      <td>t</td>\n",
              "      <td>t</td>\n",
              "      <td>5</td>\n",
              "      <td>t</td>\n",
              "      <td>g</td>\n",
              "      <td>00100</td>\n",
              "      <td>3</td>\n",
              "      <td>0</td>\n",
              "    </tr>\n",
              "    <tr>\n",
              "      <th>4</th>\n",
              "      <td>b</td>\n",
              "      <td>20.17</td>\n",
              "      <td>5.625</td>\n",
              "      <td>u</td>\n",
              "      <td>g</td>\n",
              "      <td>w</td>\n",
              "      <td>v</td>\n",
              "      <td>1.71</td>\n",
              "      <td>t</td>\n",
              "      <td>f</td>\n",
              "      <td>0</td>\n",
              "      <td>f</td>\n",
              "      <td>s</td>\n",
              "      <td>00120</td>\n",
              "      <td>0</td>\n",
              "      <td>0</td>\n",
              "    </tr>\n",
              "  </tbody>\n",
              "</table>\n",
              "</div>\n",
              "      <button class=\"colab-df-convert\" onclick=\"convertToInteractive('df-fe9baa95-dbb7-449e-bd91-8267a57856a7')\"\n",
              "              title=\"Convert this dataframe to an interactive table.\"\n",
              "              style=\"display:none;\">\n",
              "        \n",
              "  <svg xmlns=\"http://www.w3.org/2000/svg\" height=\"24px\"viewBox=\"0 0 24 24\"\n",
              "       width=\"24px\">\n",
              "    <path d=\"M0 0h24v24H0V0z\" fill=\"none\"/>\n",
              "    <path d=\"M18.56 5.44l.94 2.06.94-2.06 2.06-.94-2.06-.94-.94-2.06-.94 2.06-2.06.94zm-11 1L8.5 8.5l.94-2.06 2.06-.94-2.06-.94L8.5 2.5l-.94 2.06-2.06.94zm10 10l.94 2.06.94-2.06 2.06-.94-2.06-.94-.94-2.06-.94 2.06-2.06.94z\"/><path d=\"M17.41 7.96l-1.37-1.37c-.4-.4-.92-.59-1.43-.59-.52 0-1.04.2-1.43.59L10.3 9.45l-7.72 7.72c-.78.78-.78 2.05 0 2.83L4 21.41c.39.39.9.59 1.41.59.51 0 1.02-.2 1.41-.59l7.78-7.78 2.81-2.81c.8-.78.8-2.07 0-2.86zM5.41 20L4 18.59l7.72-7.72 1.47 1.35L5.41 20z\"/>\n",
              "  </svg>\n",
              "      </button>\n",
              "      \n",
              "  <style>\n",
              "    .colab-df-container {\n",
              "      display:flex;\n",
              "      flex-wrap:wrap;\n",
              "      gap: 12px;\n",
              "    }\n",
              "\n",
              "    .colab-df-convert {\n",
              "      background-color: #E8F0FE;\n",
              "      border: none;\n",
              "      border-radius: 50%;\n",
              "      cursor: pointer;\n",
              "      display: none;\n",
              "      fill: #1967D2;\n",
              "      height: 32px;\n",
              "      padding: 0 0 0 0;\n",
              "      width: 32px;\n",
              "    }\n",
              "\n",
              "    .colab-df-convert:hover {\n",
              "      background-color: #E2EBFA;\n",
              "      box-shadow: 0px 1px 2px rgba(60, 64, 67, 0.3), 0px 1px 3px 1px rgba(60, 64, 67, 0.15);\n",
              "      fill: #174EA6;\n",
              "    }\n",
              "\n",
              "    [theme=dark] .colab-df-convert {\n",
              "      background-color: #3B4455;\n",
              "      fill: #D2E3FC;\n",
              "    }\n",
              "\n",
              "    [theme=dark] .colab-df-convert:hover {\n",
              "      background-color: #434B5C;\n",
              "      box-shadow: 0px 1px 3px 1px rgba(0, 0, 0, 0.15);\n",
              "      filter: drop-shadow(0px 1px 2px rgba(0, 0, 0, 0.3));\n",
              "      fill: #FFFFFF;\n",
              "    }\n",
              "  </style>\n",
              "\n",
              "      <script>\n",
              "        const buttonEl =\n",
              "          document.querySelector('#df-fe9baa95-dbb7-449e-bd91-8267a57856a7 button.colab-df-convert');\n",
              "        buttonEl.style.display =\n",
              "          google.colab.kernel.accessAllowed ? 'block' : 'none';\n",
              "\n",
              "        async function convertToInteractive(key) {\n",
              "          const element = document.querySelector('#df-fe9baa95-dbb7-449e-bd91-8267a57856a7');\n",
              "          const dataTable =\n",
              "            await google.colab.kernel.invokeFunction('convertToInteractive',\n",
              "                                                     [key], {});\n",
              "          if (!dataTable) return;\n",
              "\n",
              "          const docLinkHtml = 'Like what you see? Visit the ' +\n",
              "            '<a target=\"_blank\" href=https://colab.research.google.com/notebooks/data_table.ipynb>data table notebook</a>'\n",
              "            + ' to learn more about interactive tables.';\n",
              "          element.innerHTML = '';\n",
              "          dataTable['output_type'] = 'display_data';\n",
              "          await google.colab.output.renderOutput(dataTable, element);\n",
              "          const docLink = document.createElement('div');\n",
              "          docLink.innerHTML = docLinkHtml;\n",
              "          element.appendChild(docLink);\n",
              "        }\n",
              "      </script>\n",
              "    </div>\n",
              "  </div>\n",
              "  "
            ],
            "text/plain": [
              "  A1     A2     A3 A4 A5 A6 A7    A8 A9 A10  A11 A12 A13    A14  A15  outlier\n",
              "0  b  30.83  0.000  u  g  w  v  1.25  t   t    1   f   g  00202    0        0\n",
              "1  a  58.67  4.460  u  g  q  h  3.04  t   t    6   f   g  00043  560        0\n",
              "2  a  24.50  0.500  u  g  q  h  1.50  t   f    0   f   g  00280  824        0\n",
              "3  b  27.83  1.540  u  g  w  v  3.75  t   t    5   t   g  00100    3        0\n",
              "4  b  20.17  5.625  u  g  w  v  1.71  t   f    0   f   s  00120    0        0"
            ]
          },
          "metadata": {},
          "execution_count": 26
        }
      ]
    },
    {
      "cell_type": "code",
      "source": [
        "categ=['A1','A4','A5','A6','A7','A9','A10','A12','A13']\n",
        "cont=['A2','A3','A8','A11','A14','A15']\n",
        "df = MissingValuesHandler(df, categ, cont)"
      ],
      "metadata": {
        "id": "JDiA-imkotlh"
      },
      "execution_count": null,
      "outputs": []
    },
    {
      "cell_type": "code",
      "source": [
        "df = oneHotFunc(df,categ)\n",
        "df = df.astype(float)"
      ],
      "metadata": {
        "colab": {
          "base_uri": "https://localhost:8080/"
        },
        "outputId": "cd76408a-3663-407b-b6b6-3c063d677ba7",
        "id": "G2e18DpvonYE"
      },
      "execution_count": null,
      "outputs": [
        {
          "output_type": "stream",
          "name": "stdout",
          "text": [
            "      A2     A3    A8  A11    A14  A15  outlier  A1_b  A1_a  A4_u  ...  A7_n  \\\n",
            "0  30.83  0.000  1.25    1  00202    0        0     0     1     0  ...     0   \n",
            "1  58.67  4.460  3.04    6  00043  560        0     1     0     0  ...     0   \n",
            "2  24.50  0.500  1.50    0  00280  824        0     1     0     0  ...     0   \n",
            "3  27.83  1.540  3.75    5  00100    3        0     0     1     0  ...     0   \n",
            "4  20.17  5.625  1.71    0  00120    0        0     0     1     0  ...     0   \n",
            "\n",
            "   A9_t  A9_f  A10_t  A10_f  A12_f  A12_t  A13_g  A13_s  A13_p  \n",
            "0     0     1      0      1      1      0      1      0      0  \n",
            "1     0     1      0      1      1      0      1      0      0  \n",
            "2     0     1      1      0      1      0      1      0      0  \n",
            "3     0     1      0      1      0      1      1      0      0  \n",
            "4     0     1      1      0      1      0      0      0      1  \n",
            "\n",
            "[5 rows x 47 columns]\n"
          ]
        }
      ]
    },
    {
      "cell_type": "code",
      "source": [
        "msk = df['outlier'] == 1\n",
        "num_to_oversample = len(df) - 2*msk.sum()\n",
        "df_positive_oversample = df[msk].sample(n=num_to_oversample, replace=True, random_state=888)\n",
        "df_train_oversample = pd.concat([df, df_positive_oversample])\n",
        "df_train_oversample['outlier'].value_counts()"
      ],
      "metadata": {
        "colab": {
          "base_uri": "https://localhost:8080/"
        },
        "outputId": "2e2a27df-91ad-4a80-f7cf-4499b37edaaa",
        "id": "UdVdH3tAonYF"
      },
      "execution_count": null,
      "outputs": [
        {
          "output_type": "execute_result",
          "data": {
            "text/plain": [
              "0.0    686\n",
              "1.0    686\n",
              "Name: outlier, dtype: int64"
            ]
          },
          "metadata": {},
          "execution_count": 29
        }
      ]
    },
    {
      "cell_type": "code",
      "source": [
        "X_train, X_test = train_test_split(df_train_oversample, test_size = 0.3, random_state = 0)\n",
        "y_train = X_train['outlier']\n",
        "X_train = X_train.drop('outlier',1)\n",
        "y_test = X_test['outlier']\n",
        "X_test = X_test.drop('outlier',1)"
      ],
      "metadata": {
        "colab": {
          "base_uri": "https://localhost:8080/"
        },
        "outputId": "6eb71373-7b20-4c88-cfe5-8e605e66b160",
        "id": "XHt9z0MVonYG"
      },
      "execution_count": null,
      "outputs": [
        {
          "output_type": "stream",
          "name": "stderr",
          "text": [
            "/usr/local/lib/python3.7/dist-packages/ipykernel_launcher.py:3: FutureWarning: In a future version of pandas all arguments of DataFrame.drop except for the argument 'labels' will be keyword-only\n",
            "  This is separate from the ipykernel package so we can avoid doing imports until\n",
            "/usr/local/lib/python3.7/dist-packages/ipykernel_launcher.py:5: FutureWarning: In a future version of pandas all arguments of DataFrame.drop except for the argument 'labels' will be keyword-only\n",
            "  \"\"\"\n"
          ]
        }
      ]
    },
    {
      "cell_type": "code",
      "source": [
        "# clf = DecisionTreeClassifier()\n",
        "# clf = clf.fit(X_train,y_train)\n",
        "# y_pred = clf.predict(X_test)\n",
        "\n",
        "tn, fp, fn, tp = confusion_matrix(y_test, y_pred).ravel()\n",
        "print(\"Confusion Matrix:\")\n",
        "print(confusion_matrix(y_test,y_pred))\n",
        "sns.heatmap(confusion_matrix(y_test,y_pred), annot=True,fmt=\"d\",annot_kws={'size': 30})\n",
        "print(\"Accuracy:\",metrics.accuracy_score(y_test, y_pred))\n",
        "print(\"Precision:\",metrics.precision_score(y_test, y_pred))\n",
        "print(\"Recall:\",metrics.recall_score(y_test, y_pred))\n",
        "print(\"TPR: \",tp/(tp+fn))\n",
        "print(\"FPR: \",fp/(tn+fp))\n",
        "print(\"F1 Score:\",metrics.f1_score(y_test, y_pred))"
      ],
      "metadata": {
        "colab": {
          "base_uri": "https://localhost:8080/",
          "height": 421
        },
        "outputId": "2ac15475-c434-4974-fb9e-fcffc5f3fde3",
        "id": "jgUo4jzJonYH"
      },
      "execution_count": null,
      "outputs": [
        {
          "output_type": "stream",
          "name": "stdout",
          "text": [
            "Confusion Matrix:\n",
            "[[210   1]\n",
            " [  0 201]]\n",
            "Accuracy: 0.9975728155339806\n",
            "Precision: 0.995049504950495\n",
            "Recall: 1.0\n",
            "TPR:  1.0\n",
            "FPR:  0.004739336492890996\n",
            "F1 Score: 0.9975186104218362\n"
          ]
        },
        {
          "output_type": "display_data",
          "data": {
            "image/png": "[encoded data removed]",
            "text/plain": [
              "<Figure size 432x288 with 2 Axes>"
            ]
          },
          "metadata": {
            "needs_background": "light"
          }
        }
      ]
    },
    {
      "cell_type": "code",
      "source": [
        "sc = StandardScaler()\n",
        "X_train = sc.fit_transform(X_train)\n",
        "X_test = sc.transform(X_test)\n",
        "\n",
        "svc_model = SVC(C= .1, kernel='linear', gamma= 1)\n",
        "svc_model.fit(X_train, y_train)\n",
        "y_pred = svc_model .predict(X_test)\n",
        "\n",
        "tn, fp, fn, tp = confusion_matrix(y_test, y_pred).ravel()\n",
        "print(\"Confusion Matrix:\")\n",
        "print(confusion_matrix(y_test,y_pred))\n",
        "print(\"Accuracy:\",metrics.accuracy_score(y_test, y_pred))\n",
        "print(\"Precision:\",metrics.precision_score(y_test, y_pred))\n",
        "print(\"Recall:\",metrics.recall_score(y_test, y_pred))\n",
        "print(\"TPR: \",tp/(tp+fn))\n",
        "print(\"FPR: \",fp/(tn+fp))\n",
        "print(\"F1 Score:\",metrics.f1_score(y_test, y_pred))"
      ],
      "metadata": {
        "colab": {
          "base_uri": "https://localhost:8080/"
        },
        "outputId": "d2e88089-dca2-473b-ba62-d8d5a5440031",
        "id": "bZCz8XbHonYI"
      },
      "execution_count": null,
      "outputs": [
        {
          "output_type": "stream",
          "name": "stdout",
          "text": [
            "Confusion Matrix:\n",
            "[[210   1]\n",
            " [  0 201]]\n",
            "Accuracy: 0.9975728155339806\n",
            "Precision: 0.995049504950495\n",
            "Recall: 1.0\n",
            "TPR:  1.0\n",
            "FPR:  0.004739336492890996\n",
            "F1 Score: 0.9975186104218362\n"
          ]
        }
      ]
    },
    {
      "cell_type": "code",
      "source": [
        "lr = LogisticRegression()\n",
        "lr.fit(X_train, y_train)\n",
        "y_pred = lr.predict(X_test)\n",
        "\n",
        "tn, fp, fn, tp = confusion_matrix(y_test, y_pred).ravel()\n",
        "print(\"Confusion Matrix:\")\n",
        "print(confusion_matrix(y_test,y_pred))\n",
        "print(\"Accuracy:\",metrics.accuracy_score(y_test, y_pred))\n",
        "print(\"Precision:\",metrics.precision_score(y_test, y_pred))\n",
        "print(\"Recall:\",metrics.recall_score(y_test, y_pred))\n",
        "print(\"TPR: \",tp/(tp+fn))\n",
        "print(\"FPR: \",fp/(tn+fp))\n",
        "print(\"F1 Score:\",metrics.f1_score(y_test, y_pred))"
      ],
      "metadata": {
        "colab": {
          "base_uri": "https://localhost:8080/"
        },
        "outputId": "e82c4930-e5da-4adc-de9f-762a137d1500",
        "id": "lP_vHkqWonYJ"
      },
      "execution_count": null,
      "outputs": [
        {
          "output_type": "stream",
          "name": "stdout",
          "text": [
            "Confusion Matrix:\n",
            "[[210   1]\n",
            " [  0 201]]\n",
            "Accuracy: 0.9975728155339806\n",
            "Precision: 0.995049504950495\n",
            "Recall: 1.0\n",
            "TPR:  1.0\n",
            "FPR:  0.004739336492890996\n",
            "F1 Score: 0.9975186104218362\n"
          ]
        }
      ]
    },
    {
      "cell_type": "markdown",
      "source": [
        "Australian\n",
        "--------------"
      ],
      "metadata": {
        "id": "2xnfri0FirTe"
      }
    },
    {
      "cell_type": "code",
      "source": [
        "df=pd.read_csv(\"drive/MyDrive/Datasets/Outlier_Classification/australian.csv\")\n",
        "df.head()"
      ],
      "metadata": {
        "colab": {
          "base_uri": "https://localhost:8080/",
          "height": 206
        },
        "outputId": "c68a7c73-254c-410c-f642-103d9167eebc",
        "id": "BHhQBwMTirTf"
      },
      "execution_count": null,
      "outputs": [
        {
          "output_type": "execute_result",
          "data": {
            "text/html": [
              "\n",
              "  <div id=\"df-c984202d-d157-4250-bfc9-e564defe6733\">\n",
              "    <div class=\"colab-df-container\">\n",
              "      <div>\n",
              "<style scoped>\n",
              "    .dataframe tbody tr th:only-of-type {\n",
              "        vertical-align: middle;\n",
              "    }\n",
              "\n",
              "    .dataframe tbody tr th {\n",
              "        vertical-align: top;\n",
              "    }\n",
              "\n",
              "    .dataframe thead th {\n",
              "        text-align: right;\n",
              "    }\n",
              "</style>\n",
              "<table border=\"1\" class=\"dataframe\">\n",
              "  <thead>\n",
              "    <tr style=\"text-align: right;\">\n",
              "      <th></th>\n",
              "      <th>A1</th>\n",
              "      <th>A2</th>\n",
              "      <th>A3</th>\n",
              "      <th>A4</th>\n",
              "      <th>A5</th>\n",
              "      <th>A6</th>\n",
              "      <th>A7</th>\n",
              "      <th>A8</th>\n",
              "      <th>A9</th>\n",
              "      <th>A10</th>\n",
              "      <th>A11</th>\n",
              "      <th>A12</th>\n",
              "      <th>A13</th>\n",
              "      <th>A14</th>\n",
              "      <th>outlier</th>\n",
              "    </tr>\n",
              "  </thead>\n",
              "  <tbody>\n",
              "    <tr>\n",
              "      <th>0</th>\n",
              "      <td>1</td>\n",
              "      <td>22.08</td>\n",
              "      <td>11.46</td>\n",
              "      <td>2</td>\n",
              "      <td>4</td>\n",
              "      <td>4</td>\n",
              "      <td>1.585</td>\n",
              "      <td>0</td>\n",
              "      <td>0</td>\n",
              "      <td>0</td>\n",
              "      <td>1</td>\n",
              "      <td>2</td>\n",
              "      <td>100</td>\n",
              "      <td>1213</td>\n",
              "      <td>0</td>\n",
              "    </tr>\n",
              "    <tr>\n",
              "      <th>1</th>\n",
              "      <td>0</td>\n",
              "      <td>22.67</td>\n",
              "      <td>7.00</td>\n",
              "      <td>2</td>\n",
              "      <td>8</td>\n",
              "      <td>4</td>\n",
              "      <td>0.165</td>\n",
              "      <td>0</td>\n",
              "      <td>0</td>\n",
              "      <td>0</td>\n",
              "      <td>0</td>\n",
              "      <td>2</td>\n",
              "      <td>160</td>\n",
              "      <td>1</td>\n",
              "      <td>0</td>\n",
              "    </tr>\n",
              "    <tr>\n",
              "      <th>2</th>\n",
              "      <td>0</td>\n",
              "      <td>29.58</td>\n",
              "      <td>1.75</td>\n",
              "      <td>1</td>\n",
              "      <td>4</td>\n",
              "      <td>4</td>\n",
              "      <td>1.250</td>\n",
              "      <td>0</td>\n",
              "      <td>0</td>\n",
              "      <td>0</td>\n",
              "      <td>1</td>\n",
              "      <td>2</td>\n",
              "      <td>280</td>\n",
              "      <td>1</td>\n",
              "      <td>0</td>\n",
              "    </tr>\n",
              "    <tr>\n",
              "      <th>3</th>\n",
              "      <td>0</td>\n",
              "      <td>21.67</td>\n",
              "      <td>11.50</td>\n",
              "      <td>1</td>\n",
              "      <td>5</td>\n",
              "      <td>3</td>\n",
              "      <td>0.000</td>\n",
              "      <td>1</td>\n",
              "      <td>1</td>\n",
              "      <td>11</td>\n",
              "      <td>1</td>\n",
              "      <td>2</td>\n",
              "      <td>0</td>\n",
              "      <td>1</td>\n",
              "      <td>0</td>\n",
              "    </tr>\n",
              "    <tr>\n",
              "      <th>4</th>\n",
              "      <td>1</td>\n",
              "      <td>20.17</td>\n",
              "      <td>8.17</td>\n",
              "      <td>2</td>\n",
              "      <td>6</td>\n",
              "      <td>4</td>\n",
              "      <td>1.960</td>\n",
              "      <td>1</td>\n",
              "      <td>1</td>\n",
              "      <td>14</td>\n",
              "      <td>0</td>\n",
              "      <td>2</td>\n",
              "      <td>60</td>\n",
              "      <td>159</td>\n",
              "      <td>0</td>\n",
              "    </tr>\n",
              "  </tbody>\n",
              "</table>\n",
              "</div>\n",
              "      <button class=\"colab-df-convert\" onclick=\"convertToInteractive('df-c984202d-d157-4250-bfc9-e564defe6733')\"\n",
              "              title=\"Convert this dataframe to an interactive table.\"\n",
              "              style=\"display:none;\">\n",
              "        \n",
              "  <svg xmlns=\"http://www.w3.org/2000/svg\" height=\"24px\"viewBox=\"0 0 24 24\"\n",
              "       width=\"24px\">\n",
              "    <path d=\"M0 0h24v24H0V0z\" fill=\"none\"/>\n",
              "    <path d=\"M18.56 5.44l.94 2.06.94-2.06 2.06-.94-2.06-.94-.94-2.06-.94 2.06-2.06.94zm-11 1L8.5 8.5l.94-2.06 2.06-.94-2.06-.94L8.5 2.5l-.94 2.06-2.06.94zm10 10l.94 2.06.94-2.06 2.06-.94-2.06-.94-.94-2.06-.94 2.06-2.06.94z\"/><path d=\"M17.41 7.96l-1.37-1.37c-.4-.4-.92-.59-1.43-.59-.52 0-1.04.2-1.43.59L10.3 9.45l-7.72 7.72c-.78.78-.78 2.05 0 2.83L4 21.41c.39.39.9.59 1.41.59.51 0 1.02-.2 1.41-.59l7.78-7.78 2.81-2.81c.8-.78.8-2.07 0-2.86zM5.41 20L4 18.59l7.72-7.72 1.47 1.35L5.41 20z\"/>\n",
              "  </svg>\n",
              "      </button>\n",
              "      \n",
              "  <style>\n",
              "    .colab-df-container {\n",
              "      display:flex;\n",
              "      flex-wrap:wrap;\n",
              "      gap: 12px;\n",
              "    }\n",
              "\n",
              "    .colab-df-convert {\n",
              "      background-color: #E8F0FE;\n",
              "      border: none;\n",
              "      border-radius: 50%;\n",
              "      cursor: pointer;\n",
              "      display: none;\n",
              "      fill: #1967D2;\n",
              "      height: 32px;\n",
              "      padding: 0 0 0 0;\n",
              "      width: 32px;\n",
              "    }\n",
              "\n",
              "    .colab-df-convert:hover {\n",
              "      background-color: #E2EBFA;\n",
              "      box-shadow: 0px 1px 2px rgba(60, 64, 67, 0.3), 0px 1px 3px 1px rgba(60, 64, 67, 0.15);\n",
              "      fill: #174EA6;\n",
              "    }\n",
              "\n",
              "    [theme=dark] .colab-df-convert {\n",
              "      background-color: #3B4455;\n",
              "      fill: #D2E3FC;\n",
              "    }\n",
              "\n",
              "    [theme=dark] .colab-df-convert:hover {\n",
              "      background-color: #434B5C;\n",
              "      box-shadow: 0px 1px 3px 1px rgba(0, 0, 0, 0.15);\n",
              "      filter: drop-shadow(0px 1px 2px rgba(0, 0, 0, 0.3));\n",
              "      fill: #FFFFFF;\n",
              "    }\n",
              "  </style>\n",
              "\n",
              "      <script>\n",
              "        const buttonEl =\n",
              "          document.querySelector('#df-c984202d-d157-4250-bfc9-e564defe6733 button.colab-df-convert');\n",
              "        buttonEl.style.display =\n",
              "          google.colab.kernel.accessAllowed ? 'block' : 'none';\n",
              "\n",
              "        async function convertToInteractive(key) {\n",
              "          const element = document.querySelector('#df-c984202d-d157-4250-bfc9-e564defe6733');\n",
              "          const dataTable =\n",
              "            await google.colab.kernel.invokeFunction('convertToInteractive',\n",
              "                                                     [key], {});\n",
              "          if (!dataTable) return;\n",
              "\n",
              "          const docLinkHtml = 'Like what you see? Visit the ' +\n",
              "            '<a target=\"_blank\" href=https://colab.research.google.com/notebooks/data_table.ipynb>data table notebook</a>'\n",
              "            + ' to learn more about interactive tables.';\n",
              "          element.innerHTML = '';\n",
              "          dataTable['output_type'] = 'display_data';\n",
              "          await google.colab.output.renderOutput(dataTable, element);\n",
              "          const docLink = document.createElement('div');\n",
              "          docLink.innerHTML = docLinkHtml;\n",
              "          element.appendChild(docLink);\n",
              "        }\n",
              "      </script>\n",
              "    </div>\n",
              "  </div>\n",
              "  "
            ],
            "text/plain": [
              "   A1     A2     A3  A4  A5  A6     A7  A8  A9  A10  A11  A12  A13   A14  \\\n",
              "0   1  22.08  11.46   2   4   4  1.585   0   0    0    1    2  100  1213   \n",
              "1   0  22.67   7.00   2   8   4  0.165   0   0    0    0    2  160     1   \n",
              "2   0  29.58   1.75   1   4   4  1.250   0   0    0    1    2  280     1   \n",
              "3   0  21.67  11.50   1   5   3  0.000   1   1   11    1    2    0     1   \n",
              "4   1  20.17   8.17   2   6   4  1.960   1   1   14    0    2   60   159   \n",
              "\n",
              "   outlier  \n",
              "0        0  \n",
              "1        0  \n",
              "2        0  \n",
              "3        0  \n",
              "4        0  "
            ]
          },
          "metadata": {},
          "execution_count": 33
        }
      ]
    },
    {
      "cell_type": "code",
      "source": [
        "categ = ['A1','A4','A5','A6','A8','A9','A11','A12']\n",
        "df = oneHotFunc(df, categ)"
      ],
      "metadata": {
        "colab": {
          "base_uri": "https://localhost:8080/"
        },
        "outputId": "83bf5dcb-aa6e-4971-b526-31d5871d9a2b",
        "id": "IXNOGfRRirTg"
      },
      "execution_count": null,
      "outputs": [
        {
          "output_type": "stream",
          "name": "stdout",
          "text": [
            "      A2     A3     A7  A10  A13   A14  outlier  A1_1  A1_0  A4_2  ...  A6_7  \\\n",
            "0  22.08  11.46  1.585    0  100  1213        0     0     1     0  ...     0   \n",
            "1  22.67   7.00  0.165    0  160     1        0     1     0     0  ...     0   \n",
            "2  29.58   1.75  1.250    0  280     1        0     1     0     1  ...     0   \n",
            "3  21.67  11.50  0.000   11    0     1        0     1     0     1  ...     0   \n",
            "4  20.17   8.17  1.960   14   60   159        0     0     1     0  ...     0   \n",
            "\n",
            "   A8_0  A8_1  A9_0  A9_1  A11_1  A11_0  A12_2  A12_1  A12_3  \n",
            "0     1     0     1     0      0      1      0      1      0  \n",
            "1     1     0     1     0      1      0      0      1      0  \n",
            "2     1     0     1     0      0      1      0      1      0  \n",
            "3     0     1     0     1      0      1      0      1      0  \n",
            "4     0     1     0     1      1      0      0      1      0  \n",
            "\n",
            "[5 rows x 43 columns]\n"
          ]
        }
      ]
    },
    {
      "cell_type": "code",
      "source": [
        "msk = df['outlier'] == 1\n",
        "num_to_oversample = len(df) - 2*msk.sum()\n",
        "df_positive_oversample = df[msk].sample(n=num_to_oversample, replace=True, random_state=888)\n",
        "df_train_oversample = pd.concat([df, df_positive_oversample])\n",
        "df_train_oversample['outlier'].value_counts()"
      ],
      "metadata": {
        "colab": {
          "base_uri": "https://localhost:8080/"
        },
        "outputId": "36c70bfd-1ec5-42db-977b-467f01700f4d",
        "id": "MnAlLcJHirTh"
      },
      "execution_count": null,
      "outputs": [
        {
          "output_type": "execute_result",
          "data": {
            "text/plain": [
              "0    683\n",
              "1    683\n",
              "Name: outlier, dtype: int64"
            ]
          },
          "metadata": {},
          "execution_count": 35
        }
      ]
    },
    {
      "cell_type": "code",
      "source": [
        "X_train, X_test = train_test_split(df_train_oversample, test_size = 0.3, random_state = 0)\n",
        "y_train = X_train['outlier']\n",
        "X_train = X_train.drop('outlier',1)\n",
        "y_test = X_test['outlier']\n",
        "X_test = X_test.drop('outlier',1)"
      ],
      "metadata": {
        "colab": {
          "base_uri": "https://localhost:8080/"
        },
        "outputId": "b6836515-a6bc-4258-868c-d91280faa85f",
        "id": "F6L6XWAKirTj"
      },
      "execution_count": null,
      "outputs": [
        {
          "output_type": "stream",
          "name": "stderr",
          "text": [
            "/usr/local/lib/python3.7/dist-packages/ipykernel_launcher.py:3: FutureWarning: In a future version of pandas all arguments of DataFrame.drop except for the argument 'labels' will be keyword-only\n",
            "  This is separate from the ipykernel package so we can avoid doing imports until\n",
            "/usr/local/lib/python3.7/dist-packages/ipykernel_launcher.py:5: FutureWarning: In a future version of pandas all arguments of DataFrame.drop except for the argument 'labels' will be keyword-only\n",
            "  \"\"\"\n"
          ]
        }
      ]
    },
    {
      "cell_type": "code",
      "source": [
        "clf = DecisionTreeClassifier()\n",
        "clf = clf.fit(X_train,y_train)\n",
        "y_pred = clf.predict(X_test)\n",
        "\n",
        "tn, fp, fn, tp = confusion_matrix(y_test, y_pred).ravel()\n",
        "print(\"Confusion Matrix:\")\n",
        "print(confusion_matrix(y_test,y_pred))\n",
        "sns.heatmap(confusion_matrix(y_test,y_pred), annot=True,fmt=\"d\",annot_kws={'size': 30})\n",
        "print(\"Accuracy:\",metrics.accuracy_score(y_test, y_pred))\n",
        "print(\"Precision:\",metrics.precision_score(y_test, y_pred))\n",
        "print(\"Recall:\",metrics.recall_score(y_test, y_pred))\n",
        "print(\"TPR: \",tp/(tp+fn))\n",
        "print(\"FPR: \",fp/(tn+fp))\n",
        "print(\"F1 Score:\",metrics.f1_score(y_test, y_pred))"
      ],
      "metadata": {
        "colab": {
          "base_uri": "https://localhost:8080/",
          "height": 421
        },
        "outputId": "eb921346-7d6d-42fa-8a57-3cc284a635c4",
        "id": "-9fhQVsMirTk"
      },
      "execution_count": null,
      "outputs": [
        {
          "output_type": "stream",
          "name": "stdout",
          "text": [
            "Confusion Matrix:\n",
            "[[208   5]\n",
            " [  0 197]]\n",
            "Accuracy: 0.9878048780487805\n",
            "Precision: 0.9752475247524752\n",
            "Recall: 1.0\n",
            "TPR:  1.0\n",
            "FPR:  0.023474178403755867\n",
            "F1 Score: 0.9874686716791979\n"
          ]
        },
        {
          "output_type": "display_data",
          "data": {
            "image/png": "[encoded data removed]",
            "text/plain": [
              "<Figure size 432x288 with 2 Axes>"
            ]
          },
          "metadata": {
            "needs_background": "light"
          }
        }
      ]
    },
    {
      "cell_type": "code",
      "source": [
        "sc = StandardScaler()\n",
        "X_train = sc.fit_transform(X_train)\n",
        "X_test = sc.transform(X_test)\n",
        "\n",
        "svc_model = SVC(C= .1, kernel='linear', gamma= 1)\n",
        "svc_model.fit(X_train, y_train)\n",
        "y_pred = svc_model .predict(X_test)\n",
        "\n",
        "tn, fp, fn, tp = confusion_matrix(y_test, y_pred).ravel()\n",
        "print(\"Confusion Matrix:\")\n",
        "print(confusion_matrix(y_test,y_pred))\n",
        "print(\"Accuracy:\",metrics.accuracy_score(y_test, y_pred))\n",
        "print(\"Precision:\",metrics.precision_score(y_test, y_pred))\n",
        "print(\"Recall:\",metrics.recall_score(y_test, y_pred))\n",
        "print(\"TPR: \",tp/(tp+fn))\n",
        "print(\"FPR: \",fp/(tn+fp))\n",
        "print(\"F1 Score:\",metrics.f1_score(y_test, y_pred))"
      ],
      "metadata": {
        "colab": {
          "base_uri": "https://localhost:8080/"
        },
        "outputId": "aaefec08-1939-4b43-f144-04173bd931ec",
        "id": "pJK4X5xBirTm"
      },
      "execution_count": null,
      "outputs": [
        {
          "output_type": "stream",
          "name": "stdout",
          "text": [
            "Confusion Matrix:\n",
            "[[212   1]\n",
            " [  0 197]]\n",
            "Accuracy: 0.9975609756097561\n",
            "Precision: 0.9949494949494949\n",
            "Recall: 1.0\n",
            "TPR:  1.0\n",
            "FPR:  0.004694835680751174\n",
            "F1 Score: 0.9974683544303797\n"
          ]
        }
      ]
    },
    {
      "cell_type": "code",
      "source": [
        "lr = LogisticRegression()\n",
        "lr.fit(X_train, y_train)\n",
        "y_pred = lr.predict(X_test)\n",
        "\n",
        "tn, fp, fn, tp = confusion_matrix(y_test, y_pred).ravel()\n",
        "print(\"Confusion Matrix:\")\n",
        "print(confusion_matrix(y_test,y_pred))\n",
        "print(\"Accuracy:\",metrics.accuracy_score(y_test, y_pred))\n",
        "print(\"Precision:\",metrics.precision_score(y_test, y_pred))\n",
        "print(\"Recall:\",metrics.recall_score(y_test, y_pred))\n",
        "print(\"TPR: \",tp/(tp+fn))\n",
        "print(\"FPR: \",fp/(tn+fp))\n",
        "print(\"F1 Score:\",metrics.f1_score(y_test, y_pred))"
      ],
      "metadata": {
        "colab": {
          "base_uri": "https://localhost:8080/"
        },
        "outputId": "ddac9d80-cc79-4530-e767-1160566d9760",
        "id": "iSDjIgRLirTn"
      },
      "execution_count": null,
      "outputs": [
        {
          "output_type": "stream",
          "name": "stdout",
          "text": [
            "Confusion Matrix:\n",
            "[[212   1]\n",
            " [  0 197]]\n",
            "Accuracy: 0.9975609756097561\n",
            "Precision: 0.9949494949494949\n",
            "Recall: 1.0\n",
            "TPR:  1.0\n",
            "FPR:  0.004694835680751174\n",
            "F1 Score: 0.9974683544303797\n"
          ]
        }
      ]
    },
    {
      "cell_type": "markdown",
      "source": [
        "German\n",
        "--------------"
      ],
      "metadata": {
        "id": "LOiZMZNef8Um"
      }
    },
    {
      "cell_type": "code",
      "source": [
        "df=pd.read_csv(\"drive/MyDrive/Datasets/Outlier_Classification/german.csv\")\n",
        "df.head()"
      ],
      "metadata": {
        "colab": {
          "base_uri": "https://localhost:8080/",
          "height": 280
        },
        "outputId": "9a3189c2-1364-49f1-f5be-01810754bc37",
        "id": "Tmt1ekTsf8Un"
      },
      "execution_count": null,
      "outputs": [
        {
          "output_type": "execute_result",
          "data": {
            "text/html": [
              "\n",
              "  <div id=\"df-00a3bb43-51fa-4719-9c08-dcbed393cee8\">\n",
              "    <div class=\"colab-df-container\">\n",
              "      <div>\n",
              "<style scoped>\n",
              "    .dataframe tbody tr th:only-of-type {\n",
              "        vertical-align: middle;\n",
              "    }\n",
              "\n",
              "    .dataframe tbody tr th {\n",
              "        vertical-align: top;\n",
              "    }\n",
              "\n",
              "    .dataframe thead th {\n",
              "        text-align: right;\n",
              "    }\n",
              "</style>\n",
              "<table border=\"1\" class=\"dataframe\">\n",
              "  <thead>\n",
              "    <tr style=\"text-align: right;\">\n",
              "      <th></th>\n",
              "      <th>A1</th>\n",
              "      <th>A2</th>\n",
              "      <th>A3</th>\n",
              "      <th>A4</th>\n",
              "      <th>A5</th>\n",
              "      <th>A6</th>\n",
              "      <th>A7</th>\n",
              "      <th>A8</th>\n",
              "      <th>A9</th>\n",
              "      <th>A10</th>\n",
              "      <th>...</th>\n",
              "      <th>A12</th>\n",
              "      <th>A13</th>\n",
              "      <th>A14</th>\n",
              "      <th>A15</th>\n",
              "      <th>A16</th>\n",
              "      <th>A17</th>\n",
              "      <th>A18</th>\n",
              "      <th>A19</th>\n",
              "      <th>A20</th>\n",
              "      <th>outlier</th>\n",
              "    </tr>\n",
              "  </thead>\n",
              "  <tbody>\n",
              "    <tr>\n",
              "      <th>0</th>\n",
              "      <td>A11</td>\n",
              "      <td>6</td>\n",
              "      <td>A34</td>\n",
              "      <td>A43</td>\n",
              "      <td>1169</td>\n",
              "      <td>A65</td>\n",
              "      <td>A75</td>\n",
              "      <td>4</td>\n",
              "      <td>A93</td>\n",
              "      <td>A101</td>\n",
              "      <td>...</td>\n",
              "      <td>A121</td>\n",
              "      <td>67</td>\n",
              "      <td>A143</td>\n",
              "      <td>A152</td>\n",
              "      <td>2</td>\n",
              "      <td>A173</td>\n",
              "      <td>1</td>\n",
              "      <td>A192</td>\n",
              "      <td>A201</td>\n",
              "      <td>0</td>\n",
              "    </tr>\n",
              "    <tr>\n",
              "      <th>1</th>\n",
              "      <td>A12</td>\n",
              "      <td>48</td>\n",
              "      <td>A32</td>\n",
              "      <td>A43</td>\n",
              "      <td>5951</td>\n",
              "      <td>A61</td>\n",
              "      <td>A73</td>\n",
              "      <td>2</td>\n",
              "      <td>A92</td>\n",
              "      <td>A101</td>\n",
              "      <td>...</td>\n",
              "      <td>A121</td>\n",
              "      <td>22</td>\n",
              "      <td>A143</td>\n",
              "      <td>A152</td>\n",
              "      <td>1</td>\n",
              "      <td>A173</td>\n",
              "      <td>1</td>\n",
              "      <td>A191</td>\n",
              "      <td>A201</td>\n",
              "      <td>0</td>\n",
              "    </tr>\n",
              "    <tr>\n",
              "      <th>2</th>\n",
              "      <td>A14</td>\n",
              "      <td>12</td>\n",
              "      <td>A34</td>\n",
              "      <td>A46</td>\n",
              "      <td>2096</td>\n",
              "      <td>A61</td>\n",
              "      <td>A74</td>\n",
              "      <td>2</td>\n",
              "      <td>A93</td>\n",
              "      <td>A101</td>\n",
              "      <td>...</td>\n",
              "      <td>A121</td>\n",
              "      <td>49</td>\n",
              "      <td>A143</td>\n",
              "      <td>A152</td>\n",
              "      <td>1</td>\n",
              "      <td>A172</td>\n",
              "      <td>2</td>\n",
              "      <td>A191</td>\n",
              "      <td>A201</td>\n",
              "      <td>0</td>\n",
              "    </tr>\n",
              "    <tr>\n",
              "      <th>3</th>\n",
              "      <td>A11</td>\n",
              "      <td>42</td>\n",
              "      <td>A32</td>\n",
              "      <td>A42</td>\n",
              "      <td>7882</td>\n",
              "      <td>A61</td>\n",
              "      <td>A74</td>\n",
              "      <td>2</td>\n",
              "      <td>A93</td>\n",
              "      <td>A103</td>\n",
              "      <td>...</td>\n",
              "      <td>A122</td>\n",
              "      <td>45</td>\n",
              "      <td>A143</td>\n",
              "      <td>A153</td>\n",
              "      <td>1</td>\n",
              "      <td>A173</td>\n",
              "      <td>2</td>\n",
              "      <td>A191</td>\n",
              "      <td>A201</td>\n",
              "      <td>0</td>\n",
              "    </tr>\n",
              "    <tr>\n",
              "      <th>4</th>\n",
              "      <td>A11</td>\n",
              "      <td>24</td>\n",
              "      <td>A33</td>\n",
              "      <td>A40</td>\n",
              "      <td>4870</td>\n",
              "      <td>A61</td>\n",
              "      <td>A73</td>\n",
              "      <td>3</td>\n",
              "      <td>A93</td>\n",
              "      <td>A101</td>\n",
              "      <td>...</td>\n",
              "      <td>A124</td>\n",
              "      <td>53</td>\n",
              "      <td>A143</td>\n",
              "      <td>A153</td>\n",
              "      <td>2</td>\n",
              "      <td>A173</td>\n",
              "      <td>2</td>\n",
              "      <td>A191</td>\n",
              "      <td>A201</td>\n",
              "      <td>0</td>\n",
              "    </tr>\n",
              "  </tbody>\n",
              "</table>\n",
              "<p>5 rows × 21 columns</p>\n",
              "</div>\n",
              "      <button class=\"colab-df-convert\" onclick=\"convertToInteractive('df-00a3bb43-51fa-4719-9c08-dcbed393cee8')\"\n",
              "              title=\"Convert this dataframe to an interactive table.\"\n",
              "              style=\"display:none;\">\n",
              "        \n",
              "  <svg xmlns=\"http://www.w3.org/2000/svg\" height=\"24px\"viewBox=\"0 0 24 24\"\n",
              "       width=\"24px\">\n",
              "    <path d=\"M0 0h24v24H0V0z\" fill=\"none\"/>\n",
              "    <path d=\"M18.56 5.44l.94 2.06.94-2.06 2.06-.94-2.06-.94-.94-2.06-.94 2.06-2.06.94zm-11 1L8.5 8.5l.94-2.06 2.06-.94-2.06-.94L8.5 2.5l-.94 2.06-2.06.94zm10 10l.94 2.06.94-2.06 2.06-.94-2.06-.94-.94-2.06-.94 2.06-2.06.94z\"/><path d=\"M17.41 7.96l-1.37-1.37c-.4-.4-.92-.59-1.43-.59-.52 0-1.04.2-1.43.59L10.3 9.45l-7.72 7.72c-.78.78-.78 2.05 0 2.83L4 21.41c.39.39.9.59 1.41.59.51 0 1.02-.2 1.41-.59l7.78-7.78 2.81-2.81c.8-.78.8-2.07 0-2.86zM5.41 20L4 18.59l7.72-7.72 1.47 1.35L5.41 20z\"/>\n",
              "  </svg>\n",
              "      </button>\n",
              "      \n",
              "  <style>\n",
              "    .colab-df-container {\n",
              "      display:flex;\n",
              "      flex-wrap:wrap;\n",
              "      gap: 12px;\n",
              "    }\n",
              "\n",
              "    .colab-df-convert {\n",
              "      background-color: #E8F0FE;\n",
              "      border: none;\n",
              "      border-radius: 50%;\n",
              "      cursor: pointer;\n",
              "      display: none;\n",
              "      fill: #1967D2;\n",
              "      height: 32px;\n",
              "      padding: 0 0 0 0;\n",
              "      width: 32px;\n",
              "    }\n",
              "\n",
              "    .colab-df-convert:hover {\n",
              "      background-color: #E2EBFA;\n",
              "      box-shadow: 0px 1px 2px rgba(60, 64, 67, 0.3), 0px 1px 3px 1px rgba(60, 64, 67, 0.15);\n",
              "      fill: #174EA6;\n",
              "    }\n",
              "\n",
              "    [theme=dark] .colab-df-convert {\n",
              "      background-color: #3B4455;\n",
              "      fill: #D2E3FC;\n",
              "    }\n",
              "\n",
              "    [theme=dark] .colab-df-convert:hover {\n",
              "      background-color: #434B5C;\n",
              "      box-shadow: 0px 1px 3px 1px rgba(0, 0, 0, 0.15);\n",
              "      filter: drop-shadow(0px 1px 2px rgba(0, 0, 0, 0.3));\n",
              "      fill: #FFFFFF;\n",
              "    }\n",
              "  </style>\n",
              "\n",
              "      <script>\n",
              "        const buttonEl =\n",
              "          document.querySelector('#df-00a3bb43-51fa-4719-9c08-dcbed393cee8 button.colab-df-convert');\n",
              "        buttonEl.style.display =\n",
              "          google.colab.kernel.accessAllowed ? 'block' : 'none';\n",
              "\n",
              "        async function convertToInteractive(key) {\n",
              "          const element = document.querySelector('#df-00a3bb43-51fa-4719-9c08-dcbed393cee8');\n",
              "          const dataTable =\n",
              "            await google.colab.kernel.invokeFunction('convertToInteractive',\n",
              "                                                     [key], {});\n",
              "          if (!dataTable) return;\n",
              "\n",
              "          const docLinkHtml = 'Like what you see? Visit the ' +\n",
              "            '<a target=\"_blank\" href=https://colab.research.google.com/notebooks/data_table.ipynb>data table notebook</a>'\n",
              "            + ' to learn more about interactive tables.';\n",
              "          element.innerHTML = '';\n",
              "          dataTable['output_type'] = 'display_data';\n",
              "          await google.colab.output.renderOutput(dataTable, element);\n",
              "          const docLink = document.createElement('div');\n",
              "          docLink.innerHTML = docLinkHtml;\n",
              "          element.appendChild(docLink);\n",
              "        }\n",
              "      </script>\n",
              "    </div>\n",
              "  </div>\n",
              "  "
            ],
            "text/plain": [
              "    A1  A2   A3   A4    A5   A6   A7  A8   A9   A10  ...   A12 A13   A14  \\\n",
              "0  A11   6  A34  A43  1169  A65  A75   4  A93  A101  ...  A121  67  A143   \n",
              "1  A12  48  A32  A43  5951  A61  A73   2  A92  A101  ...  A121  22  A143   \n",
              "2  A14  12  A34  A46  2096  A61  A74   2  A93  A101  ...  A121  49  A143   \n",
              "3  A11  42  A32  A42  7882  A61  A74   2  A93  A103  ...  A122  45  A143   \n",
              "4  A11  24  A33  A40  4870  A61  A73   3  A93  A101  ...  A124  53  A143   \n",
              "\n",
              "    A15 A16   A17 A18   A19   A20 outlier  \n",
              "0  A152   2  A173   1  A192  A201       0  \n",
              "1  A152   1  A173   1  A191  A201       0  \n",
              "2  A152   1  A172   2  A191  A201       0  \n",
              "3  A153   1  A173   2  A191  A201       0  \n",
              "4  A153   2  A173   2  A191  A201       0  \n",
              "\n",
              "[5 rows x 21 columns]"
            ]
          },
          "metadata": {},
          "execution_count": 38
        }
      ]
    },
    {
      "cell_type": "code",
      "source": [
        "categ=['A1','A3','A4','A6','A7','A9','A10','A12','A14','A15','A17','A19','A20']\n",
        "df = oneHotFunc(df, categ)"
      ],
      "metadata": {
        "colab": {
          "base_uri": "https://localhost:8080/"
        },
        "outputId": "d8e21598-35f4-4049-db2a-2b7b04c7b523",
        "id": "_M-DU_zrf8Uo"
      },
      "execution_count": null,
      "outputs": [
        {
          "output_type": "stream",
          "name": "stdout",
          "text": [
            "   A2    A5  A8  A11  A13  A16  A18  outlier  A1_A11  A1_A12  ...  A15_A153  \\\n",
            "0   6  1169   4    4   67    2    1        0       1       0  ...         1   \n",
            "1  48  5951   2    2   22    1    1        0       0       1  ...         1   \n",
            "2  12  2096   2    3   49    1    2        0       0       0  ...         1   \n",
            "3  42  7882   2    4   45    1    2        0       1       0  ...         0   \n",
            "4  24  4870   3    4   53    2    2        0       1       0  ...         0   \n",
            "\n",
            "   A15_A151  A17_A173  A17_A172  A17_A174  A17_A171  A19_A192  A19_A191  \\\n",
            "0         0         0         0         1         0         0         1   \n",
            "1         0         0         0         1         0         1         0   \n",
            "2         0         0         1         0         0         1         0   \n",
            "3         1         0         0         1         0         1         0   \n",
            "4         1         0         0         1         0         1         0   \n",
            "\n",
            "   A20_A201  A20_A202  \n",
            "0         1         0  \n",
            "1         1         0  \n",
            "2         1         0  \n",
            "3         1         0  \n",
            "4         1         0  \n",
            "\n",
            "[5 rows x 62 columns]\n"
          ]
        }
      ]
    },
    {
      "cell_type": "code",
      "source": [
        "msk = df['outlier'] == 1\n",
        "num_to_oversample = len(df) - 2*msk.sum()\n",
        "df_positive_oversample = df[msk].sample(n=num_to_oversample, replace=True, random_state=888)\n",
        "df_train_oversample = pd.concat([df, df_positive_oversample])\n",
        "df_train_oversample['outlier'].value_counts()"
      ],
      "metadata": {
        "colab": {
          "base_uri": "https://localhost:8080/"
        },
        "outputId": "f484c566-b31e-42cf-c0b9-c6c204735141",
        "id": "KWv7zF-Tf8Up"
      },
      "execution_count": null,
      "outputs": [
        {
          "output_type": "execute_result",
          "data": {
            "text/plain": [
              "0    993\n",
              "1    993\n",
              "Name: outlier, dtype: int64"
            ]
          },
          "metadata": {},
          "execution_count": 40
        }
      ]
    },
    {
      "cell_type": "code",
      "source": [
        "X_train, X_test = train_test_split(df_train_oversample, test_size = 0.3, random_state = 0)\n",
        "y_train = X_train['outlier']\n",
        "X_train = X_train.drop('outlier',1)\n",
        "y_test = X_test['outlier']\n",
        "X_test = X_test.drop('outlier',1)"
      ],
      "metadata": {
        "colab": {
          "base_uri": "https://localhost:8080/"
        },
        "outputId": "714b46da-dc3e-4060-d40c-8d084928324b",
        "id": "H1OfTVHzf8Uq"
      },
      "execution_count": null,
      "outputs": [
        {
          "output_type": "stream",
          "name": "stderr",
          "text": [
            "/usr/local/lib/python3.7/dist-packages/ipykernel_launcher.py:3: FutureWarning: In a future version of pandas all arguments of DataFrame.drop except for the argument 'labels' will be keyword-only\n",
            "  This is separate from the ipykernel package so we can avoid doing imports until\n",
            "/usr/local/lib/python3.7/dist-packages/ipykernel_launcher.py:5: FutureWarning: In a future version of pandas all arguments of DataFrame.drop except for the argument 'labels' will be keyword-only\n",
            "  \"\"\"\n"
          ]
        }
      ]
    },
    {
      "cell_type": "code",
      "source": [
        "clf = DecisionTreeClassifier()\n",
        "clf = clf.fit(X_train,y_train)\n",
        "y_pred = clf.predict(X_test)\n",
        "\n",
        "tn, fp, fn, tp = confusion_matrix(y_test, y_pred).ravel()\n",
        "print(\"Confusion Matrix:\")\n",
        "print(confusion_matrix(y_test,y_pred))\n",
        "sns.heatmap(confusion_matrix(y_test,y_pred), annot=True,fmt=\"d\",annot_kws={'size': 30})\n",
        "print(\"Accuracy:\",metrics.accuracy_score(y_test, y_pred))\n",
        "print(\"Precision:\",metrics.precision_score(y_test, y_pred))\n",
        "print(\"Recall:\",metrics.recall_score(y_test, y_pred))\n",
        "print(\"TPR: \",tp/(tp+fn))\n",
        "print(\"FPR: \",fp/(tn+fp))\n",
        "print(\"F1 Score:\",metrics.f1_score(y_test, y_pred))"
      ],
      "metadata": {
        "colab": {
          "base_uri": "https://localhost:8080/",
          "height": 425
        },
        "outputId": "d61f12b4-3bbf-4aa4-c3c3-f2c0a7446a0d",
        "id": "1RbI_2ndf8Ur"
      },
      "execution_count": null,
      "outputs": [
        {
          "output_type": "stream",
          "name": "stdout",
          "text": [
            "Confusion Matrix:\n",
            "[[295   1]\n",
            " [  0 300]]\n",
            "Accuracy: 0.9983221476510067\n",
            "Precision: 0.9966777408637874\n",
            "Recall: 1.0\n",
            "TPR:  1.0\n",
            "FPR:  0.0033783783783783786\n",
            "F1 Score: 0.9983361064891847\n"
          ]
        },
        {
          "output_type": "display_data",
          "data": {
            "image/png": "[encoded data removed]",
            "text/plain": [
              "<Figure size 432x288 with 2 Axes>"
            ]
          },
          "metadata": {
            "needs_background": "light"
          }
        }
      ]
    },
    {
      "cell_type": "code",
      "source": [
        "sc = StandardScaler()\n",
        "X_train = sc.fit_transform(X_train)\n",
        "X_test = sc.transform(X_test)\n",
        "\n",
        "svc_model = SVC(C= .1, kernel='linear', gamma= 1)\n",
        "svc_model.fit(X_train, y_train)\n",
        "y_pred = svc_model .predict(X_test)\n",
        "\n",
        "tn, fp, fn, tp = confusion_matrix(y_test, y_pred).ravel()\n",
        "print(\"Confusion Matrix:\")\n",
        "print(confusion_matrix(y_test,y_pred))\n",
        "print(\"Accuracy:\",metrics.accuracy_score(y_test, y_pred))\n",
        "print(\"Precision:\",metrics.precision_score(y_test, y_pred))\n",
        "print(\"Recall:\",metrics.recall_score(y_test, y_pred))\n",
        "print(\"TPR: \",tp/(tp+fn))\n",
        "print(\"FPR: \",fp/(tn+fp))\n",
        "print(\"F1 Score:\",metrics.f1_score(y_test, y_pred))"
      ],
      "metadata": {
        "colab": {
          "base_uri": "https://localhost:8080/"
        },
        "outputId": "9ff7086b-b0f4-4332-ac8f-c498ef3761d5",
        "id": "DhFeYGepf8Us"
      },
      "execution_count": null,
      "outputs": [
        {
          "output_type": "stream",
          "name": "stdout",
          "text": [
            "Confusion Matrix:\n",
            "[[294   2]\n",
            " [  0 300]]\n",
            "Accuracy: 0.9966442953020134\n",
            "Precision: 0.9933774834437086\n",
            "Recall: 1.0\n",
            "TPR:  1.0\n",
            "FPR:  0.006756756756756757\n",
            "F1 Score: 0.9966777408637874\n"
          ]
        }
      ]
    },
    {
      "cell_type": "code",
      "source": [
        "lr = LogisticRegression()\n",
        "lr.fit(X_train, y_train)\n",
        "y_pred = lr.predict(X_test)\n",
        "\n",
        "tn, fp, fn, tp = confusion_matrix(y_test, y_pred).ravel()\n",
        "print(\"Confusion Matrix:\")\n",
        "print(confusion_matrix(y_test,y_pred))\n",
        "print(\"Accuracy:\",metrics.accuracy_score(y_test, y_pred))\n",
        "print(\"Precision:\",metrics.precision_score(y_test, y_pred))\n",
        "print(\"Recall:\",metrics.recall_score(y_test, y_pred))\n",
        "print(\"TPR: \",tp/(tp+fn))\n",
        "print(\"FPR: \",fp/(tn+fp))\n",
        "print(\"F1 Score:\",metrics.f1_score(y_test, y_pred))"
      ],
      "metadata": {
        "colab": {
          "base_uri": "https://localhost:8080/"
        },
        "outputId": "2ccb673c-0eb3-4b1f-c856-9c0f25c56b19",
        "id": "P1J-GFaGf8Uu"
      },
      "execution_count": null,
      "outputs": [
        {
          "output_type": "stream",
          "name": "stdout",
          "text": [
            "Confusion Matrix:\n",
            "[[294   2]\n",
            " [  0 300]]\n",
            "Accuracy: 0.9966442953020134\n",
            "Precision: 0.9933774834437086\n",
            "Recall: 1.0\n",
            "TPR:  1.0\n",
            "FPR:  0.006756756756756757\n",
            "F1 Score: 0.9966777408637874\n"
          ]
        }
      ]
    },
    {
      "cell_type": "markdown",
      "source": [
        "Heart\n",
        "--------------"
      ],
      "metadata": {
        "id": "9fHi2Va_CN4Q"
      }
    },
    {
      "cell_type": "code",
      "source": [
        "df=pd.read_csv(\"drive/MyDrive/Datasets/Outlier_Classification/heart.csv\")\n",
        "df.head()"
      ],
      "metadata": {
        "colab": {
          "base_uri": "https://localhost:8080/",
          "height": 206
        },
        "outputId": "33666527-a44e-4b01-9764-d3e690a7b2a4",
        "id": "eVFow3IHCQyD"
      },
      "execution_count": null,
      "outputs": [
        {
          "output_type": "execute_result",
          "data": {
            "text/html": [
              "\n",
              "  <div id=\"df-c154c633-9c26-4b10-81f7-b6305ad34b29\">\n",
              "    <div class=\"colab-df-container\">\n",
              "      <div>\n",
              "<style scoped>\n",
              "    .dataframe tbody tr th:only-of-type {\n",
              "        vertical-align: middle;\n",
              "    }\n",
              "\n",
              "    .dataframe tbody tr th {\n",
              "        vertical-align: top;\n",
              "    }\n",
              "\n",
              "    .dataframe thead th {\n",
              "        text-align: right;\n",
              "    }\n",
              "</style>\n",
              "<table border=\"1\" class=\"dataframe\">\n",
              "  <thead>\n",
              "    <tr style=\"text-align: right;\">\n",
              "      <th></th>\n",
              "      <th>age</th>\n",
              "      <th>sex</th>\n",
              "      <th>cp</th>\n",
              "      <th>trestbps</th>\n",
              "      <th>chol</th>\n",
              "      <th>fbs</th>\n",
              "      <th>restecg</th>\n",
              "      <th>thalach</th>\n",
              "      <th>exang</th>\n",
              "      <th>oldpeak</th>\n",
              "      <th>slope</th>\n",
              "      <th>ca</th>\n",
              "      <th>thal</th>\n",
              "      <th>outlier</th>\n",
              "    </tr>\n",
              "  </thead>\n",
              "  <tbody>\n",
              "    <tr>\n",
              "      <th>0</th>\n",
              "      <td>63</td>\n",
              "      <td>1</td>\n",
              "      <td>3</td>\n",
              "      <td>145</td>\n",
              "      <td>233</td>\n",
              "      <td>1</td>\n",
              "      <td>0</td>\n",
              "      <td>150</td>\n",
              "      <td>0</td>\n",
              "      <td>2.3</td>\n",
              "      <td>0</td>\n",
              "      <td>0</td>\n",
              "      <td>1</td>\n",
              "      <td>0</td>\n",
              "    </tr>\n",
              "    <tr>\n",
              "      <th>1</th>\n",
              "      <td>37</td>\n",
              "      <td>1</td>\n",
              "      <td>2</td>\n",
              "      <td>130</td>\n",
              "      <td>250</td>\n",
              "      <td>0</td>\n",
              "      <td>1</td>\n",
              "      <td>187</td>\n",
              "      <td>0</td>\n",
              "      <td>3.5</td>\n",
              "      <td>0</td>\n",
              "      <td>0</td>\n",
              "      <td>2</td>\n",
              "      <td>0</td>\n",
              "    </tr>\n",
              "    <tr>\n",
              "      <th>2</th>\n",
              "      <td>41</td>\n",
              "      <td>0</td>\n",
              "      <td>1</td>\n",
              "      <td>130</td>\n",
              "      <td>204</td>\n",
              "      <td>0</td>\n",
              "      <td>0</td>\n",
              "      <td>172</td>\n",
              "      <td>0</td>\n",
              "      <td>1.4</td>\n",
              "      <td>2</td>\n",
              "      <td>0</td>\n",
              "      <td>2</td>\n",
              "      <td>0</td>\n",
              "    </tr>\n",
              "    <tr>\n",
              "      <th>3</th>\n",
              "      <td>56</td>\n",
              "      <td>1</td>\n",
              "      <td>1</td>\n",
              "      <td>120</td>\n",
              "      <td>236</td>\n",
              "      <td>0</td>\n",
              "      <td>1</td>\n",
              "      <td>178</td>\n",
              "      <td>0</td>\n",
              "      <td>0.8</td>\n",
              "      <td>2</td>\n",
              "      <td>0</td>\n",
              "      <td>2</td>\n",
              "      <td>0</td>\n",
              "    </tr>\n",
              "    <tr>\n",
              "      <th>4</th>\n",
              "      <td>57</td>\n",
              "      <td>0</td>\n",
              "      <td>0</td>\n",
              "      <td>120</td>\n",
              "      <td>354</td>\n",
              "      <td>0</td>\n",
              "      <td>1</td>\n",
              "      <td>163</td>\n",
              "      <td>1</td>\n",
              "      <td>0.6</td>\n",
              "      <td>2</td>\n",
              "      <td>0</td>\n",
              "      <td>2</td>\n",
              "      <td>0</td>\n",
              "    </tr>\n",
              "  </tbody>\n",
              "</table>\n",
              "</div>\n",
              "      <button class=\"colab-df-convert\" onclick=\"convertToInteractive('df-c154c633-9c26-4b10-81f7-b6305ad34b29')\"\n",
              "              title=\"Convert this dataframe to an interactive table.\"\n",
              "              style=\"display:none;\">\n",
              "        \n",
              "  <svg xmlns=\"http://www.w3.org/2000/svg\" height=\"24px\"viewBox=\"0 0 24 24\"\n",
              "       width=\"24px\">\n",
              "    <path d=\"M0 0h24v24H0V0z\" fill=\"none\"/>\n",
              "    <path d=\"M18.56 5.44l.94 2.06.94-2.06 2.06-.94-2.06-.94-.94-2.06-.94 2.06-2.06.94zm-11 1L8.5 8.5l.94-2.06 2.06-.94-2.06-.94L8.5 2.5l-.94 2.06-2.06.94zm10 10l.94 2.06.94-2.06 2.06-.94-2.06-.94-.94-2.06-.94 2.06-2.06.94z\"/><path d=\"M17.41 7.96l-1.37-1.37c-.4-.4-.92-.59-1.43-.59-.52 0-1.04.2-1.43.59L10.3 9.45l-7.72 7.72c-.78.78-.78 2.05 0 2.83L4 21.41c.39.39.9.59 1.41.59.51 0 1.02-.2 1.41-.59l7.78-7.78 2.81-2.81c.8-.78.8-2.07 0-2.86zM5.41 20L4 18.59l7.72-7.72 1.47 1.35L5.41 20z\"/>\n",
              "  </svg>\n",
              "      </button>\n",
              "      \n",
              "  <style>\n",
              "    .colab-df-container {\n",
              "      display:flex;\n",
              "      flex-wrap:wrap;\n",
              "      gap: 12px;\n",
              "    }\n",
              "\n",
              "    .colab-df-convert {\n",
              "      background-color: #E8F0FE;\n",
              "      border: none;\n",
              "      border-radius: 50%;\n",
              "      cursor: pointer;\n",
              "      display: none;\n",
              "      fill: #1967D2;\n",
              "      height: 32px;\n",
              "      padding: 0 0 0 0;\n",
              "      width: 32px;\n",
              "    }\n",
              "\n",
              "    .colab-df-convert:hover {\n",
              "      background-color: #E2EBFA;\n",
              "      box-shadow: 0px 1px 2px rgba(60, 64, 67, 0.3), 0px 1px 3px 1px rgba(60, 64, 67, 0.15);\n",
              "      fill: #174EA6;\n",
              "    }\n",
              "\n",
              "    [theme=dark] .colab-df-convert {\n",
              "      background-color: #3B4455;\n",
              "      fill: #D2E3FC;\n",
              "    }\n",
              "\n",
              "    [theme=dark] .colab-df-convert:hover {\n",
              "      background-color: #434B5C;\n",
              "      box-shadow: 0px 1px 3px 1px rgba(0, 0, 0, 0.15);\n",
              "      filter: drop-shadow(0px 1px 2px rgba(0, 0, 0, 0.3));\n",
              "      fill: #FFFFFF;\n",
              "    }\n",
              "  </style>\n",
              "\n",
              "      <script>\n",
              "        const buttonEl =\n",
              "          document.querySelector('#df-c154c633-9c26-4b10-81f7-b6305ad34b29 button.colab-df-convert');\n",
              "        buttonEl.style.display =\n",
              "          google.colab.kernel.accessAllowed ? 'block' : 'none';\n",
              "\n",
              "        async function convertToInteractive(key) {\n",
              "          const element = document.querySelector('#df-c154c633-9c26-4b10-81f7-b6305ad34b29');\n",
              "          const dataTable =\n",
              "            await google.colab.kernel.invokeFunction('convertToInteractive',\n",
              "                                                     [key], {});\n",
              "          if (!dataTable) return;\n",
              "\n",
              "          const docLinkHtml = 'Like what you see? Visit the ' +\n",
              "            '<a target=\"_blank\" href=https://colab.research.google.com/notebooks/data_table.ipynb>data table notebook</a>'\n",
              "            + ' to learn more about interactive tables.';\n",
              "          element.innerHTML = '';\n",
              "          dataTable['output_type'] = 'display_data';\n",
              "          await google.colab.output.renderOutput(dataTable, element);\n",
              "          const docLink = document.createElement('div');\n",
              "          docLink.innerHTML = docLinkHtml;\n",
              "          element.appendChild(docLink);\n",
              "        }\n",
              "      </script>\n",
              "    </div>\n",
              "  </div>\n",
              "  "
            ],
            "text/plain": [
              "   age  sex  cp  trestbps  chol  fbs  restecg  thalach  exang  oldpeak  slope  \\\n",
              "0   63    1   3       145   233    1        0      150      0      2.3      0   \n",
              "1   37    1   2       130   250    0        1      187      0      3.5      0   \n",
              "2   41    0   1       130   204    0        0      172      0      1.4      2   \n",
              "3   56    1   1       120   236    0        1      178      0      0.8      2   \n",
              "4   57    0   0       120   354    0        1      163      1      0.6      2   \n",
              "\n",
              "   ca  thal  outlier  \n",
              "0   0     1        0  \n",
              "1   0     2        0  \n",
              "2   0     2        0  \n",
              "3   0     2        0  \n",
              "4   0     2        0  "
            ]
          },
          "metadata": {},
          "execution_count": 43
        }
      ]
    },
    {
      "cell_type": "code",
      "source": [
        "categ = ['sex','cp','fbs','restecg','exang','slope','ca','thal']\n",
        "df = oneHotFunc(df, categ)"
      ],
      "metadata": {
        "colab": {
          "base_uri": "https://localhost:8080/"
        },
        "id": "ZcODzU0da9GH",
        "outputId": "d01b617b-442f-4a90-a1e8-d952043f5513"
      },
      "execution_count": null,
      "outputs": [
        {
          "output_type": "stream",
          "name": "stdout",
          "text": [
            "   age  trestbps  chol  thalach  oldpeak  outlier  sex_1  sex_0  cp_3  cp_2  \\\n",
            "0   63       145   233      150      2.3        0      0      1     0     0   \n",
            "1   37       130   250      187      3.5        0      0      1     0     0   \n",
            "2   41       130   204      172      1.4        0      1      0     0     1   \n",
            "3   56       120   236      178      0.8        0      0      1     0     1   \n",
            "4   57       120   354      163      0.6        0      1      0     1     0   \n",
            "\n",
            "   ...  slope_1  ca_0  ca_2  ca_1  ca_3  ca_4  thal_1  thal_2  thal_3  thal_0  \n",
            "0  ...        0     1     0     0     0     0       0       1       0       0  \n",
            "1  ...        0     1     0     0     0     0       0       0       1       0  \n",
            "2  ...        1     1     0     0     0     0       0       0       1       0  \n",
            "3  ...        1     1     0     0     0     0       0       0       1       0  \n",
            "4  ...        1     1     0     0     0     0       0       0       1       0  \n",
            "\n",
            "[5 rows x 31 columns]\n"
          ]
        }
      ]
    },
    {
      "cell_type": "code",
      "source": [
        "msk = df['outlier'] == 1\n",
        "num_to_oversample = len(df) - 2*msk.sum()\n",
        "df_positive_oversample = df[msk].sample(n=num_to_oversample, replace=True, random_state=888)\n",
        "df_train_oversample = pd.concat([df, df_positive_oversample])\n",
        "df_train_oversample['outlier'].value_counts()"
      ],
      "metadata": {
        "colab": {
          "base_uri": "https://localhost:8080/"
        },
        "id": "TzDZxwAFPtDT",
        "outputId": "2337bf83-4b4f-45c2-a02e-949d589818c7"
      },
      "execution_count": null,
      "outputs": [
        {
          "output_type": "execute_result",
          "data": {
            "text/plain": [
              "0    299\n",
              "1    299\n",
              "Name: outlier, dtype: int64"
            ]
          },
          "metadata": {},
          "execution_count": 45
        }
      ]
    },
    {
      "cell_type": "code",
      "source": [
        "X_train, X_test = train_test_split(df_train_oversample, test_size = 0.3, random_state = 0)\n",
        "y_train = X_train['outlier']\n",
        "X_train = X_train.drop('outlier',1)\n",
        "y_test = X_test['outlier']\n",
        "X_test = X_test.drop('outlier',1)"
      ],
      "metadata": {
        "id": "-FTQHQEiPv9U",
        "colab": {
          "base_uri": "https://localhost:8080/"
        },
        "outputId": "c9d0a06c-ce34-4f62-f3da-0bfb3fe1087d"
      },
      "execution_count": null,
      "outputs": [
        {
          "output_type": "stream",
          "name": "stderr",
          "text": [
            "/usr/local/lib/python3.7/dist-packages/ipykernel_launcher.py:3: FutureWarning: In a future version of pandas all arguments of DataFrame.drop except for the argument 'labels' will be keyword-only\n",
            "  This is separate from the ipykernel package so we can avoid doing imports until\n",
            "/usr/local/lib/python3.7/dist-packages/ipykernel_launcher.py:5: FutureWarning: In a future version of pandas all arguments of DataFrame.drop except for the argument 'labels' will be keyword-only\n",
            "  \"\"\"\n"
          ]
        }
      ]
    },
    {
      "cell_type": "code",
      "source": [
        "clf = DecisionTreeClassifier()\n",
        "clf = clf.fit(X_train,y_train)\n",
        "y_pred = clf.predict(X_test)\n",
        "\n",
        "tn, fp, fn, tp = confusion_matrix(y_test, y_pred).ravel()\n",
        "print(\"Confusion Matrix:\")\n",
        "print(confusion_matrix(y_test,y_pred))\n",
        "sns.heatmap(confusion_matrix(y_test,y_pred), annot=True,fmt=\"d\",annot_kws={'size': 30})\n",
        "print(\"Accuracy:\",metrics.accuracy_score(y_test, y_pred))\n",
        "print(\"Precision:\",metrics.precision_score(y_test, y_pred))\n",
        "print(\"Recall:\",metrics.recall_score(y_test, y_pred))\n",
        "print(\"TPR: \",tp/(tp+fn))\n",
        "print(\"FPR: \",fp/(tn+fp))\n",
        "print(\"F1 Score:\",metrics.f1_score(y_test, y_pred))"
      ],
      "metadata": {
        "colab": {
          "base_uri": "https://localhost:8080/",
          "height": 421
        },
        "id": "FCmCm5CxPz_K",
        "outputId": "b7964943-f82d-413b-890c-ee766cbcd685"
      },
      "execution_count": null,
      "outputs": [
        {
          "output_type": "stream",
          "name": "stdout",
          "text": [
            "Confusion Matrix:\n",
            "[[87  0]\n",
            " [ 0 93]]\n",
            "Accuracy: 1.0\n",
            "Precision: 1.0\n",
            "Recall: 1.0\n",
            "TPR:  1.0\n",
            "FPR:  0.0\n",
            "F1 Score: 1.0\n"
          ]
        },
        {
          "output_type": "display_data",
          "data": {
            "image/png": "[encoded data removed]",
            "text/plain": [
              "<Figure size 432x288 with 2 Axes>"
            ]
          },
          "metadata": {
            "needs_background": "light"
          }
        }
      ]
    },
    {
      "cell_type": "code",
      "source": [
        "sc = StandardScaler()\n",
        "X_train = sc.fit_transform(X_train)\n",
        "X_test = sc.transform(X_test)\n",
        "\n",
        "svc_model = SVC(C= .1, kernel='linear', gamma= 1)\n",
        "svc_model.fit(X_train, y_train)\n",
        "y_pred = svc_model .predict(X_test)\n",
        "\n",
        "tn, fp, fn, tp = confusion_matrix(y_test, y_pred).ravel()\n",
        "print(\"Confusion Matrix:\")\n",
        "print(confusion_matrix(y_test,y_pred))\n",
        "print(\"Accuracy:\",metrics.accuracy_score(y_test, y_pred))\n",
        "print(\"Precision:\",metrics.precision_score(y_test, y_pred))\n",
        "print(\"Recall:\",metrics.recall_score(y_test, y_pred))\n",
        "print(\"TPR: \",tp/(tp+fn))\n",
        "print(\"FPR: \",fp/(tn+fp))\n",
        "print(\"F1 Score:\",metrics.f1_score(y_test, y_pred))"
      ],
      "metadata": {
        "colab": {
          "base_uri": "https://localhost:8080/"
        },
        "id": "I7jTeYreP2tU",
        "outputId": "9d694cf4-06b5-41dd-8c01-77bb6bcafb46"
      },
      "execution_count": null,
      "outputs": [
        {
          "output_type": "stream",
          "name": "stdout",
          "text": [
            "Confusion Matrix:\n",
            "[[87  0]\n",
            " [ 0 93]]\n",
            "Accuracy: 1.0\n",
            "Precision: 1.0\n",
            "Recall: 1.0\n",
            "TPR:  1.0\n",
            "FPR:  0.0\n",
            "F1 Score: 1.0\n"
          ]
        }
      ]
    },
    {
      "cell_type": "code",
      "source": [
        "lr = LogisticRegression()\n",
        "lr.fit(X_train, y_train)\n",
        "y_pred = lr.predict(X_test)\n",
        "\n",
        "tn, fp, fn, tp = confusion_matrix(y_test, y_pred).ravel()\n",
        "print(\"Confusion Matrix:\")\n",
        "print(confusion_matrix(y_test,y_pred))\n",
        "print(\"Accuracy:\",metrics.accuracy_score(y_test, y_pred))\n",
        "print(\"Precision:\",metrics.precision_score(y_test, y_pred))\n",
        "print(\"Recall:\",metrics.recall_score(y_test, y_pred))\n",
        "print(\"TPR: \",tp/(tp+fn))\n",
        "print(\"FPR: \",fp/(tn+fp))\n",
        "print(\"F1 Score:\",metrics.f1_score(y_test, y_pred))"
      ],
      "metadata": {
        "colab": {
          "base_uri": "https://localhost:8080/"
        },
        "id": "IP1eRG1AP6Gg",
        "outputId": "59e73661-6ca0-4932-eba7-8bb710afc8ee"
      },
      "execution_count": null,
      "outputs": [
        {
          "output_type": "stream",
          "name": "stdout",
          "text": [
            "Confusion Matrix:\n",
            "[[87  0]\n",
            " [ 0 93]]\n",
            "Accuracy: 1.0\n",
            "Precision: 1.0\n",
            "Recall: 1.0\n",
            "TPR:  1.0\n",
            "FPR:  0.0\n",
            "F1 Score: 1.0\n"
          ]
        }
      ]
    },
    {
      "cell_type": "markdown",
      "source": [
        "Classification\n",
        "-----------------------------\n",
        "Before and after removing Outliers: using Random Forest"
      ],
      "metadata": {
        "id": "XyhuvoRBy-Ve"
      }
    },
    {
      "cell_type": "markdown",
      "source": [
        "Cylinder Bands\n",
        "-------------"
      ],
      "metadata": {
        "id": "Se36R2uSq-db"
      }
    },
    {
      "cell_type": "code",
      "source": [
        "df_after=pd.read_csv(\"drive/MyDrive/Datasets/AfterRemovingOutliers/band.csv\")\n",
        "colnames = ['timestamp', 'cylinder_number', 'customer', 'job_number', 'grain_screened', 'ink_color',\n",
        "'proof_on_ctd_ink', 'blade_mfg', 'cylinder_division', 'paper_type', 'ink_type', 'direct_steam', 'solvent_type',\n",
        "'type_on_cylinder', 'press_type', 'press', 'unit_number', 'cylinder_size', 'paper_mill_location', 'plating_tank',\n",
        "'proof_cut', 'viscosity', 'caliper', 'ink_temperature', 'humifity', 'roughness', 'blade_pressure', 'varnish_pct',\n",
        "'press_speed', 'ink_pct', 'solvent_pct', 'ESA_Voltage', 'ESA_Amperage', 'wax', 'hardener', 'roller_durometer',\n",
        "'current_density', 'anode_space_ratio', 'chrome_content', 'target']\n",
        "df_before = pd.read_csv(\"drive/MyDrive/Datasets/bands.data\",names=colnames, header=None)"
      ],
      "metadata": {
        "id": "w9DAJtn0q-dd"
      },
      "execution_count": null,
      "outputs": []
    },
    {
      "cell_type": "code",
      "source": [
        "categ = ['cylinder_number', 'customer', 'job_number', 'grain_screened', 'ink_color',\n",
        "'proof_on_ctd_ink', 'blade_mfg', 'cylinder_division', 'paper_type', 'ink_type', 'direct_steam', 'solvent_type',\n",
        "'type_on_cylinder', 'press_type', 'press', 'unit_number', 'cylinder_size', 'paper_mill_location', 'plating_tank']\n",
        "cont = ['proof_cut', 'viscosity', 'caliper', 'ink_temperature', 'humifity', 'roughness', 'blade_pressure', 'varnish_pct',\n",
        "'press_speed', 'ink_pct', 'solvent_pct', 'ESA_Voltage', 'ESA_Amperage', 'wax', 'hardener', 'roller_durometer',\n",
        "'current_density', 'anode_space_ratio', 'chrome_content']\n",
        "df_before = MissingValuesHandler(df_before, categ, cont)\n",
        "df_after = MissingValuesHandler(df_after, categ, cont)"
      ],
      "metadata": {
        "id": "v055sNK-q-de"
      },
      "execution_count": null,
      "outputs": []
    },
    {
      "cell_type": "code",
      "source": [
        "df_before = oneHotFunc(df_before, categ)\n",
        "df_after = oneHotFunc(df_after, categ)"
      ],
      "metadata": {
        "colab": {
          "base_uri": "https://localhost:8080/"
        },
        "outputId": "95e904e0-bed1-49bf-8511-37c02808743e",
        "id": "dKDD7NRGq-de"
      },
      "execution_count": null,
      "outputs": [
        {
          "output_type": "stream",
          "name": "stdout",
          "text": [
            "   timestamp proof_cut viscosity caliper ink_temperature humifity roughness  \\\n",
            "0   19910108        55        46     0.2              17       78      0.75   \n",
            "1   19910109        55        46     0.3              15       80      0.75   \n",
            "2   19910104        62        40   0.433              16       80      0.75   \n",
            "3   19910104        52        40     0.3              16       75    0.3125   \n",
            "4   19910111        50        46     0.3              17       80      0.75   \n",
            "\n",
            "  blade_pressure varnish_pct press_speed  ... cylinder_size_tabloid  \\\n",
            "0             20        13.1        1700  ...                     0   \n",
            "1             20         6.6        1900  ...                     0   \n",
            "2             30         6.5        1850  ...                     0   \n",
            "3             30         5.6        1467  ...                     0   \n",
            "4             30           0        2100  ...                     0   \n",
            "\n",
            "  cylinder_size_spiegel paper_mill_location_NorthUS  \\\n",
            "0                     0                           0   \n",
            "1                     0                           0   \n",
            "2                     0                           0   \n",
            "3                     0                           0   \n",
            "4                     0                           0   \n",
            "\n",
            "  paper_mill_location_CANADIAN paper_mill_location_CANAdiAN  \\\n",
            "0                            0                            1   \n",
            "1                            0                            1   \n",
            "2                            0                            1   \n",
            "3                            0                            1   \n",
            "4                            0                            1   \n",
            "\n",
            "  paper_mill_location_SCANDANAVIAN paper_mill_location_SouthUS  \\\n",
            "0                                0                           0   \n",
            "1                                0                           0   \n",
            "2                                0                           0   \n",
            "3                                0                           0   \n",
            "4                                0                           0   \n",
            "\n",
            "  paper_mill_location_mideuropean plating_tank_1911 plating_tank_1910  \n",
            "0                               0                 0                 1  \n",
            "1                               0                 1                 0  \n",
            "2                               0                 1                 0  \n",
            "3                               0                 1                 0  \n",
            "4                               0                 1                 0  \n",
            "\n",
            "[5 rows x 865 columns]\n",
            "    timestamp proof_cut viscosity caliper  ink_temperature humifity roughness  \\\n",
            "0  19910108.0        55        46     0.2             17.0       78      0.75   \n",
            "1  19910109.0        55        46     0.3             15.0       80      0.75   \n",
            "2  19910104.0        62        40   0.433             16.0       80      0.75   \n",
            "3  19910104.0        52        40     0.3             16.0       75    0.3125   \n",
            "4  19910111.0        50        46     0.3             17.0       80      0.75   \n",
            "\n",
            "  blade_pressure varnish_pct press_speed  ... cylinder_size_tabloid  \\\n",
            "0             20        13.1        1700  ...                     0   \n",
            "1             20         6.6        1900  ...                     0   \n",
            "2             30         6.5        1850  ...                     0   \n",
            "3             30         5.6        1467  ...                     0   \n",
            "4             30           0        2100  ...                     0   \n",
            "\n",
            "  cylinder_size_spiegel paper_mill_location_NorthUS  \\\n",
            "0                     0                           0   \n",
            "1                     0                           0   \n",
            "2                     0                           0   \n",
            "3                     0                           0   \n",
            "4                     0                           0   \n",
            "\n",
            "  paper_mill_location_CANADIAN paper_mill_location_CANAdiAN  \\\n",
            "0                            0                            1   \n",
            "1                            0                            1   \n",
            "2                            0                            1   \n",
            "3                            0                            1   \n",
            "4                            0                            1   \n",
            "\n",
            "  paper_mill_location_SCANDANAVIAN paper_mill_location_SouthUS  \\\n",
            "0                                0                           0   \n",
            "1                                0                           0   \n",
            "2                                0                           0   \n",
            "3                                0                           0   \n",
            "4                                0                           0   \n",
            "\n",
            "  paper_mill_location_mideuropean plating_tank_1911 plating_tank_1910  \n",
            "0                               0                 0                 1  \n",
            "1                               0                 1                 0  \n",
            "2                               0                 1                 0  \n",
            "3                               0                 1                 0  \n",
            "4                               0                 1                 0  \n",
            "\n",
            "[5 rows x 863 columns]\n"
          ]
        }
      ]
    },
    {
      "cell_type": "code",
      "source": [
        "map = { 'band':0, 'noband':1}\n",
        "df_before.target = [map[item] for item in df_before.target]\n",
        "df_after.target = [map[item] for item in df_after.target]\n",
        "df_before = df_before.astype(float)\n",
        "df_after = df_after.astype(float)"
      ],
      "metadata": {
        "id": "G1To74JTq-df"
      },
      "execution_count": null,
      "outputs": []
    },
    {
      "cell_type": "code",
      "source": [
        "df_before = df_before.drop('timestamp',1)\n",
        "df_after = df_after.drop('timestamp',1)"
      ],
      "metadata": {
        "colab": {
          "base_uri": "https://localhost:8080/"
        },
        "id": "WDpxFkZArStW",
        "outputId": "c703b022-47ee-4048-ec47-c6e201dc2df6"
      },
      "execution_count": null,
      "outputs": [
        {
          "output_type": "stream",
          "name": "stderr",
          "text": [
            "/usr/local/lib/python3.7/dist-packages/ipykernel_launcher.py:1: FutureWarning: In a future version of pandas all arguments of DataFrame.drop except for the argument 'labels' will be keyword-only\n",
            "  \"\"\"Entry point for launching an IPython kernel.\n",
            "/usr/local/lib/python3.7/dist-packages/ipykernel_launcher.py:2: FutureWarning: In a future version of pandas all arguments of DataFrame.drop except for the argument 'labels' will be keyword-only\n",
            "  \n"
          ]
        }
      ]
    },
    {
      "cell_type": "code",
      "source": [
        "X = df_before.drop('target',1)\n",
        "y = df_before['target']\n",
        "X_train, X_test, y_train, y_test = train_test_split(X, y, test_size=0.3,random_state=5)\n",
        "clf=RandomForestClassifier(n_estimators=100,random_state=20)\n",
        "clf.fit(X_train,y_train)\n",
        "y_pred=clf.predict(X_test)\n",
        "\n",
        "tn, fp, fn, tp = confusion_matrix(y_test, y_pred).ravel()\n",
        "print(\"Confusion Matrix:\")\n",
        "print(confusion_matrix(y_test,y_pred))\n",
        "print(\"Accuracy:\",metrics.accuracy_score(y_test, y_pred))\n",
        "print(\"Precision:\",metrics.precision_score(y_test, y_pred))\n",
        "print(\"Recall:\",metrics.recall_score(y_test, y_pred))\n",
        "print(\"TPR: \",tp/(tp+fn))\n",
        "print(\"FPR: \",fp/(tn+fp))\n",
        "print(\"F1 Score:\",metrics.f1_score(y_test, y_pred))"
      ],
      "metadata": {
        "colab": {
          "base_uri": "https://localhost:8080/"
        },
        "outputId": "acb6d725-b4ca-43fd-c8a1-957eb4a68fa3",
        "id": "vV0KEk76q-dg"
      },
      "execution_count": null,
      "outputs": [
        {
          "output_type": "stream",
          "name": "stderr",
          "text": [
            "/usr/local/lib/python3.7/dist-packages/ipykernel_launcher.py:1: FutureWarning: In a future version of pandas all arguments of DataFrame.drop except for the argument 'labels' will be keyword-only\n",
            "  \"\"\"Entry point for launching an IPython kernel.\n"
          ]
        },
        {
          "output_type": "stream",
          "name": "stdout",
          "text": [
            "Confusion Matrix:\n",
            "[[43 23]\n",
            " [10 86]]\n",
            "Accuracy: 0.7962962962962963\n",
            "Precision: 0.7889908256880734\n",
            "Recall: 0.8958333333333334\n",
            "TPR:  0.8958333333333334\n",
            "FPR:  0.3484848484848485\n",
            "F1 Score: 0.8390243902439025\n"
          ]
        }
      ]
    },
    {
      "cell_type": "code",
      "source": [
        "X = df_after.drop('target',1)\n",
        "y = df_after['target']\n",
        "X_train, X_test, y_train, y_test = train_test_split(X, y, test_size=0.3,random_state=5)\n",
        "clf=RandomForestClassifier(n_estimators=100,random_state=20)\n",
        "clf.fit(X_train,y_train)\n",
        "y_pred=clf.predict(X_test)\n",
        "\n",
        "tn, fp, fn, tp = confusion_matrix(y_test, y_pred).ravel()\n",
        "print(\"Confusion Matrix:\")\n",
        "print(confusion_matrix(y_test,y_pred))\n",
        "print(\"Accuracy:\",metrics.accuracy_score(y_test, y_pred))\n",
        "print(\"Precision:\",metrics.precision_score(y_test, y_pred))\n",
        "print(\"Recall:\",metrics.recall_score(y_test, y_pred))\n",
        "print(\"TPR: \",tp/(tp+fn))\n",
        "print(\"FPR: \",fp/(tn+fp))\n",
        "print(\"F1 Score:\",metrics.f1_score(y_test, y_pred))"
      ],
      "metadata": {
        "colab": {
          "base_uri": "https://localhost:8080/"
        },
        "outputId": "dfe97ba5-5ee7-4317-b048-9573d80fa96e",
        "id": "Vogp1nXhq-dh"
      },
      "execution_count": null,
      "outputs": [
        {
          "output_type": "stream",
          "name": "stderr",
          "text": [
            "/usr/local/lib/python3.7/dist-packages/ipykernel_launcher.py:1: FutureWarning: In a future version of pandas all arguments of DataFrame.drop except for the argument 'labels' will be keyword-only\n",
            "  \"\"\"Entry point for launching an IPython kernel.\n"
          ]
        },
        {
          "output_type": "stream",
          "name": "stdout",
          "text": [
            "Confusion Matrix:\n",
            "[[45 22]\n",
            " [ 9 85]]\n",
            "Accuracy: 0.8074534161490683\n",
            "Precision: 0.794392523364486\n",
            "Recall: 0.9042553191489362\n",
            "TPR:  0.9042553191489362\n",
            "FPR:  0.3283582089552239\n",
            "F1 Score: 0.845771144278607\n"
          ]
        }
      ]
    },
    {
      "cell_type": "markdown",
      "source": [
        "Credit\n",
        "-------------"
      ],
      "metadata": {
        "id": "LJLO0C9Rp1dx"
      }
    },
    {
      "cell_type": "code",
      "source": [
        "df_after=pd.read_csv(\"drive/MyDrive/Datasets/AfterRemovingOutliers/credit.csv\")\n",
        "colnames = ['A1','A2','A3','A4','A5','A6','A7','A8','A9','A10','A11','A12','A13','A14','A15','target']\n",
        "df_before = pd.read_csv(\"drive/MyDrive/Datasets/creditapproval.data\",names=colnames, header=None)"
      ],
      "metadata": {
        "id": "siCGBfHAp1dy"
      },
      "execution_count": null,
      "outputs": []
    },
    {
      "cell_type": "code",
      "source": [
        "categ=['A1','A4','A5','A6','A7','A9','A10','A12','A13']\n",
        "cont=['A2','A3','A8','A11','A14','A15']\n",
        "df_before = MissingValuesHandler(df_before, categ, cont)\n",
        "df_after = MissingValuesHandler(df_after, categ, cont)"
      ],
      "metadata": {
        "id": "qDAmWin6qFw7"
      },
      "execution_count": null,
      "outputs": []
    },
    {
      "cell_type": "code",
      "source": [
        "df_before = oneHotFunc(df_before, categ)\n",
        "df_after = oneHotFunc(df_after, categ)"
      ],
      "metadata": {
        "colab": {
          "base_uri": "https://localhost:8080/"
        },
        "outputId": "fc125c4f-a4f3-41d1-fb87-4e563c43c5bd",
        "id": "RE0AAPtdp1dy"
      },
      "execution_count": null,
      "outputs": [
        {
          "output_type": "stream",
          "name": "stdout",
          "text": [
            "      A2     A3    A8  A11    A14  A15 target  A1_b  A1_a  A4_u  ...  A7_n  \\\n",
            "0  30.83  0.000  1.25    1  00202    0      +     0     1     0  ...     0   \n",
            "1  58.67  4.460  3.04    6  00043  560      +     1     0     0  ...     0   \n",
            "2  24.50  0.500  1.50    0  00280  824      +     1     0     0  ...     0   \n",
            "3  27.83  1.540  3.75    5  00100    3      +     0     1     0  ...     0   \n",
            "4  20.17  5.625  1.71    0  00120    0      +     0     1     0  ...     0   \n",
            "\n",
            "   A9_t  A9_f  A10_t  A10_f  A12_f  A12_t  A13_g  A13_s  A13_p  \n",
            "0     0     1      0      1      1      0      1      0      0  \n",
            "1     0     1      0      1      1      0      1      0      0  \n",
            "2     0     1      1      0      1      0      1      0      0  \n",
            "3     0     1      0      1      0      1      1      0      0  \n",
            "4     0     1      1      0      1      0      0      0      1  \n",
            "\n",
            "[5 rows x 47 columns]\n",
            "      A2     A3    A8  A11    A14    A15 target  A1_b  A1_a  A4_u  ...  A7_n  \\\n",
            "0  30.83  0.000  1.25  1.0  00202    0.0      +     0     1     1  ...     0   \n",
            "1  58.67  4.460  3.04  6.0  00043  560.0      +     1     0     1  ...     0   \n",
            "2  24.50  0.500  1.50  0.0  00280  824.0      +     1     0     1  ...     0   \n",
            "3  27.83  1.540  3.75  5.0  00100    3.0      +     0     1     1  ...     0   \n",
            "4  20.17  5.625  1.71  0.0  00120    0.0      +     0     1     1  ...     0   \n",
            "\n",
            "   A9_t  A9_f  A10_t  A10_f  A12_f  A12_t  A13_g  A13_s  A13_p  \n",
            "0     0     1      0      1      1      0      1      0      0  \n",
            "1     0     1      0      1      1      0      1      0      0  \n",
            "2     0     1      1      0      1      0      1      0      0  \n",
            "3     0     1      0      1      0      1      1      0      0  \n",
            "4     0     1      1      0      1      0      0      0      1  \n",
            "\n",
            "[5 rows x 45 columns]\n"
          ]
        }
      ]
    },
    {
      "cell_type": "code",
      "source": [
        "map = { '+':0, '-':1}\n",
        "df_before.target = [map[item] for item in df_before.target]\n",
        "df_after.target = [map[item] for item in df_after.target]\n",
        "df_before = df_before.astype(float)\n",
        "df_after = df_after.astype(float)"
      ],
      "metadata": {
        "id": "f4NyvbAaqKtQ"
      },
      "execution_count": null,
      "outputs": []
    },
    {
      "cell_type": "code",
      "source": [
        "X = df_before.drop('target',1)\n",
        "y = df_before['target']\n",
        "X_train, X_test, y_train, y_test = train_test_split(X, y, test_size=0.3,random_state=5)\n",
        "clf=RandomForestClassifier(n_estimators=100,random_state=20)\n",
        "clf.fit(X_train,y_train)\n",
        "y_pred=clf.predict(X_test)\n",
        "\n",
        "tn, fp, fn, tp = confusion_matrix(y_test, y_pred).ravel()\n",
        "print(\"Confusion Matrix:\")\n",
        "print(confusion_matrix(y_test,y_pred))\n",
        "print(\"Accuracy:\",metrics.accuracy_score(y_test, y_pred))\n",
        "print(\"Precision:\",metrics.precision_score(y_test, y_pred))\n",
        "print(\"Recall:\",metrics.recall_score(y_test, y_pred))\n",
        "print(\"TPR: \",tp/(tp+fn))\n",
        "print(\"FPR: \",fp/(tn+fp))\n",
        "print(\"F1 Score:\",metrics.f1_score(y_test, y_pred))"
      ],
      "metadata": {
        "colab": {
          "base_uri": "https://localhost:8080/"
        },
        "outputId": "ab5f6201-0e50-471f-fad4-5b3cde50ec7c",
        "id": "V-K70KfAp1dy"
      },
      "execution_count": null,
      "outputs": [
        {
          "output_type": "stream",
          "name": "stderr",
          "text": [
            "/usr/local/lib/python3.7/dist-packages/ipykernel_launcher.py:1: FutureWarning: In a future version of pandas all arguments of DataFrame.drop except for the argument 'labels' will be keyword-only\n",
            "  \"\"\"Entry point for launching an IPython kernel.\n"
          ]
        },
        {
          "output_type": "stream",
          "name": "stdout",
          "text": [
            "Confusion Matrix:\n",
            "[[ 72  18]\n",
            " [ 12 105]]\n",
            "Accuracy: 0.855072463768116\n",
            "Precision: 0.8536585365853658\n",
            "Recall: 0.8974358974358975\n",
            "TPR:  0.8974358974358975\n",
            "FPR:  0.2\n",
            "F1 Score: 0.875\n"
          ]
        }
      ]
    },
    {
      "cell_type": "code",
      "source": [
        "X = df_after.drop('target',1)\n",
        "y = df_after['target']\n",
        "X_train, X_test, y_train, y_test = train_test_split(X, y, test_size=0.3,random_state=10)\n",
        "clf=RandomForestClassifier(n_estimators=100,random_state=20)\n",
        "clf.fit(X_train,y_train)\n",
        "y_pred=clf.predict(X_test)\n",
        "\n",
        "tn, fp, fn, tp = confusion_matrix(y_test, y_pred).ravel()\n",
        "print(\"Confusion Matrix:\")\n",
        "print(confusion_matrix(y_test,y_pred))\n",
        "print(\"Accuracy:\",metrics.accuracy_score(y_test, y_pred))\n",
        "print(\"Precision:\",metrics.precision_score(y_test, y_pred))\n",
        "print(\"Recall:\",metrics.recall_score(y_test, y_pred))\n",
        "print(\"TPR: \",tp/(tp+fn))\n",
        "print(\"FPR: \",fp/(tn+fp))\n",
        "print(\"F1 Score:\",metrics.f1_score(y_test, y_pred))"
      ],
      "metadata": {
        "colab": {
          "base_uri": "https://localhost:8080/"
        },
        "outputId": "ef181d31-5a09-4e8c-bb8a-7ff50aea152a",
        "id": "b_jtblvrp1dy"
      },
      "execution_count": null,
      "outputs": [
        {
          "output_type": "stream",
          "name": "stderr",
          "text": [
            "/usr/local/lib/python3.7/dist-packages/ipykernel_launcher.py:1: FutureWarning: In a future version of pandas all arguments of DataFrame.drop except for the argument 'labels' will be keyword-only\n",
            "  \"\"\"Entry point for launching an IPython kernel.\n"
          ]
        },
        {
          "output_type": "stream",
          "name": "stdout",
          "text": [
            "Confusion Matrix:\n",
            "[[86  7]\n",
            " [14 99]]\n",
            "Accuracy: 0.8980582524271845\n",
            "Precision: 0.9339622641509434\n",
            "Recall: 0.8761061946902655\n",
            "TPR:  0.8761061946902655\n",
            "FPR:  0.07526881720430108\n",
            "F1 Score: 0.904109589041096\n"
          ]
        }
      ]
    },
    {
      "cell_type": "markdown",
      "source": [
        "Australian\n",
        "-------------"
      ],
      "metadata": {
        "id": "qQ5G-VhTjDzd"
      }
    },
    {
      "cell_type": "code",
      "source": [
        "df_after=pd.read_csv(\"drive/MyDrive/Datasets/AfterRemovingOutliers/australian.csv\")\n",
        "colnames = ['A1','A2','A3','A4','A5','A6','A7','A8','A9','A10','A11','A12','A13','A14','target']\n",
        "df_before = pd.read_csv(\"drive/MyDrive/Datasets/australian.dat\",delimiter=' ',names=colnames, header=None)"
      ],
      "metadata": {
        "id": "g1IgeYIljDze"
      },
      "execution_count": null,
      "outputs": []
    },
    {
      "cell_type": "code",
      "source": [
        "categ = ['A1','A4','A5','A6','A8','A9','A11','A12']\n",
        "df_after = oneHotFunc(df_after, categ)\n",
        "df_before = oneHotFunc(df_before, categ)"
      ],
      "metadata": {
        "colab": {
          "base_uri": "https://localhost:8080/"
        },
        "outputId": "e64c3a41-0658-4a7c-e28f-df9718ecdf88",
        "id": "nXoRbUFqjDzf"
      },
      "execution_count": null,
      "outputs": [
        {
          "output_type": "stream",
          "name": "stdout",
          "text": [
            "      A2     A3     A7   A10    A13     A14  target  A1_1.0  A1_0.0  A4_2.0  \\\n",
            "0  22.08  11.46  1.585   0.0  100.0  1213.0     0.0       0       1       0   \n",
            "1  22.67   7.00  0.165   0.0  160.0     1.0     0.0       1       0       0   \n",
            "2  29.58   1.75  1.250   0.0  280.0     1.0     0.0       1       0       1   \n",
            "3  21.67  11.50  0.000  11.0    0.0     1.0     1.0       1       0       1   \n",
            "4  20.17   8.17  1.960  14.0   60.0   159.0     1.0       0       1       0   \n",
            "\n",
            "   ...  A6_7.0  A8_0.0  A8_1.0  A9_0.0  A9_1.0  A11_1.0  A11_0.0  A12_2.0  \\\n",
            "0  ...       0       1       0       1       0        0        1        0   \n",
            "1  ...       0       1       0       1       0        1        0        0   \n",
            "2  ...       0       1       0       1       0        0        1        0   \n",
            "3  ...       0       0       1       0       1        0        1        0   \n",
            "4  ...       0       0       1       0       1        1        0        0   \n",
            "\n",
            "   A12_1.0  A12_3.0  \n",
            "0        1        0  \n",
            "1        1        0  \n",
            "2        1        0  \n",
            "3        1        0  \n",
            "4        1        0  \n",
            "\n",
            "[5 rows x 43 columns]\n",
            "      A2     A3     A7  A10  A13   A14  target  A1_1  A1_0  A4_2  ...  A6_7  \\\n",
            "0  22.08  11.46  1.585    0  100  1213       0     0     1     0  ...     0   \n",
            "1  22.67   7.00  0.165    0  160     1       0     1     0     0  ...     0   \n",
            "2  29.58   1.75  1.250    0  280     1       0     1     0     1  ...     0   \n",
            "3  21.67  11.50  0.000   11    0     1       1     1     0     1  ...     0   \n",
            "4  20.17   8.17  1.960   14   60   159       1     0     1     0  ...     0   \n",
            "\n",
            "   A8_0  A8_1  A9_0  A9_1  A11_1  A11_0  A12_2  A12_1  A12_3  \n",
            "0     1     0     1     0      0      1      0      1      0  \n",
            "1     1     0     1     0      1      0      0      1      0  \n",
            "2     1     0     1     0      0      1      0      1      0  \n",
            "3     0     1     0     1      0      1      0      1      0  \n",
            "4     0     1     0     1      1      0      0      1      0  \n",
            "\n",
            "[5 rows x 43 columns]\n"
          ]
        }
      ]
    },
    {
      "cell_type": "code",
      "source": [
        "X = df_before.drop('target',1)\n",
        "y = df_before['target']\n",
        "X_train, X_test, y_train, y_test = train_test_split(X, y, test_size=0.3,random_state=50)\n",
        "clf=RandomForestClassifier(n_estimators=100,random_state=20)\n",
        "clf.fit(X_train,y_train)\n",
        "y_pred=clf.predict(X_test)\n",
        "\n",
        "tn, fp, fn, tp = confusion_matrix(y_test, y_pred).ravel()\n",
        "print(\"Confusion Matrix:\")\n",
        "print(confusion_matrix(y_test,y_pred))\n",
        "print(\"Accuracy:\",metrics.accuracy_score(y_test, y_pred))\n",
        "print(\"Precision:\",metrics.precision_score(y_test, y_pred))\n",
        "print(\"Recall:\",metrics.recall_score(y_test, y_pred))\n",
        "print(\"TPR: \",tp/(tp+fn))\n",
        "print(\"FPR: \",fp/(tn+fp))\n",
        "print(\"F1 Score:\",metrics.f1_score(y_test, y_pred))"
      ],
      "metadata": {
        "colab": {
          "base_uri": "https://localhost:8080/"
        },
        "outputId": "1c4c101f-da88-40f1-889e-77c529f65dce",
        "id": "BIPRgyOpjDzg"
      },
      "execution_count": null,
      "outputs": [
        {
          "output_type": "stream",
          "name": "stderr",
          "text": [
            "/usr/local/lib/python3.7/dist-packages/ipykernel_launcher.py:1: FutureWarning: In a future version of pandas all arguments of DataFrame.drop except for the argument 'labels' will be keyword-only\n",
            "  \"\"\"Entry point for launching an IPython kernel.\n"
          ]
        },
        {
          "output_type": "stream",
          "name": "stdout",
          "text": [
            "Confusion Matrix:\n",
            "[[103  17]\n",
            " [ 18  69]]\n",
            "Accuracy: 0.8309178743961353\n",
            "Precision: 0.8023255813953488\n",
            "Recall: 0.7931034482758621\n",
            "TPR:  0.7931034482758621\n",
            "FPR:  0.14166666666666666\n",
            "F1 Score: 0.7976878612716762\n"
          ]
        }
      ]
    },
    {
      "cell_type": "code",
      "source": [
        "X = df_after.drop('target',1)\n",
        "y = df_after['target']\n",
        "X_train, X_test, y_train, y_test = train_test_split(X, y, test_size=0.3,random_state=50)\n",
        "clf=RandomForestClassifier(n_estimators=100,random_state=20)\n",
        "clf.fit(X_train,y_train)\n",
        "y_pred=clf.predict(X_test)\n",
        "\n",
        "tn, fp, fn, tp = confusion_matrix(y_test, y_pred).ravel()\n",
        "print(\"Confusion Matrix:\")\n",
        "print(confusion_matrix(y_test,y_pred))\n",
        "print(\"Accuracy:\",metrics.accuracy_score(y_test, y_pred))\n",
        "print(\"Precision:\",metrics.precision_score(y_test, y_pred))\n",
        "print(\"Recall:\",metrics.recall_score(y_test, y_pred))\n",
        "print(\"TPR: \",tp/(tp+fn))\n",
        "print(\"FPR: \",fp/(tn+fp))\n",
        "print(\"F1 Score:\",metrics.f1_score(y_test, y_pred))"
      ],
      "metadata": {
        "colab": {
          "base_uri": "https://localhost:8080/"
        },
        "outputId": "63cba758-38b6-48fb-86c7-8e920dee0350",
        "id": "xGHkfpLEjDzg"
      },
      "execution_count": null,
      "outputs": [
        {
          "output_type": "stream",
          "name": "stderr",
          "text": [
            "/usr/local/lib/python3.7/dist-packages/ipykernel_launcher.py:1: FutureWarning: In a future version of pandas all arguments of DataFrame.drop except for the argument 'labels' will be keyword-only\n",
            "  \"\"\"Entry point for launching an IPython kernel.\n"
          ]
        },
        {
          "output_type": "stream",
          "name": "stdout",
          "text": [
            "Confusion Matrix:\n",
            "[[106  13]\n",
            " [ 12  74]]\n",
            "Accuracy: 0.8780487804878049\n",
            "Precision: 0.8505747126436781\n",
            "Recall: 0.8604651162790697\n",
            "TPR:  0.8604651162790697\n",
            "FPR:  0.1092436974789916\n",
            "F1 Score: 0.8554913294797688\n"
          ]
        }
      ]
    },
    {
      "cell_type": "markdown",
      "source": [
        "German\n",
        "-------------"
      ],
      "metadata": {
        "id": "EiGIM-zvgTgu"
      }
    },
    {
      "cell_type": "code",
      "source": [
        "df_after=pd.read_csv(\"drive/MyDrive/Datasets/AfterRemovingOutliers/german.csv\")\n",
        "colnames = ['A1','A2','A3','A4','A5','A6','A7','A8','A9','A10','A11','A12','A13','A14','A15','A16','A17','A18','A19','A20','target']\n",
        "df_before = pd.read_csv(\"drive/MyDrive/Datasets/german.data\",delimiter=' ',names=colnames, header=None)"
      ],
      "metadata": {
        "id": "ZAYx12yvgTgv"
      },
      "execution_count": null,
      "outputs": []
    },
    {
      "cell_type": "code",
      "source": [
        "categ=['A1','A3','A4','A6','A7','A9','A10','A12','A14','A15','A17','A19','A20']\n",
        "df_before = oneHotFunc(df_before, categ)\n",
        "df_after = oneHotFunc(df_after, categ)"
      ],
      "metadata": {
        "colab": {
          "base_uri": "https://localhost:8080/"
        },
        "outputId": "e9593575-a302-44b3-9ff1-c89ce2261e66",
        "id": "S3OkNafOgTgv"
      },
      "execution_count": null,
      "outputs": [
        {
          "output_type": "stream",
          "name": "stdout",
          "text": [
            "   A2    A5  A8  A11  A13  A16  A18  target  A1_A11  A1_A12  ...  A15_A153  \\\n",
            "0   6  1169   4    4   67    2    1       1       1       0  ...         1   \n",
            "1  48  5951   2    2   22    1    1       2       0       1  ...         1   \n",
            "2  12  2096   2    3   49    1    2       1       0       0  ...         1   \n",
            "3  42  7882   2    4   45    1    2       1       1       0  ...         0   \n",
            "4  24  4870   3    4   53    2    2       2       1       0  ...         0   \n",
            "\n",
            "   A15_A151  A17_A173  A17_A172  A17_A174  A17_A171  A19_A192  A19_A191  \\\n",
            "0         0         0         0         1         0         0         1   \n",
            "1         0         0         0         1         0         1         0   \n",
            "2         0         0         1         0         0         1         0   \n",
            "3         1         0         0         1         0         1         0   \n",
            "4         1         0         0         1         0         1         0   \n",
            "\n",
            "   A20_A201  A20_A202  \n",
            "0         1         0  \n",
            "1         1         0  \n",
            "2         1         0  \n",
            "3         1         0  \n",
            "4         1         0  \n",
            "\n",
            "[5 rows x 62 columns]\n",
            "     A2      A5   A8  A11   A13  A16  A18  target  A1_A11  A1_A12  ...  \\\n",
            "0   6.0  1169.0  4.0  4.0  67.0  2.0  1.0     1.0       1       0  ...   \n",
            "1  48.0  5951.0  2.0  2.0  22.0  1.0  1.0     2.0       0       1  ...   \n",
            "2  12.0  2096.0  2.0  3.0  49.0  1.0  2.0     1.0       0       0  ...   \n",
            "3  42.0  7882.0  2.0  4.0  45.0  1.0  2.0     1.0       1       0  ...   \n",
            "4  24.0  4870.0  3.0  4.0  53.0  2.0  2.0     2.0       1       0  ...   \n",
            "\n",
            "   A15_A153  A15_A151  A17_A173  A17_A172  A17_A174  A17_A171  A19_A192  \\\n",
            "0         1         0         0         0         1         0         0   \n",
            "1         1         0         0         0         1         0         1   \n",
            "2         1         0         0         1         0         0         1   \n",
            "3         0         1         0         0         1         0         1   \n",
            "4         0         1         0         0         1         0         1   \n",
            "\n",
            "   A19_A191  A20_A201  A20_A202  \n",
            "0         1         1         0  \n",
            "1         0         1         0  \n",
            "2         0         1         0  \n",
            "3         0         1         0  \n",
            "4         0         1         0  \n",
            "\n",
            "[5 rows x 62 columns]\n"
          ]
        }
      ]
    },
    {
      "cell_type": "code",
      "source": [
        "X = df_before.drop('target',1)\n",
        "y = df_before['target']\n",
        "X_train, X_test, y_train, y_test = train_test_split(X, y, test_size=0.3,random_state=10)\n",
        "clf=RandomForestClassifier(n_estimators=100,random_state=20)\n",
        "clf.fit(X_train,y_train)\n",
        "y_pred=clf.predict(X_test)\n",
        "\n",
        "tn, fp, fn, tp = confusion_matrix(y_test, y_pred).ravel()\n",
        "print(\"Confusion Matrix:\")\n",
        "print(confusion_matrix(y_test,y_pred))\n",
        "print(\"Accuracy:\",metrics.accuracy_score(y_test, y_pred))\n",
        "print(\"Precision:\",metrics.precision_score(y_test, y_pred))\n",
        "print(\"Recall:\",metrics.recall_score(y_test, y_pred))\n",
        "print(\"TPR: \",tp/(tp+fn))\n",
        "print(\"FPR: \",fp/(tn+fp))\n",
        "print(\"F1 Score:\",metrics.f1_score(y_test, y_pred))"
      ],
      "metadata": {
        "colab": {
          "base_uri": "https://localhost:8080/"
        },
        "outputId": "6bc10c57-4481-4318-dc78-1b7f070e629b",
        "id": "EO2GWIP0gTgv"
      },
      "execution_count": null,
      "outputs": [
        {
          "output_type": "stream",
          "name": "stderr",
          "text": [
            "/usr/local/lib/python3.7/dist-packages/ipykernel_launcher.py:1: FutureWarning: In a future version of pandas all arguments of DataFrame.drop except for the argument 'labels' will be keyword-only\n",
            "  \"\"\"Entry point for launching an IPython kernel.\n"
          ]
        },
        {
          "output_type": "stream",
          "name": "stdout",
          "text": [
            "Confusion Matrix:\n",
            "[[189  14]\n",
            " [ 64  33]]\n",
            "Accuracy: 0.74\n",
            "Precision: 0.7470355731225297\n",
            "Recall: 0.9310344827586207\n",
            "TPR:  0.3402061855670103\n",
            "FPR:  0.06896551724137931\n",
            "F1 Score: 0.8289473684210527\n"
          ]
        }
      ]
    },
    {
      "cell_type": "code",
      "source": [
        "X = df_after.drop('target',1)\n",
        "y = df_after['target']\n",
        "X_train, X_test, y_train, y_test = train_test_split(X, y, test_size=0.3,random_state=100)\n",
        "clf=RandomForestClassifier(n_estimators=100,random_state=20)\n",
        "clf.fit(X_train,y_train)\n",
        "y_pred=clf.predict(X_test)\n",
        "\n",
        "tn, fp, fn, tp = confusion_matrix(y_test, y_pred).ravel()\n",
        "print(\"Confusion Matrix:\")\n",
        "print(confusion_matrix(y_test,y_pred))\n",
        "print(\"Accuracy:\",metrics.accuracy_score(y_test, y_pred))\n",
        "print(\"Precision:\",metrics.precision_score(y_test, y_pred))\n",
        "print(\"Recall:\",metrics.recall_score(y_test, y_pred))\n",
        "print(\"TPR: \",tp/(tp+fn))\n",
        "print(\"FPR: \",fp/(tn+fp))\n",
        "print(\"F1 Score:\",metrics.f1_score(y_test, y_pred))"
      ],
      "metadata": {
        "colab": {
          "base_uri": "https://localhost:8080/"
        },
        "outputId": "6cf01161-300c-415d-ab08-21654156ad5f",
        "id": "E59V4yu_gTgw"
      },
      "execution_count": null,
      "outputs": [
        {
          "output_type": "stream",
          "name": "stderr",
          "text": [
            "/usr/local/lib/python3.7/dist-packages/ipykernel_launcher.py:1: FutureWarning: In a future version of pandas all arguments of DataFrame.drop except for the argument 'labels' will be keyword-only\n",
            "  \"\"\"Entry point for launching an IPython kernel.\n"
          ]
        },
        {
          "output_type": "stream",
          "name": "stdout",
          "text": [
            "Confusion Matrix:\n",
            "[[201  14]\n",
            " [ 57  26]]\n",
            "Accuracy: 0.761744966442953\n",
            "Precision: 0.7790697674418605\n",
            "Recall: 0.9348837209302325\n",
            "TPR:  0.3132530120481928\n",
            "FPR:  0.06511627906976744\n",
            "F1 Score: 0.849894291754757\n"
          ]
        }
      ]
    },
    {
      "cell_type": "markdown",
      "source": [
        "Heart\n",
        "-------------"
      ],
      "metadata": {
        "id": "E4iSKnfV48P0"
      }
    },
    {
      "cell_type": "code",
      "source": [
        "df_after=pd.read_csv(\"drive/MyDrive/Datasets/AfterRemovingOutliers/heart.csv\")\n",
        "df_before=pd.read_csv(\"drive/MyDrive/Datasets/heart.csv\")"
      ],
      "metadata": {
        "id": "Nr6tmuTo43Ll"
      },
      "execution_count": null,
      "outputs": []
    },
    {
      "cell_type": "code",
      "source": [
        "categ = ['sex','cp','fbs','restecg','exang','slope','ca','thal']\n",
        "df_after = oneHotFunc(df_after, categ)\n",
        "df_before = oneHotFunc(df_before, categ)"
      ],
      "metadata": {
        "colab": {
          "base_uri": "https://localhost:8080/"
        },
        "id": "10oaOIT8cCwx",
        "outputId": "122b6b80-a6f4-4721-c86d-c9d8202757ed"
      },
      "execution_count": null,
      "outputs": [
        {
          "output_type": "stream",
          "name": "stdout",
          "text": [
            "    age  trestbps   chol  thalach  oldpeak  target  sex_1.0  sex_0.0  cp_3.0  \\\n",
            "0  63.0     145.0  233.0    150.0      2.3     1.0        0        1       0   \n",
            "1  37.0     130.0  250.0    187.0      3.5     1.0        0        1       0   \n",
            "2  41.0     130.0  204.0    172.0      1.4     1.0        1        0       0   \n",
            "3  56.0     120.0  236.0    178.0      0.8     1.0        0        1       0   \n",
            "4  57.0     120.0  354.0    163.0      0.6     1.0        1        0       1   \n",
            "\n",
            "   cp_2.0  ...  slope_1.0  ca_0.0  ca_2.0  ca_1.0  ca_3.0  ca_4.0  thal_1.0  \\\n",
            "0       0  ...          0       1       0       0       0       0         0   \n",
            "1       0  ...          0       1       0       0       0       0         0   \n",
            "2       1  ...          1       1       0       0       0       0         0   \n",
            "3       1  ...          1       1       0       0       0       0         0   \n",
            "4       0  ...          1       1       0       0       0       0         0   \n",
            "\n",
            "   thal_2.0  thal_3.0  thal_0.0  \n",
            "0         1         0         0  \n",
            "1         0         1         0  \n",
            "2         0         1         0  \n",
            "3         0         1         0  \n",
            "4         0         1         0  \n",
            "\n",
            "[5 rows x 31 columns]\n",
            "   age  trestbps  chol  thalach  oldpeak  target  sex_1  sex_0  cp_3  cp_2  \\\n",
            "0   63       145   233      150      2.3       1      0      1     0     0   \n",
            "1   37       130   250      187      3.5       1      0      1     0     0   \n",
            "2   41       130   204      172      1.4       1      1      0     0     1   \n",
            "3   56       120   236      178      0.8       1      0      1     0     1   \n",
            "4   57       120   354      163      0.6       1      1      0     1     0   \n",
            "\n",
            "   ...  slope_1  ca_0  ca_2  ca_1  ca_3  ca_4  thal_1  thal_2  thal_3  thal_0  \n",
            "0  ...        0     1     0     0     0     0       0       1       0       0  \n",
            "1  ...        0     1     0     0     0     0       0       0       1       0  \n",
            "2  ...        1     1     0     0     0     0       0       0       1       0  \n",
            "3  ...        1     1     0     0     0     0       0       0       1       0  \n",
            "4  ...        1     1     0     0     0     0       0       0       1       0  \n",
            "\n",
            "[5 rows x 31 columns]\n"
          ]
        }
      ]
    },
    {
      "cell_type": "code",
      "source": [
        "X = df_before.drop('target',1)\n",
        "y = df_before['target']\n",
        "X_train, X_test, y_train, y_test = train_test_split(X, y, test_size=0.3,random_state=50)\n",
        "clf=RandomForestClassifier(n_estimators=100,random_state=20)\n",
        "clf.fit(X_train,y_train)\n",
        "y_pred=clf.predict(X_test)\n",
        "\n",
        "tn, fp, fn, tp = confusion_matrix(y_test, y_pred).ravel()\n",
        "print(\"Confusion Matrix:\")\n",
        "print(confusion_matrix(y_test,y_pred))\n",
        "print(\"Accuracy:\",metrics.accuracy_score(y_test, y_pred))\n",
        "print(\"Precision:\",metrics.precision_score(y_test, y_pred))\n",
        "print(\"Recall:\",metrics.recall_score(y_test, y_pred))\n",
        "print(\"TPR: \",tp/(tp+fn))\n",
        "print(\"FPR: \",fp/(tn+fp))\n",
        "print(\"F1 Score:\",metrics.f1_score(y_test, y_pred))"
      ],
      "metadata": {
        "colab": {
          "base_uri": "https://localhost:8080/"
        },
        "id": "gvboSAR05BOR",
        "outputId": "b746ab98-7da1-413e-ac3f-a07aa6bc2d56"
      },
      "execution_count": null,
      "outputs": [
        {
          "output_type": "stream",
          "name": "stderr",
          "text": [
            "/usr/local/lib/python3.7/dist-packages/ipykernel_launcher.py:1: FutureWarning: In a future version of pandas all arguments of DataFrame.drop except for the argument 'labels' will be keyword-only\n",
            "  \"\"\"Entry point for launching an IPython kernel.\n"
          ]
        },
        {
          "output_type": "stream",
          "name": "stdout",
          "text": [
            "Confusion Matrix:\n",
            "[[30  9]\n",
            " [ 9 43]]\n",
            "Accuracy: 0.8021978021978022\n",
            "Precision: 0.8269230769230769\n",
            "Recall: 0.8269230769230769\n",
            "TPR:  0.8269230769230769\n",
            "FPR:  0.23076923076923078\n",
            "F1 Score: 0.8269230769230769\n"
          ]
        }
      ]
    },
    {
      "cell_type": "code",
      "source": [
        "X = df_after.drop('target',1)\n",
        "y = df_after['target']\n",
        "X_train, X_test, y_train, y_test = train_test_split(X, y, test_size=0.3,random_state=25)\n",
        "clf=RandomForestClassifier(n_estimators=100,random_state=20)\n",
        "clf.fit(X_train,y_train)\n",
        "y_pred=clf.predict(X_test)\n",
        "print(\"Confusion Matrix:\")\n",
        "print(confusion_matrix(y_test,y_pred))\n",
        "print(\"Accuracy after removal:\",metrics.accuracy_score(y_test, y_pred))\n",
        "print(\"Precision:\",metrics.precision_score(y_test, y_pred))\n",
        "print(\"Recall:\",metrics.recall_score(y_test, y_pred))\n",
        "print(\"F1 Score:\",metrics.f1_score(y_test, y_pred))"
      ],
      "metadata": {
        "colab": {
          "base_uri": "https://localhost:8080/"
        },
        "id": "TtipWvPJ5Ca1",
        "outputId": "26999b26-8f53-49b7-819e-6a97f6d34a78"
      },
      "execution_count": null,
      "outputs": [
        {
          "output_type": "stream",
          "name": "stderr",
          "text": [
            "/usr/local/lib/python3.7/dist-packages/ipykernel_launcher.py:1: FutureWarning: In a future version of pandas all arguments of DataFrame.drop except for the argument 'labels' will be keyword-only\n",
            "  \"\"\"Entry point for launching an IPython kernel.\n"
          ]
        },
        {
          "output_type": "stream",
          "name": "stdout",
          "text": [
            "Confusion Matrix:\n",
            "[[32  6]\n",
            " [ 7 45]]\n",
            "Accuracy after removal: 0.8555555555555555\n",
            "Precision: 0.8823529411764706\n",
            "Recall: 0.8653846153846154\n",
            "F1 Score: 0.8737864077669903\n"
          ]
        }
      ]
    }
  ]
}